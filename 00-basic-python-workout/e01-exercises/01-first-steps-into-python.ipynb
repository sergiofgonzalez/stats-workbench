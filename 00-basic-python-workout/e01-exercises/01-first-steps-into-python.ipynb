{
 "cells": [
  {
   "cell_type": "markdown",
   "metadata": {},
   "source": [
    "# Exercises: First steps into Python\n",
    "\n",
    "The intent for this section is not to provide a comprehensive Python tutorial but rather, to group a set of basic exercises to refresh basic Python concepts so that you can use it with confidence.\n",
    "\n",
    "The exercises are laid out in a way in which no concepts are used before they are presented. When that is not the case, the dependency is explicitly stated.\n",
    "\n",
    "\n",
    "## Table of Contents\n",
    "\n",
    "+ [1.01 &mdash; Hello, Python!](#exercise-101-mdash-hello-python)\n",
    "+ [1.02 &mdash; Hello, Functions!](#exercise-102-mdash-hello-functions)\n",
    "+ [1.03 &mdash; Using the `math` library](#exercise-103-mdash-using-the-math-library)\n",
    "+ [1.04 &mdash; Generating random numbers](#exercise-104-mdash-generating-random-numbers)\n",
    "+ [1.05 &mdash; Basic list workouts](#exercise-105-mdash-basic-list-workouts)\n",
    "+ [1.06 &mdash; Tuples](#exercise-106-mdash-tuples)\n",
    "+ [1.07 &mdash; Sets workouts](#exercise-107-mdash-sets-workouts)\n",
    "+ [1.08 &mdash; Dictionaries workouts](#exercise-108-mdash-dictionaries-workouts)\n",
    "+ [1.09 &mdash; Hello, ranges!](#exercise-109-mdash-hello-ranges)\n",
    "+ [1.10 &mdash; List comprehensions workouts](#exercise-110-mdash-list-comprehensions-workouts)\n",
    "+ [1.11 &mdash; Generators workout!](#exercise-111-mdash-generators-workout)\n",
    "+ [1.12 &mdash; The *zip* operation](#exercise-112-mdash-the-zip-operation)\n",
    "+ [1.13 &mdash; The `*` operator](#exercise-113-mdash-the--operator)\n",
    "+ [1.14 &mdash; Exceptions workout](#exercise-114-mdash-exceptions-workout)\n",
    "+ [1.15 &mdash; String formatting/templating workouts](#exercise-115-mdash-string-formattingtemplating-workouts)\n",
    "+ [1.16 &mdash; Functions workout](#exercise-116-mdash-functions-workout)\n",
    "+ [1.17 &mdash; NumPy workout](#exercise-117-mdash-numpy-workout)\n",
    "+ [1.18 &mdash; Matplotlib workout](#exercise-118-mdash-matplotlib-workout)\n",
    "+ [1.19 &mdash; OOP workout](#exercise-119-mdash-oop-workout)\n",
    "+ [1.20 &mdash; Imports workout](#exercise-120-mdash-imports-workout)\n",
    "+ [1.21 &mdash; Documenting code workout](#exercise-121-mdash-documenting-code-workout)\n",
    "+ [1.22 &mdash; Pandas workout](#exercise-122-mdash-pandas-workout)\n",
    "+ [1.23 &mdash; Files workout]()"
   ]
  },
  {
   "cell_type": "markdown",
   "metadata": {},
   "source": [
    "## Exercise 1.01 &mdash; Hello, Python!\n",
    "\n",
    "Write the canonical *Hello, world!* program in Python. Declare a variable message with the contents \"Hello, world!\" and then print the contents of the variable in the screen."
   ]
  },
  {
   "cell_type": "code",
   "execution_count": 2,
   "metadata": {},
   "outputs": [
    {
     "name": "stdout",
     "output_type": "stream",
     "text": [
      "Hello, world!\n"
     ]
    }
   ],
   "source": [
    "message = \"Hello, world!\"\n",
    "\n",
    "print(message)"
   ]
  },
  {
   "cell_type": "markdown",
   "metadata": {},
   "source": [
    "## Exercise 1.02 &mdash; Hello, Functions!\n",
    "\n",
    "Functions are first-class citizens in Python."
   ]
  },
  {
   "cell_type": "markdown",
   "metadata": {},
   "source": [
    "### Hello, functions!\n",
    "Declare a function `f(x)` that returns the square of the value received as an argument. Then invoke the function to compute and show the results of $ 5^2 $ and $ 7^2 $.\n",
    "\n",
    "Then use the `for` loop and the `range(i, j)` function to show the results of applying the function to the numbers 0 through 10 included:\n",
    "\n",
    "| **HINT** |\n",
    "| :------- |\n",
    "| Make the assumption that you are going to receive numeric arguments. |"
   ]
  },
  {
   "cell_type": "code",
   "execution_count": 3,
   "metadata": {},
   "outputs": [
    {
     "name": "stdout",
     "output_type": "stream",
     "text": [
      "25\n",
      "49\n",
      "0\n",
      "1\n",
      "4\n",
      "9\n",
      "16\n",
      "25\n",
      "36\n",
      "49\n",
      "64\n",
      "81\n",
      "100\n"
     ]
    }
   ],
   "source": [
    "def f(x):\n",
    "    return x * x\n",
    "\n",
    "print(f(5))\n",
    "print(f(7))\n",
    "\n",
    "# now the loop\n",
    "for num in range(0, 11):\n",
    "    print(f(num))"
   ]
  },
  {
   "cell_type": "markdown",
   "metadata": {},
   "source": [
    "### Functions as arguments to other functions\n",
    "\n",
    "Create a function `add(x, y)` that sums up the numbers received as arguments and a function `sub(x, y)` that subtracts the numbers.\n",
    "\n",
    "Define the function `compute(x, y, op)` that receives as arguments two numbers and a function such as `add()` and `sub()`.\n"
   ]
  },
  {
   "cell_type": "code",
   "execution_count": 4,
   "metadata": {},
   "outputs": [
    {
     "name": "stdout",
     "output_type": "stream",
     "text": [
      "5\n",
      "1\n"
     ]
    }
   ],
   "source": [
    "def add(x, y):\n",
    "    return x + y\n",
    "\n",
    "def sub(x, y):\n",
    "    return x - y\n",
    "\n",
    "def compute(x, y, op):\n",
    "    return op(x, y)\n",
    "\n",
    "print(compute(3, 2, add))\n",
    "print(compute(3, 2, sub))"
   ]
  },
  {
   "cell_type": "markdown",
   "metadata": {},
   "source": [
    "## Exercise 1.03 &mdash; Using the `math` library\n",
    "\n",
    "Import the `math` library in your program to:\n",
    "+ print the value of `pi` and `e`\n",
    "+ compute $ \\sqrt{144} $\n",
    "+ compute $ sin(2 \\cdot pi) $"
   ]
  },
  {
   "cell_type": "code",
   "execution_count": 5,
   "metadata": {},
   "outputs": [
    {
     "name": "stdout",
     "output_type": "stream",
     "text": [
      "3.141592653589793\n",
      "2.718281828459045\n",
      "12.0\n",
      "-2.4492935982947064e-16\n"
     ]
    }
   ],
   "source": [
    "from math import pi, e, sqrt, sin\n",
    "\n",
    "print(pi)\n",
    "print(e)\n",
    "print(sqrt(144))\n",
    "print(sin(2 * pi))"
   ]
  },
  {
   "cell_type": "markdown",
   "metadata": {},
   "source": [
    "## Exercise 1.04 &mdash; Generating random numbers\n",
    "\n",
    "Using Python's `random` library that packs several utility functions to generate random numbers:\n",
    "+ Generate a random integer between 0 and 10 (inclusive) using `randint()`\n",
    "+ Generate a random floating-point between 7.5 and 10.5 using `uniform`"
   ]
  },
  {
   "cell_type": "code",
   "execution_count": 6,
   "metadata": {},
   "outputs": [
    {
     "name": "stdout",
     "output_type": "stream",
     "text": [
      "3\n",
      "9.782211933743433\n"
     ]
    }
   ],
   "source": [
    "from random import randint, uniform\n",
    "\n",
    "print(randint(0, 10))\n",
    "print(uniform(7.5, 10.5))"
   ]
  },
  {
   "cell_type": "markdown",
   "metadata": {},
   "source": [
    "## Exercise 1.05 &mdash; Basic list workouts\n",
    "\n",
    "Lists are ordered collection of elements. Lists in Python are a fundamental concept on which some other advanced concepts are based.\n",
    "\n",
    "The following exercises illustrate basic list operations:"
   ]
  },
  {
   "cell_type": "markdown",
   "metadata": {},
   "source": [
    "### Creating a list and accessing its elements\n",
    "\n",
    "Create a named collection `months` containing the name of the months from January to June. Print in the screen the first month and the 4th month."
   ]
  },
  {
   "cell_type": "code",
   "execution_count": 7,
   "metadata": {},
   "outputs": [
    {
     "name": "stdout",
     "output_type": "stream",
     "text": [
      "January\n",
      "April\n"
     ]
    }
   ],
   "source": [
    "months = [\"January\", \"February\", \"March\", \"April\", \"May\", \"June\"]\n",
    "\n",
    "print(months[0])\n",
    "print(months[3])"
   ]
  },
  {
   "cell_type": "markdown",
   "metadata": {},
   "source": [
    "### Unpacking a list into named variables\n",
    "\n",
    "Use the *unpacking* technique (known as destructuring in other programming languages) to create named variables for the months jan thru june.\n",
    "\n",
    "| NOTE: |\n",
    "| :---- |\n",
    "| When unpacking, you need the same number of variables as elements are in the list. |"
   ]
  },
  {
   "cell_type": "code",
   "execution_count": 8,
   "metadata": {},
   "outputs": [
    {
     "name": "stdout",
     "output_type": "stream",
     "text": [
      "January\n",
      "February\n",
      "March\n"
     ]
    }
   ],
   "source": [
    "months = [\"January\", \"February\", \"March\", \"April\", \"May\", \"June\"]\n",
    "\n",
    "jan, feb, mar, apr, may, jun = months\n",
    "print(jan)\n",
    "print(feb)\n",
    "print(mar)"
   ]
  },
  {
   "cell_type": "markdown",
   "metadata": {},
   "source": [
    "### Concatenating lists\n",
    "\n",
    "Create two lists with the numbers `1, 2, 3` and `4, 5, 6`. Concatenate them in a new list and print the results."
   ]
  },
  {
   "cell_type": "code",
   "execution_count": 9,
   "metadata": {},
   "outputs": [
    {
     "name": "stdout",
     "output_type": "stream",
     "text": [
      "[1, 2, 3, 4, 5, 6]\n"
     ]
    }
   ],
   "source": [
    "sublist_1 = [1, 2, 3]\n",
    "sublist_2 = [4, 5, 6]\n",
    "\n",
    "union_list = sublist_1 + sublist_2\n",
    "print(union_list)"
   ]
  },
  {
   "cell_type": "markdown",
   "metadata": {},
   "source": [
    "### Slicing lists\n",
    "\n",
    "Create a list with the numbers 1 thru 10 (inclusive). Obtain the sublist of elements from the second to the 5th (inclusive). Print the obtained list, and length of the resulting list using the `len` function."
   ]
  },
  {
   "cell_type": "code",
   "execution_count": 10,
   "metadata": {},
   "outputs": [
    {
     "name": "stdout",
     "output_type": "stream",
     "text": [
      "[2, 3, 4, 5]\n",
      "4\n"
     ]
    }
   ],
   "source": [
    "nums = [1, 2, 3, 4, 5, 6, 7, 8, 9, 10]\n",
    "\n",
    "sublist = nums[1:5]\n",
    "print(sublist)\n",
    "print(len(sublist))"
   ]
  },
  {
   "cell_type": "markdown",
   "metadata": {},
   "source": [
    "### Indexing from the back of the list\n",
    "\n",
    "Create a list with the numbers 1 thru 10 (inclusive).\n",
    "\n",
    "Practice using negative indices to obtain the elements from the back of the list to obtain the last element, and the one before the last element.\n",
    "\n",
    "Using the slicing syntax obtain the sublist containing the elements from the second to the one before last included."
   ]
  },
  {
   "cell_type": "code",
   "execution_count": 11,
   "metadata": {},
   "outputs": [
    {
     "name": "stdout",
     "output_type": "stream",
     "text": [
      "10\n",
      "9\n",
      "[2, 3, 4, 5, 6, 7, 8, 9]\n"
     ]
    }
   ],
   "source": [
    "nums = [1, 2, 3, 4, 5, 6, 7, 8, 9, 10]\n",
    "\n",
    "print(nums[-1])\n",
    "print(nums[-2])\n",
    "print(nums[1:-1])"
   ]
  },
  {
   "cell_type": "markdown",
   "metadata": {},
   "source": [
    "### Creating and accessing lists of lists\n",
    "\n",
    "Create a list whose elements are three lists containing the numbers `1, 2, 3`, `4, 5, 6`, and `7, 8, 9`.\n",
    "\n",
    "Print the following elements:\n",
    "+ third element of the first list\n",
    "+ first element of the second list\n",
    "+ second element of the third list"
   ]
  },
  {
   "cell_type": "code",
   "execution_count": 12,
   "metadata": {},
   "outputs": [
    {
     "name": "stdout",
     "output_type": "stream",
     "text": [
      "3\n",
      "4\n",
      "8\n"
     ]
    }
   ],
   "source": [
    "my_list = [[1, 2, 3], [4, 5, 6], [7, 8, 9]]\n",
    "\n",
    "print(my_list[0][2])\n",
    "print(my_list[1][0])\n",
    "print(my_list[2][1])\n"
   ]
  },
  {
   "cell_type": "markdown",
   "metadata": {},
   "source": [
    "### Iterating over the elements of a list\n",
    "\n",
    "Create a list with the months from January thru June. Use `for` to iterate over the elements of the list creating a report such as the following:\n",
    "\n",
    "```\n",
    "Month: January\n",
    "Month: February\n",
    "...\n",
    "Month: June\n",
    "```\n",
    "\n",
    "| HINT: |\n",
    "| :---- |\n",
    "| Use `+` to concatenate strings. |"
   ]
  },
  {
   "cell_type": "code",
   "execution_count": 13,
   "metadata": {},
   "outputs": [
    {
     "name": "stdout",
     "output_type": "stream",
     "text": [
      "Month: January\n",
      "Month: February\n",
      "Month: March\n",
      "Month: April\n",
      "Month: May\n",
      "Month: June\n"
     ]
    }
   ],
   "source": [
    "months = [\"January\", \"February\", \"March\", \"April\", \"May\", \"June\"]\n",
    "for month in months:\n",
    "    print(\"Month: \" + month)"
   ]
  },
  {
   "cell_type": "markdown",
   "metadata": {},
   "source": [
    "### Appending items to a list programmatically\n",
    "\n",
    "Up to now all the lists you have created have been defined statically. Use the `append()` method defined on lists to create a list with the numbers 0 to 9 (inclusive)."
   ]
  },
  {
   "cell_type": "code",
   "execution_count": 14,
   "metadata": {},
   "outputs": [
    {
     "name": "stdout",
     "output_type": "stream",
     "text": [
      "[0, 1, 2, 3, 4, 5, 6, 7, 8, 9]\n"
     ]
    }
   ],
   "source": [
    "nums = []\n",
    "for num in range(0, 10):\n",
    "    nums.append(num)\n",
    "\n",
    "print(nums)"
   ]
  },
  {
   "cell_type": "markdown",
   "metadata": {},
   "source": [
    "### Sorting lists\n",
    "\n",
    "The `sorted()` built-in function can be used to sort a list. It optionally allows you to pass a function that identifies the key by which objects can be sorted (see following exercise).\n",
    "\n",
    "Use the `sorted()` function to sort the following list of values: 0.32, 0.53, 0.28, 0.37, 0.47, 0.43, 0.36, 0.42, 0.38, 0.43"
   ]
  },
  {
   "cell_type": "code",
   "execution_count": 15,
   "metadata": {},
   "outputs": [
    {
     "name": "stdout",
     "output_type": "stream",
     "text": [
      "[0.32, 0.53, 0.28, 0.37, 0.47, 0.43, 0.36, 0.42, 0.38, 0.43]\n",
      "[0.28, 0.32, 0.36, 0.37, 0.38, 0.42, 0.43, 0.43, 0.47, 0.53]\n"
     ]
    }
   ],
   "source": [
    "nums = [0.32, 0.53, 0.28, 0.37, 0.47, 0.43, 0.36, 0.42, 0.38, 0.43]\n",
    "sorted_nums = sorted(nums)\n",
    "\n",
    "print(nums)\n",
    "print(sorted_nums)"
   ]
  },
  {
   "cell_type": "markdown",
   "metadata": {},
   "source": [
    "### Sorting lists of objects\n",
    "\n",
    "As stated above, `sorted()` allows you to pass a function which will be used to decide the ordering sequence in a list.\n",
    "\n",
    "| NOTE: |\n",
    "| :---- |\n",
    "| The following exercise makes use of classes. Make sure to review [1.19 &mdash; OOP workout](#exercise-119-mdash-oop-workout) before doing this exercise. |\n",
    "\n",
    "Consider the following class:\n",
    "\n",
    "```python\n",
    "class Person:\n",
    "  def __init__(self, name, age):\n",
    "    self.name = name\n",
    "    self.age = age\n",
    "\n",
    "  def __repr__(self):\n",
    "    return \"Person(name=\" + self.name + \", age=\" + self.age + \")\"\n",
    "```\n",
    "\n",
    "Create a list of objects, and sort them according to their age using the `sorted()` function."
   ]
  },
  {
   "cell_type": "code",
   "execution_count": 16,
   "metadata": {},
   "outputs": [
    {
     "name": "stdout",
     "output_type": "stream",
     "text": [
      "[Person(name=jason, age=58), Person(name=idris, age=49), Person(name=florence, age=28), Person(name=emily, age=52)]\n",
      "[Person(name=florence, age=28), Person(name=idris, age=49), Person(name=emily, age=52), Person(name=jason, age=58)]\n"
     ]
    }
   ],
   "source": [
    "class Person:\n",
    "  def __init__(self, name, age):\n",
    "    self.name = name\n",
    "    self.age = age\n",
    "\n",
    "  def __repr__(self):\n",
    "    return \"Person(name=\" + self.name + \", age=\" + str(self.age) + \")\"\n",
    "\n",
    "\n",
    "friends = [Person(\"jason\", 58), Person(\"idris\", 49), Person(\"florence\", 28), Person(\"emily\", 52)]\n",
    "\n",
    "print(friends)\n",
    "\n",
    "sorted_by_age_friends = sorted(friends, key=lambda friend : friend.age)\n",
    "print(sorted_by_age_friends)\n"
   ]
  },
  {
   "cell_type": "markdown",
   "metadata": {},
   "source": [
    "## Exercise 1.06 &mdash; Tuples\n",
    "\n",
    "Unlike lists, tuples are immutable collection of elements. The elements can be of any type. Accessing the elements of a tuple is similar to accessing the elements of a list."
   ]
  },
  {
   "cell_type": "markdown",
   "metadata": {},
   "source": [
    "### Creating static tuples\n",
    "\n",
    "Create the following tuples:\n",
    "1. The tuple containing the elements `1` and `2`\n",
    "2. The tuple containing the elements `a`, `b`, `c`, and `d`\n",
    "3. The tuple containing the elements 1 thru 5 without using parentheses"
   ]
  },
  {
   "cell_type": "code",
   "execution_count": 17,
   "metadata": {},
   "outputs": [
    {
     "name": "stdout",
     "output_type": "stream",
     "text": [
      "(1, 2)\n",
      "('a', 'b', 'c', 'd')\n",
      "(1, 2, 3, 4, 5)\n"
     ]
    }
   ],
   "source": [
    "tuple_1 = (1, 2)\n",
    "tuple_2 = ('a', 'b', 'c', 'd')\n",
    "tuple_3 = 1, 2, 3, 4, 5         # look ma, no parentheses\n",
    "\n",
    "print(tuple_1)\n",
    "print(tuple_2)\n",
    "print(tuple_3)"
   ]
  },
  {
   "cell_type": "markdown",
   "metadata": {},
   "source": [
    "### Accessing tuple elements\n",
    "\n",
    "Using the tuples defined above, print:\n",
    "1. The first and the second element of the `tuple_1` tuple\n",
    "2. The one before last and last element of `tuple_2` tuple\n",
    "3. The tuple consisting of elements 2nd thru 4th of `tuple_3`"
   ]
  },
  {
   "cell_type": "code",
   "execution_count": 18,
   "metadata": {},
   "outputs": [
    {
     "name": "stdout",
     "output_type": "stream",
     "text": [
      "1\n",
      "2\n",
      "c\n",
      "d\n",
      "(2, 3, 4)\n"
     ]
    }
   ],
   "source": [
    "elem_1 = tuple_1[0]\n",
    "elem_2 = tuple_1[1]\n",
    "\n",
    "print(elem_1)\n",
    "print(elem_2)\n",
    "\n",
    "elem_1 = tuple_2[-2]\n",
    "elem_2 = tuple_2[-1]\n",
    "print(elem_1)\n",
    "print(elem_2)\n",
    "\n",
    "sub_tuple = tuple_3[1:4]\n",
    "print(sub_tuple)"
   ]
  },
  {
   "cell_type": "markdown",
   "metadata": {},
   "source": [
    "## Exercise 1.07 &mdash; Sets workouts\n",
    "\n",
    "Sets are another built-in Python collections for distinct elements whose order is not important."
   ]
  },
  {
   "cell_type": "markdown",
   "metadata": {},
   "source": [
    "### Creating a static set\n",
    "\n",
    "Create a set with the elements 0 through 5."
   ]
  },
  {
   "cell_type": "code",
   "execution_count": 19,
   "metadata": {},
   "outputs": [
    {
     "name": "stdout",
     "output_type": "stream",
     "text": [
      "{0, 1, 2, 3, 4, 5}\n"
     ]
    }
   ],
   "source": [
    "nums = {0, 1, 2, 3, 4, 5}\n",
    "print(nums)"
   ]
  },
  {
   "cell_type": "markdown",
   "metadata": {},
   "source": [
    "### Removing duplicate elements with a Set\n",
    "\n",
    "Generate a list of 100 random elements from 0 to 9. Create a set out of the list and print the results."
   ]
  },
  {
   "cell_type": "code",
   "execution_count": 20,
   "metadata": {},
   "outputs": [
    {
     "name": "stdout",
     "output_type": "stream",
     "text": [
      "{0, 1, 2, 3, 4, 5, 6, 7, 8, 9}\n"
     ]
    }
   ],
   "source": [
    "from random import randint\n",
    "\n",
    "nums = [randint(0, 9) for _ in range(0, 100)]\n",
    "distinct_nums = set(nums)\n",
    "print(distinct_nums)"
   ]
  },
  {
   "cell_type": "markdown",
   "metadata": {},
   "source": [
    "### Complement, Union and Intersection\n",
    "\n",
    "Sets provide the basic operations to compute the complement, union, and intersection of sets. This might come in handy when working with Math concepts.\n",
    "\n",
    "Consider the following sets:\n",
    "The sample space of an experiment, $ S $, denoted as $ S = \\{ 0, 1, 2, 3, 4, 5, 6, 7, 8, 9 \\}$.\n",
    "\n",
    "The events $ A = \\{ 0, 2, 4, 6, 8 \\}$, $ B = \\{ 1, 3, 5, 7, 9 \\}$, $ C = \\{ 2, 3, 4, 5 \\} $, and $ D = \\{ 1, 6, 7 \\} $.\n",
    "\n",
    "Use Python to calculate:\n",
    "\n",
    "1. $ A \\cup C $\n",
    "2. $ A \\cap B $\n",
    "3. $ C' $\n",
    "4. $ (C' \\cap D) \\cup B $\n",
    "5. $ (S \\cap C)' $\n",
    "6. $ A \\cap C \\cap D' $"
   ]
  },
  {
   "cell_type": "markdown",
   "metadata": {},
   "source": [
    "1. $ A \\cup C $\n",
    "2. $ A \\cap B $\n",
    "\n",
    "The union and intersection are built-in operations, so this is easy to accomplish:"
   ]
  },
  {
   "cell_type": "code",
   "execution_count": 1,
   "metadata": {},
   "outputs": [
    {
     "name": "stdout",
     "output_type": "stream",
     "text": [
      "A ∪ C = {0, 2, 3, 4, 5, 6, 8}\n",
      "A ∩ B = set()\n"
     ]
    }
   ],
   "source": [
    "A = { 0, 2, 4, 6, 8 }\n",
    "B = { 1, 3, 5, 7, 9 }\n",
    "C = { 2, 3, 4, 5 }\n",
    "\n",
    "print(f'A ∪ C = {A.union(C)}')\n",
    "print(f'A ∩ B = {A.intersection(B)}')"
   ]
  },
  {
   "cell_type": "markdown",
   "metadata": {},
   "source": [
    "Note that the empty set $ \\phi $ is denoted in Python as `set()`."
   ]
  },
  {
   "cell_type": "markdown",
   "metadata": {},
   "source": [
    "3. $ C' $\n",
    "\n",
    "To calculate the complement of a set, we use the `difference()` method. Note that we have to apply the method to the sample space $ S $ as seen below:"
   ]
  },
  {
   "cell_type": "code",
   "execution_count": 2,
   "metadata": {},
   "outputs": [
    {
     "name": "stdout",
     "output_type": "stream",
     "text": [
      "C' = {0, 1, 6, 7, 8, 9}\n"
     ]
    }
   ],
   "source": [
    "S = { 0, 1, 2, 3, 4, 5, 6, 7, 8, 9 }\n",
    "C = { 2, 3, 4, 5 }\n",
    "\n",
    "print(f\"C' = {S.difference(C)}\")"
   ]
  },
  {
   "cell_type": "markdown",
   "metadata": {},
   "source": [
    "4. $ (C' \\cap D) \\cup B $\n",
    "5. $ (S \\cap C)' $\n",
    "6. $ A \\cap C \\cap D' $\n",
    "\n",
    "More complicated operations follow along the the same lines:\n",
    "\n"
   ]
  },
  {
   "cell_type": "code",
   "execution_count": 5,
   "metadata": {},
   "outputs": [
    {
     "name": "stdout",
     "output_type": "stream",
     "text": [
      "(C' ∩ D) ∪ B = {1, 3, 5, 6, 7, 9}\n",
      "(S ∩ C)' = {0, 1, 6, 7, 8, 9}\n",
      "A ∩ C ∩ D' = {2, 4}\n"
     ]
    }
   ],
   "source": [
    "S = { 0, 1, 2, 3, 4, 5, 6, 7, 8, 9 }\n",
    "A = { 0, 2, 4, 6, 8 }\n",
    "B = { 1, 3, 5, 7, 9 }\n",
    "C = { 2, 3, 4, 5 }\n",
    "D = { 1, 6, 7 }\n",
    "\n",
    "print(f\"(C' ∩ D) ∪ B = {(S.difference(C).intersection(D)).union(B)}\")\n",
    "print(f\"(S ∩ C)' = {S.difference(S.intersection(C))}\")\n",
    "print(f\"A ∩ C ∩ D' = {A.intersection(C).intersection(S.difference(D))}\")"
   ]
  },
  {
   "cell_type": "markdown",
   "metadata": {},
   "source": [
    "## Exercise 1.08 &mdash; Dictionaries workouts\n",
    "\n",
    "Dictionaries are collections of key-value pairs.\n"
   ]
  },
  {
   "cell_type": "markdown",
   "metadata": {},
   "source": [
    "### Creating static dictionaries\n",
    "\n",
    "Create a dictionary for a dog whose keys are name and age and populate with values.\n",
    "\n",
    "Then, print the dictionary, the dog's name and the dog's age.\n"
   ]
  },
  {
   "cell_type": "code",
   "execution_count": 21,
   "metadata": {},
   "outputs": [
    {
     "name": "stdout",
     "output_type": "stream",
     "text": [
      "{'name': 'Mara', 'age': 12}\n",
      "Mara\n",
      "12\n"
     ]
    }
   ],
   "source": [
    "dog = {\"name\": \"Mara\", \"age\": 12}\n",
    "print(dog)\n",
    "print(dog[\"name\"])\n",
    "print(dog[\"age\"])"
   ]
  },
  {
   "cell_type": "markdown",
   "metadata": {},
   "source": [
    "### Converting a dictionary into a list\n",
    "\n",
    "A dictionary can be converted into a list using `list()` built-in function. Convert the previously created dictionary into a list and print the results. Did you get the expected results?\n",
    "\n",
    "Try again using the `items` method on the dictionary before converting into a list. Then, iterate through the corresponding list generating the following report:\n",
    "```\n",
    "key=<key>, value=<value>\n",
    "```"
   ]
  },
  {
   "cell_type": "code",
   "execution_count": 22,
   "metadata": {},
   "outputs": [
    {
     "name": "stdout",
     "output_type": "stream",
     "text": [
      "['name', 'age']\n"
     ]
    }
   ],
   "source": [
    "dog = {\"name\": \"Mara\", \"age\": 12}\n",
    "dog_as_list = list(dog)\n",
    "print(dog_as_list)"
   ]
  },
  {
   "cell_type": "code",
   "execution_count": 23,
   "metadata": {},
   "outputs": [
    {
     "name": "stdout",
     "output_type": "stream",
     "text": [
      "[('name', 'Mara'), ('age', 12)]\n",
      "key=name, value=Mara\n",
      "key=age, value=12\n",
      "key=name, value=Mara\n",
      "key=age, value=12\n"
     ]
    }
   ],
   "source": [
    "dog_as_list = list(dog.items())\n",
    "print(dog_as_list)\n",
    "\n",
    "for item in dog_as_list:\n",
    "    print(\"key=\" + item[0] + \", value=\" + str(item[1]))\n",
    "\n",
    "# alternatively\n",
    "for item in dog_as_list:\n",
    "    key, value = item\n",
    "    print(\"key=\" + key + \", value=\" + str(value))\n"
   ]
  },
  {
   "cell_type": "markdown",
   "metadata": {},
   "source": [
    "### Dictionary generators\n",
    "\n",
    "| NOTE: |\n",
    "| :---- |\n",
    "| This section assumes a knowledge on list comprehensions and generators. |\n",
    "\n",
    "In the same way that you can use list comprehensions as a compact syntax to generate lists, you can use the following syntax to generate dictionary objects.\n",
    "\n",
    "```python\n",
    "{ key:value for elem in elems }\n",
    "```\n",
    "\n",
    "Use this approach to create a frequency map for the characters found in a string. For example, for the string `jason isaacs` it should produce:\n",
    "\n",
    "```\n",
    "{\n",
    "  ' ': 1,\n",
    "  'j': 1,\n",
    "  'a': 3,\n",
    "  's': 2,\n",
    "  'o': 1,\n",
    "  'n': 1,\n",
    "  'i': 1,\n",
    "  'c': 1\n",
    "}\n",
    "```"
   ]
  },
  {
   "cell_type": "code",
   "execution_count": 5,
   "metadata": {},
   "outputs": [
    {
     "data": {
      "text/plain": [
       "{'j': 1, 'a': 3, 's': 3, 'o': 1, 'n': 1, ' ': 1, 'i': 1, 'c': 1}"
      ]
     },
     "execution_count": 5,
     "metadata": {},
     "output_type": "execute_result"
    }
   ],
   "source": [
    "def get_freq_map(str):\n",
    "    freq_map = {c:0 for c in str}\n",
    "    for c in str:\n",
    "        freq_map[c] = freq_map[c] + 1\n",
    "    return freq_map\n",
    "\n",
    "get_freq_map('jason isaacs')"
   ]
  },
  {
   "cell_type": "markdown",
   "metadata": {},
   "source": [
    "## Exercise 1.09 &mdash; Hello, ranges!\n",
    "\n",
    "Although we have already used the `range()` function we haven't properly introduced the term. A range is another type of Python collection, and the `range()` function returns an object of that type that you can iterate over."
   ]
  },
  {
   "cell_type": "markdown",
   "metadata": {},
   "source": [
    "### Creating an iterating over ranges\n",
    "Create a range object containing the numbers 0 thru 9, print it, and iterate over it printing only the even numbers."
   ]
  },
  {
   "cell_type": "code",
   "execution_count": 24,
   "metadata": {},
   "outputs": [
    {
     "name": "stdout",
     "output_type": "stream",
     "text": [
      "range(0, 10)\n",
      "0 is an even number\n",
      "2 is an even number\n",
      "4 is an even number\n",
      "6 is an even number\n",
      "8 is an even number\n"
     ]
    }
   ],
   "source": [
    "nums = range(0, 10)\n",
    "print(nums) # not materialized\n",
    "\n",
    "for num in nums:\n",
    "    if num % 2 == 0:\n",
    "        print(str(num) + \" is an even number\")"
   ]
  },
  {
   "cell_type": "markdown",
   "metadata": {},
   "source": [
    "### Materializing ranges\n",
    "\n",
    "Create a range of the odd numbers from 5 to 15. Materialize and print the resulting list."
   ]
  },
  {
   "cell_type": "code",
   "execution_count": 25,
   "metadata": {},
   "outputs": [
    {
     "name": "stdout",
     "output_type": "stream",
     "text": [
      "[5, 7, 9, 11, 13, 15]\n"
     ]
    }
   ],
   "source": [
    "nums = range(5, 16, 2)\n",
    "print(list(nums))"
   ]
  },
  {
   "cell_type": "markdown",
   "metadata": {},
   "source": [
    "## Exercise 1.10 &mdash; List comprehensions workouts\n",
    "\n",
    "List comprehensions is a fancy Python technique that allows you to build lists declaratevily rather than imperatively.\n",
    "\n",
    "Mastering list comprehensions is another fundamental Python milestone."
   ]
  },
  {
   "cell_type": "markdown",
   "metadata": {},
   "source": [
    "### Your first list comprehension\n",
    "\n",
    "Create a list containing the first cubes from 0 to 9 using the imperative and list comprehension techniques."
   ]
  },
  {
   "cell_type": "code",
   "execution_count": 26,
   "metadata": {},
   "outputs": [
    {
     "name": "stdout",
     "output_type": "stream",
     "text": [
      "[0, 1, 8, 27, 64, 125, 216, 343, 512, 729, 1000]\n",
      "[0, 1, 8, 27, 64, 125, 216, 343, 512, 729, 1000]\n"
     ]
    }
   ],
   "source": [
    "cubes_imperatively = []\n",
    "for i in range(0, 11):\n",
    "    cubes_imperatively.append(i * i * i)\n",
    "print(cubes_imperatively)\n",
    "\n",
    "cubes = [i * i * i for i in range(0, 11)]\n",
    "print(cubes)"
   ]
  },
  {
   "cell_type": "markdown",
   "metadata": {},
   "source": [
    "### Nested loops in list comprehensions\n",
    "\n",
    "Using list comprehensions, create a list of all the months in 2020, 2021, 2022, so that each of the elements of the list is like:\n",
    "\n",
    "```\n",
    "Jan, 2020\n",
    "Feb, 2020\n",
    "Mar, 2020\n",
    "...\n",
    "Dec, 2022\n",
    "```\n",
    "\n",
    "| HINT: |\n",
    "| :---- |\n",
    "| You may need to convert a number to a string using the `str()` function. |"
   ]
  },
  {
   "cell_type": "code",
   "execution_count": 27,
   "metadata": {},
   "outputs": [
    {
     "name": "stdout",
     "output_type": "stream",
     "text": [
      "['Jan, 2020', 'Feb, 2020', 'Mar, 2020', 'Apr, 2020', 'May, 2020', 'June, 2020', 'July, 2020', 'Aug, 2020', 'Sep, 2020', 'Oct, 2020', 'Nov, 2020', 'Dec, 2020', 'Jan, 2021', 'Feb, 2021', 'Mar, 2021', 'Apr, 2021', 'May, 2021', 'June, 2021', 'July, 2021', 'Aug, 2021', 'Sep, 2021', 'Oct, 2021', 'Nov, 2021', 'Dec, 2021', 'Jan, 2022', 'Feb, 2022', 'Mar, 2022', 'Apr, 2022', 'May, 2022', 'June, 2022', 'July, 2022', 'Aug, 2022', 'Sep, 2022', 'Oct, 2022', 'Nov, 2022', 'Dec, 2022']\n"
     ]
    }
   ],
   "source": [
    "months = [\"Jan\", \"Feb\", \"Mar\", \"Apr\", \"May\", \"June\", \"July\", \"Aug\", \"Sep\", \"Oct\", \"Nov\", \"Dec\"]\n",
    "years = [2020, 2021, 2022]\n",
    "comb_list = [month + \", \" + str(year) for year in years for month in months]\n",
    "\n",
    "print(comb_list)"
   ]
  },
  {
   "cell_type": "markdown",
   "metadata": {},
   "source": [
    "### Nested list comprehensions\n",
    "\n",
    "Using list comprehensions, create a list of lists with all the months of 2020 thru 2022, so that the months are defined in their own vector.\n",
    "\n",
    "That is:\n",
    "\n",
    "```\n",
    "[\n",
    "  [\"Jan, 2020\", \"Feb, 2020\", ..., \"Dec, 2020\"],\n",
    "  [\"Jan, 2021\", \"Feb, 2021\", ..., \"Dec, 2021\"],\n",
    "  [\"Jan, 2022\", \"Feb, 2022\", ..., \"Dec, 2022\"],\n",
    "]\n",
    "```"
   ]
  },
  {
   "cell_type": "code",
   "execution_count": 28,
   "metadata": {},
   "outputs": [
    {
     "name": "stdout",
     "output_type": "stream",
     "text": [
      "[['Jan, 2020', 'Feb, 2020', 'Mar, 2020', 'Apr, 2020', 'May, 2020', 'June, 2020', 'July, 2020', 'Aug, 2020', 'Sep, 2020', 'Oct, 2020', 'Nov, 2020', 'Dec, 2020'], ['Jan, 2021', 'Feb, 2021', 'Mar, 2021', 'Apr, 2021', 'May, 2021', 'June, 2021', 'July, 2021', 'Aug, 2021', 'Sep, 2021', 'Oct, 2021', 'Nov, 2021', 'Dec, 2021'], ['Jan, 2022', 'Feb, 2022', 'Mar, 2022', 'Apr, 2022', 'May, 2022', 'June, 2022', 'July, 2022', 'Aug, 2022', 'Sep, 2022', 'Oct, 2022', 'Nov, 2022', 'Dec, 2022']]\n"
     ]
    }
   ],
   "source": [
    "months = [\"Jan\", \"Feb\", \"Mar\", \"Apr\", \"May\", \"June\", \"July\", \"Aug\", \"Sep\", \"Oct\", \"Nov\", \"Dec\"]\n",
    "years = [2020, 2021, 2022]\n",
    "\n",
    "comb_list = [[month + \", \" + str(year) for month in months] for year in years]\n",
    "print(comb_list)"
   ]
  },
  {
   "cell_type": "markdown",
   "metadata": {},
   "source": [
    "### Combination of elements using list comprehensions and tuples\n",
    "\n",
    "Create the combination of elements:\n",
    "$$ \n",
    "(x, y)  \\text{ where }  -1 <= x <= 5 \\text{ and } 0 <= y <= 1\n",
    "$$"
   ]
  },
  {
   "cell_type": "code",
   "execution_count": 29,
   "metadata": {},
   "outputs": [
    {
     "name": "stdout",
     "output_type": "stream",
     "text": [
      "[(-1, 0), (-1, 1), (0, 0), (0, 1), (1, 0), (1, 1), (2, 0), (2, 1), (3, 0), (3, 1), (4, 0), (4, 1), (5, 0), (5, 1)]\n"
     ]
    }
   ],
   "source": [
    "comb_list = [(x, y) for x in range(-1, 6) for y in range(0, 2)]\n",
    "print(comb_list)"
   ]
  },
  {
   "cell_type": "markdown",
   "metadata": {},
   "source": [
    "## Exercise 1.11 &mdash; Generators workout!\n",
    "\n",
    "Generators allow you to create iterables that are not materialized (i.e. they don't store the values all at once)."
   ]
  },
  {
   "cell_type": "markdown",
   "metadata": {},
   "source": [
    "### Infinite generator\n",
    "\n",
    "Create an iterable represented by a function `count()` that returns the integer numbers from 0. Print the first three elements. Did you get the value you were supposed to get?\n",
    "\n",
    "Use the same iterable in a for loop to print the elements until 10. Does that make sense?"
   ]
  },
  {
   "cell_type": "code",
   "execution_count": 30,
   "metadata": {},
   "outputs": [
    {
     "name": "stdout",
     "output_type": "stream",
     "text": [
      "<generator object count at 0x7f0e28265350>\n",
      "<generator object count at 0x7f0e28265350>\n",
      "<generator object count at 0x7f0e28265350>\n",
      "0\n",
      "1\n",
      "2\n",
      "3\n",
      "4\n",
      "5\n",
      "6\n",
      "7\n",
      "8\n",
      "9\n",
      "10\n"
     ]
    }
   ],
   "source": [
    "def count():\n",
    "    x = 0\n",
    "    while True:\n",
    "        yield x\n",
    "        x += 1\n",
    "\n",
    "print(count()) # makes sense, not materialized\n",
    "print(count())\n",
    "print(count())\n",
    "\n",
    "for num in count():\n",
    "    if num > 10:\n",
    "        break\n",
    "    else:\n",
    "        print(num)\n",
    "\n",
    "# ok, i got it, but why does not it start at 3?"
   ]
  },
  {
   "cell_type": "markdown",
   "metadata": {},
   "source": [
    "### Generators and list comprehensions\n",
    "\n",
    "List comprehensions are a great way to materialize and collect values from generators. \n",
    "\n",
    "Use the previously defined `count()` function as inspiration, create a new `count(start, end)` generator function that produces the numbers from `start` to `end`. Then use a list comprehensions to collect the values from the generator:"
   ]
  },
  {
   "cell_type": "code",
   "execution_count": 31,
   "metadata": {},
   "outputs": [
    {
     "name": "stdout",
     "output_type": "stream",
     "text": [
      "[0, 1, 2, 3, 4, 5, 6, 7, 8, 9, 10]\n"
     ]
    }
   ],
   "source": [
    "def count(start, end):\n",
    "    x = start\n",
    "    while x <= end:\n",
    "        yield x\n",
    "        x += 1\n",
    "\n",
    "nums = [num for num in count(0, 10)]\n",
    "print(nums)"
   ]
  },
  {
   "cell_type": "markdown",
   "metadata": {},
   "source": [
    "### Generator comprehensions\n",
    "\n",
    "A generator comprehension is a special type of syntax that lets you define generators in a much compact way.\n",
    "\n",
    "Use the generator comprehension syntax and the regular one to create a generator that produces the squares from zero to 9."
   ]
  },
  {
   "cell_type": "code",
   "execution_count": 32,
   "metadata": {},
   "outputs": [
    {
     "name": "stdout",
     "output_type": "stream",
     "text": [
      "0\n",
      "1\n",
      "4\n",
      "9\n",
      "16\n",
      "25\n",
      "36\n",
      "49\n",
      "64\n",
      "81\n",
      "<generator object <genexpr> at 0x7f0e28265660>\n",
      "0\n",
      "1\n",
      "4\n",
      "9\n",
      "16\n",
      "25\n",
      "36\n",
      "49\n",
      "64\n",
      "81\n"
     ]
    }
   ],
   "source": [
    "# Traditional way to write a generator\n",
    "def gen_squares():\n",
    "    i = 0\n",
    "    while i <= 9:\n",
    "        yield i * i\n",
    "        i += 1\n",
    "\n",
    "for num in gen_squares():\n",
    "    print(num)\n",
    "\n",
    "# Compact way to write a generator\n",
    "squares = (x * x for x in range(0, 10))\n",
    "print(squares)\n",
    "for num in squares:\n",
    "    print(num)"
   ]
  },
  {
   "cell_type": "markdown",
   "metadata": {},
   "source": [
    "## Exercise 1.12 &mdash; The *zip* operation\n",
    "\n",
    "The `zip()` function lets you combine two iterables. \n",
    "\n",
    "| NOTE: |\n",
    "| :---- |\n",
    "| By itself, invoking `zip()` does not materialize the resulting iterable. You will need to materialize it yourself by invoking a function such as `list()`, etc. |"
   ]
  },
  {
   "cell_type": "markdown",
   "metadata": {},
   "source": [
    "### Hello, `zip()`!\n",
    "\n",
    "Use the `zip()` function to combine the list of numbers from 1 thru 3, and the list characters 'a', 'b', and 'c'.\n"
   ]
  },
  {
   "cell_type": "code",
   "execution_count": 33,
   "metadata": {},
   "outputs": [
    {
     "name": "stdout",
     "output_type": "stream",
     "text": [
      "<zip object at 0x7f0e4c534900>\n",
      "[(1, 'a'), (2, 'b'), (3, 'c')]\n"
     ]
    }
   ],
   "source": [
    "zipped = zip([1, 2, 3], ['a', 'b', 'c'])\n",
    "print(zipped)\n",
    "\n",
    "print(list(zipped))"
   ]
  },
  {
   "cell_type": "markdown",
   "metadata": {},
   "source": [
    "## Exercise 1.13 &mdash; the `*` operator\n",
    "\n",
    "The `*` (star or asterisk) operator is overloaded in Python:\n",
    "+ In a function declaration, it allows a variable number of arguments to be passed to the functions.\n",
    "+ It can also be used to convert a list into something that can be fed to a function requiring a variable number of arguments.\n",
    "\n",
    "Create a function that adds a variable number of arguments received. Then, declare a list of the numbers 1 thru 10 and passed that list to the function to get the result."
   ]
  },
  {
   "cell_type": "code",
   "execution_count": 34,
   "metadata": {},
   "outputs": [
    {
     "name": "stdout",
     "output_type": "stream",
     "text": [
      "55\n"
     ]
    }
   ],
   "source": [
    "def add(*nums):\n",
    "    total = 0\n",
    "    for num in nums:\n",
    "        total += num\n",
    "    return total\n",
    "\n",
    "nums = [1, 2, 3, 4, 5, 6, 7, 8, 9, 10]\n",
    "\n",
    "print(add(*nums))"
   ]
  },
  {
   "cell_type": "markdown",
   "metadata": {},
   "source": [
    "## Exercise 1.14 &mdash; Exceptions workout\n",
    "\n",
    "Python provides support for exception handling with the try-except construct.\n",
    "\n",
    "```python\n",
    "try:\n",
    "  # block that can throw\n",
    "except Exception as ex:\n",
    "  # handle exception\n",
    "```"
   ]
  },
  {
   "cell_type": "markdown",
   "metadata": {},
   "source": [
    "### Hello, Exceptions!\n",
    "\n",
    "Write a try-except block to capture the exception that is thrown when you invoke the function `add(*nums)` from the previous exercise with the list of numbers (without using the star operator)."
   ]
  },
  {
   "cell_type": "code",
   "execution_count": 35,
   "metadata": {},
   "outputs": [
    {
     "name": "stdout",
     "output_type": "stream",
     "text": [
      "ERROR: unsupported operand type(s) for +=: 'int' and 'list'\n"
     ]
    }
   ],
   "source": [
    "def add(*nums):\n",
    "    total = 0\n",
    "    for num in nums:\n",
    "        total += num\n",
    "    return total\n",
    "\n",
    "nums = [1, 2, 3, 4, 5, 6, 7, 8, 9, 10]\n",
    "\n",
    "try:\n",
    "    add(nums)\n",
    "except Exception as err:\n",
    "    print('ERROR:', err)"
   ]
  },
  {
   "cell_type": "markdown",
   "metadata": {},
   "source": [
    "## Exercise 1.15 &mdash; String formatting/templating workouts\n",
    "\n",
    "Python provides several ways to format and use templating in strings that are typically sent to `print()`."
   ]
  },
  {
   "cell_type": "markdown",
   "metadata": {},
   "source": [
    "### Hello, old-school formatting\n",
    "\n",
    "Old-school formatting in Python was done using *printf* format specifiers (`%d`, `%s`) and the `%` operator.\n",
    "\n",
    "Create a function `birthday(name, age)` that returns a string greeting the name received and their age using this old-schools formatting."
   ]
  },
  {
   "cell_type": "code",
   "execution_count": 36,
   "metadata": {},
   "outputs": [
    {
     "data": {
      "text/plain": [
       "\"Hello, Sergio! I didn't know you were 48 years old\""
      ]
     },
     "execution_count": 36,
     "metadata": {},
     "output_type": "execute_result"
    }
   ],
   "source": [
    "def birthday(name, age):\n",
    "    s = \"Hello, %s! I didn't know you were %d years old\" % (name, age)\n",
    "    return s\n",
    "\n",
    "birthday(\"Sergio\", 48)"
   ]
  },
  {
   "cell_type": "markdown",
   "metadata": {},
   "source": [
    "### Using the `format()` function\n",
    "\n",
    "Python provides the `format()` function for string formatting.\n",
    "\n",
    "Use the `format()` function to:\n",
    "+ print the message that includes a tuple: \"My favorite vector is (2,5)\" with the vector being a variable\n",
    "+ print the message 'Hello to {0}, who is turning {2} today and whose fave number is {1}'"
   ]
  },
  {
   "cell_type": "code",
   "execution_count": 37,
   "metadata": {},
   "outputs": [
    {
     "name": "stdout",
     "output_type": "stream",
     "text": [
      "My favorite vector is (2, 5)\n",
      "Hello to Sergio, who is turning 48 today and whose fave number is 5\n",
      "Hello to Sergio, who is turning 48 today and whose fave number is 5\n"
     ]
    }
   ],
   "source": [
    "fave_vector = (2, 5)\n",
    "fave_number = 5\n",
    "name = \"Sergio\"\n",
    "age = 48\n",
    "\n",
    "print(\"My favorite vector is {0}\".format(fave_vector))\n",
    "print(\"Hello to {0}, who is turning {2} today and whose fave number is {1}\".format(name, fave_number, age))\n",
    "print(\"Hello to {}, who is turning {} today and whose fave number is {}\".format(name, age, fave_number))"
   ]
  },
  {
   "cell_type": "markdown",
   "metadata": {},
   "source": [
    "### Using `f\"...\"` for templatized screens\n",
    "\n",
    "The modern versions of Python allow you to use the `f\"...\"` syntax to make string formatting more terse.\n",
    "\n",
    "Use this approach to create the sample output as the previous exercise."
   ]
  },
  {
   "cell_type": "code",
   "execution_count": 38,
   "metadata": {},
   "outputs": [
    {
     "name": "stdout",
     "output_type": "stream",
     "text": [
      "My favorite vector is (2, 5)\n",
      "Hello to Sergio, who is turning 48 today and whose fave number is 5\n"
     ]
    }
   ],
   "source": [
    "fave_vector = (2, 5)\n",
    "fave_number = 5\n",
    "name = \"Sergio\"\n",
    "age = 48\n",
    "\n",
    "print(f\"My favorite vector is {fave_vector}\")\n",
    "print(f\"Hello to {name}, who is turning {age} today and whose fave number is {fave_number}\")\n"
   ]
  },
  {
   "cell_type": "markdown",
   "metadata": {},
   "source": [
    "## Exercise 1.16 &mdash; Functions workout\n"
   ]
  },
  {
   "cell_type": "markdown",
   "metadata": {},
   "source": [
    "### Named parameters\n",
    "\n",
    "In Python, parameters (placeholders in function definitions) and arguments (the values passed in code to the functions) are both named.\n",
    "\n",
    "Create a function `birthday_greet(name, age)` and invoke the function using both named and unnamed (positional) arguments."
   ]
  },
  {
   "cell_type": "code",
   "execution_count": 39,
   "metadata": {},
   "outputs": [
    {
     "name": "stdout",
     "output_type": "stream",
     "text": [
      "Happy birthday, Sergio! You've just turned 48\n",
      "Happy birthday, Sergio! You've just turned 48\n",
      "Happy birthday, Sergio! You've just turned 48\n"
     ]
    }
   ],
   "source": [
    "def birthday_greet(name, age):\n",
    "    return \"Happy birthday, %s! You've just turned %d\" % (name, age)\n",
    "    \n",
    "\n",
    "# unnamed (positional)\n",
    "print(birthday_greet(\"Sergio\", 48))\n",
    "\n",
    "# named (in the expected order)\n",
    "print(birthday_greet(name=\"Sergio\", age=48))\n",
    "\n",
    "# named (in different order)\n",
    "print(birthday_greet(age=48, name=\"Sergio\"))"
   ]
  },
  {
   "cell_type": "markdown",
   "metadata": {},
   "source": [
    "### The `**` operator\n",
    "\n",
    "The `**` operator in Python (as in `**kwargs` for keyworded-args) is used to pass a keyworded, variable-length argument list to a function. As with the `*` operator, it behaves differently in the function declaration than it does when invoking a function.\n",
    "\n",
    "When invoking a function, the `**` operator lets you pass a dictionary object to a function requiring explicit arguments. Create a dictionary object representing the `name` and `age` of a person and use the `**` operator to pass that object to the `birthday_greet()` function defined above.\n",
    "\n",
    "Then, create a new version of the function `birthday_greet_v2()` that declares as argument `**kwargs` and produces the same output.\n"
   ]
  },
  {
   "cell_type": "code",
   "execution_count": 40,
   "metadata": {},
   "outputs": [
    {
     "name": "stdout",
     "output_type": "stream",
     "text": [
      "Happy birthday, Sergio! You've just turned 48!!!\n",
      "Happy birthday, Sergio! You've just turned 48!!!\n",
      "Happy birthday, Sergio! You've just turned 48!!!\n"
     ]
    }
   ],
   "source": [
    "def birthday_greet(name, age):\n",
    "    return \"Happy birthday, %s! You've just turned %d!!!\" % (name, age)\n",
    "\n",
    "me = { \"name\": \"Sergio\", \"age\": 48 }\n",
    "print(birthday_greet(**me))\n",
    "\n",
    "def birthday_greet_v2(**kwargs):\n",
    "    return \"Happy birthday, %s! You've just turned %d!!!\" % (kwargs[\"name\"], kwargs[\"age\"])\n",
    "\n",
    "# even when using **kwargs, I need to use **me\n",
    "print(birthday_greet_v2(**me))\n",
    "\n",
    "# and I can use some other techniques as well\n",
    "print(birthday_greet_v2(name=\"Sergio\", age=48))\n"
   ]
  },
  {
   "cell_type": "markdown",
   "metadata": {},
   "source": [
    "### Default argument values\n",
    "\n",
    "Python support default argument values. In conjunction with named arguments, it makes it very easy to have Python functions with a huge number of arguments, many of them having sensible default values that are not required to be passed in in each invocation.\n",
    "\n",
    "Create a third version of the birthday greet function in which the age is an optional parameter, and the default name is `\"stranger\"` and adapt the resulting string accordingly."
   ]
  },
  {
   "cell_type": "code",
   "execution_count": 41,
   "metadata": {},
   "outputs": [
    {
     "name": "stdout",
     "output_type": "stream",
     "text": [
      "Happy birthday, stranger!\n",
      "Happy birthday, Sergio!\n",
      "Happy birthday, stranger! You've just turned 48!!!\n",
      "Happy birthday, Sergio! You've just turned 48!!!\n"
     ]
    }
   ],
   "source": [
    "def birthday_greet_v3(name=\"stranger\", age=None):\n",
    "    s = \"Happy birthday, %s!\" % name\n",
    "    if age:\n",
    "        s += \" You've just turned %d!!!\" % age\n",
    "    return s\n",
    "\n",
    "print(birthday_greet_v3())\n",
    "print(birthday_greet_v3(name=\"Sergio\"))\n",
    "print(birthday_greet_v3(age=48))\n",
    "print(birthday_greet_v3(name=\"Sergio\", age=48))"
   ]
  },
  {
   "cell_type": "markdown",
   "metadata": {},
   "source": [
    "### Default argument values and **kwargs\n",
    "\n",
    "Create an implementation of `birthday_greet` using `**kwargs` where the arguments have the same default values as in the previous exercise.\n",
    "\n",
    "| HINT: |\n",
    "| :---- |\n",
    "| You can use `\"key\" in obj` to check if a particular key is found in the key-worded object. |"
   ]
  },
  {
   "cell_type": "code",
   "execution_count": 42,
   "metadata": {},
   "outputs": [
    {
     "name": "stdout",
     "output_type": "stream",
     "text": [
      "Happy birthday, stranger!\n",
      "Happy birthday, Sergio!\n",
      "Happy birthday, stranger! You've just turned 48\n",
      "Happy birthday, Sergio! You've just turned 48\n"
     ]
    }
   ],
   "source": [
    "def birthday_greet(**kwargs):\n",
    "    s = \"Happy birthday, %s!\" % (kwargs[\"name\"] if \"name\" in kwargs else \"stranger\")\n",
    "    if \"age\" in kwargs:\n",
    "        s += \" You've just turned %d\" % kwargs[\"age\"]\n",
    "    return s\n",
    "\n",
    "print(birthday_greet())\n",
    "print(birthday_greet(name=\"Sergio\"))\n",
    "print(birthday_greet(age=48))\n",
    "print(birthday_greet(name=\"Sergio\", age=48))"
   ]
  },
  {
   "cell_type": "markdown",
   "metadata": {},
   "source": [
    "### Hello, unnamed, inline functions (lambdas)!\n",
    "\n",
    "Python also supports unnamed inline functions to be passed as parameters to higher-order functions, although its syntax is not as succinct as in other programming languages.\n",
    "\n",
    "The syntax is:\n",
    "`lambda arg1, arg2, ..., argN: implementation`\n",
    "\n",
    "Create a lambda function that computes the result of adding three numbers. Use that lambda function as an argument to a compute function that invokes it."
   ]
  },
  {
   "cell_type": "code",
   "execution_count": 43,
   "metadata": {},
   "outputs": [
    {
     "name": "stdout",
     "output_type": "stream",
     "text": [
      "6\n"
     ]
    }
   ],
   "source": [
    "add_3 = lambda x, y, z : x + y + z\n",
    "\n",
    "def compute(x, y, z, op):\n",
    "    return op(x, y, z)\n",
    "\n",
    "print(compute(1, 2, 3, add_3))\n"
   ]
  },
  {
   "cell_type": "markdown",
   "metadata": {},
   "source": [
    "### Applying parameters directly to a lambda\n",
    "\n",
    "Create a lambda function that returns the next integer to a one given and invoke it inline."
   ]
  },
  {
   "cell_type": "code",
   "execution_count": 44,
   "metadata": {},
   "outputs": [
    {
     "name": "stdout",
     "output_type": "stream",
     "text": [
      "4\n"
     ]
    }
   ],
   "source": [
    "print((lambda x : x + 1)(3))"
   ]
  },
  {
   "cell_type": "markdown",
   "metadata": {},
   "source": [
    "### The usual `map`, `filter`, `reduce` in Python\n",
    "\n",
    "The `map` and `filter` functions are available in the core package. The `reduce` function is available in the `functools` package.\n",
    "\n",
    "1. Use the `map` function to create a list of squares from a given list\n",
    "2. Use `filter` to filter out odd numbers from a given list of integers\n",
    "3. Use `reduce` to calculate the sum of integers from 1 thru 10"
   ]
  },
  {
   "cell_type": "code",
   "execution_count": 45,
   "metadata": {},
   "outputs": [
    {
     "name": "stdout",
     "output_type": "stream",
     "text": [
      "<map object at 0x7f0e28253ac0>\n",
      "[1, 4, 9, 16, 25, 36, 49, 64, 81, 100]\n",
      "[2, 4, 6, 8, 10]\n",
      "55\n"
     ]
    }
   ],
   "source": [
    "nums = [1, 2, 3, 4, 5, 6, 7, 8, 9, 10]\n",
    "\n",
    "# 1. map\n",
    "print(map(lambda n : n * n, nums)) # not materialized\n",
    "print(list(map(lambda n : n * n, nums)))\n",
    "\n",
    "# 2. filter\n",
    "print(list(filter(lambda n : n % 2 == 0, nums)))\n",
    "\n",
    "# 3. reduce\n",
    "from functools import reduce\n",
    "print(reduce(lambda acc, n : acc + n, nums))\n",
    "\n",
    "\n"
   ]
  },
  {
   "cell_type": "markdown",
   "metadata": {},
   "source": [
    "### Hello, closures\n",
    "\n",
    "Using closures, implement a function `make_power_fn(power)` that return a function `fn(base)` that produces `base ** power`."
   ]
  },
  {
   "cell_type": "code",
   "execution_count": 46,
   "metadata": {},
   "outputs": [
    {
     "name": "stdout",
     "output_type": "stream",
     "text": [
      "[0, 1, 4, 9, 16, 25, 36, 49, 64, 81]\n",
      "[0, 1, 8, 27, 64, 125, 216, 343, 512, 729]\n"
     ]
    }
   ],
   "source": [
    "def make_power_fn(power):\n",
    "    def power_fn(base):\n",
    "        return base ** power\n",
    "    return power_fn\n",
    "\n",
    "square_fn = make_power_fn(2)\n",
    "cube_fn = make_power_fn(3)\n",
    "\n",
    "squares = [square_fn(num) for num in range(0, 10)]\n",
    "cubes = list(map(cube_fn, range(0, 10)))\n",
    "\n",
    "print(squares)\n",
    "print(cubes)"
   ]
  },
  {
   "cell_type": "markdown",
   "metadata": {},
   "source": [
    "## Exercise 1.17 &mdash; NumPy workout\n",
    "\n",
    "NumPy is a Python library providing support for many mathematical functions."
   ]
  },
  {
   "cell_type": "markdown",
   "metadata": {},
   "source": [
    "### Converting a Python list into a NumPy array\n",
    "\n",
    "You can convert any list into a NumPy array just by using the `np.array()` method.\n",
    "\n",
    "Convert the list of numbers 1.7, 2.2, 3.9, 3.11, 14.7 into a NumPy array."
   ]
  },
  {
   "cell_type": "code",
   "execution_count": 47,
   "metadata": {},
   "outputs": [
    {
     "name": "stdout",
     "output_type": "stream",
     "text": [
      "[ 1.7   2.2   3.9   3.11 14.7 ]\n"
     ]
    }
   ],
   "source": [
    "import numpy as np\n",
    "\n",
    "nums = [1.7, 2.2, 3.9, 3.11, 14.7]\n",
    "np_array = np.array(nums)\n",
    "print(np_array)"
   ]
  },
  {
   "cell_type": "markdown",
   "metadata": {},
   "source": [
    "### Hello, `np.arange()`\n",
    "\n",
    "The function `np.arange(start, stop)` returns an evenly distributed vector of values in the interval `[start, stop)`.\n",
    "\n",
    "Use this function to create:\n",
    "1. A vector of integer values in the interval [0, 10)\n",
    "2. A vector of floating-point values in the interval [0, 0.5), in steps of 0.1"
   ]
  },
  {
   "cell_type": "code",
   "execution_count": 48,
   "metadata": {},
   "outputs": [
    {
     "name": "stdout",
     "output_type": "stream",
     "text": [
      "[0 1 2 3 4 5 6 7 8 9]\n",
      "[0.  0.1 0.2 0.3 0.4]\n"
     ]
    }
   ],
   "source": [
    "import numpy as np\n",
    "\n",
    "print(np.arange(0, 10))\n",
    "print(np.arange(0, 0.5, step=0.1))"
   ]
  },
  {
   "cell_type": "markdown",
   "metadata": {},
   "source": [
    "### Applying functions to NumPy arrays\n",
    "\n",
    "NumPy arrays are special objects that are not defined in Python's core language. As a result, when applying functions to NumPy arrays you will have to:\n",
    "+ search in NumPy documentation to see whether that function is available in NumPy's library\n",
    "+ use `np.vectorize()` to wrap a custom function that can be applied to arrays.\n",
    "\n",
    "Explore these two options to create:\n",
    "+ a NumPy array (vector) with the square roots of 0 to 9\n",
    "+ a NumPy array (vector) resulting from applying to the numbers 0 to 9\n",
    "  + dividing a number by half if even\n",
    "  + zeroing it if odd"
   ]
  },
  {
   "cell_type": "code",
   "execution_count": 49,
   "metadata": {},
   "outputs": [
    {
     "name": "stdout",
     "output_type": "stream",
     "text": [
      "[0.         1.         1.41421356 1.73205081 2.         2.23606798\n",
      " 2.44948974 2.64575131 2.82842712 3.        ]\n"
     ]
    }
   ],
   "source": [
    "import numpy as np\n",
    "\n",
    "print(np.sqrt(np.arange(0, 10)))"
   ]
  },
  {
   "cell_type": "code",
   "execution_count": 50,
   "metadata": {},
   "outputs": [
    {
     "name": "stdout",
     "output_type": "stream",
     "text": [
      "[0. 0. 1. 0. 2. 0. 3. 0. 4. 0.]\n"
     ]
    }
   ],
   "source": [
    "import numpy as np\n",
    "\n",
    "def my_custom_transformer(x):\n",
    "    if x % 2 == 0:\n",
    "        return x / 2\n",
    "    else:\n",
    "        return 0\n",
    "\n",
    "\n",
    "np_custom_transformer = np.vectorize(my_custom_transformer)\n",
    "print(np_custom_transformer(np.arange(0, 10)))"
   ]
  },
  {
   "cell_type": "markdown",
   "metadata": {},
   "source": [
    "### Hello, `linspace()`\n",
    "\n",
    "The function `linspace()` is used to return evenly spaced floating point numbers on a given interval. It is typically used for sampling and for providing points for functions and charts.\n",
    "\n",
    "Use `linspace()` to obtain a vector of 100 elements in the interval 0, 10."
   ]
  },
  {
   "cell_type": "code",
   "execution_count": 51,
   "metadata": {},
   "outputs": [
    {
     "name": "stdout",
     "output_type": "stream",
     "text": [
      "[ 0.          0.1010101   0.2020202   0.3030303   0.4040404   0.50505051\n",
      "  0.60606061  0.70707071  0.80808081  0.90909091  1.01010101  1.11111111\n",
      "  1.21212121  1.31313131  1.41414141  1.51515152  1.61616162  1.71717172\n",
      "  1.81818182  1.91919192  2.02020202  2.12121212  2.22222222  2.32323232\n",
      "  2.42424242  2.52525253  2.62626263  2.72727273  2.82828283  2.92929293\n",
      "  3.03030303  3.13131313  3.23232323  3.33333333  3.43434343  3.53535354\n",
      "  3.63636364  3.73737374  3.83838384  3.93939394  4.04040404  4.14141414\n",
      "  4.24242424  4.34343434  4.44444444  4.54545455  4.64646465  4.74747475\n",
      "  4.84848485  4.94949495  5.05050505  5.15151515  5.25252525  5.35353535\n",
      "  5.45454545  5.55555556  5.65656566  5.75757576  5.85858586  5.95959596\n",
      "  6.06060606  6.16161616  6.26262626  6.36363636  6.46464646  6.56565657\n",
      "  6.66666667  6.76767677  6.86868687  6.96969697  7.07070707  7.17171717\n",
      "  7.27272727  7.37373737  7.47474747  7.57575758  7.67676768  7.77777778\n",
      "  7.87878788  7.97979798  8.08080808  8.18181818  8.28282828  8.38383838\n",
      "  8.48484848  8.58585859  8.68686869  8.78787879  8.88888889  8.98989899\n",
      "  9.09090909  9.19191919  9.29292929  9.39393939  9.49494949  9.5959596\n",
      "  9.6969697   9.7979798   9.8989899  10.        ]\n"
     ]
    }
   ],
   "source": [
    "import numpy as np\n",
    "\n",
    "print(np.linspace(0, 10, 100))"
   ]
  },
  {
   "cell_type": "markdown",
   "metadata": {},
   "source": [
    "## Exercise 1.18 &mdash; Matplotlib workout\n",
    "\n",
    "Matplotlib is a library you can use for plotting 2D and 3D charts in Python."
   ]
  },
  {
   "cell_type": "markdown",
   "metadata": {},
   "source": [
    "### The simplest approach\n",
    "\n",
    "The simplest approach to create a plot is to:\n",
    "+ import the `matplotlib.pyplot` (and alias it to `plt`, as it's customary)\n",
    "+ create a list of evenly spaced numbers in the interval to plot\n",
    "+ invoke `plt.plot(X, Y)`, where Y is the result of applying a function to X\n",
    "+ invoke `plt.show()`\n",
    "\n",
    "Use this approach to print the function $ sin(x) $ in the interval $ (0, 2\\pi) $."
   ]
  },
  {
   "cell_type": "code",
   "execution_count": 52,
   "metadata": {},
   "outputs": [
    {
     "data": {
      "image/png": "[encoded data removed]",
      "text/plain": [
       "<Figure size 432x288 with 1 Axes>"
      ]
     },
     "metadata": {
      "needs_background": "light"
     },
     "output_type": "display_data"
    }
   ],
   "source": [
    "import matplotlib.pyplot as plt\n",
    "import numpy as np\n",
    "from math import pi\n",
    "\n",
    "x = np.linspace(0, 2 * pi)\n",
    "plt.plot(x, np.sin(x))\n",
    "plt.show()"
   ]
  },
  {
   "cell_type": "markdown",
   "metadata": {},
   "source": [
    "### Scatter plots\n",
    "\n",
    "Scatter plots are useful for visualizing ordered pairs in the form (x, y). You can create them using `plt.scatter(x, y)`\n",
    "\n",
    "Follow the same approach used in the exercise above, but using `plt.scatter()` to visualize the values:\n",
    "$$\n",
    "{(1,1), (2,4), (3,9), (4, 16), (5, 25)}\n",
    "$$\n"
   ]
  },
  {
   "cell_type": "code",
   "execution_count": 53,
   "metadata": {},
   "outputs": [
    {
     "data": {
      "image/png": "[encoded data removed]",
      "text/plain": [
       "<Figure size 432x288 with 1 Axes>"
      ]
     },
     "metadata": {
      "needs_background": "light"
     },
     "output_type": "display_data"
    }
   ],
   "source": [
    "import matplotlib.pyplot as plt\n",
    "\n",
    "coords = [(1, 1), (2, 4), (3, 9), (4, 16), (5, 25)]\n",
    "x = [x for x, _ in coords]\n",
    "y = [y for _, y in coords]\n",
    "\n",
    "plt.scatter(x, y)\n",
    "plt.show()"
   ]
  },
  {
   "cell_type": "markdown",
   "metadata": {},
   "source": [
    "### Prettifyng your plots with `marker` and `c`\n",
    "\n",
    "You can use the `marker` and `c` arguments to set the shape and color of the dots of your plots.\n",
    "\n",
    "Repeat the previous exercise but making the shape of the dots to be like 'x' and in red color."
   ]
  },
  {
   "cell_type": "code",
   "execution_count": 54,
   "metadata": {},
   "outputs": [
    {
     "data": {
      "image/png": "[encoded data removed]",
      "text/plain": [
       "<Figure size 432x288 with 1 Axes>"
      ]
     },
     "metadata": {
      "needs_background": "light"
     },
     "output_type": "display_data"
    }
   ],
   "source": [
    "import matplotlib.pyplot as plt\n",
    "\n",
    "coords = [(1, 1), (2, 4), (3, 9), (4, 16), (5, 25)]\n",
    "x = [x for x, _ in coords]\n",
    "y = [y for _, y in coords]\n",
    "\n",
    "plt.scatter(x, y, marker='x', c='red')\n",
    "plt.show()"
   ]
  },
  {
   "cell_type": "markdown",
   "metadata": {},
   "source": [
    "### Line charts\n",
    "\n",
    "In a line chart, dots are connected with lines. You can draw a line chart using `plt.plot()`.\n",
    "\n",
    "Create a line chart with the same coords as the previous exercise and compare the results."
   ]
  },
  {
   "cell_type": "code",
   "execution_count": 55,
   "metadata": {},
   "outputs": [
    {
     "data": {
      "image/png": "[encoded data removed]",
      "text/plain": [
       "<Figure size 432x288 with 1 Axes>"
      ]
     },
     "metadata": {
      "needs_background": "light"
     },
     "output_type": "display_data"
    }
   ],
   "source": [
    "import matplotlib.pyplot as plt\n",
    "\n",
    "coords = [(1, 1), (2, 4), (3, 9), (4, 16), (5, 25)]\n",
    "x = [x for x, _ in coords]\n",
    "y = [y for _, y in coords]\n",
    "\n",
    "plt.plot(x, y)\n",
    "plt.show()"
   ]
  },
  {
   "cell_type": "markdown",
   "metadata": {},
   "source": [
    "### Using line charts to draw segments\n",
    "\n",
    "Line charts can be tweaked to draw segments in the 2D plane.\n",
    "\n",
    "Create a function `draw_segment(p1, p2)` that draws the segment between the points $p1=(x_1, y_1)$ and $p2=(x_2,y_2)$. Use the `o` marker to delimit the boundaries of the segment.\n",
    "\n",
    "Test the function to draw the segment between $(0, 3)$ and $(2, 1)$."
   ]
  },
  {
   "cell_type": "code",
   "execution_count": 56,
   "metadata": {},
   "outputs": [
    {
     "data": {
      "image/png": "[encoded data removed]",
      "text/plain": [
       "<Figure size 432x288 with 1 Axes>"
      ]
     },
     "metadata": {
      "needs_background": "light"
     },
     "output_type": "display_data"
    }
   ],
   "source": [
    "import matplotlib.pyplot as plt\n",
    "\n",
    "def draw_segment(p1, p2):\n",
    "    x1, y1 = p1\n",
    "    x2, y2 = p2\n",
    "    plt.plot([x1, x2], [y1, y2], marker='o')\n",
    "    plt.show()\n",
    "\n",
    "draw_segment((0, 3), (2, 1))"
   ]
  },
  {
   "cell_type": "markdown",
   "metadata": {},
   "source": [
    "### Plotting several charts in the same canvas\n",
    "\n",
    "You can plot several charts in the same canvas by invoking repeatedly `plt.plot()`.\n",
    "\n",
    "Use this technique to plot both the sine and cosine functions in the interval $(0, 2\\pi)$"
   ]
  },
  {
   "cell_type": "code",
   "execution_count": 57,
   "metadata": {},
   "outputs": [
    {
     "data": {
      "image/png": "[encoded data removed]",
      "text/plain": [
       "<Figure size 432x288 with 1 Axes>"
      ]
     },
     "metadata": {
      "needs_background": "light"
     },
     "output_type": "display_data"
    }
   ],
   "source": [
    "import matplotlib.pyplot as plt\n",
    "import numpy as np\n",
    "from math import pi\n",
    "\n",
    "x = np.linspace(0, 2 * pi)\n",
    "plt.plot(x, np.sin(x))\n",
    "plt.plot(x, np.cos(x))\n",
    "plt.show()"
   ]
  },
  {
   "cell_type": "markdown",
   "metadata": {},
   "source": [
    "### Setting the scale of a chart\n",
    "\n",
    "Matplotlib automatically scales the x and y axis of your charts, but you can explicitly scale them using `plt.xlim()` and `plt.ylim`.\n",
    "\n",
    "Use the previously defined function `draw_segment()` to draw the segment $(0, 3)$ and $(2, 1)$ while setting the X axis in the range $ (-5, 5) $, and Y axis in the range $ (0, 5) $."
   ]
  },
  {
   "cell_type": "code",
   "execution_count": 58,
   "metadata": {},
   "outputs": [
    {
     "data": {
      "image/png": "[encoded data removed]",
      "text/plain": [
       "<Figure size 432x288 with 1 Axes>"
      ]
     },
     "metadata": {
      "needs_background": "light"
     },
     "output_type": "display_data"
    }
   ],
   "source": [
    "import matplotlib.pyplot as plt\n",
    "\n",
    "def draw_segment(p1, p2):\n",
    "    x1, y1 = p1\n",
    "    x2, y2 = p2\n",
    "    plt.plot([x1, x2], [y1, y2], marker='o')\n",
    "    plt.show()\n",
    "\n",
    "plt.xlim(-5, 5)\n",
    "plt.ylim(0, 5)\n",
    "draw_segment((0, 3), (2, 1))"
   ]
  },
  {
   "cell_type": "markdown",
   "metadata": {},
   "source": [
    "### Controlling the aspect ratio of your charts\n",
    "\n",
    "Matplotlib also controls the aspect ratio of your charts, but you can take control of it using `plt.gcf().set_size_inches()` to make the x and y units look what you need.\n",
    "\n",
    "Repeat the previous exercise but making x units and y units equal so that the graph is square."
   ]
  },
  {
   "cell_type": "code",
   "execution_count": 59,
   "metadata": {},
   "outputs": [
    {
     "data": {
      "image/png": "[encoded data removed]",
      "text/plain": [
       "<Figure size 360x360 with 1 Axes>"
      ]
     },
     "metadata": {
      "needs_background": "light"
     },
     "output_type": "display_data"
    }
   ],
   "source": [
    "import matplotlib.pyplot as plt\n",
    "\n",
    "def draw_segment(p1, p2):\n",
    "    x1, y1 = p1\n",
    "    x2, y2 = p2\n",
    "    plt.plot([x1, x2], [y1, y2], marker='o')\n",
    "    plt.show()\n",
    "\n",
    "plt.xlim(-5, 5)\n",
    "plt.ylim(0, 5)\n",
    "plt.gcf().set_size_inches(5, 5) # gcf stands for get current figure\n",
    "draw_segment((0, 3), (2, 1))"
   ]
  },
  {
   "cell_type": "markdown",
   "metadata": {},
   "source": [
    "### Documenting your charts\n",
    "\n",
    "You can use the following Matplotlib functions to document your charts:\n",
    "\n",
    "+ `plt.title` &mdash; set the title of your chart\n",
    "+ `plt.xlabel` &mdash; set the label for the x-axis\n",
    "+ `plt.ylabel` &mdash; set the label for the y-axis\n",
    "\n",
    "Use these functions to document the sine function."
   ]
  },
  {
   "cell_type": "code",
   "execution_count": 60,
   "metadata": {},
   "outputs": [
    {
     "data": {
      "image/png": "[encoded data removed]",
      "text/plain": [
       "<Figure size 432x288 with 1 Axes>"
      ]
     },
     "metadata": {
      "needs_background": "light"
     },
     "output_type": "display_data"
    }
   ],
   "source": [
    "import matplotlib.pyplot as plt\n",
    "import numpy as np\n",
    "from math import pi\n",
    "\n",
    "x = np.linspace(0, 2 * pi)\n",
    "plt.plot(x, np.sin(x))\n",
    "\n",
    "plt.title('Graph of sin(x) vs. x', fontsize=16)\n",
    "plt.xlabel('this is the x-axis', fontsize=16)\n",
    "plt.ylabel('this is the ylabel', fontsize=16)\n",
    "\n",
    "plt.show()"
   ]
  },
  {
   "cell_type": "markdown",
   "metadata": {},
   "source": [
    "### Plot chart\n",
    "\n",
    "Plot charts are useful in comparative studies.\n",
    "\n",
    "Consider the following data sets correspoding to the weight in grams recorded for some particular tree stems treated with and without nitrogen:\n",
    "\n",
    "| No Nitrogen | Nitrogen |\n",
    "| :---------- | :------- |\n",
    "| 0.32 | 0.26 |\n",
    "| 0.53 | 0.43 |\n",
    "| 0.28 | 0.47 |\n",
    "| 0.37 | 0.49 |\n",
    "| 0.47 | 0.52 |\n",
    "| 0.43 | 0.75 |\n",
    "| 0.36 | 0.79 |\n",
    "| 0.42 | 0.86 |\n",
    "| 0.38 | 0.62 |\n",
    "| 0.43 | 0.46 |\n",
    "\n",
    "Create a dot plot on which the \"x\" values represent the no nitrogen values, and the \"o\" the nitrogen data.\n",
    "\n",
    "The result should look *similar* to the following one:\n",
    "![Box plot](../images/box-plot.png)"
   ]
  },
  {
   "cell_type": "markdown",
   "metadata": {},
   "source": [
    "#### Solution\n",
    "\n",
    "There's no direct support for this type of box plot, so a little bit of preprocessing is needed.\n",
    "The `get_ys_for_dot_plot()` function will compute the frequency of the seen values and skew their y coordinates accordingly. Then a few cosmetic invocations are included to make it look like the image above."
   ]
  },
  {
   "cell_type": "code",
   "execution_count": 61,
   "metadata": {},
   "outputs": [
    {
     "data": {
      "image/png": "[encoded data removed]",
      "text/plain": [
       "<Figure size 720x144 with 1 Axes>"
      ]
     },
     "metadata": {
      "needs_background": "light"
     },
     "output_type": "display_data"
    }
   ],
   "source": [
    "import matplotlib.pyplot as plt\n",
    "from math import floor\n",
    "\n",
    "\n",
    "no_nitrogen = [0.32, 0.53, 0.28, 0.37, 0.47, 0.43, 0.36, 0.42, 0.38, 0.43]\n",
    "nitrogen = [0.26, 0.43, 0.47, 0.49, 0.52, 0.75, 0.79, 0.86, 0.62, 0.46]\n",
    "\n",
    "def get_ys_for_dot_plot(*xs, skew=0.25):\n",
    "    freq_map = {}\n",
    "    ys = []\n",
    "    for x in xs:\n",
    "        y = []\n",
    "        for value in x:\n",
    "            if value in freq_map:\n",
    "                freq_map[value] = freq_map[value] + skew               \n",
    "            else:\n",
    "                freq_map[value] = 0\n",
    "            y.append(freq_map[value])\n",
    "        ys.append(y)\n",
    "    return ys\n",
    "\n",
    "ys = get_ys_for_dot_plot(no_nitrogen, nitrogen, skew=0.15)\n",
    "\n",
    "plt.xlim(0.25, 0.90)\n",
    "plt.gca().axes.get_xaxis().set_ticks(np.arange(0.25, 0.90, 0.05))\n",
    "plt.ylim(-0.1, 2.1)\n",
    "plt.gca().axes.get_yaxis().set_visible(False)\n",
    "plt.scatter(no_nitrogen, ys[0], marker='x')\n",
    "plt.scatter(nitrogen, ys[1], marker='o', c=\"blue\")\n",
    "plt.gcf().set_size_inches(10, 2) # gcf stands for get current figure\n",
    "plt.show()"
   ]
  },
  {
   "cell_type": "markdown",
   "metadata": {},
   "source": [
    "### Another dot plot chart, this time with more comments \n",
    "\n",
    "Consider the following data set.\n",
    "\n",
    "| No Nitrogen | Nitrogen |\n",
    "| :---------- | :------- |\n",
    "| 0.32 | 0.26 |\n",
    "| 0.53 | 0.43 |\n",
    "| 0.28 | 0.47 |\n",
    "| 0.37 | 0.49 |\n",
    "| 0.47 | 0.52 |\n",
    "| 0.43 | 0.75 |\n",
    "| 0.36 | 0.79 |\n",
    "| 0.42 | 0.86 |\n",
    "| 0.38 | 0.62 |\n",
    "| 0.43 | 0.46 |\n",
    "\n",
    "Create a dot plot on which the \"x\" values represent the no nitrogen values, and the \"o\" the nitrogen data. Include legends so that both groups are easily identifiable in the chart."
   ]
  },
  {
   "cell_type": "markdown",
   "metadata": {},
   "source": [
    "The process to generate a dot plot is semi-automated, and you roughly need to go through the following steps each and every time:\n",
    "+ Set up the data sets for both individual data collections.\n",
    "+ Get the min/max for all the data that you will use to set the x-axis limits.\n",
    "+ Skew the data collisions so that they're visible in the plot (by adjusting the y coordinates of the collisions).\n",
    "+ Manually adjust the limits for the x-axis in chart by given some sensible extra padding left and right.\n",
    "+ Manually adjust the y-axis limit in the chart so that it looks proper.\n",
    "+ Plot both data sets as scatter plots, with different markers and labels for each individual data sets.\n",
    "+ Adjust the chart size to your liking.\n",
    "+ Show a legend so that the individual data sets are easily identifiable."
   ]
  },
  {
   "cell_type": "markdown",
   "metadata": {},
   "source": [
    "Let's start by setting the individual data sets into a list of lists:"
   ]
  },
  {
   "cell_type": "code",
   "execution_count": 62,
   "metadata": {},
   "outputs": [],
   "source": [
    "no_nitrogen = [0.32, 0.53, 0.28, 0.37, 0.47, 0.43, 0.36, 0.42, 0.38, 0.43]\n",
    "nitrogen = [0.26, 0.43, 0.47, 0.49, 0.52, 0.75, 0.79, 0.86, 0.62, 0.46]\n",
    "\n",
    "data_sets = [no_nitrogen, nitrogen]"
   ]
  },
  {
   "cell_type": "markdown",
   "metadata": {},
   "source": [
    "Now, we define a function `get_limits()` that we will use to find the min and max of the `data_sets` list:"
   ]
  },
  {
   "cell_type": "code",
   "execution_count": 63,
   "metadata": {},
   "outputs": [],
   "source": [
    "def get_limits(*data_sets):\n",
    "    mins = [min(data_set) for data_set in data_sets]\n",
    "    maxs = [max(data_set) for data_set in data_sets]\n",
    "    return (min(mins), max(maxs))"
   ]
  },
  {
   "cell_type": "markdown",
   "metadata": {},
   "source": [
    "Now we define another helper function that displaces the y coordinates of clashing dots by a certain amount.\n",
    "\n",
    "The idea is to give all the data points a y=0 coordinate, and when we find a clash, we move the coordinate *up* by the skew amount.\n",
    "\n",
    "For example, if we have the points [5, 6, 5], and the *skew* is set to 0.5, we should get the following y coordinates: [0, 0, 0.5] so that the second 5 (clash) is skewed up a little.\n",
    "\n",
    "In the function, we create a frequency map that we used to keep track of previously seen values:"
   ]
  },
  {
   "cell_type": "code",
   "execution_count": 64,
   "metadata": {},
   "outputs": [],
   "source": [
    "def get_ys_for_dot_plot(*xs, skew=0.25):\n",
    "    freq_map = {}\n",
    "    ys = []\n",
    "    for x in xs:\n",
    "        y = []\n",
    "        for value in x:\n",
    "            if value in freq_map:\n",
    "                freq_map[value] = freq_map[value] + skew\n",
    "            else:\n",
    "                freq_map[value] = 0\n",
    "            y.append(freq_map[value])\n",
    "        ys.append(y)\n",
    "    return ys"
   ]
  },
  {
   "cell_type": "markdown",
   "metadata": {},
   "source": [
    "With both `get_limits()` and `get_ys_for_dot_plot()` we're ready to investigate our data sets and find the proper limits for our dot plot:"
   ]
  },
  {
   "cell_type": "code",
   "execution_count": 65,
   "metadata": {},
   "outputs": [
    {
     "name": "stdout",
     "output_type": "stream",
     "text": [
      "(data_set_min, data_set_max)=(0.26, 0.86)\n",
      "(y_min, y_max)=(0, 0.5)\n"
     ]
    }
   ],
   "source": [
    "ys = get_ys_for_dot_plot(*data_sets)\n",
    "\n",
    "\n",
    "print(f\"(data_set_min, data_set_max)={get_limits(*data_sets)}\")\n",
    "print(f\"(y_min, y_max)={get_limits(*ys)}\")"
   ]
  },
  {
   "cell_type": "markdown",
   "metadata": {},
   "source": [
    "Now that we know the range of data for the x, y coordinates of the data to plot, we have to manually adjust it a little bit to obtain a prettier presentation of the data.\n",
    "\n",
    "The approach is to add a little bit of padding to those values above. The actual amount depends on the scale of the data, that is why it is so difficult to automate as it might require normalization of the data to come up with a sensible padding automatically, while it is a no-brainer when you do it manually.\n",
    "\n",
    "For example, for the data above, it feels natural to choose 0.25 and 0.90 as the limits, with ticks on the x-axis every 0.05:"
   ]
  },
  {
   "cell_type": "code",
   "execution_count": 66,
   "metadata": {},
   "outputs": [],
   "source": [
    "x_lim_min = 0.25\n",
    "x_lim_max = 0.90\n",
    "tick_step = 0.05"
   ]
  },
  {
   "cell_type": "markdown",
   "metadata": {},
   "source": [
    "Now, we can proceed with the plot. We will use the most recent way to generate the plot, which differs a little bit from the one used in the examples above. The steps are the same, only the objects in which the APIs are known are different:"
   ]
  },
  {
   "cell_type": "code",
   "execution_count": 67,
   "metadata": {},
   "outputs": [
    {
     "data": {
      "image/png": "[encoded data removed]",
      "text/plain": [
       "<Figure size 720x144 with 1 Axes>"
      ]
     },
     "metadata": {
      "needs_background": "light"
     },
     "output_type": "display_data"
    }
   ],
   "source": [
    "import matplotlib.pyplot as plt\n",
    "import numpy as np\n",
    "\n",
    "fig, ax = plt.subplots()\n",
    "plt.xlim(x_lim_min, x_lim_max)\n",
    "plt.ylim(-0.1, 2.1)\n",
    "ax.get_yaxis().set_visible(False)\n",
    "ax.set_xticks(np.arange(x_lim_min, x_lim_max, tick_step))\n",
    "ax.scatter(no_nitrogen, ys[0], marker='x', label=\"no nitrogen treatment\")\n",
    "ax.scatter(nitrogen, ys[1], marker='o', c=\"blue\", label=\"nitrogen treatment\")\n",
    "ax.legend()\n",
    "ax.grid(False)\n",
    "fig.set_size_inches(10, 2)\n",
    "plt.show()"
   ]
  },
  {
   "cell_type": "markdown",
   "metadata": {},
   "source": [
    "### Drawing a histogram\n",
    "\n",
    "A histogram is a chart that shows frequency distribution of a particular experiments. That is, it visualizes the number of observations in the y-axis vs. the intervals in which they fall.\n",
    "\n",
    "Consider the following table, corresponding to 40 car batteries life rounded to the nearest tenth of a year.\n",
    "\n",
    "| Car Battery Life |\n",
    "| :--------------- |\n",
    "| 2.2 4.1 3.5 4.5 3.2 3.7 3.0 2.6 |\n",
    "| 3.4 1.6 3.1 3.3 3.8 3.1 4.7 3.7 |\n",
    "| 2.5 4.3 3.4 3.6 2.9 3.3 3.9 3.1 |\n",
    "| 3.3 3.1 3.7 4.4 3.2 4.1 1.9 3.4 |\n",
    "| 4.7 3.8 3.2 2.6 3.9 3.0 4.2 3.5 |\n",
    "\n",
    "Plot a histogram so that you can see the distribution of the life expectancy. Arrange the data in the intervals: [1.5-2.0), [2.0-2.5), [2.5-2.9), ..., [4.5-5.0]. Overlay a scatter plot showing the midpoint of each interval (1.75, 2.25, 2.75, ..., 4.7).\n"
   ]
  },
  {
   "cell_type": "markdown",
   "metadata": {},
   "source": [
    "Pyplot comes with its own histogram wrapper that helps with the creation of a histogram without you needing to massage the data to obtain the relative frequency, or count the data.\n",
    "\n",
    "| NOTE: |\n",
    "| :---- |\n",
    "| If you have already performed such analysis, you might want to plot a bar chart instead. See the next exercise for an example. |\n",
    "\n",
    "The documentation for [pyplot.hist](https://matplotlib.org/stable/api/_as_gen/matplotlib.pyplot.hist.html) gives all the details about the different options you can use to draw your histogram, but we will use only the basics for this exercise:\n",
    "\n",
    "```python\n",
    "plt.hist(\n",
    "  x,      # the data set\n",
    "  bins,   # either the number of bins, or the intervals. If the latter, [0, 0.25, 0.5, 0.75, 1] means the intervals {[0, 0.25), [0.25, 0.5), [0.5, 0.75), [0.75, 1]}\n",
    "  rwidth=val, # relative width of bars, as in 0.95 for leaving a 5% space between bars\n",
    "  color=c, # color of the bars\n",
    "  alpha=pct # alpha-blending value\n",
    ")\n",
    "```\n",
    "\n",
    "You can also play with `histtype` attribute to select the different flavors of histograms. Also, the `density` attribute plots the probability density instead of the frequency. This is calculated as:\n",
    "\n",
    "```\n",
    "density = counts / (sum(counts) * np.diff(bins))\n",
    "```\n",
    "\n",
    "Note that this is different from the relative frequency, calculated as:\n",
    "```\n",
    "rel_frequency = frequency / total_num_observations\n",
    "```\n",
    "\n",
    "Lastly, take into account that `plt.hist()` returns the values of the histogram bins (that is, the frequency), the bins used, and the patches (`BarContainer` used to create the histogram).\n",
    "\n",
    "Let's do a histogram plot of the given data set."
   ]
  },
  {
   "cell_type": "code",
   "execution_count": 37,
   "metadata": {},
   "outputs": [
    {
     "name": "stdout",
     "output_type": "stream",
     "text": [
      "n=[ 2.  1.  4. 15. 10.  5.  3.]\n",
      "bins=[1.5 2.  2.5 3.  3.5 4.  4.5 5. ]\n",
      "patches=<BarContainer object of 7 artists>\n"
     ]
    },
    {
     "data": {
      "image/png": "[encoded data removed]",
      "text/plain": [
       "<Figure size 432x288 with 1 Axes>"
      ]
     },
     "metadata": {
      "needs_background": "light"
     },
     "output_type": "display_data"
    }
   ],
   "source": [
    "import matplotlib.pyplot as plt\n",
    "import numpy as np\n",
    "\n",
    "data_set = [\n",
    " 2.2, 4.1, 3.5, 4.5, 3.2, 3.7, 3.0, 2.6,\n",
    " 3.4, 1.6, 3.1, 3.3, 3.8, 3.1, 4.7, 3.7,\n",
    " 2.5, 4.3, 3.4, 3.6, 2.9, 3.3, 3.9, 3.1,\n",
    " 3.3, 3.1, 3.7, 4.4, 3.2, 4.1, 1.9, 3.4,\n",
    " 4.7, 3.8, 3.2, 2.6, 3.9, 3.0, 4.2, 3.5\n",
    "]\n",
    "\n",
    "intervals = [1.5, 2.0, 2.5, 3.0, 3.5, 4.0, 4.5, 5.0]\n",
    "midpoints = [(intervals[i] + intervals[i + 1]) / 2 for i in range(0, len(intervals)) if i < len(intervals) - 1]\n",
    "\n",
    "n, bins, patches = plt.hist(data_set, intervals, alpha=0.75, rwidth=0.95)\n",
    "plt.ylabel('Frequency')\n",
    "plt.xlabel('Battery Life (years)')\n",
    "plt.title('Battery Life Histogram')\n",
    "plt.xticks(intervals)\n",
    "plt.yticks(np.arange(0, 16, 1))\n",
    "plt.grid(True)\n",
    "\n",
    "\n",
    "\n",
    "plt.scatter(midpoints, n)\n",
    "\n",
    "\n",
    "print(f'n={n}')\n",
    "print(f'bins={bins}')\n",
    "print(f'patches={patches}')"
   ]
  },
  {
   "cell_type": "markdown",
   "metadata": {},
   "source": [
    "### Drawing a bar chart\n",
    "\n",
    "A bar chart is a chart that displays bars with a certain x coordinates, height, and width. Oftentimes, you will use a bar chart to visualize histogram data that you have previously computed (e.g. a relative frequency histogram).\n",
    "\n",
    "Consider the following table, corresponding to relative frequency computation of 40 car batteries life rounded to the nearest tenth of a year.\n",
    "\n",
    "| Class Interval | Relative Frequency |\n",
    "| :------------- | :----------------- |\n",
    "| [1.5-2.0)      | 0.050 |\n",
    "| [2.0-2.5)      | 0.025 |\n",
    "| [2.5-3.0)      | 0.100 |\n",
    "| [3.0-3.5)      | 0.375 |\n",
    "| [3.5-4.0)      | 0.250 |\n",
    "| [4.0-4.5)      | 0.125 |\n",
    "| [4.5-4.9]      | 0.075 |\n",
    "\n",
    "\n",
    "Plot a the relative frequency histogram using a bar chart as the basis. The result should look similar to the picture below:\n",
    "\n",
    "![Relative Frequency Histogram](../images/rel_freq_histogram.png)\n",
    "\n",
    "| NOTE: |\n",
    "| :---- |\n",
    "| Make sure to review https://matplotlib.org/stable/api/_as_gen/matplotlib.pyplot.bar.html for the different available options. |"
   ]
  },
  {
   "cell_type": "code",
   "execution_count": 54,
   "metadata": {},
   "outputs": [
    {
     "data": {
      "image/png": "[encoded data removed]",
      "text/plain": [
       "<Figure size 432x288 with 1 Axes>"
      ]
     },
     "metadata": {
      "needs_background": "light"
     },
     "output_type": "display_data"
    }
   ],
   "source": [
    "import matplotlib.pyplot as plt\n",
    "\n",
    "x_left_edge = [1.5 + 0.5 * n for n in range(0, 7)]\n",
    "y_height = [0.050, 0.025, 0.100, 0.375, 0.250, 0.125, 0.075]\n",
    "\n",
    "plt.bar(x_left_edge, y_height, align='edge', width=0.5, color='#D4EFFC', edgecolor='#15B4F0')\n",
    "plt.xlabel('Battery Life (years)')\n",
    "plt.ylabel('Relative Frequency')\n",
    "plt.title('Battery Life Relative Frequency Histogram')\n",
    "plt.xticks([x + 0.25 for x in x_left_edge])\n",
    "plt.yticks([0.125, 0.250, 0.375])\n",
    "plt.ylim([0, 0.375])\n",
    "plt.grid(False)\n"
   ]
  },
  {
   "cell_type": "markdown",
   "metadata": {},
   "source": [
    "## Exercise 1.19 &mdash; OOP workout\n",
    "\n",
    "Python supports object-oriented programming (OOP) with special keywords and syntax."
   ]
  },
  {
   "cell_type": "markdown",
   "metadata": {},
   "source": [
    "### Defining a `Rectangle` class\n",
    "\n",
    "Create a `Rectangle` class with the following capabilities:\n",
    "+ It can be created by passing its width and height (HINT: use the `__init__` name for the constructor).\n",
    "+ It should provide the following instance methods:\n",
    "  + a `scale` method that returns a new Rectandgle with its dimensions scaled by a given factor\n",
    "  + an `area` method that returns the area of the rectangle\n",
    "  + an `__eq__` method that checks for equality\n",
    "  + a `__repr__` method that provides a string representation of the class\n"
   ]
  },
  {
   "cell_type": "code",
   "execution_count": 68,
   "metadata": {},
   "outputs": [
    {
     "name": "stdout",
     "output_type": "stream",
     "text": [
      "Rectangle(w=2, h=3)\n",
      "Rectangles are equal\n",
      "Those are different rectangles\n",
      "The area of the rectangle is 6\n",
      "Rectangle(w=4, h=6)\n"
     ]
    }
   ],
   "source": [
    "class Rectangle:\n",
    "    def __init__(self, w, h):\n",
    "        self.width = w\n",
    "        self.height = h\n",
    "\n",
    "    def scale(self, factor):\n",
    "        return Rectangle(self.width * factor, self.height * factor)\n",
    "\n",
    "    def area(self):\n",
    "        return self.width * self.height\n",
    "\n",
    "    def __eq__(self, other):\n",
    "        return self.width == other.width and self.height == other.height\n",
    "\n",
    "    def __repr__(self):\n",
    "        return f\"Rectangle(w={self.width}, h={self.height})\"\n",
    "\n",
    "\n",
    "r = Rectangle(2, 3)     # __init__ is invoked\n",
    "print(r)                # __repr__ is invoked\n",
    "if (r == Rectangle(2, 3)):\n",
    "    print(\"Rectangles are equal\")\n",
    "else:\n",
    "    print(\"Those are different rectangles\")\n",
    "\n",
    "if (r == Rectangle(3, 2)):\n",
    "    print(\"Rectangles are equal\")\n",
    "else:\n",
    "    print(\"Those are different rectangles\")\n",
    "\n",
    "print(f\"The area of the rectangle is {r.area()}\")\n",
    "r_scaled = r.scale(2)\n",
    "print(r_scaled)"
   ]
  },
  {
   "cell_type": "markdown",
   "metadata": {},
   "source": [
    "### Operator overloading in Python\n",
    "\n",
    "Python supports operator overloading using special method names such as `__mul__` (when the class instance comes on the left-hand side) and `__rmul` when the instance comes on the right-hand side.\n",
    "\n",
    "Enhance the previously defined class to support things like:\n",
    "+ `Rectangle(2, 3) * 2` (`__mul__`)\n",
    "+ `2 * Rectangle(2, 3)` (`__rmul__`)"
   ]
  },
  {
   "cell_type": "code",
   "execution_count": 69,
   "metadata": {},
   "outputs": [
    {
     "name": "stdout",
     "output_type": "stream",
     "text": [
      "__mul__\n",
      "Rectangle(w=4, h=6)\n",
      "__rmul__\n",
      "Rectangle(w=6, h=9)\n"
     ]
    }
   ],
   "source": [
    "class Rectangle:\n",
    "    def __init__(self, w, h):\n",
    "        self.width = w\n",
    "        self.height = h\n",
    "\n",
    "    def scale(self, factor):\n",
    "        return Rectangle(self.width * factor, self.height * factor)\n",
    "\n",
    "    def area(self):\n",
    "        return self.width * self.height\n",
    "\n",
    "    def __eq__(self, other):\n",
    "        return self.width == other.width and self.height == other.height\n",
    "\n",
    "    def __repr__(self):\n",
    "        return f\"Rectangle(w={self.width}, h={self.height})\"\n",
    "\n",
    "    def __mul__(self, factor):\n",
    "        print('__mul__')\n",
    "        return Rectangle(self.width * factor, self.height * factor)\n",
    "\n",
    "    def __rmul__(self, factor):\n",
    "        print('__rmul__')\n",
    "        return Rectangle(self.width * factor, self.height * factor)\n",
    "\n",
    "r = Rectangle(2, 3)\n",
    "print(r * 2)\n",
    "print(3 * r)           \n"
   ]
  },
  {
   "cell_type": "markdown",
   "metadata": {},
   "source": [
    "### Class methods\n",
    "\n",
    "Python supports (static) class methods using the `@classmethod` decorator.\n",
    "\n",
    "Create a class method `square(side)` that returns a Rectangle of dimensions side x side."
   ]
  },
  {
   "cell_type": "code",
   "execution_count": 70,
   "metadata": {},
   "outputs": [
    {
     "name": "stdout",
     "output_type": "stream",
     "text": [
      "Rectangle(w=2, h=2)\n"
     ]
    }
   ],
   "source": [
    "class Rectangle:\n",
    "    def __init__(self, w, h):\n",
    "        self.width = w\n",
    "        self.height = h\n",
    "\n",
    "    def scale(self, factor):\n",
    "        return Rectangle(self.width * factor, self.height * factor)\n",
    "\n",
    "    def area(self):\n",
    "        return self.width * self.height\n",
    "\n",
    "    def __eq__(self, other):\n",
    "        return self.width == other.width and self.height == other.height\n",
    "\n",
    "    def __repr__(self):\n",
    "        return f\"Rectangle(w={self.width}, h={self.height})\"\n",
    "\n",
    "    def __mul__(self, factor):\n",
    "        print('__mul__')\n",
    "        return Rectangle(self.width * factor, self.height * factor)\n",
    "\n",
    "    def __rmul__(self, factor):\n",
    "        print('__rmul__')\n",
    "        return Rectangle(self.width * factor, self.height * factor)\n",
    "    \n",
    "    @classmethod\n",
    "    def square(cls, side):\n",
    "        return Rectangle(side, side)\n",
    "\n",
    "s = Rectangle.square(2)\n",
    "print(s)"
   ]
  },
  {
   "cell_type": "markdown",
   "metadata": {},
   "source": [
    "### The `__dict__` property\n",
    "\n",
    "The `__dict__` property when applied to an instance returns the instance fields, when applied to the class returns the class methods.\n",
    "\n",
    "Use the `__dict__` property on the recently created Rectangle class and in one instance of the class."
   ]
  },
  {
   "cell_type": "code",
   "execution_count": 71,
   "metadata": {},
   "outputs": [
    {
     "name": "stdout",
     "output_type": "stream",
     "text": [
      "{'__module__': '__main__', '__init__': <function Rectangle.__init__ at 0x7f0e281dd4c0>, 'scale': <function Rectangle.scale at 0x7f0e281dd430>, 'area': <function Rectangle.area at 0x7f0e281dd550>, '__eq__': <function Rectangle.__eq__ at 0x7f0e281dd5e0>, '__repr__': <function Rectangle.__repr__ at 0x7f0e281dd670>, '__mul__': <function Rectangle.__mul__ at 0x7f0e281dd700>, '__rmul__': <function Rectangle.__rmul__ at 0x7f0e281dd790>, 'square': <classmethod object at 0x7f0e281aad60>, '__dict__': <attribute '__dict__' of 'Rectangle' objects>, '__weakref__': <attribute '__weakref__' of 'Rectangle' objects>, '__doc__': None, '__hash__': None}\n",
      "===============\n",
      "{'width': 3, 'height': 2}\n"
     ]
    }
   ],
   "source": [
    "class Rectangle:\n",
    "    def __init__(self, w, h):\n",
    "        self.width = w\n",
    "        self.height = h\n",
    "\n",
    "    def scale(self, factor):\n",
    "        return Rectangle(self.width * factor, self.height * factor)\n",
    "\n",
    "    def area(self):\n",
    "        return self.width * self.height\n",
    "\n",
    "    def __eq__(self, other):\n",
    "        return self.width == other.width and self.height == other.height\n",
    "\n",
    "    def __repr__(self):\n",
    "        return f\"Rectangle(w={self.width}, h={self.height})\"\n",
    "\n",
    "    def __mul__(self, factor):\n",
    "        print('__mul__')\n",
    "        return Rectangle(self.width * factor, self.height * factor)\n",
    "\n",
    "    def __rmul__(self, factor):\n",
    "        print('__rmul__')\n",
    "        return Rectangle(self.width * factor, self.height * factor)\n",
    "    \n",
    "    @classmethod\n",
    "    def square(cls, side):\n",
    "        return Rectangle(side, side)\n",
    "\n",
    "r = Rectangle(3, 2)\n",
    "print(Rectangle.__dict__)\n",
    "print(\"===============\")\n",
    "print(r.__dict__)"
   ]
  },
  {
   "cell_type": "markdown",
   "metadata": {},
   "source": [
    "### Using inheritance\n",
    "\n",
    "Python supports inheritance using the syntax `class ClassName(superClassName):`. You can access the super class methods using `super()`\n",
    "\n",
    "Create a `Square` class that inherits from `Rectangle`. "
   ]
  },
  {
   "cell_type": "code",
   "execution_count": 72,
   "metadata": {},
   "outputs": [
    {
     "name": "stdout",
     "output_type": "stream",
     "text": [
      "25\n",
      "Rectangle(w=2.5, h=2.5)\n"
     ]
    }
   ],
   "source": [
    "class Rectangle:\n",
    "    def __init__(self, w, h):\n",
    "        self.width = w\n",
    "        self.height = h\n",
    "\n",
    "    def scale(self, factor):\n",
    "        return Rectangle(self.width * factor, self.height * factor)\n",
    "\n",
    "    def area(self):\n",
    "        return self.width * self.height\n",
    "\n",
    "    def __eq__(self, other):\n",
    "        return self.width == other.width and self.height == other.height\n",
    "\n",
    "    def __repr__(self):\n",
    "        return f\"Rectangle(w={self.width}, h={self.height})\"\n",
    "\n",
    "    def __mul__(self, factor):\n",
    "        print('__mul__')\n",
    "        return Rectangle(self.width * factor, self.height * factor)\n",
    "\n",
    "    def __rmul__(self, factor):\n",
    "        print('__rmul__')\n",
    "        return Rectangle(self.width * factor, self.height * factor)\n",
    "    \n",
    "\n",
    "class Square(Rectangle):\n",
    "    def __init__(self, s):\n",
    "        super().__init__(s, s)  # no need to return\n",
    "\n",
    "    # overriding scale() to return an instance of Square instead of a Rectangle\n",
    "    def __scale__(self, factor):\n",
    "        return Square(self.width * factor)\n",
    "\n",
    "    def __repr__(self):\n",
    "        return f\"Square(s={self.width})\"\n",
    "\n",
    "sq = Square(5)\n",
    "print(sq.area())\n",
    "print(sq.scale(0.5))"
   ]
  },
  {
   "cell_type": "markdown",
   "metadata": {},
   "source": [
    "### Abstract classes\n",
    "\n",
    "Python supports abstract classes by way of inheritance from a special class named `ABC`.\n",
    "\n",
    "Create a simple class hierarchy following these guidelines:\n",
    "+ an abstract base class `Shape` (HINT: import `ABC` from `abc` library):\n",
    "  + with an empty implementation for the methods `area`, `scale` to set the interface. (HINT: use `pass` as the implementation, and the `@abstractmethod` decorator).\n",
    "  + with an implementation of `__eq__` that relies on `__dict__` to check for equality based on the underlying properties\n",
    "  + with an implementation of `__mul__` and `__rmul__` that rely on `scale()`\n",
    "+ a concrete class `Rectangle` with the same behavior as in the previous exercises\n",
    "+ a concrete class `Square` with the same behavior as in the previous exercises\n",
    "+ a concrete class `Circle`"
   ]
  },
  {
   "cell_type": "code",
   "execution_count": 73,
   "metadata": {},
   "outputs": [
    {
     "name": "stdout",
     "output_type": "stream",
     "text": [
      "Rectangle(w=2, h=3)\n",
      "Rectangles are equal\n",
      "Those are different rectangles\n",
      "The area of the rectangle is 6\n",
      "Rectangle(w=4, h=6)\n",
      "========================\n",
      "25\n",
      "Square(s=2.5)\n",
      "========================\n",
      "Circle(r=2)\n",
      "12.566370614359172\n",
      "It's the same picture\n",
      "Rectangle(w=4, h=6)\n",
      "Rectangle(w=6, h=9)\n"
     ]
    }
   ],
   "source": [
    "from abc import ABC, abstractmethod\n",
    "from math import pi\n",
    "\n",
    "class Shape(ABC):\n",
    "    @abstractmethod\n",
    "    def area(self):\n",
    "        pass\n",
    "    \n",
    "    @abstractmethod\n",
    "    def scale(self, factor):\n",
    "        pass\n",
    "\n",
    "    def __eq__(self, other):\n",
    "        return self.__dict__ == other.__dict__\n",
    "\n",
    "    def __mul__(self, factor):\n",
    "        return self.scale(factor)\n",
    "\n",
    "    def __rmul__(self, factor):\n",
    "        return self.scale(factor)\n",
    "\n",
    "class Rectangle(Shape):\n",
    "    def __init__(self, w, h):\n",
    "        self.width = w\n",
    "        self.height = h\n",
    "\n",
    "    def area(self):\n",
    "        return self.width * self.height\n",
    "\n",
    "    def scale(self, factor):\n",
    "        return Rectangle(self.width * factor, self.height * factor)\n",
    "\n",
    "    def __repr__(self):\n",
    "        return f\"Rectangle(w={self.width}, h={self.height})\"\n",
    "\n",
    "class Square(Rectangle):\n",
    "    def __init__(self, s):\n",
    "        super().__init__(s, s)\n",
    "    \n",
    "    def scale(self, factor):\n",
    "        return Square(self.width * factor)\n",
    "    \n",
    "    def __repr__(self):\n",
    "        return f\"Square(s={self.width})\"\n",
    "\n",
    "class Circle(Shape):\n",
    "    def __init__(self, r):\n",
    "        self.radius = r\n",
    "\n",
    "    def area(self):\n",
    "        return pi * self.radius ** 2\n",
    "\n",
    "    def scale(self, factor):\n",
    "        return Circle(self.radius * factor)\n",
    "    \n",
    "\n",
    "    def __repr__(self):\n",
    "        return f\"Circle(r={self.radius})\"\n",
    "\n",
    "# Testing Rectangle\n",
    "r = Rectangle(2, 3)     # __init__ is invoked\n",
    "print(r)                # __repr__ is invoked\n",
    "if (r == Rectangle(2, 3)):\n",
    "    print(\"Rectangles are equal\")\n",
    "else:\n",
    "    print(\"Those are different rectangles\")\n",
    "\n",
    "if (r == Rectangle(3, 2)):\n",
    "    print(\"Rectangles are equal\")\n",
    "else:\n",
    "    print(\"Those are different rectangles\")\n",
    "\n",
    "print(f\"The area of the rectangle is {r.area()}\")\n",
    "r_scaled = r.scale(2)\n",
    "print(r_scaled)\n",
    "\n",
    "\n",
    "# Testing Square\n",
    "print(\"========================\")\n",
    "sq = Square(5)\n",
    "print(sq.area())\n",
    "print(sq.scale(0.5))\n",
    "\n",
    "# Testing Circle\n",
    "print(\"========================\")\n",
    "circle = Circle(2)\n",
    "print(circle)\n",
    "print(circle.area())\n",
    "smaller_circle = circle.scale(1/2)\n",
    "if smaller_circle == Circle(1):\n",
    "    print(\"It's the same picture\")\n",
    "\n",
    "r = Rectangle(2, 3)\n",
    "print(r * 2)\n",
    "print(3 * r)    \n",
    "    \n"
   ]
  },
  {
   "cell_type": "markdown",
   "metadata": {},
   "source": [
    "## Exercise 1.20 &mdash; Imports workout\n",
    "\n",
    "We have already used the `from <lib> import <fun>` and the `import <lib> as <alias>` in some of the previous examples to import core and 3rd party packages.\n",
    "\n",
    "This section deals with additional concepts in this area."
   ]
  },
  {
   "cell_type": "markdown",
   "metadata": {},
   "source": [
    "### Importing your own libraries into Jupyter\n",
    "\n",
    "You can import your own modules following the same approach you use for 3rd party and core packages.\n",
    "\n",
    "Create a library in a source file `my_lib.py` in this directory and define within it a `greet_me(name)` function and a `square(num)` function. Then import both on a cell and make use of them."
   ]
  },
  {
   "cell_type": "code",
   "execution_count": 74,
   "metadata": {},
   "outputs": [
    {
     "name": "stdout",
     "output_type": "stream",
     "text": [
      "Hello, stranger! How are you?\n",
      "Hello, Jason! How are you?\n",
      "625\n"
     ]
    }
   ],
   "source": [
    "from my_lib import greet_me, square\n",
    "\n",
    "greet_me()\n",
    "greet_me(\"Jason\")\n",
    "print(square(25))"
   ]
  },
  {
   "cell_type": "markdown",
   "metadata": {},
   "source": [
    "Note that if you make changes to the library and want to see those changes reflected on the cell execution, you might need to restart the Jupyter kernel."
   ]
  },
  {
   "cell_type": "markdown",
   "metadata": {},
   "source": [
    "### Importing you libs from a folder\n",
    "\n",
    "Saving your libraries in the same directory in which you keep your notebooks is not a very good idea (especially if you have many libraries).\n",
    "\n",
    "Python allows you to reference libraries in a different folder using the syntax: `from <dir>.<lib> import <lib_func>`.\n",
    "\n",
    "Create a `lib` folder and define another source file for another library in which you declare a function `cube(num)`. Import it and use it in a cell."
   ]
  },
  {
   "cell_type": "code",
   "execution_count": 75,
   "metadata": {},
   "outputs": [
    {
     "name": "stdout",
     "output_type": "stream",
     "text": [
      "125\n"
     ]
    }
   ],
   "source": [
    "from lib.another_lib import cube\n",
    "\n",
    "print(cube(5))"
   ]
  },
  {
   "cell_type": "markdown",
   "metadata": {},
   "source": [
    "## Exercise 1.21 &mdash; Documenting code workout\n",
    "\n",
    "Python provides support for documenting your code in a way that can be leveraged by IDEs to provide a better user experience.\n",
    "\n",
    "There are two fundamental pieces:\n",
    "+ Doc strings: conventions about comments in files, functions, classes, etc. that let the IDEs understand what the funcion is about.\n",
    "+ Type hinting: available from Python 3.5, it allows you to add type annotations about the expected types in function arguments as in `def hello(name: str) -> str:`\n"
   ]
  },
  {
   "cell_type": "markdown",
   "metadata": {},
   "source": [
    "### DocStrings\n",
    "\n",
    "DocStrings can be used for files, classes, methods, and standalone functions.\n",
    "\n",
    "\n",
    "They typically follow the same approach:\n",
    "\n",
    "```python\n",
    "\"\"\"This is the summary line\n",
    "\n",
    "These are the details\n",
    "\"\"\"\n",
    "```\n",
    "\n",
    "\n",
    "For functions, it is recommended to follow this *NumPy/SciPi* convention:\n",
    "\n",
    "```python\n",
    "\"\"\"This is the summary line describing what the function does\n",
    "\n",
    "Parameters\n",
    "----------\n",
    "param1 : str\n",
    "  The description for param1, which is a required string\n",
    "param2 : bool, optional\n",
    "  The description for param2, which is n optional boolean\n",
    "\n",
    "Returns\n",
    "-------\n",
    "list\n",
    "  a list of strings\n",
    "\"\"\"\n",
    "```\n",
    "\n",
    "Use this approach to document a function `square(num)` that returns the square of a given number."
   ]
  },
  {
   "cell_type": "code",
   "execution_count": 76,
   "metadata": {},
   "outputs": [],
   "source": [
    "def square(num):\n",
    "    \"\"\"Calculates the square of a number\n",
    "\n",
    "    Parameters\n",
    "    ----------\n",
    "    num : int\n",
    "        The number whose square value is about to be computed\n",
    "\n",
    "    Returns\n",
    "    -------\n",
    "    num\n",
    "        the square of the number passed as parameter\n",
    "    \"\"\"\n",
    "    return num * num"
   ]
  },
  {
   "cell_type": "markdown",
   "metadata": {},
   "source": [
    "### Type Hinting\n",
    "\n",
    "Type hints are type annotations that can be added to functions to indicate the types of the parameters received and the result of executing the function.\n",
    "\n",
    "Note that in order for the runtime to catch and enforce type errors you will need to use a separate type checker.\n",
    "\n",
    "Create and annotate a function `add_nums(a, b)` that receives two numbers and returns the sum."
   ]
  },
  {
   "cell_type": "code",
   "execution_count": 77,
   "metadata": {},
   "outputs": [
    {
     "data": {
      "text/plain": [
       "5"
      ]
     },
     "execution_count": 77,
     "metadata": {},
     "output_type": "execute_result"
    }
   ],
   "source": [
    "def add_nums(a: int, b: int) -> int:\n",
    "    return a + b\n",
    "\n",
    "add_nums(2, 3)"
   ]
  },
  {
   "cell_type": "markdown",
   "metadata": {},
   "source": [
    "## Exercise 1.22 &mdash; Pandas workout\n",
    "\n",
    "Pandas is a fast and powerful data analysis and manipulation tool."
   ]
  },
  {
   "cell_type": "markdown",
   "metadata": {},
   "source": [
    "### Create a Data Frame statically\n",
    "\n",
    "A Pandas data frame is a data structure that you can use for storing tabular table.\n",
    "\n",
    "\n",
    "Create a Data Frame to represent the following data table:\n",
    "\n",
    "| | Stems | Leaf | Frequency |\n",
    "| :-- | :-- | :-- | :-- |\n",
    "| 0 |\t1★ |  | 0 |\n",
    "| 1 |\t1• | 69 |\t2 |\n",
    "| 2 |\t2★ | 2 |\t1 |\n",
    "| 3 |\t2• |\t5669 |\t4 |\n",
    "| 4 |\t3★ |\t001111222333444 |\t15 |\n",
    "| 5 |\t3• |\t5567778899 | 10 |\n",
    "| 6 |\t4★ |\t11234 |\t5 |\n",
    "| 7 |\t4• |\t577 |\t3 |\n",
    "\n"
   ]
  },
  {
   "cell_type": "code",
   "execution_count": 11,
   "metadata": {},
   "outputs": [
    {
     "data": {
      "text/html": [
       "<div>\n",
       "<style scoped>\n",
       "    .dataframe tbody tr th:only-of-type {\n",
       "        vertical-align: middle;\n",
       "    }\n",
       "\n",
       "    .dataframe tbody tr th {\n",
       "        vertical-align: top;\n",
       "    }\n",
       "\n",
       "    .dataframe thead th {\n",
       "        text-align: right;\n",
       "    }\n",
       "</style>\n",
       "<table border=\"1\" class=\"dataframe\">\n",
       "  <thead>\n",
       "    <tr style=\"text-align: right;\">\n",
       "      <th></th>\n",
       "      <th>Stems</th>\n",
       "      <th>Leaf</th>\n",
       "      <th>Frequency</th>\n",
       "    </tr>\n",
       "  </thead>\n",
       "  <tbody>\n",
       "    <tr>\n",
       "      <th>0</th>\n",
       "      <td>1★</td>\n",
       "      <td></td>\n",
       "      <td>0</td>\n",
       "    </tr>\n",
       "    <tr>\n",
       "      <th>1</th>\n",
       "      <td>1•</td>\n",
       "      <td>69</td>\n",
       "      <td>2</td>\n",
       "    </tr>\n",
       "    <tr>\n",
       "      <th>2</th>\n",
       "      <td>2★</td>\n",
       "      <td>2</td>\n",
       "      <td>1</td>\n",
       "    </tr>\n",
       "    <tr>\n",
       "      <th>3</th>\n",
       "      <td>2•</td>\n",
       "      <td>5669</td>\n",
       "      <td>4</td>\n",
       "    </tr>\n",
       "    <tr>\n",
       "      <th>4</th>\n",
       "      <td>3★</td>\n",
       "      <td>001111222333444</td>\n",
       "      <td>15</td>\n",
       "    </tr>\n",
       "    <tr>\n",
       "      <th>5</th>\n",
       "      <td>3•</td>\n",
       "      <td>5567778899</td>\n",
       "      <td>10</td>\n",
       "    </tr>\n",
       "    <tr>\n",
       "      <th>6</th>\n",
       "      <td>4★</td>\n",
       "      <td>11234</td>\n",
       "      <td>5</td>\n",
       "    </tr>\n",
       "    <tr>\n",
       "      <th>7</th>\n",
       "      <td>4•</td>\n",
       "      <td>577</td>\n",
       "      <td>3</td>\n",
       "    </tr>\n",
       "  </tbody>\n",
       "</table>\n",
       "</div>"
      ],
      "text/plain": [
       "  Stems             Leaf  Frequency\n",
       "0    1★                           0\n",
       "1    1•               69          2\n",
       "2    2★                2          1\n",
       "3    2•             5669          4\n",
       "4    3★  001111222333444         15\n",
       "5    3•       5567778899         10\n",
       "6    4★            11234          5\n",
       "7    4•              577          3"
      ]
     },
     "execution_count": 11,
     "metadata": {},
     "output_type": "execute_result"
    }
   ],
   "source": [
    "import pandas as pd\n",
    "\n",
    "pd.DataFrame({\n",
    "    'Stems': ['1★', '1•', '2★', '2•', '3★', '3•', '4★', '4•'], \n",
    "    'Leaf':  ['',   '69',  '2',  '5669', '001111222333444', '5567778899', '11234', '577' ], \n",
    "    'Frequency': [0, 2, 1, 4, 15, 10, 5, 3]\n",
    "    })"
   ]
  },
  {
   "cell_type": "markdown",
   "metadata": {},
   "source": [
    "## Exercise 1.23 &mdash; Files workout\n",
    "\n",
    "The Python standard library provides a large set of functions to deal with file operations."
   ]
  },
  {
   "cell_type": "markdown",
   "metadata": {},
   "source": [
    "### Building paths\n",
    "\n",
    "Python allows you to create paths by concatenating a path and a string by overloading the `/` operator. Explore this capability."
   ]
  },
  {
   "cell_type": "code",
   "execution_count": 15,
   "metadata": {},
   "outputs": [
    {
     "name": "stdout",
     "output_type": "stream",
     "text": [
      "path/to/file.ext\n"
     ]
    }
   ],
   "source": [
    "import pathlib\n",
    "\n",
    "path_prefix = pathlib.Path('path/to')\n",
    "file_suffix = 'file.ext'\n",
    "\n",
    "str = path_prefix / file_suffix\n",
    "print(str)"
   ]
  },
  {
   "cell_type": "markdown",
   "metadata": {},
   "source": [
    "### Create a file renaming program\n",
    "\n",
    "Create a simple file renaming program that given a path, a prefix pattern, and a wildcard of files, scan that path and renames the files matching the wildcard according to the scheme: `{prefix_pattern}.{counter}.{original_extension}`.\n",
    "\n",
    "| NOTE: |\n",
    "| :---- |\n",
    "| The program might be helpful to rename files such as `IMG_*.jpg` as `photo_*.jpg`. |"
   ]
  },
  {
   "cell_type": "code",
   "execution_count": 11,
   "metadata": {},
   "outputs": [
    {
     "name": "stdout",
     "output_type": "stream",
     "text": [
      "using path: /home/ubuntu/Development/git-repos/side-projects/stats-workbench/00-basic-python-workout/e01-exercises/data/exercise_1.23_1\n",
      "data/exercise_1.23_1/file_1.txt\n",
      "data/exercise_1.23_1/file_2.txt\n",
      "data/exercise_1.23_1/file_3.txt\n",
      "data/exercise_1.23_1/file_4.txt\n",
      "data/exercise_1.23_1/file_5.txt\n",
      "data/exercise_1.23_1/file_6.txt\n",
      "data/exercise_1.23_1/file_7.txt\n",
      "data/exercise_1.23_1/file_8.txt\n"
     ]
    }
   ],
   "source": [
    "import pathlib\n",
    "import shutil\n",
    "\n",
    "# set the directory containing files to be renamed\n",
    "path = pathlib.Path('./data/exercise_1.23_1/')\n",
    "print(f'using path: {path.absolute()}')\n",
    "\n",
    "# prepare the working dir by copying the orig files\n",
    "orig_path = path / 'orig'\n",
    "for orig_file in orig_path.glob('*'):\n",
    "    shutil.copy2(orig_file, path)\n",
    "\n",
    "# set the pattern for the files\n",
    "resulting_file_prefix = 'file_'\n",
    "file_list = []\n",
    "counter = 1\n",
    "\n",
    "# we build the list of files to be renamed\n",
    "for file in sorted(path.glob('*.txt')):\n",
    "    file_list.append(file)\n",
    "\n",
    "# now we renamed it\n",
    "for file in file_list:\n",
    "    resulting_file_name = resulting_file_prefix + str(counter) + str(file.suffix).lower()\n",
    "    print(path / resulting_file_name)\n",
    "    file.rename(path / resulting_file_name)\n",
    "    counter += 1"
   ]
  }
 ],
 "metadata": {
  "kernelspec": {
   "display_name": "Python 3.8.8 ('base')",
   "language": "python",
   "name": "python3"
  },
  "language_info": {
   "codemirror_mode": {
    "name": "ipython",
    "version": 3
   },
   "file_extension": ".py",
   "mimetype": "text/x-python",
   "name": "python",
   "nbconvert_exporter": "python",
   "pygments_lexer": "ipython3",
   "version": "3.9.12"
  },
  "orig_nbformat": 2,
  "vscode": {
   "interpreter": {
    "hash": "caf1c2fcf97217de91eafa76b907d50f9ea378f5ffbee7f571142d119bb6a771"
   }
  }
 },
 "nbformat": 4,
 "nbformat_minor": 2
}
