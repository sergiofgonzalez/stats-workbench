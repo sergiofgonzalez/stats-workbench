{
 "cells": [
  {
   "cell_type": "markdown",
   "metadata": {},
   "source": [
    "# Grokking Graph Databases\n",
    "> understanding graph databases and graph-backed apps"
   ]
  },
  {
   "cell_type": "markdown",
   "metadata": {},
   "source": [
    "## Intro to graphs\n",
    "\n",
    "### Table of Contents\n",
    "+ What is a graph?\n",
    "+ Graph databases\n",
    "+ Reasons for not using a relational db\n",
    "+ Graph db decision tree\n",
    "\n",
    "### Intro\n",
    "\n",
    "A relational database handles around 90% of the queries modern applications need to run. That leaves around 10% of questions where relational databases struggle.\n",
    "\n",
    "Most of those remaining 10% questions that deal with links and connections within the data, and those aspects can generate powerful and unique insights."
   ]
  },
  {
   "cell_type": "markdown",
   "metadata": {},
   "source": [
    "### What is a graph?\n",
    "\n",
    "Graphs have been studied by mathematicians for centuries. As a result we can give a very concise and consistent definition:\n",
    "\n",
    "+ A **graph** is a set of vertices (plural for vertex) and edges.\n",
    "+ A **vertex** is a point in a graph where zero or more edges meet. Vertices are often referred to as **nodes** or **entities**.\n",
    "+ An **edge** is a relationship between two vertices within a graph, sometimes called a **relationship**, **link**, or **connection**.\n",
    "\n",
    "Graphs are extremely simple to illustrate. Graph diagrams usually consist of circles representing vertices and lines representing edges.\n",
    "\n",
    "![Graph diagram](../images/graph_diagram.png)\n",
    "\n",
    "Note that we use the terms vertex and node, and edge and relationship/link interchangeably."
   ]
  },
  {
   "cell_type": "markdown",
   "metadata": {},
   "source": [
    "### What is a graph database?\n",
    "\n",
    "A graph database is a data-storage engine that combines the basic graph structures of vertices (node) and edges (relationship/link) with a persistence technology and a traversal (query) language to create a database optimized for storage and fast retrieval of highly connected data.\n",
    "\n",
    "The relationships in relational databases are foreign keys, which are pointers to primary keys in other tables. These pointers are not things we can observe and manipulate easy.\n",
    "\n",
    "By contrast, graph databases represent these associations as full-fledged constructs of the database that can be easily observed and manipulated: in a graph database edges are \"first-class citizens\" just like the vertices."
   ]
  },
  {
   "cell_type": "markdown",
   "metadata": {},
   "source": [
    "### Types of databases\n",
    "\n",
    "| Database type | Description | Products |\n",
    "| :------------ | :---------- | :------- |\n",
    "| Key-value | Represents all data by a unique identifier (key) and an associated object (the value) | Redis, Memcached |\n",
    "| Column | Stores data in rows with a potentially large number or possibly varying numbers of columns in each row. | HBase, Cassandra, BigQuery |\n",
    "| Document | Stores data in a uniquely keyed document that can have varying schema and that can contain nested data. | MongoDB, DynamoDB, CouchDB |\n",
    "| Relational | Stores data in tables containing rows with strict schema. Relationships can be established between tables allowing the joining of rows. | PostgreSQL, MySQL, Microsoft SQL Server |\n",
    "| Graph | Stores data as vertices (nodes/components) and edges (relationships/links) | Neo4j, Apache TinkerPop |\n",
    "\n",
    "The complexity grows from top to bottom.\n",
    "\n",
    "![Graph databases](../images/graph_db_types.png)"
   ]
  },
  {
   "cell_type": "markdown",
   "metadata": {},
   "source": [
    "### Why don't use SQL?\n",
    "\n",
    "While using SQL is possible, there are areas where graph databases excel, by providing a simpler, more elegant solution than using a relational db:\n",
    "+ Recursive queries\n",
    "+ Queries with different result types\n",
    "+ Problems whose results are paths\n",
    "\n",
    "\n",
    "While many problems seem to be graph problems, you should use a different database (RDBMS or search technologies such as Elasticsearch/Opensearch) when you do not require to explore rich relationships between the data.\n",
    "\n",
    "For example:\n",
    "+ Selection:\n",
    "  + give me everyone who works at company A\n",
    "  + find all customers wose first name starts with \"John\"\n",
    "  + locate all stores within a 5 mile radius\n",
    "+ Aggregation:\n",
    "  + how many companies are in my system?\n",
    "  + what are my average sales for each day over the past month?\n",
    "  + what's the number of transactions processed by my system each day?\n",
    "\n",
    "Other questions do require these rich relationship exploration:\n",
    "+ Related/recursive data:\n",
    "  + What's the easiest way for me to be introduced to the CEO of Company A?\n",
    "  + How do John and Alice know each other?\n",
    "  + How's company X related to company Y?\n",
    "+ Pattern matching:\n",
    "  + who in my system has a similar resume to mine?\n",
    "  + does this transaction look like any fraudulent transaction seen in the past?\n",
    "  + Is the user J. Smith the same as Johan S.?\n",
    "+ Centrality, clustering, and influence:\n",
    "  + Who's the most influential person I am connected with on LikedIn?\n",
    "  + What equipment in my network has the most substantial impact if it breaks?\n",
    "  + What parts tend to fail at the same time?"
   ]
  },
  {
   "cell_type": "markdown",
   "metadata": {},
   "source": [
    "### Using a graph db decision tree\n",
    "\n",
    "The following workflow describes a series of questions you should ask yourself when facing whether I should be choosing a graph db.\n",
    "\n",
    "![Graph DB problem decision tree](../images/graph_choose_graph_db_workflow.png)\n",
    "\n",
    "The most critical question is:\n",
    "> Do we care about the relationship between entities as much or more than the entities themselves?\n"
   ]
  },
  {
   "cell_type": "markdown",
   "metadata": {},
   "source": [
    "\n",
    "If you can answer yes to one or more of the questions of the workflow depicted above, it's more than likely that you have a graph problem in your hands.\n",
    "\n",
    "If you are uncertain, it is recommended to execute a small project to evaluate the graph as a part of a solution.\n",
    "\n",
    "Also, it is important to understand that using a graph database is not an \"all or nothing\" type of situation. Multi-model approaches in which graph databases are used to solve some of the problems, while others are solved using other types of databases are common and tend to be very successful."
   ]
  }
 ],
 "metadata": {
  "kernelspec": {
   "display_name": "Python 3.9.13 ('base')",
   "language": "python",
   "name": "python3"
  },
  "language_info": {
   "name": "python",
   "version": "3.9.13"
  },
  "orig_nbformat": 4,
  "vscode": {
   "interpreter": {
    "hash": "7a2c4b191d1ae843dde5cb5f4d1f62fa892f6b79b0f9392a84691e890e33c5a4"
   }
  }
 },
 "nbformat": 4,
 "nbformat_minor": 2
}
