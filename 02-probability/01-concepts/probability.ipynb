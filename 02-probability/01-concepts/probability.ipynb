{
 "cells": [
  {
   "cell_type": "markdown",
   "metadata": {},
   "source": [
    "# Probability\n",
    "\n",
    "## Contents\n",
    "+ TBD"
   ]
  },
  {
   "cell_type": "markdown",
   "metadata": {},
   "source": [
    "## Sample Space\n",
    "\n",
    "**Statistics** are concerned with the presentation and interpretation of **chance outcomes** that occur in a planned study or scientific investigation.\n",
    "\n",
    "For example, we may record the number of accidents in a particular crossing, the classification of elements out of an assembly line as defective/non-defective, or counting the number of heads and tails we obtain when tossing a coin.\n",
    "\n",
    "Statisticians deal with either numerical data representing counts or measurements (number of accidents), or categorical data (the toin coss resulted on heads or tails).\n",
    "\n",
    "An experiment is used to describe any process that generates a set of data (e.g., tossing a coin). Statisticians are interested in observations obtained by repeating an experiment several times, as in most cases, the outcomes will depend on chance (i.e., cannot be predicted with certainty).\n",
    "\n",
    "Note that even when we don't know the outcome of an experiment, we may know the entire set of possibilities that might occur (e.g., tossing a coin will be either heads or tails).\n",
    "\n",
    "There are three types of experiments: designed experiments, observational studies, and retrospective studies. In all of the three cases, the resulting set of data is subject to uncertainty.\n",
    "\n",
    "The set of all possible outcomes of a statistical experiment is called the **sample space** and is represented by the symbol $ S $.\n",
    "\n",
    "Each outcome in a sample space is called an **element** or **member** of the sample space, or simply a **sample point**.\n",
    "\n",
    "Thus, the sample space, $ S $, of possible outcomes when a coin is flipped is $ S = {H, T} $."
   ]
  },
  {
   "cell_type": "markdown",
   "metadata": {},
   "source": [
    "### Example 2.1\n",
    "\n",
    "Consider the experiment of tossing a die. If we are interested in the number that shows on the top face, the sample space will be:\n",
    "\n",
    "$$\n",
    "S_1 = \\{1, 2, 3, 4, 5, 6\\}\n",
    "$$\n",
    "\n",
    "If we are interested only in whether the number on the top face is even or odd, the sample space will be:\n",
    "$$\n",
    "S_2 = \\{even,odd\\}\n",
    "$$\n",
    "\n",
    "Note that if we know which element occurs in $ S_1 $, we can tell the outcome in $ S_2 $. However, knowing the outcome in $ S_2 $ is not enough to in determining which element from $ S_1 $ occurred.\n",
    "\n",
    "In general, we should use the sample space that gives us the most information concerning the outcomes of the experiment."
   ]
  },
  {
   "cell_type": "markdown",
   "metadata": {},
   "source": [
    "In some experiments, it is helpful to list the elements of the sample space systematically by means of a tree diagram."
   ]
  },
  {
   "cell_type": "markdown",
   "metadata": {},
   "source": [
    "### Example 2.2\n",
    "\n",
    "An experiment consists of flipping a coin and then flipping it a second time if a head occurs. If a tail occurs on the first flip, then a die is tossed once.\n",
    "\n",
    "To list the elements of the sample space $ S $, we should proceed systematically by way of tree diagram:\n",
    "\n",
    "![Using a tree diagram to build the sample space](../images//tree_sample_space.png)"
   ]
  },
  {
   "cell_type": "markdown",
   "metadata": {},
   "source": [
    "Thus, we can say:\n",
    "\n",
    "$$\n",
    "S=\\{HH, HT, T1, T2, T3, T4, T5, T6\\}\n",
    "$$"
   ]
  },
  {
   "cell_type": "markdown",
   "metadata": {},
   "source": [
    "### Example 2.3\n",
    "\n",
    "Suppose that three items are selected at random from a manufacturing process. Each item is inspected and classified as either defective $ D $, or non-defective $ N $. Build the sample space using a tree diagram.\n",
    "\n",
    "![Sample space using a tree diagram](../images//tree_sample_space_other.png)\n",
    "\n",
    "Thus, the sample space will be:\n",
    "\n",
    "$$\n",
    "S = \\{DDD, DDN, DND, DNN, NDD, NDN, NND, NNN \\}\n",
    "$$"
   ]
  },
  {
   "cell_type": "markdown",
   "metadata": {},
   "source": [
    "Sample spaces with larger or infinite number of sample points are best described by a statement or rule method. For example, to describe the cities in the world with a population over 1M we would write:\n",
    "\n",
    "$$\n",
    "S = \\{x \\hspace{1ex} | \\text{ x is a city with a population over 1 million } \\}\n",
    "$$"
   ]
  },
  {
   "cell_type": "markdown",
   "metadata": {},
   "source": [
    "Similarly, the sample space of all the points $ (x, y) $ on the boundary or interior of a circle of radius 2 with center at the origin will be:\n",
    "\n",
    "$$\n",
    "S = \\{(x, y) \\hspace{1ex} | \\hspace{1ex} x^2 + y^2 \\le 4 \\}\n",
    "$$"
   ]
  },
  {
   "cell_type": "markdown",
   "metadata": {},
   "source": [
    "Both ways (listing elements of the sampling space and using a rule to describe the sampling space) are valid.\n",
    "\n",
    "Note that sampling spaces are influenced by not only the experiment, but also the *sampling plans*. For example, we might be interested in the sampling space that results from inspecting items out of a product line until we find an item that is defective. The sampling space will be:\n",
    "\n",
    "$$\n",
    "S=\\{D, ND, NND, NNND, NNNND, \\ldots \\}\n",
    "$$"
   ]
  },
  {
   "cell_type": "markdown",
   "metadata": {},
   "source": [
    "## Events\n",
    "\n",
    "When doing experiments, we may be interested in the occurrence of certain **events** rather than in the occurrence of a specific element in the sample space.\n",
    "\n",
    "For example, we may be interested in the event $ A $ that the outcome when a die is tossed is divisible by 3, that is $ A = \\{3, 6 \\} $, is a subset of the sample space $ S_1 = \\{1, 2, 3, 4, 5, 6\\} $.\n",
    "\n",
    "Another example we might be interested in would be the event $ B $ that the number of defectives is greater than one when selecting three elements out of a production line.\n",
    "\n",
    "> An **event** is a subset of a sample space."
   ]
  },
  {
   "cell_type": "markdown",
   "metadata": {},
   "source": [
    "### Example 2.4\n",
    "\n",
    "Given the sample space $ S = \\{ t \\hspace{1ex} | \\hspace{1ex} t \\ge 0 \\} $ where $ t $ is the life or a certain electronic component. Write the event $ A $ that identifies that the component fails before the end of the fifth year."
   ]
  },
  {
   "cell_type": "markdown",
   "metadata": {},
   "source": [
    "We can write that event as:\n",
    "$ A = \\{ t \\hspace{1ex} | \\hspace{1ex} 0 \\le t \\lt 5 \\} $"
   ]
  },
  {
   "cell_type": "markdown",
   "metadata": {},
   "source": [
    "Note that it is possible that an event may be a subset that includes the entire sample space $ S $, and that an event might contain no elements at all (the **null set**, often denoted as $ \\phi $)"
   ]
  },
  {
   "cell_type": "markdown",
   "metadata": {},
   "source": [
    "> The **complement** of an event $ A $ with respect to $ S $ is the subset of all elements of $ S $ that are not in $ A $. We denote the complement of $ A $ as $ A' $."
   ]
  },
  {
   "cell_type": "markdown",
   "metadata": {},
   "source": [
    "### Example 2.5\n",
    "\n",
    "Let $ R $ be the event that a red card is selected from an ordinary deck of 52 playing cards, and let $ S $ be the entire deck. Describe $ R' $."
   ]
  },
  {
   "cell_type": "markdown",
   "metadata": {},
   "source": [
    "$ R' $ is the event that the card selected from the deck is not a red card (it is a black card)."
   ]
  },
  {
   "cell_type": "markdown",
   "metadata": {},
   "source": [
    "The **intersection** of two events $ A $ and $ B $, denoted by the symbol $ A \\cap B $, is the event containing all elements that are common to $ A $ and $ B $."
   ]
  },
  {
   "cell_type": "markdown",
   "metadata": {},
   "source": [
    "### Example 2.7\n",
    "\n",
    "Let $ E $ be the event that a person selected at random in a classrom is majoring in engineering, and let $ F $ be the event that a person is female. Express in your own words the event $ E \\cap F $."
   ]
  },
  {
   "cell_type": "markdown",
   "metadata": {},
   "source": [
    "$ E \\cap F $ is the event that the person selected at random is a female majoring in engineering."
   ]
  },
  {
   "cell_type": "markdown",
   "metadata": {},
   "source": [
    "### Example 2.8\n",
    "\n",
    "Let $ V = \\{ a,e,i,o,u \\} $ and $ C = \\{ l,r,s,t \\} $. Calculate the event $ V \\cap C $."
   ]
  },
  {
   "cell_type": "markdown",
   "metadata": {},
   "source": [
    "The event $ V \\cap C = \\phi $, as those events have no elements in common and therefore, those events cannot both simultaneously occur."
   ]
  },
  {
   "cell_type": "markdown",
   "metadata": {},
   "source": [
    "When two events $ A $ and $ B $ cannot both occur simultaneously, the events $ A $ and $ B $ are said to to be **mutually exclusive**:\n",
    "> Two events $ A $ and $ B $ are **mutually exclusive**, or **disjoint**, if $ A \\cap B  = \\phi $, that is, if $ A $ and $ B $ have no elements in common."
   ]
  },
  {
   "cell_type": "markdown",
   "metadata": {},
   "source": [
    "Often one is interested in the occurrence of at least one of two events associated with an experiment.\n",
    "\n",
    "Consider for example the experiment of tossing a die, and the events:\n",
    "\n",
    "$$\n",
    "A = \\{ 2, 4, 6 \\} \\text{ and } B = \\{ 4, 5, 6 \\}\n",
    "$$\n",
    "\n",
    "The event of either occurring $ A $ or $ B $ or both $ A $ and $ B $ occurring is called the **union** of $ A $ and $ B $, which is the subset $ \\{ 2, 4, 5, 6 \\}.\n",
    "\n",
    "> The **union** of the two events $ A $ and $ B $, denoted by the symbol $ A \\cup B $ is the event containing all the elements that belong to $ A $ or $ B $ or both."
   ]
  },
  {
   "cell_type": "markdown",
   "metadata": {},
   "source": [
    "### Example 2.10\n",
    "\n",
    "Let $ A = \\{ a, b, c \\} $ and $ B = \\{ b, c, d, e \\} $. Calculate $ A \\cup B $."
   ]
  },
  {
   "cell_type": "markdown",
   "metadata": {},
   "source": [
    "$ A \\cup B = \\{ a, b, c, d, e \\} $"
   ]
  },
  {
   "cell_type": "markdown",
   "metadata": {},
   "source": [
    "### Example 2.11\n",
    "\n",
    "Let $ P $ be the event that an employee selected at random from an oil drilling company smokes cigarettes. Let $ Q $ be the event that the employee selected drink alcoholic beverages. Express in your own words the event $ P \\cup Q $."
   ]
  },
  {
   "cell_type": "markdown",
   "metadata": {},
   "source": [
    "$ P \\cup Q $ is the event that a random employee either smokes cigarettes, drinks alcoholic beverages, or both."
   ]
  },
  {
   "cell_type": "markdown",
   "metadata": {},
   "source": [
    "### Example 2.12\n",
    "\n",
    "If $ M = \\{x \\; | \\; 3 \\lt x \\lt 9 \\} $ and $ N = \\{ y \\; | \\; 5 \\lt y \\lt 12 \\} $. Calculate $ M \\cup N $."
   ]
  },
  {
   "cell_type": "markdown",
   "metadata": {},
   "source": [
    "$ M \\cup N = \\{ z \\; | \\; 3 \\lt z \\lt 12 \\} $.\n",
    "\n",
    "Note that the variable describing the event is a dummy variable."
   ]
  },
  {
   "cell_type": "markdown",
   "metadata": {},
   "source": [
    "The relationship between events and the corresponding sample space can be illustrated graphically by means of **Venn diagrams**. In such diagrams we let the sample space be a rectangle and represent events by circles drawn inside the rectangle."
   ]
  },
  {
   "cell_type": "markdown",
   "metadata": {},
   "source": [
    "For example, consider the following **Venn diagram**:\n",
    "\n",
    "![Venn diagram](../images/venn_diagram.png)\n",
    "\n",
    "We can conclude that:\n",
    "\n",
    "$$\n",
    "A \\cup C = \\{ 1, 2, 3, 4, 5, 7 \\} \\\\\n",
    "B' \\cap A = \\{ 4, 7 \\} \\\\\n",
    "A \\cap B \\cap C = \\{ 1 \\}\\\\\n",
    "(A \\cup B) \\cap C' = \\{ 1, 2, 3, 4, 6, 7 \\} \\cap \\{ 2, 6, 7 \\} = \\\\\n",
    "= \\{ 2, 6, 7\\}\n",
    "$$"
   ]
  },
  {
   "cell_type": "markdown",
   "metadata": {},
   "source": [
    "From this other Venn diagram:\n",
    "\n",
    "\n",
    "![Another Venn diagram](../images/another_venn_diagram.png)\n",
    "\n",
    "we can conclude that:\n",
    "+ event $ B $ is a subset of $ A $\n",
    "+ events $ B $ and $ C $ are mutually exclusive (as $ B \\cap C = \\phi $)\n",
    "+ event $ A \\cap C $ has at least one element in common\n",
    "+ event $ A \\cup C $ is the sample space $ S $.\n"
   ]
  },
  {
   "cell_type": "markdown",
   "metadata": {},
   "source": [
    "The following results can be derived using Venn diagrams:\n",
    "\n",
    "1. $ A \\cap \\phi = \\phi $\n",
    "2. $ A \\cup \\phi = A $\n",
    "3. $ A \\cap A' = \\phi $ \n",
    "4. $ A \\cup A' = S $\n",
    "5. $ S' = \\phi $\n",
    "6. $ \\phi' = S $\n",
    "7. $ (A')' = A $\n",
    "8. $ (A \\cap B)' = A' \\cup B' $\n",
    "9. $ (A \\cup B)' = A' \\cap B' $\n",
    "\n"
   ]
  },
  {
   "cell_type": "markdown",
   "metadata": {},
   "source": [
    "## Counting Sample Points\n",
    "\n",
    "In many cases, we will be able to solve a probability problem by counting the number of points in the sample space without actually listing each element.\n",
    "\n",
    "The fundamental principle of counting, **the multiplication rule** is the following:\n",
    "> If an operation can be performed in $ n_1 $ ways, and if for each of these ways a second operation can be performed in $ n_2 $ ways, then the two operations can be performed together in $ n_1 \\cdot n_2 $ ways."
   ]
  },
  {
   "cell_type": "markdown",
   "metadata": {},
   "source": [
    "| NOTE: |\n",
    "| :---- |\n",
    "| This can be easily derived by building a tree diagram in which we have 2 operations. The 1st operation will have $ n_1 $ branches and the second $ n_2 $ branches for each of the previous ones.<br> As a result, you will have $ n_2 + n_2 + \\ldots + n_2 $ ($ n_1 $ times) possible paths, which renders the $ n_1 \\; n_2 $ result from above. |"
   ]
  },
  {
   "cell_type": "markdown",
   "metadata": {},
   "source": [
    "### Example 2.13\n",
    "\n",
    "How many sample points are there in the sample space when a pair of dice is thrown once?"
   ]
  },
  {
   "cell_type": "markdown",
   "metadata": {},
   "source": [
    "Using the multiplication rule, as the first die can land face-up in $ n_1=6 $ ways and the second die can also land in another $ n_2=6 $ ways there will be:\n",
    "\n",
    "$ n_1 \\cdot n_2 = 6 \\cdot 6 = 36 $ possible ways"
   ]
  },
  {
   "cell_type": "markdown",
   "metadata": {},
   "source": [
    "### Example 2.14\n",
    "\n",
    "A developer of a new subdivision offers prospective home buyers a choice of Tudor, rustic, colonial, and traditional exterior styling in ranch, two-story, and split-level floor plans.\n",
    "\n",
    "In how many different ways can a buyer order one of these homes?"
   ]
  },
  {
   "cell_type": "markdown",
   "metadata": {},
   "source": [
    "Using the multiplication rule $ n_1 = 4 $ and $ n_2 = 3 $, a buyer has $ n_1 n_2 = 12 $ different ways of ordering a home."
   ]
  },
  {
   "cell_type": "markdown",
   "metadata": {},
   "source": [
    "Note that we'd get the same result by constructing the tree diagram:\n",
    "\n",
    "![Tree diagram](../images/tree_diagram_ex_2.14.png)\n",
    "\n",
    "which we see renders the same result."
   ]
  },
  {
   "cell_type": "markdown",
   "metadata": {},
   "source": [
    "### Example 2.15\n",
    "\n",
    "If a 22-member club needs to elect chair and a treasurer, how many different ways can these two be elected?"
   ]
  },
  {
   "cell_type": "markdown",
   "metadata": {},
   "source": [
    "Using the multiplication rule, we know that the chain can be selected in 22 different ways, and the treasurer in 21 different ways (as the chair cannot be also a treasurer):\n",
    "\n",
    "$ n_1 n_2 = 22 \\cdot 21 = 462 $ possible different ways."
   ]
  },
  {
   "cell_type": "markdown",
   "metadata": {},
   "source": [
    "The multiplication rule can be extended to cover any number of operations in what is known as the **generalized multiplication rule** covering $ k $ operations:\n",
    "> If an operation can be performed in $ n_1 $ ways, and if for each of these a second operation can be performed in $ n_2 $ ways, and for each of the first two a third operation can be performed in $ n_3 $ ways, and so forth, then the sequence of $ k $ operaations can be performed in $ n_1 n_2 \\ldots n_k $ ways."
   ]
  },
  {
   "cell_type": "markdown",
   "metadata": {},
   "source": [
    "For example, if a customer wishes to buy a new cell phone and can choose from 5 brands, 5 different sets of capabilities, and 4 colors, a customer can order a phone in $ 5 \\cdot 5 \\cdot 4 = 100 $ different ways. "
   ]
  },
  {
   "cell_type": "markdown",
   "metadata": {},
   "source": [
    "### Example 2.16\n",
    "\n",
    "Sam is going to assemble a computer by himself. He has the choice of chips from two brands, a hard drive from four, memory from three, and an accessory bundle from five local stores. How many different ways can Sam order the parts?"
   ]
  },
  {
   "cell_type": "markdown",
   "metadata": {},
   "source": [
    "Since $ n_1 = 2 $, $ n_2 = 4 $, $ n_3 = 3 $, and $ n_4 = 5 $ there are $ n_1 n_2 n_3 n_4 = 2 \\times 4 \\times \\times 3 \\times 5 = 120 $ different ways to order parts."
   ]
  },
  {
   "cell_type": "markdown",
   "metadata": {},
   "source": [
    "## Example 2.17\n",
    "\n",
    "How many even four-digit numbers can be formed from the digits 0, 1, 2, 5, 6, and 9 if each digit can be used only once."
   ]
  },
  {
   "cell_type": "markdown",
   "metadata": {},
   "source": [
    "Let the digits of the number be $ d_4 d_3 d_2 d_1 $. The resulting number will be even if $ d_1 = \\{0, 2, 6 \\} $, and therefore, $ n_1 = 3 $.\n",
    "\n",
    "Thus, $ n_2 = 5 $, $ n_3 = 4 $, and $ n_4 = 3 $. \n",
    "\n",
    "Therefore, we can have $ 3 \\times 4 \\times 5 \\times 3 = 180 $ digits."
   ]
  },
  {
   "cell_type": "markdown",
   "metadata": {},
   "source": [
    "Another possible solution to consider is that $ d_4 $ cannot be zero (we wouldn't have 4 digits then).\n",
    "\n",
    "In that case, we have to calculate two different use cases:\n",
    "1. $ d_4 = 0 $\n",
    "2. $ d_4 \\ne 0 $\n",
    "\n",
    "For the first use case we have:\n",
    "$ n_1 = 1 $, $ n_2 = 5 $, $ n_3 = 4 $, $ n_4 = 3 $, and therefore there are $ 1 \\times 5 \\times 4 \\times 3 = 60 $.\n",
    "\n",
    "For the second use case we have:\n",
    "$ n_1 = 2 $, the thousands cannot be 0, and therefore we have $ n_4 = 4 $, $ n_3 = 4 $, as we can use zero there, and $ n_2 = 3 $ resulting in:\n",
    "\n",
    "$ 2 \\times 4 \\times 4 \\times 3 = 96 $.\n",
    "\n",
    "As the use cases are mutually exclusive, this we means the the total number of even four digit numbers we can build with those numbers is $ 96 + 60 = 156 $.\n",
    "\n"
   ]
  },
  {
   "cell_type": "markdown",
   "metadata": {},
   "source": [
    "Sometimes we're interested in a sample space that contains as elements all possible orders or arrangements of a group of objects.\n",
    "\n",
    "For example, we may want to know how many different arrangements are possible for sitting 6 people around a table, or how many different orders are possible for drawing 2 lottery tickets from a total of 20. This different arrangements are called **permutations**.\n",
    "\n",
    "> A **permutation** is an arrangement of all or part of a set of objects."
   ]
  },
  {
   "cell_type": "markdown",
   "metadata": {},
   "source": [
    "For example, the possible permutations of the letters a, b, and c are abc, acb, bac, bca, cab, and cba.\n",
    "\n",
    "We see that there are 6 distinct arrangements. Using the **generalized multiplication rule** we could have arrived at the same answer without actually listing the permutations:\n",
    "\n",
    "$\n",
    "n_1 = 3, n_2 = 2, n_3 = 1 \\\\\n",
    "n_1 n_2 n_3 = 3 \\times 2 \\times 1 = 6\n",
    "$\n",
    "\n",
    "| NOTE: |\n",
    "| :---- |\n",
    "| You could have also used a tree diagram, with three operations and three branches for the first one ($ n_1 = 3 $), two branches for the second ($ n_2 = 2 $), and one single branch for each of the third one ($ n_3 = 1 $). |"
   ]
  },
  {
   "cell_type": "markdown",
   "metadata": {},
   "source": [
    "> In general, n distinct objects can be arranged in $ n \\cdot (n - 1) \\cdot (n - 2) \\cdot \\ldots \\cdot 3 \\cdot 2 \\cdot 1 $.\n",
    "\n",
    "Thus,\n",
    "> the number of permutations of $ n $ objects is $ n! $, that is, *$ n $ factorial*."
   ]
  },
  {
   "cell_type": "markdown",
   "metadata": {},
   "source": [
    "Using that formula, we can say that the number of permutations of four letters a, b, c and d is $ 4! = 4 \\times 3 \\times 2 \\times 1 = 24 $."
   ]
  },
  {
   "cell_type": "markdown",
   "metadata": {},
   "source": [
    "Factorials are typically computed using recursive functions (functions that invoke themselves):"
   ]
  },
  {
   "cell_type": "code",
   "execution_count": 1,
   "metadata": {},
   "outputs": [
    {
     "name": "stdout",
     "output_type": "stream",
     "text": [
      "4! = 24\n"
     ]
    }
   ],
   "source": [
    "def factorial(n):\n",
    "    if n == 1:\n",
    "        return 1\n",
    "    else:\n",
    "        return n * factorial(n - 1)\n",
    "\n",
    "print(f\"4! = {factorial(4)}\")"
   ]
  },
  {
   "cell_type": "markdown",
   "metadata": {},
   "source": [
    "In a more pythonic way:"
   ]
  },
  {
   "cell_type": "code",
   "execution_count": 2,
   "metadata": {},
   "outputs": [
    {
     "name": "stdout",
     "output_type": "stream",
     "text": [
      "5! = 120\n"
     ]
    }
   ],
   "source": [
    "def factorial(n):\n",
    "    return 1 if n == 1 else n * factorial(n - 1)\n",
    "\n",
    "print(f\"5! = {factorial(5)}\")"
   ]
  },
  {
   "cell_type": "markdown",
   "metadata": {},
   "source": [
    "Now consider the number of permutations that are possible by taking two letters at a time from a, b, c, d.\n",
    "\n",
    "We will have the permutations ab, ac, ad, ba, bc, bd, ca, cb cd, da, db, dc. \n",
    "\n",
    "Using the generalized multiplication rule we see that we have $ n_1 = 4 $, $ n_2 = 3 $, thus $ 4 \\times 3 = 12 $."
   ]
  },
  {
   "cell_type": "markdown",
   "metadata": {},
   "source": [
    "In general:\n",
    "> $ n $ distinct objects taken $ r $ at a time can be arranged in $ n \\cdot (n -1) \\cdot (n-2) \\cdot \\ldots \\cdot (n - r + 1) $ ways.\n",
    "\n",
    "We typically represent this product using the symbol:\n",
    "\n",
    "$\n",
    "_nP_r = \\frac{n!}{(n - r)!} = n \\cdot (n-1) \\cdot (n-2) \\cdot \\ldots \\cdot (n - r + 1)\n",
    "$"
   ]
  },
  {
   "cell_type": "markdown",
   "metadata": {},
   "source": [
    "> The number of permutations of n distinct objects taken r at a time is $ _nP_r = \\frac{n!}{(n - r)!} $"
   ]
  },
  {
   "cell_type": "markdown",
   "metadata": {},
   "source": [
    "### Example 2.18\n",
    "\n",
    "In one year, three awards (research, teaching, and service) will be given to a class of 25 graduate students in a statistics department. If each student can receive at most one award, how many possible selections are there?"
   ]
  },
  {
   "cell_type": "markdown",
   "metadata": {},
   "source": [
    "We can use the formula for the number of permutations of $ n $ distinct objects taken $ r $ at a time:\n",
    "\n",
    "$ _nP_r = \\frac{n!}{(n - r)!} $\n",
    "\n",
    "with $ n = 25 $, $ r = 3 $:\n",
    "\n",
    "$ _{25}P_3 = \\frac{25!}{(25 - 3)!} = \\frac{25!}{22!} = 25 \\cdot 24 \\cdot 23 = 13,800 $ possible selections.\n",
    "\n",
    "Note that the result is consistent with the generalized multiplication rule."
   ]
  },
  {
   "cell_type": "markdown",
   "metadata": {},
   "source": [
    "### Example 2.19\n",
    "\n",
    "A president and a treasurer are to be chosen from a student club consisting of 50 people. How many different choices of officers are possible if:\n",
    "1. There are no restrictions.\n",
    "2. A will only serve only if he is president.\n",
    "3. B and C will serve together or not at all.\n",
    "4. D and E will not serve together."
   ]
  },
  {
   "cell_type": "markdown",
   "metadata": {},
   "source": [
    "The answer to (1) is the number of permutations of 50 elements taken 2 at a time.\n",
    "\n",
    "$ _{50}P_2 = \\frac{50!}{(50 - 2)!} = \\frac{50!}{48!} = 50 \\cdot 49 = 2450 $ possible choices."
   ]
  },
  {
   "cell_type": "markdown",
   "metadata": {},
   "source": [
    "For (2) we have to think on the different use cases:\n",
    "+ A is elected as a president: $ 1 \\cdot 49 = 49 $ possible choices\n",
    "+ A is not elected as a president: $ _{49}P_2 = 49 \\cdot 48 = 2352 $\n",
    "\n",
    "As the events are disjoint (mutually exclusive), there will be $ 2352 + 49 = 2401 $ possible choices."
   ]
  },
  {
   "cell_type": "markdown",
   "metadata": {},
   "source": [
    "For (3) we also have to think in terms of the different scenarios we will find:\n",
    "+ B and C serve together: $ 2 $ possible choices (B for president, C for treasurer and C for president and B for treasurer)\n",
    "+ B and C are not elected: $ _{48}P_2 = 48 \\cdot 47 = 2256 $\n",
    "\n",
    "As the scenarios are mutually exclusive, there will be $ 2258 $ possible choices."
   ]
  },
  {
   "cell_type": "markdown",
   "metadata": {},
   "source": [
    "For (4) we follow the same procedure:\n",
    "+ D and not E will be elected as either president or treasurer: $ 1 \\cdot 48  + 48 \\cdot 1 = 96 $\n",
    "+ E and not D will be elected: $ 1 \\cdot 48  + 48 \\cdot 1 = 96 $\n",
    "+ Neither D, nor E will be elected: $ _{48}P_2 = 48 \\cdot 47 = 2256 $ \n",
    "\n",
    "As a result, we will have $ 96 + 96 + 2256 = 2448 $\n"
   ]
  },
  {
   "cell_type": "markdown",
   "metadata": {},
   "source": [
    "Alternatively, the result for (4) can be calculated as follows:\n",
    "\n",
    "Since D and E can only serve together if D is president and E is treasurer, or if D is treasurer and E is president, the possible choices are $ 2450 - 2 = 2448 $."
   ]
  },
  {
   "cell_type": "markdown",
   "metadata": {},
   "source": [
    "Permutations that occur by arranging objects in a circle are called **circular permutations**. Circular permutations are not considered different unless corresponding objects in the two arrangements are preceded or followed by a different object as we proceed in a clockwise direction.\n",
    "\n",
    "For example, if 4 people are playing cards, we do not consider a new permutation if they all move one position in a clockwise direction.\n",
    "\n",
    "For this particular example, we see that there are $ 3! $ possible arrangements. We get to this number by fixing a particular object in the circle and then calculating the number of possible arrangements for the remaining ones."
   ]
  },
  {
   "cell_type": "markdown",
   "metadata": {},
   "source": [
    "The number of permutations of $ n $ objects arranged in a circle is $ (n - 1)! $."
   ]
  },
  {
   "cell_type": "markdown",
   "metadata": {},
   "source": [
    "We might also be interested in calculating the number of permutations of objects when not all of them are different.\n",
    "\n",
    "For example, if we're interested in calculating the number of permutations for the letters a, b, c, but we consider b and c to be both of the same kind, we would have:\n",
    "\n",
    "```\n",
    "abc, acb, bca, bac, cab, cba\n",
    "axx, axx, xxa, xax, xax, xxa\n",
    "```\n",
    "\n",
    "So only { axx, xxa, xax } are distinct, so we have $ \\frac{3!}{2!} $ distinct permutations.\n",
    "\n",
    "If we have four different letters a, b, c, d, we have $ 4! $ permutations. But if we have $ a = b = x $, and $ c = d = y $ we will end up with 6 distinct permutations $ \\frac{4!}{2! \\cdot 2!} $."
   ]
  },
  {
   "cell_type": "markdown",
   "metadata": {},
   "source": [
    "The number of distinct permutations of $ n $ things of which $ n_1 $ are of one kind, $ n_2 $ are of a second kind, ..., $ n_k $ of a kth kind is:\n",
    "\n",
    "$\n",
    "\\frac{n!}{n_1! \\, n_2! \\, \\ldots \\, n_k!}\n",
    "$"
   ]
  },
  {
   "cell_type": "markdown",
   "metadata": {},
   "source": [
    "### Example 2.20\n",
    "\n",
    "In a college football training session, the defensive coordinator needs to have 10 players standing in a row. Among these 10 players, there are 1 freshman, 2 sophomores, 4 juniors, and 3 seniors. How many different ways can they be arranged in a row if only they class level will be distinguished?"
   ]
  },
  {
   "cell_type": "markdown",
   "metadata": {},
   "source": [
    "We can calculate the possible number of arrangements by using the formula for the number of distinct permutations when things are of different kind:\n",
    "\n",
    "$\n",
    "\\frac{n!}{n_1! \\, n_2! \\, \\ldots \\, n_k!}\n",
    "$\n",
    "\n",
    "Thus:\n",
    "\n",
    "$\n",
    "\\frac{10!}{1! \\, 2! \\, 4! \\, 3!} = 12,600\n",
    "$"
   ]
  },
  {
   "cell_type": "markdown",
   "metadata": {},
   "source": [
    "Oftentimes we are concerned with the number of ways of partitioning a set of $ n $ objects into $ r $ subsets called **cells**. A partition has been achieved if the intersection of every possible pair of the $ r $ subsets is the empty set $ \\phi $ and if the union of all subsets gives the original set.\n",
    "\n",
    "Note that the order of the elements within a cell is of no importance.\n",
    "\n",
    "For example, consider the set {a, e, i, o, u}. The possible partitions into two cells in which the first cell contains 4 elements and the second cell 1 element are:\n",
    "\n",
    "```\n",
    "{(a, e, i, o), (u)}, {(a, i, o, u), (e)}, {(e, i, o, u), (a)}, {(a, e, o, u), (i)}, {(a, e, i, u), (o)}\n",
    "```\n",
    "\n",
    "Thus, we have 5 ways to partition a set of 4 elements into two subsets, or cells, containing 4 elements in the first cell and 1 element in the second."
   ]
  },
  {
   "cell_type": "markdown",
   "metadata": {},
   "source": [
    "This is typically denoted by the symbol:\n",
    "\n",
    "$\n",
    "\\begin{pmatrix}\n",
    "5 \\\\\n",
    "4, 1\n",
    "\\end{pmatrix} = \\frac{5!}{4! \\; 1!} = 5\n",
    "$\n",
    "\n",
    "where the top number represents the total number of elements and the bottom number represent the number of elements going into each cell."
   ]
  },
  {
   "cell_type": "markdown",
   "metadata": {},
   "source": [
    "The number of ways of partitioning a set of $ n $ objects into $ r $ cells with $ n_1 $ elements in the first cell, $ n_2 $ elements in the second cell, and so forth, is:\n",
    "\n",
    "$\n",
    "\\begin{pmatrix}\n",
    "n \\\\\n",
    "n_1, n_2, \\ldots , n_r\n",
    "\\end{pmatrix} = \\frac{n!}{n_1! \\; n_2! \\; \\ldots \\; n_r!}\n",
    "$\n",
    "\n",
    "where $ n_1 + n_2 + \\ldots + n_r = n $."
   ]
  },
  {
   "cell_type": "markdown",
   "metadata": {},
   "source": [
    "### Example 2.21\n",
    "\n",
    "In how many ways can 7 graduate students be assigned to 1 triple and 2 double hotel rooms during a conference?"
   ]
  },
  {
   "cell_type": "markdown",
   "metadata": {},
   "source": [
    "As the order in which they are assigned to each room is not important, we are concerned with calculating the number of ways of partitioning a set of $ n $ objects into $ r $ cells with $ n_1 $ elements in the first cell, $ n_2 $ elements in the second cell, and so forth, is:\n",
    "\n",
    "$\n",
    "\\begin{pmatrix}\n",
    "n \\\\\n",
    "n_1, n_2, \\ldots , n_r\n",
    "\\end{pmatrix} = \\frac{n!}{n_1! \\; n_2! \\; \\ldots \\; n_r!}\n",
    "$\n",
    "\n",
    "where $ n_1 + n_2 + \\ldots + n_r = n $.\n",
    "\n",
    "In this case:\n",
    "\n",
    "$\n",
    "\\begin{pmatrix}\n",
    "7 \\\\\n",
    "3, 2, 2\n",
    "\\end{pmatrix} = \\frac{7!}{3! \\; 2! \\; 2!} = \\\\\n",
    "= 210\n",
    "$\n",
    "\n",
    "where $ 3 + 2 + 2 = 7 $.\n"
   ]
  },
  {
   "cell_type": "markdown",
   "metadata": {},
   "source": [
    "In many problems, we are interested in the number of ways of selecting $ r $ objects from $ n $ without regard to order. These selections are called **combinations**.\n",
    "\n",
    "A combination is actually a partition with two cells, the one cell containing the $ r $ objects selected and the other containing the remaining $ n - r $ objects.\n",
    "\n",
    "This is denoted as:\n",
    "\n",
    "$\n",
    "\\begin{pmatrix}\n",
    "n \\\\\n",
    "r, n - r\n",
    "\\end{pmatrix}\n",
    "$\n",
    "\n",
    "which is customarily shortened as:\n",
    "\n",
    "$\n",
    "\\begin{pmatrix}\n",
    "n \\\\\n",
    "r\n",
    "\\end{pmatrix}\n",
    "$\n",
    "\n",
    "> The number of combinations of $ n $ distinct objects taken $ r $ at a time is $\n",
    "\\begin{pmatrix} n \\\\ r \\end{pmatrix} = \\frac{n!}{r! \\; (n - r)!} $\n"
   ]
  },
  {
   "cell_type": "markdown",
   "metadata": {},
   "source": [
    "### Example 2.22\n",
    "\n",
    "A young boy asks his mother to get 5 videogames from his collection of 10 arcade and 5 sports games. How many ways are there that his mother can get 3 arcade and 2 sport games?."
   ]
  },
  {
   "cell_type": "markdown",
   "metadata": {},
   "source": [
    "As the order in which the games are selected are not important, we're concerned with the number of combinations in which the videogames can be chosen.\n",
    "\n",
    "Let's deep-dive in the scenarios:\n",
    "+ choose 3 arcade games from the list of 10 possible games\n",
    "+ choose 2 sport games from the collection of 5 sport games\n",
    "\n",
    "The general formula is:\n",
    "\n",
    "$\n",
    "\\begin{pmatrix}\n",
    "n \\\\\n",
    "r\n",
    "\\end{pmatrix} = \\frac{n!}{r! \\; (n - r)!}\n",
    "$\n",
    "\n",
    "Thus, for the first one:\n",
    "$\n",
    "\\begin{pmatrix}\n",
    "10 \\\\\n",
    "3\n",
    "\\end{pmatrix} = \\frac{10!}{3! \\; (10 - 3)!} = 120\n",
    "$ ways of choosing the arcade games and\n",
    "$\n",
    "\\begin{pmatrix}\n",
    "5 \\\\\n",
    "2\n",
    "\\end{pmatrix} = \\frac{5!}{2! \\; (5 - 2)!} = 10\n",
    "$ possible ways of choosing the sport games.\n",
    "\n",
    "Now we have to use the multiplication rule, as there will be $ n_1 = 120 $ ways to select the arcade games and $ n_2 = 10 $ ways to select the sport games, thus  there will be $ n_1 \\; n_2 = 120 \\cdot 10 = 1,200 $ ways."
   ]
  },
  {
   "cell_type": "markdown",
   "metadata": {},
   "source": [
    "### Example 2.23\n",
    "\n",
    "How many different letter arrangements can be made from the letters in the word STATISTICS?"
   ]
  },
  {
   "cell_type": "markdown",
   "metadata": {},
   "source": [
    "We need to find the way to partition the letters in the word STATISTICS in different subsets.\n",
    "\n",
    "We have 10 letters in total, with 2 letters S, T appearing 3 times each, letter I appearing twice, and letters A and C appearing once each.\n",
    "\n",
    "Thus:\n",
    "\n",
    "$\n",
    "\\begin{pmatrix}\n",
    "10 \\\\\n",
    "3, 3, 2, 1, 1\n",
    "\\end{pmatrix} = \\frac{10!}{3! \\; 3! \\; 2! \\; 1! \\; 1} = 50,400\n",
    "$\n",
    "\n",
    "Note that this relies in creating subsets as previously discussed."
   ]
  },
  {
   "cell_type": "markdown",
   "metadata": {},
   "source": [
    "## Probability of an Event\n",
    "\n",
    "| NOTE: |\n",
    "| :---- |\n",
    "| In this chapter, we will be dealing with experiments for which the sample space contains a finite number of elements. |\n",
    "\n",
    "The likelihood of the occurrence of an event resulting from such a statistical experiment is evaluated by means of a set of real numbers, called **weights** or **probabilities**, ranging from 0 to 1.\n",
    "\n",
    "To every point in the sample space we assign a probability such the sum of all probabilities is 1. If a certain sample point is quite likely to occur when the experiment is conducted, the probability assigned should be close to 1. On the other hand, a probability closer to 0 is assigned to a sample point that is not likely to occur."
   ]
  },
  {
   "cell_type": "markdown",
   "metadata": {},
   "source": [
    "To find the probability of an event $ A $, we sum all the probabilities assigned to the sample points in $ A $. This sum is called the **probability of A** and is denoted by $ P(A) $.\n",
    "\n",
    "The probability of an event $ A $ is the sum of the weights of all sample points in $ A $.\n",
    "\n",
    "Therefore,\n",
    "\n",
    "$$\n",
    "0 \\le P(A) \\le 1, \\hspace{1ex} P(\\phi) = 0, \\hspace{1ex} \\text{ and } \\hspace{1ex} P(S) = 1\n",
    "$$\n",
    "\n",
    "Furthermore, if $ A_1, A_2, A_3, \\ldots $ is a sequence of mutually exclusive events, then\n",
    "\n",
    "$$\n",
    "P(A_1 \\cup A_2 \\cup A_3 \\cup \\ldots) = P(A_1) + P(A_2) + P(A_3) + \\ldots\n",
    "$$"
   ]
  },
  {
   "cell_type": "markdown",
   "metadata": {},
   "source": [
    "### Example 2.24\n",
    "\n",
    "A coin is tossed twice. What is the probability that at least 1 head occurs.\n",
    "\n",
    "The sample space is $ S = \\{ HH, HT, TH, TT \\} $. If the coin is balanced, we can assign the probability $ \\omega $ to each sample point.\n",
    "\n",
    "Therefore, $ 4 \\omega = 1 $, or $ \\omega = \\frac{1}{4} $. And $ A = \\{ HH, HT, TH \\} $.\n",
    "\n",
    "As a result, \n",
    "$ P(A) = \\frac{1}{4} + \\frac{1}{4} + \\frac{1}{4} = \\frac{3}{4} $."
   ]
  },
  {
   "cell_type": "markdown",
   "metadata": {},
   "source": [
    "### Example 2.25\n",
    "\n",
    "A die is loaded in such a way that an even number is twice as likely to occur as an odd number. If $ E $ is the event that a number less than 4 occurs on a single toss of the die, find $ P(E) $."
   ]
  },
  {
   "cell_type": "markdown",
   "metadata": {},
   "source": [
    "The sample space is $ S = \\{ 1, 2, 3, 4, 5, 6 \\} $. Let $ \\omega $ be the probability of an odd number, $ 2 \\cdot \\omega $ the probability of an even number.\n",
    "\n",
    "$\n",
    "P(S) = P(\\{ 1, 2, 3, 4, 5, 6 \\}) = \\omega + 2 \\omega + \\omega + 2 \\omega + \\omega + 2 \\omega = 1 \\\\\n",
    "9 \\omega = 1 \\Rightarrow \\omega = \\frac{1}{9}\n",
    "$\n",
    "\n",
    "On the other hand, $ E = \\{ 1, 2, 3 \\} $.\n",
    "\n",
    "$\n",
    "P(E) = \\omega + 2 \\omega + \\omega = \\frac{4}{9} \\approx 0.44\n",
    "$"
   ]
  },
  {
   "cell_type": "markdown",
   "metadata": {},
   "source": [
    "### Example 2.26\n",
    "\n",
    "In the [Example 2.25](#example-225), let $ A $ be the event that an even number turns up and let $ B $ that a number divisible by 3 occurs.\n",
    "\n",
    "Find $ P(A \\cup B) $ and $ P(A \\cap B) $."
   ]
  },
  {
   "cell_type": "markdown",
   "metadata": {},
   "source": [
    "Let's describe the events:\n",
    "\n",
    "$\n",
    "A = \\{2, 4, 6\\}\n",
    "$\n",
    "\n",
    "and \n",
    "$\n",
    "B = \\{ 3, 6 \\}\n",
    "$\n",
    "\n",
    "Thus:\n",
    "\n",
    "$\n",
    "P(A \\cup B) = P(\\{ 2, 3, 4, 6 \\}) = 2 \\omega + \\omega + 2 \\omega + 2 \\omega = \\frac{7}{9} \\approx 0.78 \\\\\n",
    "P(A \\cap B) = P(\\{ 6 \\}) = 2 \\omega = \\frac{2}{9} \\approx 0.22\n",
    "$"
   ]
  },
  {
   "cell_type": "markdown",
   "metadata": {},
   "source": [
    "> If an experiment can result in any one of $ N $ different equally likely outcomes, and if exactly $ n $ of these outcomes correspond to event $ A $, then, the probability of event $ A $ is $ P(A) = \\frac{n}{N} $.\n",
    "\n",
    "This is because we assign a probability equal to $ \\frac{1}{N} $ to each of the $ N $ points. Then, the probability of an event $ A $ containing $ n $ of these sample points is the ratio of the elements in $ A $ to the number of elements in $ S $."
   ]
  },
  {
   "cell_type": "markdown",
   "metadata": {},
   "source": [
    "### Example 2.27\n",
    "\n",
    "A statistics class for engineers consists of 25 industrial, 10 mechanical, 10 electrical, and 8 civil engineering students. If a person is randomly selected by the instructor to answer a question, find the probability that the student chosen is (a) an industrial engineering major and (b) a civil engineering or an electrical engineering major."
   ]
  },
  {
   "cell_type": "markdown",
   "metadata": {},
   "source": [
    "There are 53 students, each of them equally likely to be chosen to answer a question. \n",
    "\n",
    "In virtue of the previous rule, let $ I $ be the event that the student selected is an industrial engineering. As there are 25 students we will have $ P(I) = \\frac{25}{53} \\approx 0.47 $.\n",
    "\n",
    "Let $ C $ and $ E $ the event that the student is a civil engineer and electrical engineer respectively. Then, $ P(C \\cup E) = \\frac{18}{53} \\approx 0.34 $"
   ]
  },
  {
   "cell_type": "markdown",
   "metadata": {},
   "source": [
    "### Example 2.28\n",
    "\n",
    "In a poker hand consisting of 5 cards, find the probability of holding 2 aces and 3 jacks."
   ]
  },
  {
   "cell_type": "markdown",
   "metadata": {},
   "source": [
    "The number of ways of being dealt 2 aces from the 4 available aces is the computed as \n",
    "\n",
    "$\n",
    "\\begin{pmatrix}\n",
    "4 \\\\\n",
    "2\n",
    "\\end{pmatrix} = \\frac{4!}{2! \\; (4 - 2)!} = 6\n",
    "$\n",
    "\n",
    "Similarly, the number of ways of being dealt 3 jacks from the 4 available jacks is:\n",
    "\n",
    "$\n",
    "\\begin{pmatrix}\n",
    "4 \\\\\n",
    "3\n",
    "\\end{pmatrix} = \\frac{4!}{3! \\; (4 - 3)!} = 4\n",
    "$\n",
    "\n",
    "By the **multiplication rule**, there will be $ 6 \\cdot 4 = 24 $ hands with 2 aces and 3 jacks.\n",
    "\n",
    "The total number of 5-card poker hands can be computed as:\n",
    "\n",
    "$\n",
    "\\begin{pmatrix}\n",
    "52 \\\\\n",
    "5\n",
    "\\end{pmatrix} = \\frac{52!}{5! \\; (52 - 5)!} = 2,598,960\n",
    "$\n",
    "\n",
    "Thus, the probability of being dealt 3 jacks and 2 aces is $ P(C) = \\frac{24}{2598960} = 0.9 \\cdot 10^{-5}$\n",
    "\n"
   ]
  },
  {
   "cell_type": "markdown",
   "metadata": {},
   "source": [
    "If the outcomes of an experiment are not equally likely to occur, the probabilities must be assigned on the basis of prior knowledge or experimental evidence.\n",
    "\n",
    "For example, if a coin is not well balanced, we could estimate the probabilities of heads and tails by tossing the coin a large number of times and recording the outcomes.\n",
    "\n",
    "According to the relative frequency definition of probability, the true probabilities would be the fractions of heads and tails that occur in the long run.\n",
    "\n",
    "For other experiments, such as the probability of a tennis player winning a match, or a horse winning a race, we need to rely on previous records, intuition, personal beliefs, etc. That is referred to as the **subjective definition** of probability. In particular, **Bayesian statistics** rely on a more subjective interpretation of the probability, rather than relying on the relative frequency interpretation."
   ]
  },
  {
   "cell_type": "markdown",
   "metadata": {},
   "source": [
    "## Additive Rules\n",
    "\n",
    "Oftentimes it is easier to calculate the probability of some event from known probabilities of other events. This may well be true if the event in question can be represented as the union of two other events or as the complement of some event.\n",
    "\n",
    "> If $ A $ and $ B $ are two events, then $ P(A \\cup B) = P(A) + P(B) - P(A \\cap B) $.\n",
    "\n",
    "![Venn diagram: additive rules](../images/venn_diagram_additive_rules.png)\n",
    "\n",
    "Note that this is evident from the diagram because when doing $ P(A \\cup B) $ as the sum of the individual events $ P(A) $ and $ P(B) $ we would be considering $ P(A \\cap B) $ twice."
   ]
  },
  {
   "cell_type": "markdown",
   "metadata": {},
   "source": [
    "As a corollary:\n",
    "\n",
    "> If $ A $ and $ B $ are mutually exclusive, then $ P(A \\cup B) = P(A) + P(B) $.\n",
    "\n",
    "This is also evident, as for disjoint events, $ A \\cap B = \\phi $, and $ P(\\phi) = 0 $."
   ]
  },
  {
   "cell_type": "markdown",
   "metadata": {},
   "source": [
    "Another corollary:\n",
    "> If $ A_1, A_2, ..., A_n $ are mutually exclusive, then $ P(A_1 \\cup A_2 \\cup \\ldots \\cup A_n) = P(A_1) + P(A_2) + \\ldots + P(A_n) $."
   ]
  },
  {
   "cell_type": "markdown",
   "metadata": {},
   "source": [
    "A collection of events $ \\{ A_1, A_2, \\ldots, A_n\\} $ of a sample space $ S $ is called a **partition** of $ S $ if $ A_1, A_2, \\ldots , A_n $ are mutually exclusive and $ A_1 \\cup A_2 \\cup \\ldots \\cup A_n = S $.\n",
    "\n",
    "There's anothore corollary for partitions:\n",
    "\n",
    "> If $ A_1, A_2, \\ldots , A_n $ is a partition of sample space $ S $, then $ P(A_1 \\cup A_2 \\cup \\ldots \\cup A_n) = P(A_1) + P(A_2) + \\ldots + P(A_n) = P(S) = 1 $"
   ]
  },
  {
   "cell_type": "markdown",
   "metadata": {},
   "source": [
    "For three events $ A $, $ B $, and $ C $,\n",
    "\n",
    "$\n",
    "P(A \\cup B \\cup C) = P(A) + P (B) + P(C) - P(A \\cap B) - P(A \\cap C) - P(B \\cap C) + P(A \\cap B \\cap C)\n",
    "$"
   ]
  },
  {
   "cell_type": "markdown",
   "metadata": {},
   "source": [
    "### Example 2.29\n",
    "\n",
    "John is going to graduate from an industrial engineering department in a university by the end of the semester. After being interviewed at two companies he likes, he assesses that his probability of getting an offer from company $ A $ is 0.8, and his probability of getting an offer from company $ B $ is 0.6. If he believes that the probability that he will get offers from both companies is 0.5, what is the probability that he will get at least one offer from these two companies."
   ]
  },
  {
   "cell_type": "markdown",
   "metadata": {},
   "source": [
    "Getting at least one offer from these two companies is the event $ A \\cup B $ (get an offer from $ A $, get an offer from $ B $, or from both).\n",
    "\n",
    "Using the **additive rule** we have:\n",
    "\n",
    "$\n",
    "P(A \\cup B) = P(A) + P(B) - P(A \\cap B) = 0.8 + 0.6 - 0.5 = 0.9\n",
    "$"
   ]
  },
  {
   "cell_type": "markdown",
   "metadata": {},
   "source": [
    "### Example 2.30\n",
    "\n",
    "What is the probability of getting a total of 7 or 11 when a pair of fair dice is tossed?"
   ]
  },
  {
   "cell_type": "markdown",
   "metadata": {},
   "source": [
    "When tossing a pair of dices we have a total of $ n_1 \\; n_2 = 6 \\cdot 6 = 36 $ elements in the sample space $ S $.\n",
    "\n",
    "Let $ A $ the event of getting a 7, $ B $ the event of getting an 11.\n",
    "\n",
    "$ A = \\{ (1, 6), (2, 5), (3, 4), (4, 3), (5, 2), (6, 1) \\} $ \n",
    "\n",
    "$ B = \\{ (5, 6), (6, 5) \\} $\n",
    "\n",
    "Thus, in virtue of the formula: \n",
    "> If an experiment can result in any one of $ N $ different equally likely outcomes, and if exactly $ n $ of these outcomes correspond to event $ A $, then, the probability of event $ A $ is $ P(A) = \\frac{n}{N} $.\n",
    "\n",
    "We have:\n",
    "\n",
    "$\n",
    "P(A) = \\frac{6}{36} = \\frac{1}{6} \\approx 1.67\n",
    "$\n",
    "\n",
    "$\n",
    "P(B) = \\frac{2}{36} = \\frac{1}{18} \\approx 0.06\n",
    "$\n",
    "\n",
    "Both events are mutually exclusive, therefore:\n",
    "\n",
    "$\n",
    "P(A \\cup B) = P(A) + P(B) = \\frac{1}{6} + \\frac{1}{18} = \\frac{2}{9} \\approx 0.22 \n",
    "$\n",
    "\n",
    "Note that this could also be calculated by just counting the elements of the sample space $ S $ producing either 7 or 11, which are 8.\n",
    "\n",
    "Thus, $ P(C) = \\frac{8}{36} = \\frac{2}{9} $"
   ]
  },
  {
   "cell_type": "markdown",
   "metadata": {},
   "source": [
    "### Example 2.31\n",
    "\n",
    "If the probabilities are, respectively, 0.09, 0.15, 0.21, and 0.23 that a person purchasing a new automobile will choose the color green, white, red, or blue, what is the probability that a given buyer will purchase a new automobile that comes in one of those colors?"
   ]
  },
  {
   "cell_type": "markdown",
   "metadata": {},
   "source": [
    "Let,\n",
    "+ $ G $, the event that a green car is bought\n",
    "+ $ W $, the event that a white car is bought\n",
    "+ $ R $, the event that a red car is bought\n",
    "+ $ B $, the event that a blue car is bought\n",
    "\n",
    "As all events are mutually exclusive:\n",
    "\n",
    "$\n",
    "P(G \\cup W \\cup R \\cup B) = P(G) + P(W) + P(R) + P(B) = 0.09 + 0.15 + 0.21 + 0.23 \\approx 0.68\n",
    "$"
   ]
  },
  {
   "cell_type": "code",
   "execution_count": 6,
   "metadata": {},
   "outputs": [
    {
     "data": {
      "text/plain": [
       "0.68"
      ]
     },
     "execution_count": 6,
     "metadata": {},
     "output_type": "execute_result"
    }
   ],
   "source": [
    "round(0.09 + 0.15 + 0.21 + 0.23, 2)"
   ]
  },
  {
   "cell_type": "markdown",
   "metadata": {},
   "source": [
    "Often, it is more difficult to calculate the probability that an event occurs than it is to calculate the probability that the event does not occur.\n",
    "\n",
    "In those cases, we can compute $ P(A') $, and use the following theorem:\n",
    "\n",
    "> If $ A $ and $ A' $ are complementary events, then $ P(A) + P(A') = 1 $.\n",
    "\n",
    "As a corollary, $ P(A') = 1 - P(A) $."
   ]
  },
  {
   "cell_type": "markdown",
   "metadata": {},
   "source": [
    "### Example 2.32\n",
    "\n",
    "If the probability that an automobile mechanic will service 3, 4, 5, 6, 7, or 8 or more cars on any given workday are respectively, 0.12, 0.19, 0.28, 0.24, 0.10, and 0.07, what is the probability that he will service at least 5 cars on his next day at work?"
   ]
  },
  {
   "cell_type": "markdown",
   "metadata": {},
   "source": [
    "We are asked about the probability that the mechanic will service 5, 6, 7, 8 or more cars.\n",
    "\n",
    "However, using the additive rule is not that easy as there will be a lot of intersections to subtract.\n",
    "\n",
    "Also, we see that $ 0.12+0.19+0.28+0.24+0.10+0.07 = 1 $, thus we're giving the probabilities of the whole sample space $ S $.\n",
    "\n",
    "Therefore, let $ A $ the event that the mechanic service 5, 6, 7, 8, or more cars. Then $ A' $ is the probability of the mechanic servicing 3 or 4 cars:\n",
    "\n",
    "$ P(A') = 0.12 + 0.19 = 0.31 $\n",
    "\n",
    "And, $ P(A) = 1 - P(A') = 1 - 0.31 = 0.69 $\n",
    "\n",
    "If we compute directly $ P(A) $ we will have:\n",
    "\n",
    "$\n",
    "P(A) = 0.28+0.24+0.10+0.07 = 0.69\n",
    "$, just as we expected."
   ]
  },
  {
   "cell_type": "markdown",
   "metadata": {},
   "source": [
    "### Example 2.33\n",
    "\n",
    "Suppose the manufacturer's specifications for the length of a certain type of computer cable are $ 2000 \\pm 10 $ mm. In this industry, it is known that small cable is just as likely to be defective (not meeting the specs) as large cable. That is, the probability of randomly producing a cable with length exceeding 2010 mm is equal to the probability of producing a cable smaller than 1990 mm. The probability that the production procedure meets the specs is known to be 0.99.\n",
    "\n",
    "1. What is the probability that a cable selected randomly is too large?\n",
    "2. What is the probability that a randomly selected cable is larger than 1990 mm?"
   ]
  },
  {
   "cell_type": "markdown",
   "metadata": {},
   "source": [
    "We know that the probability of the cable meeting the specs, $ A $, and therefore being produced with a range between 1990 mm and 2010 mm is $ P(A) = 0.99 $.\n",
    "\n",
    "Thus, the probability of the cable being too large or too small is $ P(A') = 0.01 $. As the the probability of the cabel being too large is the same as the probability of the cable being too small, the solution to (1), will be $ \\frac{0.01}{2} = 0.005 $\n",
    "\n",
    "Then, for the probability of the cable being larger than 1990 mm. Let $ L $ the probability of the cable being larger than 2010 mm. We know from (1) that $ P(L) = 0.005 $.\n",
    "\n",
    "Let $ M $ the probability of the cable being larger than 1990 mm.\n",
    "\n",
    "$\n",
    "P(M) = P(A) + P(L) = 0.995\n",
    "$\n",
    "\n",
    "We can check the result by computing:\n",
    "\n",
    "$\n",
    "P(M) = 1 - P(M')\n",
    "$\n",
    "\n",
    "with $ P(M') = 0.05 = $, thus $ P(M') = 0.995 $, as the complementary event of the cable being larger than 1990 is the cable being smaller than 1990 mm."
   ]
  },
  {
   "cell_type": "markdown",
   "metadata": {},
   "source": [
    "## Conditional Probability, Independence, and the Product Rule\n",
    "\n",
    "One very important concept in probability theory is conditional probability. That is, the probability structure under certain restrictions.\n",
    "\n",
    "For example, rather than studying the chance that a person from the general population has diabetes, it might be of more interest to know this probability for a distinct group such as Asian women in the age range 35 to 50."
   ]
  },
  {
   "cell_type": "markdown",
   "metadata": {},
   "source": [
    "### Conditional probability\n",
    "\n",
    "The probability of an event B occurring when it is known that some event $ A $ has occured is called a **conditional probability** and it is denoted as $ P(B|A) $ and read as *\"the probability that $ B $ occurs given that $ A $ occurs\"* or simply *\"the probability of $ B $, given $ A $\"*."
   ]
  },
  {
   "cell_type": "markdown",
   "metadata": {},
   "source": [
    "As an example, consider a die that is constructed so that even numbers are twice as likely to occur as the odd numbers.\n",
    "\n",
    "Based on the sample space $ S = \\{ 1, 2, 3, 4, 5, 6 \\} $, the probability of getting an odd number will be $ \\omega $, and the probability of getting an even number will be $ 2 \\; \\omega $.\n",
    "\n",
    "As, $ P(S) = 1 $, we have:\n",
    "\n",
    "$\n",
    "\\omega + 2 \\; \\omega + \\omega + 2 \\; \\omega + \\omega + 2 \\; \\omega = 9 \\; \\omega = 1 \\Rightarrow \\omega = \\frac{1}{9}\n",
    "$\n",
    "\n",
    "The probability of getting a perfect square would be $ P(B) = P(\\{1, 4\\}) = \\frac{1}{9} + \\frac{2}{9} = \\frac{1}{3} $.\n",
    "\n",
    "However, let's assume that it is known that the toss of the die resulted in a number greater than 3. Let $ A = \\{4, 5, 6\\} $ the event that describes that reduced sample space. Then, to calculate the probability $ P(B) $ we need to first assign new probabilities to the eelements of the reduced sample space. Given that $ A $ has occurred, the probability of getting an even and odd number will be:\n",
    "\n",
    "$\n",
    "P(A) = 2 \\; \\omega + \\omega + 2 \\; \\omega = 1 \\Rightarrow \\omega = \\frac{1}{5}\n",
    "$\n",
    "\n",
    "Therefore, the probability of obtaining a perfect square given that the dire resulted in a number greater than 3 or $ P(B|A) $ will be:\n",
    "\n",
    "$\n",
    "P(B|A) = P({4}) = 2 \\; \\frac{1}{5} = \\frac{2}{5}\n",
    "$\n",
    "\n",
    "\n",
    "Note also that: $ P(A) = \\frac{5}{9} $ and that $ P(A \\cap B) = P(\\{ 4 \\}) = \\frac{2}{9} $\n",
    "\n",
    "And interestingly enough, $ P(B|A) = \\frac{\\frac{2}{9}}{\\frac{5}{9}} = \\frac{P(A \\cap B)}{P(A)} $"
   ]
  },
  {
   "cell_type": "markdown",
   "metadata": {},
   "source": [
    "The conditional probability of $ B $, given $ A $, denoted by $ P(B|A) $ is defined by:\n",
    "\n",
    "$\n",
    "P(B|A) = \\frac{P(A \\cap B)}{P(A)}\n",
    "$, provided $ P(A) \\gt 0 $."
   ]
  },
  {
   "cell_type": "markdown",
   "metadata": {},
   "source": [
    "Consider another example:\n",
    "\n",
    "Suppose that our sample space $ S $ is the population of adults in a small town who have completed the requirements for a college degree.\n",
    "\n",
    "We shall categorize them according to gender and employment status:\n",
    "\n",
    "|     | Employed | Unemployed | Total |\n",
    "| :-- | :--      | :--        | :--   |\n",
    "| Male | 460 | 40 | 500 |\n",
    "| Female | 140 | 260 | 400 |\n",
    "| **Total** | **600** | **300** | **900** |\n",
    "\n",
    "One of these individual is to be selected at random for a tour throughout the country to publicize the advantages of establishing new industries in the town.\n",
    "\n",
    "We are concerned with the following events:\n",
    "\n",
    "+ $ M $, a man is chosen\n",
    "+ $ E $, the one chosen is employed\n",
    "\n",
    "We can calculate the $ P(M|E) $ using both the *reduced sample space* approach, and the formula introduced earlier for the conditional probability."
   ]
  },
  {
   "cell_type": "markdown",
   "metadata": {},
   "source": [
    "Using the reduced sample approach:\n",
    "\n",
    "$ E = \\{ x \\; | \\; \\text{the individual chosen is employed} \\} $\n",
    "\n",
    "In that case, we have 460 males and 140 females. In that reduced sample space, $ P(M) $ will be: $ P(M) = \\frac{460}{600} = \\frac{23}{30} \\approx 0.77 $"
   ]
  },
  {
   "cell_type": "markdown",
   "metadata": {},
   "source": [
    "Using the formula for the conditional probability:\n",
    "\n",
    "$ P(M|E) = \\frac{P(M \\cap E)}{P(E)}, given that $ P(E) \\gt 0 $.\n",
    "\n",
    "and:\n",
    "$ P(M \\cap E) = \\frac{460}{900} $\n",
    "\n",
    "$ P(E) = \\frac{600}{900} $.\n",
    "\n",
    "Therefore:\n",
    "\n",
    "$ P(M|E) = \\frac{460}{600} = \\frac{23}{30} $.\n"
   ]
  },
  {
   "cell_type": "markdown",
   "metadata": {},
   "source": [
    "The formula for the conditional probability is easy to derive from the reduced sample approach.\n",
    "\n",
    "Let $ n(A) $ denote the number of elements in any set $ A $. Then:\n",
    "\n",
    "$\n",
    "P(M|E) = \\frac{n(M \\cap E)}{n(E)} = \\frac{\\frac{n(M \\cap E)}{n(S)}}{\\frac{n(E)}{n(S)}} = \\frac{P(M \\cap E)}{P(E)}\n",
    "$"
   ]
  },
  {
   "cell_type": "markdown",
   "metadata": {},
   "source": [
    "#### Example 2.34\n",
    "\n",
    "The probability that a regularly scheduled flight departs on time is $ P(D) = 0.83 $; the probability that it arrives on time is $ P(A) = 0.82 $; and the probability that it departs and arrives on time is $ P(D \\cap A) = 0.78 $.\n",
    "\n",
    "Find the probability that the plane:\n",
    "\n",
    "1. arrives on time, given that it departed on time.\n",
    "2. departed on time, given that it has arrived on time."
   ]
  },
  {
   "cell_type": "markdown",
   "metadata": {},
   "source": [
    "##### Solution to (1)\n",
    "\n",
    "We need to calculate P(A|D). According to the formula for the conditional probability:\n",
    "\n",
    "$\n",
    "P(A|D) = \\frac{P(A \\cap D)}{P(D)} = \\frac{0.78}{0.83} \\approx 0.94\n",
    "$"
   ]
  },
  {
   "cell_type": "markdown",
   "metadata": {},
   "source": [
    "##### Solution to (2)\n",
    "\n",
    "We need to calculate $ P(D|A) $. Applying the formula for the conditional probability we have:\n",
    "\n",
    "$\n",
    "P(D|A) = \\frac{P(A \\cap D)}{P(A)} = \\frac{0.78}{0.82} \\approx 0.95\n",
    "$"
   ]
  },
  {
   "cell_type": "markdown",
   "metadata": {},
   "source": [
    "The probability $ P(B|A) $ provides the capability of reevaluating the idea of probability of an event $ B $ in light of additional information &mdash; another event $ A $ has occurred.\n",
    "\n",
    "This will let us calculate more pertinent probabilities in many use cases.\n",
    "\n",
    "For example, in the [Example 2.34](#example-234), we can now calculate $ P(A|D') $, that is, the probability that it arrived on time given that it did not departed on time.\n",
    "\n",
    "$ P(A|D') = \\frac{P(A \\cap D')}{P(D')} $\n",
    "\n",
    "$\n",
    "P(A \\cap D') = 0.82 - 0.78 = 0.04\n",
    "$, as can be seen in the Venn diagram below.\n",
    "\n",
    "![Venn diagram](../images/venn_diagram_example_2.34.png)\n",
    "\n",
    "and $ P(D') = 1 - P(D) = 1 - 0.83 = 0.17 $\n",
    "\n",
    "Thus,\n",
    "\n",
    "$\n",
    "P(A|D') = \\frac{P(A \\cap D')}{P(D')} = \\frac{0.04}{0.17} \\approx 0.24 \n",
    "$.\n",
    "\n",
    "As a consequence, we can derive that the probability that a plane arrives on time given that it did not depart on time is very low (0.24), when compared to the probability that it arrives on time (0.82)."
   ]
  },
  {
   "cell_type": "markdown",
   "metadata": {},
   "source": [
    "#### Example 2.35\n",
    "\n",
    "The concept of conditional probability has countless uses in both industrial and biomedical applications. Consider an industrial process in the textile industry in which strips of a particular type of cloth are being produced. These strips can be defective in two ways, length and nature of texture. For the case of the latter, the process of identification is very complicated. It is known from historical information on the process that 10% of strips fail the length test, 5% fail the texture test, and only 0.8% fail both tests.\n",
    "\n",
    "If a strip is selected randomly from the process and a quick measurement identifies it as failing the length test, what is the probability that it is texture defective?"
   ]
  },
  {
   "cell_type": "markdown",
   "metadata": {},
   "source": [
    "Consider the events:\n",
    "+ $ L $, length defective; $ P(L) = 0.1 $.\n",
    "+ $ T $, texture defective; $ P(T) = 0.05 $.\n",
    "\n",
    "We know that $ P(L \\cap T) = 0.008 $\n",
    "\n",
    "We have to calculate $ P(T|L) $. \n",
    "\n",
    "Using the formula for the conditional probability:\n",
    "\n",
    "$\n",
    "P(T|L) = \\frac{P(T \\cap L)}{P(L)} = \\frac{0.008}{0.1} = 0.08\n",
    "$, that is, the probability that it is texture defective given that it is length defective is 8%."
   ]
  },
  {
   "cell_type": "markdown",
   "metadata": {},
   "source": [
    "### Independent Events\n",
    "\n",
    "Let's consider again the experiment of tossing a die in which the even numbers are twice as likely to occur as the odd numbers. We defined the event $ B $ of getting a perfect square when the die is tossed, and $ A $ then event in which we get a 4, 5, or 6.\n",
    "\n",
    "We already calculated that:\n",
    "\n",
    "$\n",
    "P(B) = P(\\{1, 4\\}) = \\frac{1}{9} + \\frac{2}{9} = \\frac{1}{3}\n",
    "$ and, according to the formula of conditional probability:\n",
    "\n",
    "$\n",
    "P(B|A) = \\frac{P(B \\cap A)}{P(A)} = \\frac{2/9}{5/9} = \\frac{2}{5}\n",
    "$\n",
    "\n",
    "Therefore, we see that $ P(B|A) \\ne P(B) $. This indicates that $ B $ depends on $ A $."
   ]
  },
  {
   "cell_type": "markdown",
   "metadata": {},
   "source": [
    "Now consider another experiment in which 2 cards are drawn in succession from an ordinary deck, with replacement. Consider the following two events:\n",
    "+ $ A $: the first card is an ace\n",
    "+ $ B $: the second card is a spade\n",
    "\n",
    "The sample space $ S $ is the 52 cards in the deck. Let's calculate $ P(B|A) $ and $ P(B) $ and compare them. As there is replacement of the card being picked in the first draw we have:\n",
    "\n",
    "$\n",
    "P(B|A) = \\frac{13}{52} = \\frac{1}{4} \\\\\n",
    "P(B) = \\frac{13}{52} = \\frac{1}{4}\n",
    "$\n",
    "\n",
    "In this case, $ P(B|A) = P(B) $."
   ]
  },
  {
   "cell_type": "markdown",
   "metadata": {},
   "source": [
    "Two events $ A $ and $ B $ are independent if and only if:\n",
    "\n",
    "$\n",
    "P(B|A) = P(B) \\text{ or } P(A|B) = P(A)\n",
    "$"
   ]
  },
  {
   "cell_type": "markdown",
   "metadata": {},
   "source": [
    "### The Product Rule (aka The Multiplicative Rule)\n",
    "\n",
    "We know from the conditional probability formula:\n",
    "\n",
    "$ P(B|A) = \\frac{P(A \\cap B)}{P(A)} $, provided that $ P(A) > 0 $.\n",
    "\n",
    "\n",
    "As a direct consequence:\n",
    "\n",
    "$ P(A \\cap B) = P(A) \\cdot P(B|A) $, provided that $ P(A) > 0 $.\n",
    "\n",
    "That is, the probability that two events $ A $ and $ B $ occur is equal to the probability that $ A $ occurs, multiplied by the conditional probability that $ B $ occurs given that $ A $ occurs.\n",
    "\n",
    "Since $ A \\cap B = B \\cap A $, we can also state:\n",
    "\n",
    "$\n",
    "P(A \\cap B) = P(B \\cap A) = P(B) \\cdot P(A|B) = P(A) \\cdot P(B|A)\n",
    "$, that is, it does not matter which event is referred to as $ A $ and which event is referred to as $ B $."
   ]
  },
  {
   "cell_type": "markdown",
   "metadata": {},
   "source": [
    "#### Example 2.36\n",
    "\n",
    "Suppose that we have a fuse box containing 20 fuses, of which 5 are defective. If 2 fuses are selected at random and removed from the box in succession without replacing the first, what is the probability that both fuses are defective?"
   ]
  },
  {
   "cell_type": "markdown",
   "metadata": {},
   "source": [
    "Let's define the events:\n",
    "\n",
    "+ $ A $, the first fuse is defective.\n",
    "+ $ B $, the second fuse is defective.\n",
    "\n",
    "Then, we have to calculate $ P(A \\cap B) $.\n",
    "\n",
    "Using the *multiplicative rule* (*product rule*):\n",
    "\n",
    "$\n",
    "P(A \\cap B) = P(A) \\cdot P(B|A)\n",
    "$\n",
    "\n",
    "and \n",
    "\n",
    "$\n",
    "P(A) = \\frac{5}{20} = \\frac{1}{4} \\\\\n",
    "P(B|A) = \\frac{4}{19}\n",
    "$\n",
    "\n",
    "Thus, \n",
    "\n",
    "$\n",
    "P(A \\cap B) = P(A) \\cdot P(B|A) = \\frac{1}{4} \\cdot \\frac{4}{19} = \\frac{1}{19}\n",
    "$\n",
    "\n",
    "\n",
    "\n"
   ]
  },
  {
   "cell_type": "markdown",
   "metadata": {},
   "source": [
    "#### Example 2.37\n",
    "\n",
    "One bag contains 4 white balls and 3 black balls, and a second bag contains 3 white balls and 5 black balls. One ball is drawn from the first bag and placed unseen in the second bag.\n",
    "\n",
    "What is the probability that a ball now drawn from the second bag is black?"
   ]
  },
  {
   "cell_type": "markdown",
   "metadata": {},
   "source": [
    "Let's define the events:\n",
    "\n",
    "+ $ B_1 $, the event that represents drawing a black ball from bag 1\n",
    "+ $ W_1 $, the event that represents drawing a white ball from bag 1\n",
    "+ $ B_2 $, the event that represents drawing a black ball from bag 2\n",
    "\n",
    "Thus, we're interested in calculating the probability of the events $ B_2 \\cap B_1 $ or $ B_2 \\cap W_1 $.\n",
    "\n",
    "That is:\n",
    "\n",
    "$\n",
    "P[(B_2 \\cap B1) \\cup (B_2 \\cap W_1)]\n",
    "$\n",
    "\n",
    "As those events are independent:\n",
    "\n",
    "$\n",
    "P[(B_1 \\cap B_2) \\cup (W_1 \\cap B_2)] = P(B_1 \\cap B_2) + P(W_1 \\cap B_2) = P(B_1) \\cdot P(B_2 | B_1) + P(W_1) \\cdot P(B_2|W_1)\n",
    "$\n",
    "\n",
    "\n",
    "Let's calculate the individual probabilities:\n",
    "+ $ P(B_1) = \\frac{3}{7} $\n",
    "+ $ P(W_1) = \\frac{4}{7} $\n",
    "+ $ P(B_2|B_1) = \\frac{6}{9} $\n",
    "+ $ P(B_2|W_1) = \\frac{5}{9} $\n",
    "\n",
    "Thus:\n",
    "\n",
    "$\n",
    "P[(B_1 \\cap B_2) \\cup (W_1 \\cap B_2)] = P(B_1 \\cap B_2) + P(W_1 \\cap B_2) = P(B_1) \\cdot P(B_2 | B_1) + P(W_1) \\cdot P(B_2|W_1) = \\frac{3}{7} \\frac{6}{9} + \\frac{4}{7} \\frac{5}{9} = \\frac{2}{7} + \\frac{16}{63} = \\frac{38}{63}\n",
    "$"
   ]
  },
  {
   "cell_type": "markdown",
   "metadata": {},
   "source": [
    "We've seen that:\n",
    "\n",
    "> Two events $ A $ and $ B $ are independent if and only if $ P(B|A) = P(B) $, or $ P(A|B) = P(A) $.\n",
    "\n",
    "and according to the *multiplicative rule* (*product rule*):\n",
    "\n",
    "$\n",
    "P(A \\cap B) = P(A) \\cdot P(B|A)\n",
    "$\n",
    "\n",
    "As a result, we can conclude:\n",
    "\n",
    "Two events $ A $ and $ B $ are independent if and only if $ P(A \\cap B) = P(A) \\cdot P(B) $\n",
    "\n",
    "Therefore, to obtain the probability of two independent events will both occur we simply find the product of their individual probabilities."
   ]
  },
  {
   "cell_type": "code",
   "execution_count": 6,
   "metadata": {},
   "outputs": [
    {
     "data": {
      "text/plain": [
       "38/63"
      ]
     },
     "execution_count": 6,
     "metadata": {},
     "output_type": "execute_result"
    }
   ],
   "source": [
    "from libs.fractions import Fraction\n",
    "\n",
    "Fraction(3, 7) * Fraction(6, 9) + Fraction(4, 7) * Fraction(5, 9)"
   ]
  },
  {
   "cell_type": "markdown",
   "metadata": {},
   "source": [
    "#### Example 2.38\n",
    "\n",
    "A small town has one fire engine and one ambulance available for emergencies. The probability that the fire engine is available when needed is 0.98, and the probability that the ambulance is available when called is 0.92. In the event of an injury resulting from a burning building, find the probability that both the ambulance and the fire engine will be available, assuming they operate independently."
   ]
  },
  {
   "cell_type": "markdown",
   "metadata": {},
   "source": [
    "Let's define the events:\n",
    "+ $ A $, the fire engine is available; $ P(A) = 0.98 $.\n",
    "+ $ B $, the ambulance is available; $ P(B) = 0.92 $.\n",
    "\n",
    "If the ambulance and the fire engine operate independently, we can apply the formula:\n",
    "\n",
    "$\n",
    "P(A \\cap B) = P(A) \\cdot P(B) = 0.98 * 0.92 = 0.90\n",
    "$\n",
    "\n",
    "Thus, the probability that both the ambulance and the fire engine are available, denoted by the probability of the event $ A \\cap B $ will be 0.90."
   ]
  },
  {
   "cell_type": "markdown",
   "metadata": {},
   "source": [
    "#### Example 2.39\n",
    "\n",
    "An electrical system consists of four components, as illustrated on the diagram below.\n",
    "\n",
    "![Electrical system diagram](../images/diagram_ex_2.39.png)\n",
    "\n",
    "The system works if components $ A $ and $ B $ work and either of the components $ C $ or $ D $ works. The reliability (probability of working) of each component is available in the diagram above.\n",
    "\n",
    "Find the probability that:\n",
    "1. the entire system works\n",
    "2. the component $ C $ does not work, given that the entire system works.\n",
    "\n",
    "Assume that the four components work independently."
   ]
  },
  {
   "cell_type": "markdown",
   "metadata": {},
   "source": [
    "##### Solution to (1)\n",
    "\n",
    "Let's define the events $ A $, $ B $, $ C $, and $ D $ that represents that the corresponding component is working.\n",
    "\n",
    "Then, the event that the system works can be described as $ A \\cap B \\cap (C \\cup D) $.\n",
    "\n",
    "As the components work independently, we can apply the theorem $ P(X \\cap Y) = P(X) \\cdot P(Y) $.\n",
    "\n",
    "Then:\n",
    "\n",
    "$\n",
    "P(A \\cap B \\cap (C \\cup D)) = P(A) \\cdot P(B) \\cdot P(C \\cup D)\n",
    "$\n",
    "\n",
    "On the other hand:\n",
    "$\n",
    "P(C \\cup D) = P(C) + P(D) - P(C \\cap D) = P(C) + P(D) - P(C) \\cdot P(D)\n",
    "$, as $ C $ and $ D $ work independently.\n",
    "\n",
    "Thus:\n",
    "\n",
    "$\n",
    "P(A \\cap B \\cap (C \\cup D)) = P(A) \\cdot P(B) \\cdot (P(C) + P(D) - P(C) \\cdot P(D)) =\n",
    "0.9 \\cdot 0.9 \\cdot (0.8 + 0.8 - 0.8 \\cdot 0.8) = 0.7776\n",
    "$\n",
    "\n",
    "Alternatively, we could have done:\n",
    "\n",
    "$\n",
    "P(C \\cup D) = 1 - P((C \\cup D)') = 1 - P(C' \\cap D') = 1 - (P(C') \\cdot P(D'))\n",
    "$, because the components work independently.\n",
    "\n",
    "Thus:\n",
    "$\n",
    "P(A \\cap B \\cap (C \\cup D)) = P(A) \\cdot P(B) \\cdot (P(C) + P(D) - P(C) \\cdot P(D)) =\n",
    "0.9 \\cdot 0.9 \\cdot (1 - 0.2 \\cdot 0.2) = 0.7776\n",
    "$"
   ]
  },
  {
   "cell_type": "markdown",
   "metadata": {},
   "source": [
    "##### Solution to (2)\n",
    "\n",
    "Let $ E $ the event that the entire system works. We have to calculate $ P(C' | E) $.\n",
    "\n",
    "According to the formula for conditional probability we have:\n",
    "\n",
    "$\n",
    "P(C' | E) = \\frac{P(C' \\cap E)}{P(E)}\n",
    "$\n",
    "\n",
    "And $ P(C' \\cap E) $ can be written as $ P(A \\cap B \\cap C' \\cap D) $.\n",
    "\n",
    "As the components work independently, we can do:\n",
    "\n",
    "$\n",
    "P(C' | E) = \\frac{P(C' \\cap E)}{P(E)} = \\frac{P(A \\cap B \\cap C' \\cap D)}{P(E)} = \\frac{P(A) \\cdot \\P(B) \\cdot P(C') \\cdot P(D)}{P(E)} = \\frac{P(A) \\cdot \\P(B) \\cdot (1 - P(C)) \\cdot P(D)}{P(E)} = \\frac{0.9 \\cdot 0.9 \\cdot (1 - 0.8) \\cdot 0.8}{0.7776} =0.1667\n",
    "$"
   ]
  },
  {
   "cell_type": "markdown",
   "metadata": {},
   "source": [
    "The **multiplicative rule (product rule)** can be extended to more than two-event situations:\n",
    "\n",
    "If in an experiment, the events $ A_1, A_2, \\ldots , A_k $ can occur, then\n",
    "\n",
    "$\n",
    "P(A_1 \\cap A_2 \\cap \\ldots \\cap A_k) = P(A_1) \\cdot P(A_2|A_1) \\cdot P(A_3|A_1 \\cap A_2) \\ldots P(A_k | A_1 \\cap A_2 \\cap \\ldots \\cap A_{k-1})\n",
    "$\n",
    "\n",
    "If the events $ A_1, A_2, \\ldots , A_k $ are independent, then:\n",
    "\n",
    "$\n",
    "P(A_1 \\cap A_2 \\cap \\ldots \\cap A_k) = P(A_1) \\cdot P(A_2) \\cdot \\ldots \\cdot P(A_k)\n",
    "$\n"
   ]
  },
  {
   "cell_type": "markdown",
   "metadata": {},
   "source": [
    "#### Example 2.40\n",
    "\n",
    "Three cards are drawn in succession, without replacement, from an ordinary deck of playing cards.\n",
    "\n",
    "Find the probability that the event $ A_1 \\cap A_2 \\cap A_3 $ occurs where $ A_1 $ is the event that the first card is a red ace, $ A_2 $ is the event that the second card is a 10 or a jack, and $ A_3 $ is the event that the third card is greater than 3 but less than 7."
   ]
  },
  {
   "cell_type": "markdown",
   "metadata": {},
   "source": [
    "Let's summarize the events:\n",
    "+ $ A_1 $: the first card is a red ace\n",
    "+ $ A_2 $: the second card is a 10 or a jack\n",
    "+ $ A_3 $: the third card is > 3 and < 7\n",
    "\n",
    "Note that there is no replacement.\n",
    "\n",
    "If we apply the *multiplicative rule*:\n",
    "\n",
    "$\n",
    "P(A_1 \\cap A_2 \\cap A_3) = P(A_1) \\cdot P(A_2 | A_1) \\cdot P(A_3 | A_1 \\cap A_2)\n",
    "$\n",
    "\n",
    "Let's start with $ P(A_1) $:\n",
    "\n",
    "$\n",
    "P(A_1) = \\frac{2}{52}\n",
    "$\n",
    "\n",
    "Then, using the reduced sample space approach:\n",
    "$\n",
    "P(A_2 | A_1) = \\frac{8}{51}\n",
    "$\n",
    "\n",
    "And again, using the reduced sample space approach:\n",
    "\n",
    "$\n",
    "P(A_3 | A_1 \\cap A_2) = \\frac{12}{50}\n",
    "$, as there are four 4's, four 5's, and four 6's.\n",
    "\n",
    "Therefore,\n",
    "\n",
    "$\n",
    "P(A_1 \\cap A_2 \\cap A_3) = P(A_1) \\cdot P(A_2 | A_1) \\cdot P(A_3 | A_1 \\cap A_2) = \\frac{2}{52} \\cdot \\frac{8}{51} \\cdot frac{12}{50} = \\frac{8}{5525}\n",
    "$"
   ]
  },
  {
   "cell_type": "markdown",
   "metadata": {},
   "source": [
    "The property of independence from the theorem:\n",
    "\n",
    "> two events are independent if and only if $ P(A \\cap B) = P(A) \\cdot P(B) $\n",
    "\n",
    "can be extended to deal with more than two events:\n",
    "\n",
    "A collection of events $ \\mathcal{A} = \\{ A_1, \\ldots A_n \\} $ are mutually independent if for any subset of $ \\mathcal{A} $, $ A_{i_{1}}, \\ldots A_{i_{k}} $, for $ k \\le n $, we have\n",
    "\n",
    "$\n",
    "P(A_{i_{1}} \\cap \\ldots \\cap A_{i_{k}}) = P(A_{i_{1}}) \\cdot \\ldots \\cdot A_{i_{k}}\n",
    "$.\n",
    "\n",
    "For example, for $ A, B, C $ to be independent, it is not sufficient that $ P(A \\cap B \\cap C) = P(A) \\cdot P(B) \\cdot P(C)."
   ]
  },
  {
   "cell_type": "markdown",
   "metadata": {},
   "source": [
    "72"
   ]
  },
  {
   "cell_type": "markdown",
   "metadata": {},
   "source": []
  },
  {
   "cell_type": "code",
   "execution_count": 7,
   "metadata": {},
   "outputs": [
    {
     "data": {
      "text/plain": [
       "8/5525"
      ]
     },
     "execution_count": 7,
     "metadata": {},
     "output_type": "execute_result"
    }
   ],
   "source": [
    "import imp\n",
    "from libs.fractions import Fraction\n",
    "\n",
    "Fraction(2, 52) * Fraction(8, 51) * Fraction(12, 50)"
   ]
  }
 ],
 "metadata": {
  "kernelspec": {
   "display_name": "Python 3.9.13 ('tf')",
   "language": "python",
   "name": "python3"
  },
  "language_info": {
   "codemirror_mode": {
    "name": "ipython",
    "version": 3
   },
   "file_extension": ".py",
   "mimetype": "text/x-python",
   "name": "python",
   "nbconvert_exporter": "python",
   "pygments_lexer": "ipython3",
   "version": "3.9.13"
  },
  "orig_nbformat": 2,
  "vscode": {
   "interpreter": {
    "hash": "c92077116c6f858a83e53df756e09170201c87553591c7ab1f5678f3860e84b6"
   }
  }
 },
 "nbformat": 4,
 "nbformat_minor": 2
}
