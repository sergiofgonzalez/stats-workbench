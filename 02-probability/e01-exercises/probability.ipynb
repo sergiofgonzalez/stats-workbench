{
 "cells": [
  {
   "cell_type": "markdown",
   "metadata": {},
   "source": [
    "# Exercises from Probability"
   ]
  },
  {
   "cell_type": "markdown",
   "metadata": {},
   "source": [
    "## Exercises 2.1\n",
    "\n",
    "List the elements of each of the following sample spaces\n",
    "\n",
    "1. The set of integers between 1 and 40 divisible by 8\n",
    "2. The set $ S = \\{ x \\; | \\; x^2 + 4x - 5 = 0 \\} $\n",
    "3. The set of outcomes when a coin is tossed until a tail or three heads appear.\n",
    "4. The set $ S = \\{ x \\; | \\text{ x is a continent } \\} $\n",
    "5. The set $ S = \\{ x \\; | \\; 2x - 4 \\ge 0 \\text{ and } x \\lt 1 \\} $"
   ]
  },
  {
   "cell_type": "markdown",
   "metadata": {},
   "source": [
    "For the first question:\n",
    "\n",
    "$$\n",
    "S = \\{ 8, 16, 24, 32, 40 \\}\n",
    "$$"
   ]
  },
  {
   "cell_type": "markdown",
   "metadata": {},
   "source": [
    "For the second question:\n",
    "\n",
    "$$\n",
    "x^2 + 4x - 5 = (x + 5)\\cdot (x - 1) \\\\\n",
    "S = \\{ -5, 1 \\}\n",
    "$$"
   ]
  },
  {
   "cell_type": "markdown",
   "metadata": {},
   "source": [
    "For the third question:\n",
    "\n",
    "$$\n",
    "S = \\{ T, HT, HHT, HHH \\}\n",
    "$$\n"
   ]
  },
  {
   "cell_type": "markdown",
   "metadata": {},
   "source": [
    "For the fourth question:\n",
    "\n",
    "$$\n",
    "S = \\{ Europe, Africa, America, Australia, Asia \\}\n",
    "$$"
   ]
  },
  {
   "cell_type": "markdown",
   "metadata": {},
   "source": [
    "For the fifth question:\n",
    "\n",
    "$$\n",
    "2x - 4 \\ge 0 \\Rightarrow x \\ge 2 \\\\\n",
    "\n",
    "S = \\phi\n",
    "$$\n",
    "\n",
    "As it cannot be that $ x \\ge 2 $ and at the same time $ x \\lt 1 $."
   ]
  },
  {
   "cell_type": "markdown",
   "metadata": {},
   "source": [
    "## Exercise 2.2\n",
    "\n",
    "Use the rule method to describe the sample space $ S $ consisting of all points in the first quadrant inside a circle of radius 3 with center at the origin."
   ]
  },
  {
   "cell_type": "markdown",
   "metadata": {},
   "source": [
    "Assuming the first quadrant is the portion of the 2D plane when $ x \\ge 0 $ and $ y \\ge 0 $.\n",
    "\n",
    "$$\n",
    "S = \\{ (x, y) \\; | \\; x^2 + y^2 \\lt 3 \\; ; x \\ge 0, \\; y \\ge 0 \\}\n",
    "$$"
   ]
  },
  {
   "cell_type": "markdown",
   "metadata": {},
   "source": [
    "## Exercise 2.3\n",
    "\n",
    "Which of the following events are equal?\n",
    "\n",
    "1. $ A = \\{1, 3 \\} $\n",
    "2. $ B = \\{ x \\; | \\; \\text{ x is a number on a die } \\} $\n",
    "3. $ C = \\{ x \\; | \\; x^2 - 4x + 3 = 0 \\} $\n",
    "4. $ D = \\{ x \\; | \\; \\text{ x is the number of heads when six coins are tossed } \\} $"
   ]
  },
  {
   "cell_type": "markdown",
   "metadata": {},
   "source": [
    "Let's drill-down the elements of each space:\n",
    "\n",
    "1. $ A = \\{1, 3 \\} $\n",
    "2. $ B = \\{ 1, 2, 3, 4, 5, 6 \\} $\n",
    "3. $ C = \\{ 1, 3 \\} $\n",
    "4. $ D = \\{ 0, 1, 2, 3, 4, 5, 6 \\} $\n",
    "\n",
    "Note that, according to the quadratic formula:\n",
    "\n",
    "Let\n",
    "$$\n",
    "ax^2 + bx + c = 0 \\\\\n",
    "x = \\frac{-b \\pm \\sqrt{b^2 - 4ac}}{2a}\n",
    "$$\n",
    "\n",
    "Thus for our example where $ a = 1, \\; b = -4 \\; c = 3 $:\n",
    "\n",
    "$$\n",
    "x = \\begin{cases}\n",
    "3 \\\\\n",
    "1\n",
    "\\end{cases}\n",
    "$$"
   ]
  },
  {
   "cell_type": "markdown",
   "metadata": {},
   "source": [
    "Therefore, $ A $ and $ C $ are equal."
   ]
  },
  {
   "cell_type": "markdown",
   "metadata": {},
   "source": [
    "## Exercise 2.4\n",
    "\n",
    "An experiment involves tossing a pair of dice, one green and one red, and recording the numbers that come up. If $ x $ equals the outcome on the green die and $ y $ the outcome on the red die, describe the sample space $ S $\n",
    "\n",
    "1. by listing the elements $ (x, y) $\n",
    "2. by using the rule method"
   ]
  },
  {
   "cell_type": "markdown",
   "metadata": {},
   "source": [
    "By way of listing the elements we have:\n",
    "\n",
    "$$\n",
    "S = \\{ (1, 1), (1, 2), (1, 3), \\ldots (1, 6), (2, 1), (2, 2), \\ldots (2, 6), \\ldots (6, 1), (6,2), (6,3), \\ldots (6, 6) \\}\n",
    "$$\n",
    "\n",
    "By way of using the rule method we have:\n",
    "\n",
    "$$\n",
    "S = \\{ (x, y) \\; | \\; \\text{where } 1 \\le x \\le 6 \\text{ and } 1 \\le y \\le 6\\}\n",
    "$$\n",
    "\n"
   ]
  },
  {
   "cell_type": "markdown",
   "metadata": {},
   "source": [
    "## Exercise 2.5\n",
    "\n",
    "An experiment consists of tossing a die and then flipping a coin once if the number on the die is even. If the number on the die is odd, the coin is flipped twice. Using the notation $ 4H $, for example, to denote the outcome that the die comes up 4 and then the coin comes up heads, construct a tree diagram to show the 18 elements of the sample space $ S $."
   ]
  },
  {
   "cell_type": "markdown",
   "metadata": {},
   "source": [
    "You can see the tree diagram below:\n",
    "\n",
    "![Tree diagram](../images/tree_diagram_ex_2.5.png)"
   ]
  },
  {
   "cell_type": "markdown",
   "metadata": {},
   "source": [
    "And the sample space is:\n",
    "\n",
    "$$\n",
    "S = \\{ 1HH, 1HT, 1TH, 1TT, \\\\\n",
    "       2H, 2T, \\\\\n",
    "       3HH, 3HT, 3TH, 3TT, \\\\\n",
    "       4H, 4T, \\\\\n",
    "       5HH, 5HT, 5TH, 5TT, \\\\\n",
    "       6H, 6T \\}\n",
    "$$"
   ]
  },
  {
   "cell_type": "markdown",
   "metadata": {},
   "source": [
    "## Exercise 2.6\n",
    "\n",
    "Two jurors are selected from 4 alternates to serve at a murder trial. Using the notation $ A_1 A_3 $, for example, to denote the simple event that alternates 1 and 3 are selected, list the 6 elements of the sample space $ S $."
   ]
  },
  {
   "cell_type": "markdown",
   "metadata": {},
   "source": [
    "Although we can use a tree diagram, it wouldn't prevent us from removing all the duplicate pairs, for example, $ A_3 A_1 $, which is the same as $ A_1 A_3 $.\n",
    "\n",
    "Therefore:\n",
    "\n",
    "$$\n",
    "S = \\{ A_1 A_2, A_1 A_3, A_1 A_4, A_2 A_3, A_2 A_4, A_3 A_4 \\}\n",
    "$$"
   ]
  },
  {
   "cell_type": "markdown",
   "metadata": {},
   "source": [
    "## Exercise 2.7\n",
    "\n",
    "Four students are selected at random from a chemistry class and classified as male or female. List the elements of the sample space $ S_1 $. Define a second sample space $ S_2 $, where the elements represent the number of females selected."
   ]
  },
  {
   "cell_type": "markdown",
   "metadata": {},
   "source": [
    "$$\n",
    "S_1 = \\{ MMMM, MMMF, MMFM, MMFF, MFMM, MFMF, MFFM, MFFF, FMMM, FMMF, FMFM, FMFF, FFMM, FFMF, FFFM, FFFF \\}\n",
    "$$\n",
    "\n",
    "$$\n",
    "S_2 = \\{ 0, 1, 2, 3, 4 \\}\n",
    "$$\n"
   ]
  },
  {
   "cell_type": "markdown",
   "metadata": {},
   "source": [
    "## Exercise 2.8\n",
    "\n",
    "For the sample space of [Exercise 2.4](#exercise-24),\n",
    "> An experiment involves tossing a pair of dice, one green and one red, and recording the numbers that come up. \n",
    "\n",
    "1. List the elements corresponding to the event $ A $ that the sum is greater than 8.\n",
    "2. List the elements that correspond to the event $ B $ that a 2 occurs on either die.\n",
    "3. List the elements corresponding to the event $ C $ that a number greater than 4 comes up on the green die.\n",
    "4. List the elements corresponding to the event $ A \\cap C $.\n",
    "5. List the elements corresponding to the event $ A \\cap B $.\n",
    "6. List the elements corresponding to the event $ B \\cap C $.\n",
    "7. Construct a Venn diagram to illustrate the intersections and unions of the events $ A $, $ B $, and $ C $."
   ]
  },
  {
   "cell_type": "markdown",
   "metadata": {},
   "source": [
    "For the first question:\n",
    "\n",
    "$ A  = \\{ (3, 6), (4, 5), (4, 6), (5, 4), (5, 5), (5, 6), (6, 3), (6, 4), (6, 5), (6, 6) \\} $"
   ]
  },
  {
   "cell_type": "markdown",
   "metadata": {},
   "source": [
    "For event $ B $:\n",
    "\n",
    "$ B = \\{ (2, 1), (2, 2), (2, 3), (2, 4), (2, 5), (2, 6), (1, 2), (3, 2), (4, 2), (5, 2), (6, 2) \\}$ "
   ]
  },
  {
   "cell_type": "markdown",
   "metadata": {},
   "source": [
    "For the event $ C $:\n",
    "\n",
    "$\n",
    "C = \\{ (5, 1), (5, 2), (5, 3), (5, 4), (5, 5), (5, 6), (6, 1), (6, 2), (6, 3), (6, 4), (6,5), (6, 6) \\}\n",
    "$"
   ]
  },
  {
   "cell_type": "markdown",
   "metadata": {},
   "source": [
    "Thus:\n",
    "\n",
    "$\n",
    "A \\cap C = \\{ (5, 4), (5, 5), (5, 6), (6, 3), (6, 4), (6, 5), (6, 6) \\}\n",
    "$"
   ]
  },
  {
   "cell_type": "markdown",
   "metadata": {},
   "source": [
    "$\n",
    "A \\cap B = \\phi\n",
    "$"
   ]
  },
  {
   "cell_type": "markdown",
   "metadata": {},
   "source": [
    "$\n",
    "B \\cap C = \\{ (5, 2), (6, 2) \\}\n",
    "$"
   ]
  },
  {
   "cell_type": "markdown",
   "metadata": {},
   "source": [
    "The following diagram illustrates the intersections and unions of $ A $, $ B $, $ C $:\n",
    "\n",
    "![Venn diagram](../images/venn_diagram_ex_2.8.png)"
   ]
  },
  {
   "cell_type": "markdown",
   "metadata": {},
   "source": [
    "## Exercise 2.9\n",
    "\n",
    "For the sample space of [Exercise 2.5](#exercise-25):\n",
    "> An experiment consists of tossing a die and then flipping a coin once if the number on the die is even. If the number on the die is odd, the coin is flipped twice.\n",
    "\n",
    "\n",
    "1. List the elements corresponding to the event $ A $ that a number less than 3 occurs on the die.\n",
    "2. List the elements corresponding to the event $ B $ that two tails occur.\n",
    "3. List the elements corresponding to $ A' $.\n",
    "4. List the elements corresponding to $ A' \\cap B $.\n",
    "5. List the elements corresponding to $ A \\cup B $."
   ]
  },
  {
   "cell_type": "markdown",
   "metadata": {},
   "source": [
    "The $ A $ event can be described as:\n",
    "\n",
    "$\n",
    "A = \\{ 1HH, 1HT, 1TH, 1TT, 2H, 2T \\}\n",
    "$"
   ]
  },
  {
   "cell_type": "markdown",
   "metadata": {},
   "source": [
    "The elements for $ B $ are:\n",
    "\n",
    "$\n",
    "B = \\{ 1TT, 3TT, 5TT \\}\n",
    "$"
   ]
  },
  {
   "cell_type": "markdown",
   "metadata": {},
   "source": [
    "The elements corresponding to $ A' $ are:\n",
    "\n",
    "$\n",
    "A' = \\{ 3HH, 3HT, 3TH, 3TT, 4H, 4T, 5HH, 5HT, 5TH, 5TT, 6H, 6T \\}\n",
    "$"
   ]
  },
  {
   "cell_type": "markdown",
   "metadata": {},
   "source": [
    "Thus:\n",
    "\n",
    "$\n",
    "A' \\cap B = \\{ 3TT, 5TT \\}\n",
    "$"
   ]
  },
  {
   "cell_type": "markdown",
   "metadata": {},
   "source": [
    "And:\n",
    "\n",
    "$\n",
    "A \\cup B = \\{ 1HH, 1HT, 1TH, 1TT, 2H, 2T, 3TT, 5TT \\}\n",
    "$"
   ]
  },
  {
   "cell_type": "markdown",
   "metadata": {},
   "source": [
    "## Exercise 2.10\n",
    "\n",
    "An engineering firm is hired to determine if certain waterways in Virginia are safe for fishing. Samples are taken from three rivers.\n",
    "1. List the elements of a sample space $ S $, using the letters $ F $ for safe to fish, and $ N $ for not safe to fish.\n",
    "2. List the elements of $ S $ corresponding to event $ E $ that at least two of the rivers are safe for fishing.\n",
    "3. Define an event that has as its elements the points $ \\{ FFF, NFF, FFN, NFN \\} $"
   ]
  },
  {
   "cell_type": "markdown",
   "metadata": {},
   "source": [
    "$\n",
    "S = \\{ FFF, FFN, FNF, FNN, NFF, NFN, NNF, NNN \\}\n",
    "$"
   ]
  },
  {
   "cell_type": "markdown",
   "metadata": {},
   "source": [
    "$\n",
    "E = \\{ FFF, FFN, FNF, NFF \\}\n",
    "$"
   ]
  },
  {
   "cell_type": "markdown",
   "metadata": {},
   "source": [
    "The number three might be an event in which the second river is safe for fishing."
   ]
  },
  {
   "cell_type": "markdown",
   "metadata": {},
   "source": [
    "## Exercise 2.11\n",
    "\n",
    "The resumés of two male applicants for a college teaching position in chemistry are placed in the same file as the resumés of two female applicants. Two positions become available, and the first, at the rank of assistant professor, is filled by selecting one of the four applicants at random. The second position, at the rank of instructor, is then filled by selecting at random one of the remaining three applicants.\n",
    "\n",
    "Using the notation $ M_1 F_2 $, for example, to denote the simple event that the first position is filled by the first male applicant, and the second position is then filled by the second female applicant:\n",
    "\n",
    "1. List the elements of a sample space $ S $.\n",
    "2. List the elements of $ S $ corresponding to event $ A $ that the position of assistant professor is filled by a male applicant.\n",
    "3. List the elements of $ S $ corresponding to event $ B $ that exactly one of the two positions is filled by a male applicant.\n",
    "4. List the elements of $ S $ corresponding to event $ C $ that neither position is filled by a male applicant.\n",
    "5. List the elements of $ S $ corresponding to the event $ A \\cap B $.\n",
    "6. List the elements of $ S $ corresponding to the event $ A \\cup C $.\n",
    "7. Construct a Venn diagram to illustrate the intersections and unions of $ A $, $ B $, and $ C $."
   ]
  },
  {
   "cell_type": "markdown",
   "metadata": {},
   "source": [
    "Using a tree diagram is easy to derive the sample space $ S $ as:\n",
    "\n",
    "$\n",
    "S = \\{ M_1M_2, M_1F_1, M_1F_2, M_2M_1, M_2F_1, M_2F_2, F_1M_1, F_1M_2, F_1F_2, F_2M_1, F_2M_2, F_2F_1\\}\n",
    "$"
   ]
  },
  {
   "cell_type": "markdown",
   "metadata": {},
   "source": [
    "$\n",
    "A = \\{ M_1M_2, M_1F_1, M_1F_2, M_2M_1, M_2F_1, M_2F_2 \\}\n",
    "$"
   ]
  },
  {
   "cell_type": "markdown",
   "metadata": {},
   "source": [
    "$\n",
    "B = \\{ M_1F_1, M_1F_2, M_2F_1, M_2F_2, F_1M_1, F_1M_2, F_2M_1, F_2M_2 \\}\n",
    "$"
   ]
  },
  {
   "cell_type": "markdown",
   "metadata": {},
   "source": [
    "$\n",
    "C = \\{ F_1F_2, F_2F_1 \\}\n",
    "$"
   ]
  },
  {
   "cell_type": "markdown",
   "metadata": {},
   "source": [
    "$\n",
    "A \\cap B = \\{ M_1F_1, M_1F_2, M_2F_1, M_2F_2 \\}\n",
    "$"
   ]
  },
  {
   "cell_type": "markdown",
   "metadata": {},
   "source": [
    "$\n",
    "A \\cup B = \\{ M_1M_2, M_1F_1, M_1F_2, M_2M_1, M_2F_1, M_2F_2, F_1F_2, F_2F_1 \\}\n",
    "$"
   ]
  },
  {
   "cell_type": "markdown",
   "metadata": {},
   "source": [
    "![Venn diagram](../images/venn_diagram_ex_2.11.png)"
   ]
  },
  {
   "cell_type": "markdown",
   "metadata": {},
   "source": [
    "## Exercise 2.12\n",
    "\n",
    "Exercise and diet are being studied as possible substitutes for medication to lower blood pressure. Three group of subjects will be used to study the effect of exercise. Group 1 is sedentary, while group 2 walks and group 3 swims for 1 hour a day. Half of each of the three exercise groups will be on a salt-free diet. An additional group of subjects will not exercise or restrict their salt, but will take the standard medication.\n",
    "\n",
    "Using $ Z $ for sedentary, $ W $ for walker, $ S $ for swimmer, $ Y $ for salt, $ N $ for no salt, $ M $ for medication and $ F $ for medication free.\n",
    "\n",
    "1. Show all the elements of the sample space $ S $.\n",
    "2. Given that $ A $ is the set of nonmedicated subjects and B is the set of walkers, list the elements $ A \\cup B $.\n",
    "3. List the elements $ A \\cap B $."
   ]
  },
  {
   "cell_type": "markdown",
   "metadata": {},
   "source": [
    "Me not understand 😔"
   ]
  },
  {
   "cell_type": "markdown",
   "metadata": {},
   "source": [
    "## Exercise 2.13\n",
    "\n",
    "Construct a Venn diagram to illustrate the possible intersections and unions for the following events relative to the sample space consisting of all automobiles made in the US:\n",
    "\n",
    "F: Four door\n",
    "S: Sun roof\n",
    "P: Power steering"
   ]
  },
  {
   "cell_type": "markdown",
   "metadata": {},
   "source": [
    "There's nothing preventing four door cars to have sun roof and power steering.\n",
    "\n",
    "Therefore:\n",
    "\n",
    "![Venn diagram](../images/venn_diagram_ex_2.13.png)\n"
   ]
  },
  {
   "cell_type": "markdown",
   "metadata": {},
   "source": [
    "## Exercise 2.14\n",
    "\n",
    "If $ S = \\{ 0, 1, 2, 3, 4, 5, 6, 7, 8, 9 \\}$ and $ A = \\{ 0, 2, 4, 6, 8 \\}$, $ B = \\{ 1, 3, 5, 7, 9 \\}$, $ C = \\{ 2, 3, 4, 5 \\} $, and $ D = \\{ 1, 6, 7 \\} $, list the elements of the sets corresponding to the following events:\n",
    "\n",
    "1. $ A \\cup C $\n",
    "2. $ A \\cap B $\n",
    "3. $ C' $\n",
    "4. $ (C' \\cap D) \\cup B $\n",
    "5. $ (S \\cap C)' $\n",
    "6. $ A \\cap C \\cap D' $"
   ]
  },
  {
   "cell_type": "markdown",
   "metadata": {},
   "source": [
    "Let's try manually first:\n",
    "\n",
    "1. $ A \\cup C = \\{0, 2, 3, 4, 5, 6, 8\\} $\n",
    "2. $ A \\cap B = \\phi $\n",
    "3. $ C' = \\{0, 1, 6, 7, 8, 9 \\}$\n",
    "4. $ (C' \\cap D) \\cup B = \\{ 1, 6, 7 \\} \\cup \\{ 1, 3, 5, 7, 9 \\} = \\{ 1, 3, 5, 6, 7, 9\\} $\n",
    "5. $ (S \\cap C)' = (\\{ 2, 3, 4, 5 \\})' = \\{0, 1, 6, 7, 8, 9 \\} = S' \\cup C' = \\phi \\cup C' = C' = \\{0, 1, 6, 7, 8, 9 \\} $\n",
    "6. $ A \\cap C \\cap D' = \\{ 2, 4 \\} \\cap D' = \\{ 2, 4 \\} \\cap \\{ 0, 2, 3, 4, 5, 8, 9 \\} = \\{ 2, 4 \\} $"
   ]
  },
  {
   "cell_type": "markdown",
   "metadata": {},
   "source": [
    "Python provides support for union and intersection, which we can use to verify the manual results"
   ]
  },
  {
   "cell_type": "code",
   "execution_count": 10,
   "metadata": {},
   "outputs": [
    {
     "name": "stdout",
     "output_type": "stream",
     "text": [
      "a ∪ c = {0, 2, 3, 4, 5, 6, 8}\n",
      "a ∩ b = set()\n",
      "c' = {0, 1, 6, 7, 8, 9}\n",
      "(c' ∩ d) ∪ b = {1, 3, 5, 6, 7, 9}\n",
      "(s ∩ c)' = {0, 1, 6, 7, 8, 9}\n",
      "a ∩ c ∩ d' = {2, 4}\n"
     ]
    }
   ],
   "source": [
    "s = {0, 1, 2, 3, 4, 5, 6, 7, 8, 9}\n",
    "a = {0, 2, 4, 6, 8}\n",
    "b = {1, 3, 5, 7, 9}\n",
    "c = {2, 3, 4, 5}\n",
    "d = {1, 6, 7}\n",
    "\n",
    "\n",
    "print(f'a ∪ c = {a.union(c)}')\n",
    "print(f'a ∩ b = {a.intersection(b)}')\n",
    "print(f\"c' = {s.difference(c)}\")\n",
    "print(f\"(c' ∩ d) ∪ b = {s.difference(c).intersection(d).union(b)}\")\n",
    "print(f\"(s ∩ c)' = {s.difference(s.intersection(c))}\")\n",
    "print(f\"a ∩ c ∩ d' = {a.intersection(c).intersection(s.difference(d))}\")"
   ]
  },
  {
   "cell_type": "markdown",
   "metadata": {},
   "source": [
    "## Exercise 2.15\n",
    "\n",
    "Consider the sample space $ S = \\{ copper, sodium, nitrogen, potassium, uranium, oxygen, zinc \\} $ and the events:\n",
    "\n",
    "$ \n",
    "A = \\{ copper, sodium, zinc \\} \\\\\n",
    "B = \\{ sodium, nitrogen, potassium \\} \\\\\n",
    "C = \\{ oxygen \\}\n",
    "$\n",
    "\n",
    "List the elements of the sets corresponding to the following events:\n",
    "\n",
    "1. $ A' $\n",
    "2. $ A \\cup C $\n",
    "3. $ (A \\cap B') \\cup C' $\n",
    "4. $ B' \\cap C' $\n",
    "5. $ A \\cap B \\cap C $\n",
    "6. $ (A' \\cup B') \\cap (A' \\cap C) $"
   ]
  },
  {
   "cell_type": "markdown",
   "metadata": {},
   "source": [
    "Let's try manually first:\n",
    "\n",
    "1. $ A' = \\{ nitrogen, potassium, uranium, oxygen \\}$\n",
    "2. $ A \\cup C = \\{ copper, sodium, zinc, oxygen \\}$\n",
    "3. $ (A \\cap B') \\cup C' = A \\cap \\{copper, uraniun, oxygen, zinc \\} \\cup \\{ copper, sodium, nitrogen, potassium, uranim, zinc \\} = \\{ copper, zinc \\} \\cup \\{ copper, sodium, nitrogen, potassium, uranim, zinc \\} = \\{ copper, sodium, nitrogen, potassium, uranium, zinc \\} $\n",
    "4. $ B' \\cap C' = \\{copper, uraniun, oxygen, zinc \\} \\cap \\{ copper, sodium, nitrogen, potassium, uranium, zinc \\} = \\{ copper, uranium, zinc \\} = (B \\cup C)' = (\\{ sodium, nitrogen, potassium \\} \\cup \\{ oxygen \\})' = (\\{ sodium, nitrogen, potassium, oxygen \\})' = \\{ copper, uranium, zinc \\} $ \n",
    "5. $ A \\cap B \\cap C = \\phi $ \n",
    "6. $ (A' \\cup B') \\cap (A' \\cap C) = (\\{ nitrogen, potassium, uranium, oxygen \\} \\cup \\{copper, uraniun, oxygen, zinc \\}) \\cap (\\{ nitrogen, potassium, uranium, oxygen \\} \\cap \\{ oxygen \\}) = \\{ copper, nitrogen, potassium, uranium, oxygen, zinc \\} \\cap \\{ oxygen \\} = \\{ oxygen \\}$"
   ]
  },
  {
   "cell_type": "markdown",
   "metadata": {},
   "source": [
    "Let's try now with Python:"
   ]
  },
  {
   "cell_type": "code",
   "execution_count": 17,
   "metadata": {},
   "outputs": [
    {
     "name": "stdout",
     "output_type": "stream",
     "text": [
      "a' = {'uranium', 'potassium', 'nitrogen', 'oxygen'}\n",
      "a ∪ c = {'zinc', 'copper', 'sodium', 'oxygen'}\n",
      "(a ∩ b') ∪ c'  = {'nitrogen', 'copper', 'uranium', 'zinc', 'potassium', 'sodium'}\n",
      "b' ∩ c' = {'zinc', 'copper', 'uranium'}\n",
      "a ∩ b ∩ c = set()\n",
      "(a' ∪ b') ∩ (a' ∩ c) = {'oxygen'}\n"
     ]
    }
   ],
   "source": [
    "s = { \"copper\", \"sodium\", \"nitrogen\", \"potassium\", \"uranium\", \"oxygen\", \"zinc\"}\n",
    "a = { \"copper\", \"sodium\", \"zinc\" }\n",
    "b = { \"sodium\", \"nitrogen\", \"potassium\" }\n",
    "c = { \"oxygen\" }\n",
    "\n",
    "\n",
    "print(f\"a' = {s.difference(a)}\")\n",
    "print(f\"a ∪ c = {a.union(c)}\")\n",
    "print(f\"(a ∩ b') ∪ c'  = {a.intersection(s.difference(b)).union(s.difference(c))}\")\n",
    "print(f\"b' ∩ c' = {s.difference(b).intersection(s.difference(c))}\")\n",
    "print(f\"a ∩ b ∩ c = {a.intersection(b).intersection(c)}\")\n",
    "print(f\"(a' ∪ b') ∩ (a' ∩ c) = {(s.difference(a).union(s.difference(b))).intersection(s.difference(a).intersection(c))}\")"
   ]
  },
  {
   "cell_type": "markdown",
   "metadata": {},
   "source": [
    "## Exercise 2.16\n",
    "\n",
    "If $ S = \\{ x \\; | \\; 0 \\lt x \\lt 12 \\} $, $ M = \\{ x \\; | \\; 1 \\lt x \\lt 9 \\} $, and $ N = \\{ x \\; | \\; 0 \\lt x \\lt 5 \\} $, find:\n",
    "\n",
    "1. $ M \\cup N $\n",
    "2. $ M \\cap N $\n",
    "3. $ M' \\cap N' $"
   ]
  },
  {
   "cell_type": "markdown",
   "metadata": {},
   "source": [
    "Let's do it manually, and describing the elements with rules:\n",
    "\n",
    "1. $ M \\cup N  = \\{ x \\; | \\; 0 \\lt x \\lt 9 \\} $\n",
    "2. $ M \\cap N  = \\{ x \\; | \\; 1 \\lt x \\lt 5 \\} $\n",
    "3. $ M' \\cap N' = (M \\cup N)' = (\\{ x \\; | \\; 0 \\lt x \\lt 9 \\})' = \\{ x \\; | \\; 9 \\le x \\lt 12  \\}  $"
   ]
  },
  {
   "cell_type": "markdown",
   "metadata": {},
   "source": [
    "Now in Python:"
   ]
  },
  {
   "cell_type": "code",
   "execution_count": 25,
   "metadata": {},
   "outputs": [
    {
     "name": "stdout",
     "output_type": "stream",
     "text": [
      "m ∪ n = {1, 2, 3, 4, 5, 6, 7, 8}\n",
      "m ∩ n = {2, 3, 4}\n",
      "m' ∩ n' = {9, 10, 11}\n"
     ]
    }
   ],
   "source": [
    "s = { x for x in range(1, 12) }\n",
    "m = { x for x in range (2, 9) }\n",
    "n = { x for x in range(1, 5) }\n",
    "\n",
    "print(f\"m ∪ n = {m.union(n)}\")\n",
    "print(f\"m ∩ n = {m.intersection(n)}\")\n",
    "print(f\"m' ∩ n' = {s.difference(m).intersection(s.difference(n))}\")"
   ]
  },
  {
   "cell_type": "markdown",
   "metadata": {},
   "source": [
    "## Exercise 2.17\n",
    "\n",
    "Let $ A $, $ B $, and $ C $ be events relative so the sample space $ S $. Using Venn diagrams, shade the areas representing the following events:\n",
    "\n",
    "1. $ (A \\cap B)' $\n",
    "2. $ (A \\cup B)' $\n",
    "3. $ (A \\cap C) \\cup B $\n"
   ]
  },
  {
   "cell_type": "markdown",
   "metadata": {},
   "source": [
    "1. ![Solution 1](../images/venn_diagram_ex_2.17-1.png)\n",
    "2. ![Solution 1](../images/venn_diagram_ex_2.17-2.png)\n",
    "3. ![Solution 1](../images/venn_diagram_ex_2.17-3.png)"
   ]
  },
  {
   "cell_type": "markdown",
   "metadata": {},
   "source": [
    "## Exercise 2.18\n",
    "\n",
    "Which of the following events are mutually exclusive?\n",
    "\n",
    "1. A golfer scoring the lowest 18-hole round in a 72-hole tournament and losing the tournament.\n",
    "2. A poker player getting a flush (all card in the same suit) and 3 of a kind on the same 5-card hand.\n",
    "3. A mother giving birth to a baby girl and a set of twind daughters on the same day.\n",
    "4. A chess player losing the last game and winning the match.\n"
   ]
  },
  {
   "cell_type": "markdown",
   "metadata": {},
   "source": [
    "Clearly, (2) and (4) describe mutually exclusive events."
   ]
  },
  {
   "cell_type": "markdown",
   "metadata": {},
   "source": [
    "## Exercise 2.19\n",
    "\n",
    "Suppose that a family is leaving on a summer vacation in their camper and that $ M $ is the event that they will experience mechanical problems, $ T $ is the event that they will receive a ticket for committing a traffic violation, and $ V $ is the event that they arrive at a campsite with no vacancies. \n",
    "\n",
    "Referring to the Venn diagram below, state in words the events represented by the following regions:\n",
    "\n",
    "1. region 5\n",
    "2. region 3\n",
    "3. regions 1 and 2 together\n",
    "4. regions 4 and 7 together\n",
    "5. regions 3, 6, 7, and 8 together\n",
    "\n",
    "![Fig 2.15](../images/venn_diagram_fig_2.15.png)"
   ]
  },
  {
   "cell_type": "markdown",
   "metadata": {},
   "source": [
    "1. $ (T \\cup V)' $, that is, the event in which $ T $ and $ V $ happens (they don't receive a ticket and they don't arrive at a campsite with no vacancies). It is the same as $ T' \\cap V' $ (they don't receive a ticket **and** they don't arrive at a campsite with no vacancies). They will experience mechanical problems though. \n",
    "\n",
    "In simpler words: the family will experience mechanical problems but they won't receive a ticket and will not arrive at a campsite with no vacancies."
   ]
  },
  {
   "cell_type": "markdown",
   "metadata": {},
   "source": [
    "2. The family will receive a ticket and arrive at a campsite with no vacancies without suffering mechanical problems."
   ]
  },
  {
   "cell_type": "markdown",
   "metadata": {},
   "source": [
    "3. The family will suffer mechanical problems, a ticket and arrive at a campsite with no vacancies."
   ]
  },
  {
   "cell_type": "markdown",
   "metadata": {},
   "source": [
    "4. The family will suffer mechanical problems and a ticket, but will not arrive at a campsite that has no vacancies."
   ]
  },
  {
   "cell_type": "markdown",
   "metadata": {},
   "source": [
    "5. The family will not experience mechanical problems."
   ]
  },
  {
   "cell_type": "markdown",
   "metadata": {},
   "source": [
    "## Exercise 2.20\n",
    "\n",
    "Referring to [Exercise 2.19](#exercise-219) and the Venn diagram of the figure below, list the numbers of the regions that represent the following events:\n",
    "\n",
    "1. The family will experience no mechanical problems and will not receive a ticket for a traffic violation but will arrive at a campsite with no vacancies.\n",
    "2. The family will experience both mechanical problems and trouble in locating a campsite with a vacancy but will not receive a ticket for a traffic violation.\n",
    "3. The family will either have mechanical trouble or arrive at a campsite with no vacancies but will not receive a ticket for a traffic violation.\n",
    "4. The family will not arrive at a campsite with no vacancies."
   ]
  },
  {
   "cell_type": "markdown",
   "metadata": {},
   "source": [
    "1. Region 6\n",
    "2. Region 2\n",
    "3. Regions 2, 5, and 6\n",
    "4. Regions 4, 5, 7 and 8."
   ]
  },
  {
   "cell_type": "markdown",
   "metadata": {},
   "source": [
    "## Exercise 2.21\n",
    "\n",
    "Registrants at a large convention are offered 6 sightseeing tours on each of 3 days. In how many ways can a person arrange to go on a sightseeing tour planned by this convention?\n",
    "\n",
    "| Tip |\n",
    "| :-- |\n",
    "| A person is only allowed to go on one trip, and he/she can choose the trip and the day.  |\n"
   ]
  },
  {
   "cell_type": "markdown",
   "metadata": {},
   "source": [
    "Let's visualize the tree diagram associated to the exercise:\n",
    "\n",
    "![Tree diagram](../images/tree_diagram_ex_2.21.png)\n",
    "\n",
    "Thus, using the **multiplication rule** we see that $ n_1 = 3 $ and $ n_2 = 6 $ and thus there are $ n_1 \\; n_2 = 18 $ possible ways og choosing the tours:\n",
    "\n",
    "```\n",
    "D1T1, D1T2, D1T3, D1T4, D1T5, D1T6,\n",
    "D2T1, D2T2, D2T3, D2T4, D2T5, D2T6,\n",
    "D3T1, D3T2, D3T3, D3T4, D3T5, D3T6\n",
    "```"
   ]
  },
  {
   "cell_type": "markdown",
   "metadata": {},
   "source": [
    "## Exercise 2.22\n",
    "\n",
    "In a medical study, patients are classified in 8 ways according to whether they have boold type $ A B^+ $, $ A B^- $, $ A^+ $, $ A^- $, $ B^+ $, $ B^- $, $ O^+ $, $ O^- $, and also according to whether their blood pressure is low, normal, or high.\n",
    "\n",
    "Find the number of ways in which a patient can be classified."
   ]
  },
  {
   "cell_type": "markdown",
   "metadata": {},
   "source": [
    "Using the multiplication rule with $ n_1 = 8 $, $ n_2 = 3 $, we can conclude that there are $ n_1 \\; n_2 = 8 \\cdot 3 = 24 $ possible ways to classify a patient."
   ]
  },
  {
   "cell_type": "markdown",
   "metadata": {},
   "source": [
    "## Exercise 2.23\n",
    "\n",
    "If an experiment consists of throwing a die and then drawing a letter at random from the English alphabet, how many points are there in the sample space?"
   ]
  },
  {
   "cell_type": "markdown",
   "metadata": {},
   "source": [
    "Using the multiplication rule: $ n_1 = 6 $, $ n_2 = 26 $. Thus, there are $ n_1 \\; n_2 = 6 \\cdot 26 = 156 $ points in the sample space of the experiment described.\n",
    "\n"
   ]
  },
  {
   "cell_type": "markdown",
   "metadata": {},
   "source": [
    "## Exercise 2.24\n",
    "\n",
    "Students at a private liberal arts college are classified as being freshmen, sophomores, juniors, or seniors, and also according to whether they are male or female. Find the total number of possible classifications for the students of that college."
   ]
  },
  {
   "cell_type": "markdown",
   "metadata": {},
   "source": [
    "Using the multiplication rule: $ n_1 = 4 $, $ n_2 = 2 $. Thus, there are $ n_1 \\; n_2 = 4 \\cdot 2 = 8 $ possible ways to classify the students in that college."
   ]
  },
  {
   "cell_type": "markdown",
   "metadata": {},
   "source": [
    "## Exercise 2.25\n",
    "\n",
    "A certain brand of shoes comes in 5 different styles, with each style available in 4 distinct colors. If the store wishes to display pairs of these shoes showing all of its various styles and colors, how many different pairs will the store have on display?"
   ]
  },
  {
   "cell_type": "markdown",
   "metadata": {},
   "source": [
    "Using the multiplication rule: $ n_1 = 5 $, $ n_2 = 4 $. Thus, there are $ n_1 \\; n_2 = 5 \\cdot 4 = 20 $ different pairs will have to be on display."
   ]
  },
  {
   "cell_type": "markdown",
   "metadata": {},
   "source": [
    "## Exercise 2.26\n",
    "\n",
    "A California study concluded that following 7 simple health rules can extend a man's life by 11 years on the average and a woman's life by 7 years. These seven rules are as follows: no smoking, get regular exercise, use alcohol only in moderation, get 7 to 8 hours of sleep, maintain proper weight, eat breakfast, and do not eat between meals.\n",
    "\n",
    "In how many ways can a person adopt 5 of these rules to follow\n",
    "1. if the person presently violates all 7 rules?\n",
    "2. If the person never drinks and always eats breakfast?"
   ]
  },
  {
   "cell_type": "markdown",
   "metadata": {},
   "source": [
    "For question (1):\n",
    "\n",
    "As the order in which the rules are followed is not important, we are asked for the number of combinations of $ n = 7 $ elements, taken $ r = 5 $ at a time:\n",
    "\n",
    "The number of combinations of $ n $ distinct objects taken $ r $ at a time is $\n",
    "\\begin{pmatrix} n \\\\ r \\end{pmatrix} = \\frac{n!}{r! \\; (n - r)!} $\n",
    "\n",
    "And thus:\n",
    "\n",
    "$\n",
    "\\begin{pmatrix} 7 \\\\ 5 \\end{pmatrix} = \\frac{7!}{5! \\; (7 - 5)!} = 21\n",
    "$"
   ]
  },
  {
   "cell_type": "markdown",
   "metadata": {},
   "source": [
    "For question number (2):\n",
    "\n",
    "The person already applies two of the 7 rules and therefore, we are asked for the number of combinations of 5 elements taken 3 at a time:\n",
    "\n",
    "$\n",
    "\\begin{pmatrix} 5 \\\\ 3 \\end{pmatrix} = \\frac{5!}{3! \\; (5 - 3)!} = 10\n",
    "$\n",
    "\n",
    "\n"
   ]
  },
  {
   "cell_type": "markdown",
   "metadata": {},
   "source": [
    "## Exercise 2.27\n",
    "\n",
    "A developer of a new subdivision offers a prospective home buyer a choice of 4 designs, 3 different heating systems, a garage or carport, and a patio or screened porch. How many plans are available to this buyer?"
   ]
  },
  {
   "cell_type": "markdown",
   "metadata": {},
   "source": [
    "Using the **generalized multiplication rule** we have:\n",
    "\n",
    "$\n",
    "n_1 = 4 \\\\\n",
    "n_2 = 3 \\\\\n",
    "n_3 = 2 \\\\\n",
    "n_4 = 2 \\\\\n",
    "$\n",
    "\n",
    "Thus, there will be $ n_1 \\; n_2 \\; n_3 \\; n_4  = 4 \\cdot 3 \\cdot 2 \\cdot 2 = 48 $ different plans available for the buyer.\n"
   ]
  },
  {
   "cell_type": "markdown",
   "metadata": {},
   "source": [
    "## Exercise 2.28\n",
    "\n",
    "A drug for a relief of asthma can be purchased from 5 different manufacturers in liquid, tablet, or capsule form, all of which come in regular an extra strength. How many different ways can a doctor prescribe the drug for a patient suffering from asthma?"
   ]
  },
  {
   "cell_type": "markdown",
   "metadata": {},
   "source": [
    "Using the **generalized multiplication rule** we have:\n",
    "\n",
    "$\n",
    "n_1 = 5 \\\\\n",
    "n_2 = 3 \\\\\n",
    "n_3 = 2 \\\\\n",
    "$\n",
    "\n",
    "Thus, there will be $ n_1 \\; n_2 \\; n_3  = 5 \\cdot 3 \\cdot 2 = 30 $ different ways the drug can be prescribed."
   ]
  },
  {
   "cell_type": "markdown",
   "metadata": {},
   "source": [
    "## Exercise 2.29\n",
    "\n",
    "In a fuel economy study, each of 3 race cars is tested using 5 different brands of gasoline at 7 test sites located in different regions of the country.\n",
    "\n",
    "If two drivers are used in the study, and test runs are made once under each distinct set of conditions, how many test runs are needed?"
   ]
  },
  {
   "cell_type": "markdown",
   "metadata": {},
   "source": [
    "Using the **generalized multiplication rule** we have:\n",
    "\n",
    "$\n",
    "n_1 = 3 \\\\\n",
    "n_2 = 5 \\\\\n",
    "n_3 = 7 \\\\\n",
    "n_4 = 2\n",
    "$\n",
    "\n",
    "Thus, there will be $ n_1 \\; n_2 \\; n_3 \\; n_4  = 3 \\cdot 5 \\cdot 7 \\cdot 2 = 210 $ test runs will be needed."
   ]
  },
  {
   "cell_type": "markdown",
   "metadata": {},
   "source": [
    "## Exercise 2.30\n",
    "\n",
    "In how many different ways can a true/false test consisting of 9 questions be answered?"
   ]
  },
  {
   "cell_type": "markdown",
   "metadata": {},
   "source": [
    "We have to use the **generalized multiplication rule**. The first question can be either answered true or false, thus $ n_1 = 2 $. Then, the second question can be either answered true or false, thus $ n_2 = 2 $, and so forth.\n",
    "\n",
    "Thus:\n",
    "\n",
    "$\n",
    "n_1 \\; n_2 \\; \\ldots \\; n_9 = 2 \\cdot 2 \\cdot ldots \\cdot 2 = 2^9 = 512\n",
    "$ different ways in which the test can be answered."
   ]
  },
  {
   "cell_type": "markdown",
   "metadata": {},
   "source": [
    "## Exercise 2.31\n",
    "\n",
    "A witness to a hit-and-run accident told the police that the license number contained the letters RLH followed by three digits, the first of which was a 5. If the witness cannot recall the last 2 digits, but it is certain that all 3 digits are different, find the maximum number of automobile registrations that the police may have to check."
   ]
  },
  {
   "cell_type": "markdown",
   "metadata": {},
   "source": [
    "We need to use the **generalized multiplication rule**.\n",
    "\n",
    "The license plate was RLH 5xy, with 5-x-y being different digits.\n",
    "\n",
    "Therefore:\n",
    "$ n_1 = 9 $ and $ n_2 = 8 $, resulting in $ 9 \\cdot 8 $ possible registrations to check."
   ]
  },
  {
   "cell_type": "markdown",
   "metadata": {},
   "source": [
    "## Exercise 2.32\n",
    "\n",
    "1. In how many ways can 6 people be lined up to get on a bus?\n",
    "2. If 3 specific persons, among 6, insist on following each other, how many ways are possible?\n",
    "3. If 2 specific persons, among 6, refuse to follow each other, how many ways are possible?"
   ]
  },
  {
   "cell_type": "markdown",
   "metadata": {},
   "source": [
    "### Solution to (1)\n",
    "\n",
    "We need the *permutations* of 6 elements, and therefore, there will be $ 6! = 720 $ ways in which 6 people can be lined up."
   ]
  },
  {
   "cell_type": "markdown",
   "metadata": {},
   "source": [
    "### Solution to (2)\n",
    "\n",
    "Now we have to think more carefully. We can treat these 3 persons that want to go together as a block:\n",
    "\n",
    "```\n",
    "| p1 | p2 | p3 | p4 | p5 | p6 |\n",
    "```\n",
    "\n",
    "+ the block goes in the first position: $ 3 \\cdot 2 \\cdot 1 $\n",
    "+ the block goes in the second position: $ 3 \\cdot 2 \\cdot 1 $\n",
    "+ the block goes in the third position: $ 3 \\cdot 2 \\cdot 1 $\n",
    "+ the block goes in the fourth position: $ 3 \\cdot 2 \\cdot 1 $\n",
    "\n",
    "Thus, there will be $ 4 \\cdot 6 = 24 $ possible ways with regards to the order of the block.\n",
    "\n",
    "Within the block, the three persons that want to go together can be arranged in $ 3 \\cdot 2 \\cdot 1 $ different ways, thus giving a total result of $ 24 \\cdot 6 = 144 $ different ways in which they can be lined up."
   ]
  },
  {
   "cell_type": "markdown",
   "metadata": {},
   "source": [
    "### Solution to (3)\n",
    "\n",
    "The easiest way to come up with the solution is to use the method described above to compute the the way in which 2 persons go together.\n",
    "\n",
    "The answer will be the result of subtracting that value from the sample space $ S $.\n",
    "\n",
    "Thus, there are $ 5 \\cdot 4! $ possible ways with regards to the order of the block (5 possible possitions of the 2-person block, leaving the other 4 persons free to permutate).\n",
    "\n",
    "Withing the block, there are $ 2! $ possible ways to permutate the two-persons' positions.\n",
    "\n",
    "Thus, there will be $ 5 \\cdot 4! \\cdot 2! = 5 \\cdot 24 \\cdot 2 = 240 $ in which 2 persons can be together.\n",
    "\n",
    "Therefore: $ 720 - 240 = 480 $ possible ways in which 6 persons can be arranged when two of them refuse to go together."
   ]
  },
  {
   "cell_type": "markdown",
   "metadata": {},
   "source": [
    "Alternatively, we can compute the ways in which 2 persons don't go together.\n",
    "\n",
    "If they don't go together they will have to be in the positions:\n",
    "\n",
    "```\n",
    "p1 p3  | p2 p4 | p3 p5 | p4 p6 | \n",
    "p1 p4  | p2 p5 | p3 p6 |       |\n",
    "p1 p5  | p2 p6 |       |       |\n",
    "p1 p6  |       |       |       |\n",
    "```\n",
    "\n",
    "Thus, we have 10 ways in which these 2 persons don't go together (as a block) and 2 ways in which these two persons can *permutate* in their assigned positions.\n",
    "\n",
    "The remaining 4 people can permutate freely, and therefore, $ 4! $ arrangements are possible.\n",
    "\n",
    "As a result, there will be $ 10 \\cdot 2 \\ cdot 4! $ ways in whcih 6 persons can be arranged when two of them refuse to go together.\n",
    "\n",
    "And: \n",
    "\n",
    "$ 10 \\cdot 2 \\ cdot 4! = 10 \\cdot 2 \\cdot 24 = 480 $ as expected."
   ]
  },
  {
   "cell_type": "markdown",
   "metadata": {},
   "source": [
    "## Exercise 2.33\n",
    "\n",
    "If a multiple-choice test consists of 5 questions, each with 4 possible answers of which only 1 is correct.\n",
    "\n",
    "1. In how many different ways can a student check off one answer to each question?\n",
    "\n",
    "2. In how many ways can a student check off one answer to each question and get all answers wrong?\n",
    "\n"
   ]
  },
  {
   "cell_type": "markdown",
   "metadata": {},
   "source": [
    "### Solution to (1)\n",
    "\n",
    "Using the generalized multiplication rule, there will be $ 4 \\cdot 4 \\cdot 4 \\cdot 4 \\cdot 4 = 4^5 = 1024 $ possible ways to fill out the test's questions. "
   ]
  },
  {
   "cell_type": "markdown",
   "metadata": {},
   "source": [
    "### Solution to (2)\n",
    "\n",
    "To get all answers wrong we have $ 3 \\cdot 3 \\cdot 3 \\cdot 3 \\cdot 3 = 3^5 = 243 $ ways in which a studen can get all answers wrong."
   ]
  },
  {
   "cell_type": "markdown",
   "metadata": {},
   "source": [
    "## Example 2.34\n",
    "\n",
    "1. How many distinct permutations can be made from the letters of the word COLUMNS?\n",
    "\n",
    "2. How many of these permutations start with the letter M?"
   ]
  },
  {
   "cell_type": "markdown",
   "metadata": {},
   "source": [
    "### Solution to (1)\n",
    "\n",
    "As we are asked for the number of permutations and not combinations, it is easy:\n",
    "\n",
    "$\n",
    "_7P = 7!\n",
    "$ as there are 7 different letters in the word COLUMNS.\n"
   ]
  },
  {
   "cell_type": "markdown",
   "metadata": {},
   "source": [
    "### Solution to (2)\n",
    "\n",
    "There will be $ 6! = 720 $ words that start with the letter M."
   ]
  },
  {
   "cell_type": "markdown",
   "metadata": {},
   "source": [
    "## Exercise 2.35\n",
    "\n",
    "A contractor wishes to build 9 houses, each different in design. In how many ways can he place these houses on a street if 6 lots are on one side of the street and 3 lots are on the opposite side?"
   ]
  },
  {
   "cell_type": "markdown",
   "metadata": {},
   "source": [
    "Note that we're not asked about combinations (or partitions) but about permutations as the ordering is important.\n",
    "\n",
    "Thus, we should be using the **generalized multiplication rule**.\n",
    "\n",
    "Note also, that we're not that much concerned about the different sides of the street &mdash; those will be just available slots in which we can place the house:\n",
    "\n",
    "```\n",
    "p1 p2 p3 p4 p5 p6\n",
    "-----------------\n",
    "\n",
    "-----------------\n",
    "p7 p8 p9\n",
    "```\n",
    "\n",
    "Thus, we need to calculate $ _9P = 9! = 362,880 $ possible ways in which the houses in the available slots."
   ]
  },
  {
   "cell_type": "markdown",
   "metadata": {},
   "source": [
    "## Exercise 2.36\n",
    "\n",
    "1. How many three-digit numbers can be formed from the digits 0, 1, 2, 3, 4, 5, and 6 if each digit can be used only once?\n",
    "\n",
    "2. How many of these are odd numbers?\n",
    "\n",
    "3. How many are greater than 330?"
   ]
  },
  {
   "cell_type": "markdown",
   "metadata": {},
   "source": [
    "### Solution to (1)\n",
    "\n",
    "We have 7 different digits to form a 3-digit number. Therefore, we are concerned with computing $ _7P_3 = \\frac{7!}{(7-3)!} = 7 \\cdot 6 \\cdot 5 = 210 $.\n",
    "\n",
    "However, we should remove all 3-digit numbers that start with zero which are $ 1 \\cdot 6 \\cdot 5 = 30 $.\n",
    "\n",
    "Thus, there will be $ 210 - 30 = 180 $ possibilities."
   ]
  },
  {
   "cell_type": "markdown",
   "metadata": {},
   "source": [
    "Alternatively, we can go with the **generalized multiplication rule**:\n",
    "\n",
    "$\n",
    "n_1 = 6 \\\\\n",
    "n_2 = 6 \\\\\n",
    "n_3 = 5 \\\\\n",
    "$ resulting in $ n_1 \\; n_2 \\; n3 = 6 \\cdot 6 \\cdot 5 = 180 $ possibilities.\n"
   ]
  },
  {
   "cell_type": "markdown",
   "metadata": {},
   "source": [
    "### Solution to (2)\n",
    "\n",
    "We can use the alternative way to compute the number of possibilities to come up with the number of odd numbers. For doing so, it is better to start from the units, as it is where we can think about whether the number is even or odd.\n",
    "\n",
    "Let's then do\n",
    "\n",
    "\n",
    "$\n",
    "n_{units} = 3 \\text{ only 1, 3, and 5} \\\\\n",
    "n_{tens} = 6 \\\\\n",
    "n_{hundreds} = 5 \\text{ as 0 must be excluded}\\\\\n",
    "$\n",
    "\n",
    "Therefore, we have $ 90 $ odd numbers."
   ]
  },
  {
   "cell_type": "markdown",
   "metadata": {},
   "source": [
    "### Solution to (3)\n",
    "\n",
    "We can use a similar approach to calculate the numbers that are greater than 330, but examining the different use cases:\n",
    "\n",
    "1. We use 4, 5, or 6 for the hundreds\n",
    "2. We use 3 for the hundreds\n",
    "\n",
    "For the first case we have $ 3 \\cdot 6 \\cdot 5 = 90 $.\n",
    "\n",
    "For the second case we have $ 1 \\cdot 3 \\cdot 5 = 15 $.\n",
    "\n",
    "Thus, we have 105 numbers that are greater than 330."
   ]
  },
  {
   "cell_type": "markdown",
   "metadata": {},
   "source": [
    "## Exercise 2.37\n",
    "\n",
    "In how many ways can 4 boys and 5 girls sit in a row if the boys and girls must alternate?"
   ]
  },
  {
   "cell_type": "markdown",
   "metadata": {},
   "source": [
    "We can use the **generalized multiplication rule** and the following visualization:\n",
    "\n",
    "```\n",
    "G1    G2    G3    G4    G5\n",
    "-- -- -- -- -- -- -- -- -- \n",
    "   B1    B2    B3    B4\n",
    "```\n",
    "\n",
    "Thus resulting in $ 5 \\cdot 4 \\cdot 4 \\cdot 3 \\cdot 3 \\cdot 2 \\cdot 2 \\cdot 1 \\cdot 1 = 5! \\; 4! = 2880 $."
   ]
  },
  {
   "cell_type": "markdown",
   "metadata": {},
   "source": [
    "## Exercise 2.38\n",
    "\n",
    "Four married couples have bought 8 seats in the same row for a concert. In how many different ways can they be seated \n",
    "1. with no restrictions?\n",
    "2. if each couple is to sit together?\n",
    "3. if all the men sit together to the right of all the women?"
   ]
  },
  {
   "cell_type": "markdown",
   "metadata": {},
   "source": [
    "### Solution to (1)\n",
    "\n",
    "We are interested in the permutations of 8 elements $ _8P = 8! = 40,320 $."
   ]
  },
  {
   "cell_type": "markdown",
   "metadata": {},
   "source": [
    "### Solution to (2)\n",
    "\n",
    "If each couple is to sit together, means that there are only 4 slots to accomodate 4 couples, thus resulting in $ _4P = 4! = 24 $ possible arrangements for the couples.\n",
    "\n",
    "Now, within each of the couples there are two possible arrangements: $ F M $ and $ M F $. Therefore, we will end up with:\n",
    "\n",
    "$ 24 \\cdot 2^4 = 384 $ possibilities. "
   ]
  },
  {
   "cell_type": "markdown",
   "metadata": {},
   "source": [
    "### Solution to (3)\n",
    "\n",
    "In this scenario, the slots are as follows:\n",
    "\n",
    "```\n",
    "M1 M2 M3 M4     \n",
    "-- -- -- -- -- -- -- --\n",
    "            F1 F2 F3 F4\n",
    "```\n",
    "\n",
    "\n",
    "Using the **generalized multiplication rule** we have $ 4 \\cdot 3 \\cdot 2 \\cdot 1 \\cdot 4 \\cdot 3 \\cdot 2 \\cdot 1 = 4! \\; 4! = 576 $ \n"
   ]
  },
  {
   "cell_type": "markdown",
   "metadata": {},
   "source": [
    "## Exercise 2.39\n",
    "\n",
    "In a regional spelling bee, the 8 finalists consists of 3 boys and 5 girls. Find the number of sample points in the sample space $ S $ for the number of possible orders at the conclusion of the contest for:\n",
    "\n",
    "1. all 8 finalists\n",
    "2. the first three positions"
   ]
  },
  {
   "cell_type": "markdown",
   "metadata": {},
   "source": [
    "### Solution to (1)\n",
    "\n",
    "Using the **generalized multiplication rule** we'll have: \n",
    "\n",
    "$\n",
    "n_1 = 8 \\\\\n",
    "n_2 = 7 \\\\\n",
    "n_3 = 6 \\\\\n",
    "\\ldots \\\\\n",
    "n_8 = 1 \n",
    "$\n",
    "\n",
    "Thus, we'll have $ 8! = 40320 $ sample points in the sample space $ S $.\n"
   ]
  },
  {
   "cell_type": "markdown",
   "metadata": {},
   "source": [
    "### Solution to (2)\n",
    "\n",
    "We need to compute the number $ _8P_3 = \\frac{8!}{(8 - 3)!} = \\frac{8!}{5!} = 8 \\cdot 7 \\cdot 6 = 336 $ permutations of 8 distinct objects takin 3 at a time."
   ]
  },
  {
   "cell_type": "markdown",
   "metadata": {},
   "source": [
    "## Exercise 2.40\n",
    "\n",
    "In how many ways can 5 starting positions on a basketball team be filled with 8 men who can play any of the positions?"
   ]
  },
  {
   "cell_type": "markdown",
   "metadata": {},
   "source": [
    "As we're not concerned with the ordering, we need to use the formula for the combinations of 8 elements, taken 5 at a time:\n",
    "\n",
    "The number of combinations of $ n $ distinct objects taken $ r $ at a time is $\n",
    "\\begin{pmatrix} n \\\\ r \\end{pmatrix} = \\frac{n!}{r! \\; (n - r)!} \n",
    "$\n",
    "\n",
    "Thus:\n",
    "\n",
    "$\n",
    "\\begin{pmatrix} 8 \\\\ 5 \\end{pmatrix} = \\frac{8!}{5! \\; (8 - 5)!} = \\frac{8!}{5! \\; 3!} = \\frac{8 \\cdot 7 \\cdot 6}{3 \\cdot 2} = 56 \n",
    "$ different ways in which the 5 starting positions can be filled out of 8 players.\n"
   ]
  },
  {
   "cell_type": "markdown",
   "metadata": {},
   "source": [
    "Note that if we were to consider the order (it doesn't seem so, as the players can play in any position) we would need to calculate the permutations of 8 different elements, taken 5 at a time:\n",
    "\n",
    "$\n",
    "_8P_5 = \\frac{8!}{(8 - 5)!} = \\frac{8!}{3!} = 8 \\cdot 7 \\cdot 6 \\cdot 5 \\cdot 4 = 6720\n",
    "$"
   ]
  },
  {
   "cell_type": "markdown",
   "metadata": {},
   "source": [
    "## Exercise 2.41\n",
    "\n",
    "Find the number of ways that 6 teachers can be assigned to 4 sections of a course if no teacher is to be assigned to more than one section."
   ]
  },
  {
   "cell_type": "markdown",
   "metadata": {},
   "source": [
    "In this case the order is important, as the 4 sections of the course will handle a particular subject.\n",
    "\n",
    "Therefore, we need to calculate the permutations of 6 distinct objects taken 4 at a time:\n",
    "\n",
    "$\n",
    "_6P_4 = \\frac{6!}{(6 - 4)!} = \\frac{6!}{2!} = 6 \\cdot 5 \\cdot 4 \\cdot 3 = 360\n",
    "$ different ways in which 6 teachers can be assigned to the 4 sections of a course."
   ]
  },
  {
   "cell_type": "markdown",
   "metadata": {},
   "source": [
    "## Exercise 2.42\n",
    "\n",
    "Three lottery tickets for first, second, and third prizes are drawn from a group of 40 tickets. Find the number of sample points in $ S $ for awarding the 3 prizes if each contestant holds only one ticket."
   ]
  },
  {
   "cell_type": "markdown",
   "metadata": {},
   "source": [
    "In this case, the order in which we select the contestants is important. Therefore, we need to calculate the different ways in which 40 different objects taken 3 at a time can be selected.\n",
    "\n",
    "$\n",
    "_{40}P_3 = \\frac{40!}{(40 - 3)!} = \\frac{40!}{37!} = 40 \\cdot 39 \\cdot 38 = 59280\n",
    "$"
   ]
  },
  {
   "cell_type": "markdown",
   "metadata": {},
   "source": [
    "## Exercise 2.43\n",
    "\n",
    "In how many ways can 5 different trees can be planted in a circle?"
   ]
  },
  {
   "cell_type": "markdown",
   "metadata": {},
   "source": [
    "We need to use the formula for circular permutations. Thus, we're assuming that the permutations resulting from shifting all the elements one position in, for example, clockwise-manner, won't be considered a different permutation.\n",
    "\n",
    "In any case, the formula for circular permutations of n elements is $ (n-1)! $. \n",
    "\n",
    "Therefore, there will be $ 4! = 24 $ different ways in which 5 different trees can be planted in a circle. "
   ]
  },
  {
   "cell_type": "markdown",
   "metadata": {},
   "source": [
    "## Exercise 2.44\n",
    "\n",
    "In how many ways can a caravan of 8 covered wagons from Arizona can be arranged in a circle?"
   ]
  },
  {
   "cell_type": "markdown",
   "metadata": {},
   "source": [
    "We need to use the formula for circular permutation of $ n = 8 $ elements, which results in $ (n - 1)! = 7! = 5040 $ "
   ]
  },
  {
   "cell_type": "markdown",
   "metadata": {},
   "source": [
    "## Exercise 2.45\n",
    "\n",
    "How many distinct permutations can be made from the letters of the word INFINITY?"
   ]
  },
  {
   "cell_type": "markdown",
   "metadata": {},
   "source": [
    "As per the example [Example 2.23](../01-concepts/probability.ipynb#example-223) we need to find the way to partition the letters in the word in question into different subset.\n",
    "\n",
    "We need to tally the number of letters, grouping them by character:\n",
    "\n",
    "In INFINITY we have:\n",
    "FTY\n",
    "+ 8 letters in total\n",
    "+ I appears 3 times\n",
    "+ N appears 2 times \n",
    "+ F appears 1 time\n",
    "+ T appears 1 time\n",
    "+ Y appears 1 time\n",
    "\n",
    "Thus:\n",
    "\n",
    "$\n",
    "\\begin{pmatrix}\n",
    "8 \\\\\n",
    "3, 2, 1, 1\n",
    "\\end{pmatrix} = \\frac{8!}{3! \\; 2! \\; 1! \\; 1! \\; 1} = \\frac{8!}{3! \\; 2!} = \\frac{8 \\cdot 7 \\cdot 6 \\cdot 5 \\cdot 4}{2} = 3360\n",
    "$"
   ]
  },
  {
   "cell_type": "markdown",
   "metadata": {},
   "source": [
    "## Exercise 2.46\n",
    "\n",
    "In how many ways can 3 oaks, 4 pines, and 2 maples be arranged along a property line if one does not distinguish among trees of the same kind?"
   ]
  },
  {
   "cell_type": "markdown",
   "metadata": {},
   "source": [
    "We're concerned with the number of partitioning a set of 9 objects into cells where we have 3 elements of one kind, 4 elements of another kind, and 2 elements of yet another kind.\n",
    "\n",
    "In the concepts section we saw that:\n",
    "\n",
    "The number of ways of partitioning a set of $ n $ objects into $ r $ cells with $ n_1 $ elements in the first cell, $ n_2 $ elements in the second cell, and so forth, is:\n",
    "\n",
    "$\n",
    "\\begin{pmatrix}\n",
    "n \\\\\n",
    "n_1, n_2, \\ldots , n_r\n",
    "\\end{pmatrix} = \\frac{n!}{n_1! \\; n_2! \\; \\ldots \\; n_r!}\n",
    "$\n",
    "\n",
    "where $ n_1 + n_2 + \\ldots + n_r = n $.\n",
    "\n",
    "\n",
    "Applying it to our example, we have:\n",
    "$\n",
    "\\begin{pmatrix}\n",
    "9 \\\\\n",
    "3, 4, 2\n",
    "\\end{pmatrix} = \\frac{9!}{3! \\; 4! \\; 2!}\n",
    "$\n",
    "\n",
    "where $ 3 + 4 + 2 = 9 $ (the total number of elements).\n",
    "\n",
    "Therefore:\n",
    "\n",
    "$\n",
    "\\frac{9!}{3! \\; 4! \\; 2!} = \\frac{9 \\cdot 8 \\cdot 7 \\cdot 6 \\cdot 5}{3 \\cdot 2 \\cdot 2} = 1260\n",
    "$ different ways."
   ]
  },
  {
   "cell_type": "markdown",
   "metadata": {},
   "source": [
    "## Exercise 2.47\n",
    "\n",
    "How many ways are there to select 3 candidates from 8 equally qualified recent graduates for openings in an accounting firm?\n"
   ]
  },
  {
   "cell_type": "markdown",
   "metadata": {},
   "source": [
    "As the order is not important (we're just concerned on whether the candidate is selected or not) we have to calculate the combinations of 8 different elements taken 3 at a time:\n",
    "\n",
    "$\n",
    "\\begin{pmatrix}\n",
    "n \\\\\n",
    "r\n",
    "\\end{pmatrix} = \\frac{n!}{r! \\; (n - r)!}\n",
    "$ with $ n = 8 $, and $ r = 3 $.\n",
    "\n",
    "Therefore:\n",
    "\n",
    "$\n",
    "\\begin{pmatrix}\n",
    "8 \\\\\n",
    "3\n",
    "\\end{pmatrix} = \\frac{8!}{3! \\; (8 - 3)!} = \\frac{8!}{3! \\; 5!} = \\frac{8 \\cdot 7 \\cdot 6}{3 \\cdot 2} = 56\n",
    "$ different ways in which the candidates can be selected."
   ]
  },
  {
   "cell_type": "markdown",
   "metadata": {},
   "source": [
    "## Exercise 2.48\n",
    "\n",
    "How many ways are there that no two students will have the same birth date in a class of size 60?"
   ]
  },
  {
   "cell_type": "markdown",
   "metadata": {},
   "source": [
    "If we assume a year has 365 days, we're concerned with calculating the number of ways that 60 students will have different birth dates.\n",
    "\n",
    "This can be computed as $ _{365}P_{60} = \\frac{365!}{(365 - 60)!} $"
   ]
  },
  {
   "cell_type": "markdown",
   "metadata": {},
   "source": [
    "## Exercise 2.49\n",
    "\n",
    "Find the errors in each of the following statements:\n",
    "\n",
    "1. The probabilities that an automobile salesperson will sell 0, 1, 2, or 3 cars on any given day in February are, respectively, 0.19, 0.38, 0.29, and 0.15.\n",
    "\n",
    "2. The probability that it will rain tomorrow is 0.40, and the probability that it will not rain tomorrow is 0.52.\n",
    "\n",
    "3. The probabilities that a printer will make 0, 1, 2, 3, or 4 or more mistakes in setting a document are, respectively, 0.19, 0.34, -0.25, 0.43, and 0.29.\n",
    "\n",
    "4. On a single draw from a deck of playing cards, the probability of selecting a black card is $ frac{1}{2} $ and the probability of selecting both a heart and a black card is $ \\frac{1}{8} $."
   ]
  },
  {
   "cell_type": "markdown",
   "metadata": {},
   "source": [
    "### Solution to (1)\n",
    "\n",
    "If we sum the probabilities we get 1.01, and we know that $ P(S) = 1 $, with $ S $ being the sample space.\n"
   ]
  },
  {
   "cell_type": "markdown",
   "metadata": {},
   "source": [
    "### Solution to (2)\n",
    "\n",
    "If the probability that it will rain tomorrow is 0.40, then the probability that it will not rain tomorrow is the complementary event and it probability should be 0.60 and not 0.52."
   ]
  },
  {
   "cell_type": "markdown",
   "metadata": {},
   "source": [
    "### Solution to (3)\n",
    "\n",
    "One of the probabilities is negative. For any event $ A $, $ 0 \\le P(A) \\le 1 $."
   ]
  },
  {
   "cell_type": "markdown",
   "metadata": {},
   "source": [
    "### Solution to (4)\n",
    "\n",
    "There are two colors in a deck of playing card, so if $ B $ is the probability of drawing a black card is $ P(B) = \\frac{1}{2} $. Let $ H $ be the probability of being dealt a heart. $ P(H) = \\frac{1}{4} $.\n",
    "\n",
    "However, we're being told that the probability of $ B \\cap H $ is $ P(B \\cap H) = \\frac{1}{8} $, which is not true, as $ B $ and $ H $ are mutually exclusive and therefore $ P(B \\cap H) = P(\\phi) = 0 $."
   ]
  },
  {
   "cell_type": "markdown",
   "metadata": {},
   "source": [
    "## Exercise 2.50\n",
    "\n",
    "Assuming that all elements of $ S $ in [Exercise 2.8](#exercise-28) are equally likely to occur find:\n",
    "\n",
    "> An experiment involves tossing a pair of dice, one green and one red, and recording the numbers that come up. \n",
    "\n",
    "1. The probability of event A, that is, that the sum is greater than 8.\n",
    "2. The probability of event C, that is, that a number greater than 4 comes up on the gree die.\n",
    "3. The probability of event $ A \\cap C $"
   ]
  },
  {
   "cell_type": "markdown",
   "metadata": {},
   "source": [
    "### Solution to (1)\n",
    "\n",
    "Assuming we use a tuple to store the result of the green die, followed by the red:\n",
    "\n",
    "$\n",
    "A = \\{ (3, 6), (4, 5), (4, 6), (5, 4), (5, 5), (5, 6), (6, 3), (6, 4), (6, 5), (6, 6) \\}\n",
    "$\n",
    "\n",
    "On the other hand, the sample space has $ n_1 \\; n_2 = 6 \\cdot 6 = 36 $ elements.\n",
    "\n",
    "Thus, using the formula $ P(A) = \\frac{n}{N} $, where $ n $ is the number of elements of the event $ A $ and $ N $ the total number of elements in the sample space $ S $:\n",
    "\n",
    "$\n",
    "P(A) = \\frac{10}{36} = \\frac{5}{18} \\approx 0.28\n",
    "$"
   ]
  },
  {
   "cell_type": "markdown",
   "metadata": {},
   "source": [
    "### Solution to (2)\n",
    "\n",
    "Assuming we record the result of the green die in the first element of a tuple, and the result of the red die in the second element of such tuple:\n",
    "\n",
    "$\n",
    "C = \\{ (5, 1), (5, 2), (5, 3), \\ldots (5, 6), (6, 1), (6, 2), \\ldots, (6, 6) \\}\n",
    "$\n",
    "\n",
    "That is, the number of elements in $ C $ are $ n_1 = 2 $, $ n_2 = 6 $, thus $ n_1 \\; n_2 = 12 $.\n",
    "\n",
    "Using the formula $ P(C) = \\frac{n}{N} = \\frac{12}{36} = \\frac{1}{3} $"
   ]
  },
  {
   "cell_type": "markdown",
   "metadata": {},
   "source": [
    "### Solution to (3)\n",
    "\n",
    "$ P(A \\cap C) = P(\\{ (5,4), (5,5), (5, 6), (6, 3), (6,4), (6,5), (6,6) \\}) = \\frac{7}{36} $"
   ]
  },
  {
   "cell_type": "markdown",
   "metadata": {},
   "source": [
    "## Exercise 2.51\n",
    "\n",
    "A box contains 500 envelopes, of which 75 contain $100 in cash, 150 contain $25, and 275 contain $10. An envelope must be purchased for $25. What is the sample space for the different amounts of money? Assign probabilities to the sample points and then find the probability that the first envelope purchased contains less than $100."
   ]
  },
  {
   "cell_type": "markdown",
   "metadata": {},
   "source": [
    "We can define the sample space $ S $ as:\n",
    "$ S = {\\$10, \\$25, \\$100 } $\n",
    "\n",
    "The probabilities for each of the points in the sample space can be computed with the formula:\n",
    "\n",
    "$\n",
    "P(A) = \\frac{n}{N}\n",
    "$, where $ n $ is the number of elements of the event $ A $, and $ N $ the number of elements of the sample space $ S $.\n",
    "\n",
    "Thus:\n",
    "+ $ P(\\$10) = \\frac{275}{500} \\approx 0.55 $\n",
    "+ $ P(\\$25) = \\frac{150}{500} \\approx 0.3 $\n",
    "+ $ P(\\$100) = \\frac{75}{500} \\approx 0.15 $\n",
    "\n",
    "Then, the probability that the first envelope contains less than $100 will be:\n",
    "\n",
    "$\n",
    "P(\\lt \\$100) = P(\\$10) + P(\\$25) = \\frac{425}{500} \\approx 0.85\n",
    "$\n",
    "\n",
    "Alternatively, we could have done:\n",
    "\n",
    "$\n",
    "P(\\lt \\$100) = P(\\$100') = 1 - P(\\$100) = 1 - \\frac{75}{500} = \\frac{425}{500} \\approx 0.85\n",
    "$"
   ]
  },
  {
   "cell_type": "markdown",
   "metadata": {},
   "source": [
    "## Exercise 2.52\n",
    "\n",
    "Suppose that in a senior college class of 500 students it is found that 210 smoke, 258 drink alcoholic beverages, 216 eat between meals, 122 smoke and drink alcoholic beverages, 83 eat between meals and drink alcoholic beverages, 97 smoke and eat between meals, and 52 engage in all three of these bad health practices.\n",
    "\n",
    "If a member of this class is selected at random, find the probability that the student:\n",
    "1. smokes but does not drink alcoholic beverages.\n",
    "2. eats between meals and drinks alcoholic beverages but does not smoke.\n",
    "3. neither smokes nor eats between means."
   ]
  },
  {
   "cell_type": "markdown",
   "metadata": {},
   "source": [
    "Lets rewrite the exercise information in terms of events and probabilities of such events.\n",
    "\n",
    "+ $ A $, the event that the student smokes\n",
    "+ $ B $, the event that the student drinks\n",
    "+ $ C $, the event that the student eats between meals\n",
    "\n",
    "From the exercise we know that:\n",
    "+ $ P(A) = \\frac{210}{500} $\n",
    "+ $ P(B) = \\frac{258}{500} $\n",
    "+ $ P(C) = \\frac{216}{500} $\n",
    "+ $ P(A \\cap B) = \\frac{122}{500} $\n",
    "+ $ P(B \\cap C) = \\frac{83}{500} $\n",
    "+ $ P(A \\cap C) = \\frac{97}{500} $\n",
    "+ $ P(A \\cap B \\cap C) = \\frac{52}{500} $\n",
    "\n",
    "Also the following Venn diagram will be very useful:\n",
    "\n",
    "![Venn diagram](../images/venn_diagram_ex_2.52.png)\n"
   ]
  },
  {
   "cell_type": "markdown",
   "metadata": {},
   "source": [
    "### Solution to (1)\n",
    "\n",
    "The event that smokes but does not drink is $ A \\cup B' $. Instead of using the **additive rule** in a brute-force manner, or trying to layout the specific frequency numbers in the diagram above, it is much better to simply look at the Venn diagram above and understand what the exercise is asking about.\n",
    "\n",
    "In the first case, the probability that a student smokes but does not drink will be:\n",
    "\n",
    "$\n",
    "P(A \\cap B') = P(A) - P(A \\cap B) = \\frac{210}{500} - \\frac{122}{500} = \\frac{88}{500}\n",
    "$\n"
   ]
  },
  {
   "cell_type": "markdown",
   "metadata": {},
   "source": [
    "### Solution to (2)\n",
    "\n",
    "The event that eats between meals ($ C $) and drinks alcoholic beverages ($ B $), but does not smoke ($ A' $) will be:\n",
    "\n",
    "$\n",
    "P(C \\cap B \\cap A') = P(B \\cap C) - P(A \\cap B \\cap C) = \\frac{83}{500} - \\frac{52}{500} = \\frac{31}{500}\n",
    "$"
   ]
  },
  {
   "cell_type": "markdown",
   "metadata": {},
   "source": [
    "### Solution to (3)\n",
    "\n",
    "The event that the student neither smokes ($ A' $) nor eats between ($ C' $) meals can be easily calculates using the **additive rule** and the formula to compute the probability of a **complementary event**:\n",
    "\n",
    "$\n",
    "P(A' \\cap C') = P((A \\cup C)') = 1 - (P(A) + P(C) - P(A \\cap C)) = 1 - \\frac{210+216-97}{500} = \\frac{500-210-216+97}{500} = \\frac{171}{500}\n",
    "$"
   ]
  },
  {
   "cell_type": "markdown",
   "metadata": {},
   "source": [
    "## Exercise 2.53\n",
    "\n",
    "The probability that an American industry will locate in Shanghai is 0.7, the probability that it will locate in Beijing is 0.4, and the probability that it will locate in either Shanghai or Beijing 0.8.\n",
    "\n",
    "What is the probability that the industry will locate:\n",
    "1. In both cities?\n",
    "2. In neither city?"
   ]
  },
  {
   "cell_type": "markdown",
   "metadata": {},
   "source": [
    "Let  $ A $ the event of the company being located in Shanghai, and $ B $ the event of the company located in Beijing.\n",
    "\n",
    "Then:\n",
    "$\n",
    "P(A) = 0.7 \\\\\n",
    "P(B) = 0.4 \\\\\n",
    "P(A \\cup B) = 0.8 \n",
    "$\n",
    "\n",
    "Thus:\n",
    "\n"
   ]
  },
  {
   "cell_type": "markdown",
   "metadata": {},
   "source": [
    "### Solution to (1)\n",
    "\n",
    "We need to calculate $ P(A \\cap B) $.\n",
    "We know from the additive rule that:\n",
    "\n",
    "$\n",
    "P(A \\cup B) = P(A) + P(B) - P(A \\cap B) \\Rightarrow \\\\\n",
    "\\Rightarrow P(A \\cap B) = P(A) + P(B) - P(A \\cup B)\n",
    "$\n",
    "\n",
    "Thus:\n",
    "$\n",
    "P(A \\cap B) = 0.7 + 0.4 - 0.8 = 0.3\n",
    "$"
   ]
  },
  {
   "cell_type": "markdown",
   "metadata": {},
   "source": [
    "### Solution to (2)\n",
    "\n",
    "We need to calculate $ P(A' \\cap B') $.\n",
    "\n",
    "Based on set rules, we know that $ (A \\cup B)' = A' \\cap B' $.\n",
    "\n",
    "Thus:\n",
    "\n",
    "$\n",
    "P(A' \\cap B') = P((A \\cup B)')= 1 - P(A \\cup B) = 1 - 0.8 = 0.2\n",
    "$"
   ]
  },
  {
   "cell_type": "markdown",
   "metadata": {},
   "source": [
    "## Exercise 2.54\n",
    "\n",
    "From past experience, a stockbroker believes that under present economic conditions a customer will invest in tax-free bonds with a probability of 0.6, will invest in mutual funds with a probability of 0.3, and will invest in both tax-free bonds and mutual funds with a probability of 0.15\n",
    "\n",
    "Find the probability that a customer will invest:\n",
    "1. in either tax-free bonds or mutual funds;\n",
    "2. in neither tax-free bonds nor mutual funds."
   ]
  },
  {
   "cell_type": "markdown",
   "metadata": {},
   "source": [
    "Let $ T $ the event representing the investor chooses tax-free bonds, $ M $ the event in which the investor chooses mutual funds.\n",
    "\n",
    "$\n",
    "P(T) = 0.6 \\\\\n",
    "P(M) = 0.3 \\\\\n",
    "P(T \\cap M) = 0.15\n",
    "$"
   ]
  },
  {
   "cell_type": "markdown",
   "metadata": {},
   "source": [
    "### Solution to (1)\n",
    "\n",
    "According to the **additive rule**:\n",
    "$\n",
    "P(T \\cup M) = P(T) + P(M) - P(T \\cap M)\n",
    "$\n",
    "\n",
    "Thus:\n",
    "$\n",
    "P(T \\cup M) = 0.6 + 0.3 - 0.15 = 0.75\n",
    "$"
   ]
  },
  {
   "cell_type": "markdown",
   "metadata": {},
   "source": [
    "### Solution to (2)\n",
    "\n",
    "The exercise is asking about $ T' \\cap M' $. We know from the set rules:\n",
    "\n",
    "$\n",
    "T' \\cap M' = (T \\cup M)'\n",
    "$\n",
    "\n",
    "Also, from complementary events we know that $ P(A') = 1 - P(A) $.\n",
    "\n",
    "Thus:\n",
    "\n",
    "$\n",
    "P(T' \\cap M') = P((T \\cup M)') = 1 - P(T \\cup M) = 1 - 0.75 = 0.25\n",
    "$\n"
   ]
  },
  {
   "cell_type": "markdown",
   "metadata": {},
   "source": [
    "## Exercise 2.55\n",
    "\n",
    "If each coded item in a catalog begins with 3 distinct letters followed by 4 distinct nonzero digits, find the probability of randomly selecting one of these coded items with the first letter a vowel and the last digit even."
   ]
  },
  {
   "cell_type": "markdown",
   "metadata": {},
   "source": [
    "First we need to calculate the number of elements in the sample space $ S $.\n",
    "\n",
    "Using the multiplication rule we have:\n",
    "$\n",
    "n_1 = 26 \\\\\n",
    "n_2 = 25 \\\\\n",
    "n_3 = 24 \\\\\n",
    "n_4 = 9 \\\\\n",
    "n_5 = 8 \\\\\n",
    "n_6 = 7 \\\\\n",
    "n_7 = 6\n",
    "$\n",
    "\n",
    "The rational is that we have 26 available letters and 9 available numbers. As the numbers have to be different, the available numbers for letters and numbers are decremented.\n",
    "\n",
    "Thus, the total number of elements in the sample space is:\n",
    "$\n",
    "n_1 \\; n_2 \\; n_3 \\; n_4 \\; n_5 \\; n_6 \\; n_7 \n",
    "$\n",
    "\n",
    "\n",
    "Then, let's call $ A $ the event of randomly selecting a code in which the first letter is a vowel and the last one a digit that is even.\n",
    "\n",
    "We follow the same rationale, but this time the numbers will be less:\n",
    "+ The first element is a vowel so there will be only 5 possibilities.\n",
    "+ The second element is a letter, but as we have already eliminated a vowel we have 25 possibilities.\n",
    "+ The seventh element is an even number between 1 and 9, which leads to 4 possibilities.\n",
    "+ The fourth element is a number, but as we have selected already an even number for the last digit we have only 8 possibilities.\n",
    "\n",
    "$\n",
    "n_1 = 5 \\\\\n",
    "n_2 = 25 \\\\\n",
    "n_3 = 24 \\\\\n",
    "n_4 = 8 \\\\\n",
    "n_5 = 7 \\\\\n",
    "n_6 = 6 \\\\\n",
    "n_7 = 4\n",
    "$\n",
    "\n",
    "\n",
    "Then, $ P(A) = \\frac{5 \\cdot 25 \\cdot 24 \\cdot 8 \\cdot 7 \\cdot 6 \\cdot 4}{26 \\cdot 25 \\cdot 24 \\cdot 9 \\cdot 8 \\cdot 7 \\cdot 6} = \\frac{20}{26 \\cdot 9} = \\frac{10}{13 \\cdot 9} = \\frac{10}{117} \\approx 0.09 $"
   ]
  },
  {
   "cell_type": "markdown",
   "metadata": {},
   "source": [
    "## Exercise 2.56\n",
    "\n",
    "An autombile manufacturer is concerned about a possible recall of its best-selling four-door sedan. If there were a recall, there is a probability of 0.25 of a defect in the brake system, 0.18 of a defect in the transmission, 0.17 in the fuel system, and 0.40 of a defect in some other area.\n",
    "\n",
    "1. What is the probability that the defect is the brakes or the fueling system if the probability of defects in both systems simultaneously is 0.15?\n",
    "\n",
    "2. What is the probability that there are no defects in either the brakes or the fueling system?\n"
   ]
  },
  {
   "cell_type": "markdown",
   "metadata": {},
   "source": [
    "Let's define the events and probabilities of such events:\n",
    "\n",
    "$\n",
    "P(B) = 0.25 \\\\\n",
    "P(T) = 0.18 \\\\\n",
    "p(F) = 0.17 \\\\\n",
    "P(O) = 0.40\n",
    "$"
   ]
  },
  {
   "cell_type": "markdown",
   "metadata": {},
   "source": [
    "### Solution to (1)\n",
    "\n",
    "We need to calculate $ P(B \\cup F) $ knowing that $ P(B \\cap F) = 0.15 $.\n",
    "\n",
    "Using the additive rule:\n",
    "\n",
    "$\n",
    "P(B \\cup F) = P(B) + P(F) - P(B \\cap F) = 0.25 + 0.17 - 0.15 = 0.27\n",
    "$"
   ]
  },
  {
   "cell_type": "markdown",
   "metadata": {},
   "source": [
    "### Solution to (2)\n",
    "\n",
    "We need to calculate $ P(B' \\cup F') $.\n",
    "\n",
    "From the set operation rules we know that:\n",
    "\n",
    "$\n",
    "B' \\cap F' = (B \\cup F)'\n",
    "$\n",
    "\n",
    "Thus, using the probability of complementary events:\n",
    "$\n",
    "p((B \\cup F)') = 1 - P(B \\cup F) = 1 - 0.27 = 0.73\n",
    "$"
   ]
  },
  {
   "cell_type": "markdown",
   "metadata": {},
   "source": [
    "## Exercise 2.57\n",
    "\n",
    "If a letter is chosen at random from the English alphabet, find the probability that the letter:\n",
    "\n",
    "1. is a vowel exclusive of y;\n",
    "2. is listed somewhere ahead of the j;\n",
    "3. is listed somewhere after the letter g."
   ]
  },
  {
   "cell_type": "markdown",
   "metadata": {},
   "source": [
    "### Solution to (1)\n",
    "\n",
    "There are $ N = 26 $ letters in the English alphabet, 5 of them are considered vowels.\n",
    "\n",
    "Thus, if $ A $ is the event of choosing a vowel, then $ P(A) = \\frac{5}{26} \\approx 0.19 $ "
   ]
  },
  {
   "cell_type": "markdown",
   "metadata": {},
   "source": [
    "### Solution to (2)\n",
    "\n",
    "```\n",
    "                  10\n",
    "a b c d e f g h i j   k l m n o p q r s t u v w x y z\n",
    "                  X\n",
    "```\n",
    "\n",
    "There are 9 letters ahead of j, thus, $ P(B) = \\frac{9}{26} $."
   ]
  },
  {
   "cell_type": "markdown",
   "metadata": {},
   "source": [
    "### Solution to (3)\n",
    "\n",
    "```\n",
    "            7      \n",
    "a b c d e f g h i j k l m n o p q r s t u v w x y z\n",
    "            X                  \n",
    "```\n",
    "\n",
    "There are 7 letters ahead of 9, which means there are 19 letters after the g thus, $ P(C) = \\frac{19}{26} $.\n",
    "\n",
    "Also, \n",
    "\n",
    "$\n",
    "P(C) = 1 - P(C') = 1 - \\frac{7}{26} = \\frac{19}{26}\n",
    "$, as expected."
   ]
  },
  {
   "cell_type": "markdown",
   "metadata": {},
   "source": [
    "## Exercise 2.58\n",
    "\n",
    "A pair of fair dice is tossed. Find the probability of getting:\n",
    "\n",
    "1. a total of 8;\n",
    "2. at most, a total of 5."
   ]
  },
  {
   "cell_type": "markdown",
   "metadata": {},
   "source": [
    "### Solution to (1)\n",
    "\n",
    "The sample space $ S $ has $ n_1 \\; n_2 = 6 \\cdot 6 = 36 $ elements.\n",
    "\n",
    "Let $ A $ be the event of getting a total of 8.\n",
    "\n",
    "$ A = \\{ (2, 6), (3, 5), (4, 4), (5, 3), (6, 2) \\} $\n",
    "\n",
    "Thus, $ P(A) = \\frac{5}{36} \\approx 0.14 $"
   ]
  },
  {
   "cell_type": "markdown",
   "metadata": {},
   "source": [
    "### Solution to (2)\n",
    "\n",
    "Let $ B $ the event of getting at most a total of 5. This means getting 5 or less.\n",
    "\n",
    "$ \n",
    "B = \\{ \\\\\n",
    "(1, 1), (1, 2), (1, 3), (1, 4), \\\\\n",
    "(2, 1), (2, 2), (2, 3), \\\\\n",
    "(3, 1), (3, 2), \\\\\n",
    "(4, 1) \\\\\n",
    "\\}\n",
    "$\n",
    "\n",
    "Thus, $ P(B) = \\frac{10}{36} \\frac{5}{18} \\approx 0.28 $\n",
    "\n"
   ]
  },
  {
   "cell_type": "markdown",
   "metadata": {},
   "source": [
    "## Exercise 2.59\n",
    "\n",
    "In a poker hand consisting of 5 cards, find the probability of holding\n",
    "\n",
    "1. 3 aces;\n",
    "2. 4 hearts and 1 club"
   ]
  },
  {
   "cell_type": "markdown",
   "metadata": {},
   "source": [
    "### Solution to (1)\n",
    "\n",
    "The number of elements in the sample space $ S $ for a poker hand can be computed using combinations.\n",
    "\n",
    "There are 13 cards per suit, 52 cards in a deck. Thus, the total number of plays are:\n",
    "$\n",
    "\\begin{pmatrix}\n",
    "52 \\\\\n",
    "5\n",
    "\\end{pmatrix} = \\frac{52}{5! \\; (52 - 5)!} = \\frac{52}{5! \\; 47!} = 2,598,960\n",
    "$\n",
    "\n",
    "If we recall, using the formula from the combination definition:\n",
    "\n",
    "$\n",
    "\\begin{pmatrix} n \\\\ r \\end{pmatrix} = \\frac{n!}{r! \\; (n - r)!} \n",
    "$\n",
    "\n",
    "\n",
    "Let $ A $ be the event of being delt 3 aces. There are 4 aces in the deck, so, there are:\n",
    "$\n",
    "\\begin{pmatrix}\n",
    "4 \\\\\n",
    "3\n",
    "\\end{pmatrix} = \\frac{4}{3! \\; (4 - 3)!} = 4 $ hands in which we get 3 aces.\n",
    "\n",
    "Then, we'd get 2 more cars out of the $ 52 - 4 $ remaining (no more aces).\n",
    "\n",
    "$\n",
    "\\begin{pmatrix}\n",
    "48 \\\\\n",
    "2\n",
    "\\end{pmatrix} = \\frac{48}{2! \\; (48 - 2)!} = 4 $\n",
    "\n",
    "\n",
    "Thus:\n",
    "\n",
    "$\n",
    "P(A) = \\frac{\\begin{pmatrix}\n",
    "4 \\\\\n",
    "3\n",
    "\\end{pmatrix} \\; \\begin{pmatrix}\n",
    "48 \\\\\n",
    "2\n",
    "\\end{pmatrix}}{\\begin{pmatrix}\n",
    "52 \\\\\n",
    "5\n",
    "\\end{pmatrix}} = \\frac{94}{54145} \\approx 0.002\n",
    "$"
   ]
  },
  {
   "cell_type": "markdown",
   "metadata": {},
   "source": [
    "We can use the `fractions` library to simplify the previous fraction:"
   ]
  },
  {
   "cell_type": "code",
   "execution_count": 17,
   "metadata": {},
   "outputs": [
    {
     "name": "stdout",
     "output_type": "stream",
     "text": [
      "94/54145\n"
     ]
    }
   ],
   "source": [
    "from libs.fractions import Fraction\n",
    "from math import factorial\n",
    "\n",
    "def combinations(n, r):\n",
    "    numerator = int(factorial(n))\n",
    "    denominator = int(factorial(r) * factorial(n - r))\n",
    "    return Fraction(numerator, denominator)\n",
    "\n",
    "prob_a = (combinations(4, 3) * combinations(48, 2)) / combinations(52, 5)\n",
    "\n",
    "print(prob_a)"
   ]
  },
  {
   "cell_type": "markdown",
   "metadata": {},
   "source": [
    "### Solution to (2)\n",
    "\n",
    "Let $ B $ be the event in which we are dealt with 4 hearts and 1 club. Following the same approch as before we have.\n",
    "\n",
    "The number of ways in which you can be dealt 4 hearts is:\n",
    "\n",
    "$\n",
    "\\begin{pmatrix}\n",
    "13 \\\\\n",
    "4\n",
    "\\end{pmatrix}\n",
    "$\n",
    "\n",
    "The number of ways in which we can be dealt 1 club is:\n",
    "$\n",
    "\\begin{pmatrix}\n",
    "13 \\\\\n",
    "1\n",
    "\\end{pmatrix}\n",
    "$\n",
    "\n",
    "So finally:\n",
    "\n",
    "$\n",
    "P(B) = \\frac{\\begin{pmatrix}\n",
    "13 \\\\\n",
    "4\n",
    "\\end{pmatrix} \\; \\begin{pmatrix}\n",
    "13 \\\\\n",
    "1\n",
    "\\end{pmatrix}}{\\begin{pmatrix}\n",
    "52 \\\\\n",
    "5\n",
    "\\end{pmatrix}} = \\frac{143}{39984} \\approx 0.004\n",
    "$"
   ]
  },
  {
   "cell_type": "markdown",
   "metadata": {},
   "source": [
    "And using the `fractions` library we can do:"
   ]
  },
  {
   "cell_type": "code",
   "execution_count": 18,
   "metadata": {},
   "outputs": [
    {
     "name": "stdout",
     "output_type": "stream",
     "text": [
      "143/39984\n"
     ]
    }
   ],
   "source": [
    "from libs.fractions import Fraction\n",
    "from math import factorial\n",
    "\n",
    "def combinations(n, r):\n",
    "    numerator = int(factorial(n))\n",
    "    denominator = int(factorial(r) * factorial(n - r))\n",
    "    return Fraction(numerator, denominator)\n",
    "\n",
    "prob_b = (combinations(13, 4) * combinations(13, 1)) / combinations(52, 5)\n",
    "\n",
    "print(prob_b)"
   ]
  },
  {
   "cell_type": "markdown",
   "metadata": {},
   "source": [
    "## Exercises 2.60\n",
    "\n",
    "If 3 books are picked up at random from a shelf containing 5 novels, 3 books of poems, and a dictionary, what is the probability that?\n",
    "\n",
    "1. the dictionary is selected?\n",
    "2. 2 novels and 1 book of poems are selected?\n",
    "\n"
   ]
  },
  {
   "cell_type": "markdown",
   "metadata": {},
   "source": [
    "### Solution to (1)\n",
    "\n",
    "The sample space $ S $ contains 9 elements.\n",
    "\n",
    "Let $ A $ be the event of picking the dictionary when choosing 3 books. Then, we have to calculate the number of possibilities of choosing the dictionary and 2 other books whatsoever, and divide it by the total number of possibilities of choosing 3 books.\n",
    "\n",
    "$\n",
    "P(A) = \\frac{\\begin{pmatrix}\n",
    "1 \\\\\n",
    "1\n",
    "\\end{pmatrix} \\; \\begin{pmatrix}\n",
    "8 \\\\\n",
    "2\n",
    "\\end{pmatrix}\n",
    "}{\\begin{pmatrix}\n",
    "9 \\\\\n",
    "3\n",
    "\\end{pmatrix}} = \\frac{3}{9} = \\frac{1}{3}\n",
    "$"
   ]
  },
  {
   "cell_type": "code",
   "execution_count": 3,
   "metadata": {},
   "outputs": [
    {
     "name": "stdout",
     "output_type": "stream",
     "text": [
      "P(A)=1/3\n",
      "P(A)=5/14\n"
     ]
    }
   ],
   "source": [
    "from libs.probability import combinations\n",
    "from libs.fractions import Fraction\n",
    "\n",
    "p_a = (combinations(1, 1) * combinations(8, 2)) / combinations(9, 3)\n",
    "print(f\"P(A)={p_a}\")\n",
    "\n",
    "p_b = (combinations(5, 2) * combinations(3, 1)) / combinations(9, 3)\n",
    "print(f\"P(A)={p_b}\")"
   ]
  },
  {
   "cell_type": "markdown",
   "metadata": {},
   "source": [
    "## Exercise 2.61\n",
    "\n",
    "In a high school graduating class of 100 students, 54 studied mathematics, 69 studied history, and 35 studied both mathematics and history. \n",
    "\n",
    "If one of these students is selected at random, find the probability that:\n",
    "\n",
    "1. The student took mathematics or history;\n",
    "2. The student did not take either of these subjects;\n",
    "3. The student took history but not mathematics."
   ]
  },
  {
   "cell_type": "markdown",
   "metadata": {},
   "source": [
    "The sample space $ S $ has 100 elements.\n",
    "\n",
    "Let $ M $ be the event in which a student studies Math, $ H $ the event in which a student studied history.\n",
    "\n",
    "Then,\n",
    "\n",
    "$\n",
    "P(M) = \\frac{54}{100} = \\frac{27}{50} \\\\\n",
    "P(H) = \\frac{69}{100} \\\\\n",
    "P(M \\cap H) = \\frac{35}{100} = \\frac{7}{20}\n",
    "$\n"
   ]
  },
  {
   "cell_type": "markdown",
   "metadata": {},
   "source": [
    "### Solution to (1)\n",
    "\n",
    "$\n",
    "P(M \\cup H) = P(M) + P(H) - P(M \\cap H) = \\frac{22}{25}\n",
    "$"
   ]
  },
  {
   "cell_type": "markdown",
   "metadata": {},
   "source": [
    "### Solution to (2)\n",
    "\n",
    "We have to calculate $ P(M' \\cap H') $. We know from sets theory that:\n",
    "\n",
    "$\n",
    "M' \\cap H' = (M \\cup H)'\n",
    "$\n",
    "\n",
    "And from complementary events, we know that $ P(A') = 1 - P(A) $.\n",
    "\n",
    "Thus:\n",
    "\n",
    "$\n",
    "P(M' \\cap H') = P((M \\cup H)') = 1 - P(M \\cup H) = 1 - \\frac{22}{25} = \\frac{3}{25}\n",
    "$\n"
   ]
  },
  {
   "cell_type": "markdown",
   "metadata": {},
   "source": [
    "### Solution to (3)\n",
    "\n",
    "For this one, we need to use a Venn diagram:\n",
    "\n",
    "![Venn diagram](../images/venn_diagram_ex_2.61.png)\n",
    "\n",
    "By looking at the diagram we see that $ H \\cap M' $ are 69 - 35.\n",
    "\n",
    "Thus,\n",
    "\n",
    "$\n",
    "P(H \\cap M') = \\frac{34}{100} = \\frac{17}{50}\n",
    "$"
   ]
  },
  {
   "cell_type": "markdown",
   "metadata": {},
   "source": [
    "## Exercise 2.62\n",
    "\n",
    "Dom's Pizza Company uses taste testing and statistical analysis of the data prior to marketing any new product. Consider a study involving three types of crusts (thin, thin with garlic and oregano, and thin with bits of cheese). Dom's is also studying three sauces (standard, a new sauce with more garlic, and a new sauce with fresh basil).\n",
    "\n",
    "1. How many combinations of crust and sauce are involved?\n",
    "2. What is the probability that a judge will get a plain thin crust with a standard sauce for their first tast test?"
   ]
  },
  {
   "cell_type": "markdown",
   "metadata": {},
   "source": [
    "### Solution to (1)\n",
    "\n",
    "Using the multiplication rule we have $ n_1 = 3 $ and $ n_2 = 3 $.\n",
    "\n",
    "Thus, there will be $ n_1 \\; n_2 = 9 $ possible combinations of the different crusts and sauces."
   ]
  },
  {
   "cell_type": "markdown",
   "metadata": {},
   "source": [
    "### Solution to (2)\n",
    "\n",
    "We have to use the formula for the probability $ \\frac{n}{N} $, and to calculate $ n $ we can use the formula for combinations:\n",
    "\n",
    "Thus, if $ A $ is the event in which the judge gets a plain thin crust with standard sauce, then $ n = 1 $:\n",
    "\n",
    "$\n",
    "P(A) = \\frac{1}{9}\n",
    "$"
   ]
  },
  {
   "cell_type": "markdown",
   "metadata": {},
   "source": [
    "## Exercise 2.63\n",
    "\n",
    "According to Consumer Digital, the probable location of personal computers in the home is as follows:\n",
    "\n",
    "+ Adult bedroom: 0.03\n",
    "+ Child bedroom: 0.15\n",
    "+ Other bedroom: 0.14\n",
    "+ Office or den: 0.40\n",
    "+ Other rooms: 0.28\n",
    "\n",
    "1. What is the probability that a PC is in a bedroom?\n",
    "2. What is the probability that it is not in a bedroom?\n",
    "3. Suppose a household is selected at random from households with a PC; in what room would you expect to find a PC?"
   ]
  },
  {
   "cell_type": "markdown",
   "metadata": {},
   "source": [
    "Let's name the different events:\n",
    "\n",
    "+ A &mdash; the PC is in the adult bedroom\n",
    "+ B &mdash; the PC is in the child bedroom\n",
    "+ C &mdash; the PC is in other bedroom\n",
    "+ D &mdash; the PC is in the office/den\n",
    "+ E &mdash; the PC is in other room"
   ]
  },
  {
   "cell_type": "markdown",
   "metadata": {},
   "source": [
    "### Solution to (1)\n",
    "\n",
    "As the events are mutually exclusive:\n",
    "\n",
    "$\n",
    "P(A \\cup B \\cup C) = 0.03 + 0.15 + 0.14 = 0.32\n",
    "$"
   ]
  },
  {
   "cell_type": "markdown",
   "metadata": {},
   "source": [
    "### Solution to (2)\n",
    "\n",
    "The probability for the event $ F' $, where $ F = A \\cup B \\cup C $ can be computed as:\n",
    "\n",
    "$\n",
    "P(F') = 1 - P(F) = 1 - 0.32 = 0.68\n",
    "$\n",
    "\n",
    "and also as:\n",
    "\n",
    "$\n",
    "P(D \\cap E) = P(D) + P(E) = 0.40 + 0.28 = 0.68\n",
    "$\n"
   ]
  },
  {
   "cell_type": "markdown",
   "metadata": {},
   "source": [
    "### Solution to (3)\n",
    "\n",
    "If you pick a room at random, you should expect to find the PC in the office or den, as there's a 40% probability of finding it there."
   ]
  },
  {
   "cell_type": "markdown",
   "metadata": {},
   "source": [
    "## Exercise 2.64\n",
    "\n",
    "Interest centers around the life of an electronic component. Suppose it is known that the probability that the component survives for more than 6000 hours is 0.42. Suppose also that the probability that the component survices no longer than 4000 hours is 0.04.\n",
    "\n",
    "1. What is the probability that the life of the component is less than or equal to 6000 hours?\n",
    "\n",
    "2. What is the probability that the life is greater than 4000 hours?"
   ]
  },
  {
   "cell_type": "markdown",
   "metadata": {},
   "source": [
    "Let $ A $ the event that the component life is more than 6000 hours, $ B $ the probability that the life is less than 4000 hours.\n",
    "\n",
    "+ $ P(A) = 0.42 $\n",
    "+ $ P(B) = 0.04 $"
   ]
  },
  {
   "cell_type": "markdown",
   "metadata": {},
   "source": [
    "### Solution to (1)\n",
    "\n",
    "The exercise is asking for $ A' $.\n",
    "\n",
    "$\n",
    "P(A') = 1 - P(A) = 1 - 0.42 = 0.58\n",
    "$"
   ]
  },
  {
   "cell_type": "markdown",
   "metadata": {},
   "source": [
    "### Solution to (2)\n",
    "\n",
    "The exercise is asking for $ B' $.\n",
    "\n",
    "$\n",
    "P(B') = 1 - P(B) = 1 - 0.04 = 0.96\n",
    "$"
   ]
  },
  {
   "cell_type": "markdown",
   "metadata": {},
   "source": [
    "## Exercise 2.65\n",
    "\n",
    "Consider the situation of [Exercise 2.64](#exercise-264). Let $ A $ be the event that the component fails a particular test and $ B $ the event that the component displays strain but does not actually fail. Event $ A $ occurs with a probability of 0.20, and event $ B $ occurs with a probability 0.35.\n",
    "\n",
    "1. What is the probability that the component does not fail the test?\n",
    "2. What is the probability that the component works perfectly well (i.e., neither displays strain nor fails the test?)\n",
    "3. What is the probability that the component either fails or shows strain in the test?"
   ]
  },
  {
   "cell_type": "markdown",
   "metadata": {},
   "source": [
    "We have:\n",
    "+ $ P(A) = 0.20 $\n",
    "+ $ P(B) = 0.35 $\n",
    "\n",
    "Also note the wording of $ B $: it is the event that the component does not fail, but shows some strain. This means that events $ A $ and $ B $ are mutually exclusive, as $ B $ implies the component does not fail."
   ]
  },
  {
   "cell_type": "markdown",
   "metadata": {},
   "source": [
    "### Solution to (1)\n",
    "\n",
    "We need to compute $ P(A') $. Using the rule for  the probability of a complementary event:\n",
    "\n",
    "$\n",
    "P(A') = 1 - P(A) = 0.80\n",
    "$"
   ]
  },
  {
   "cell_type": "markdown",
   "metadata": {},
   "source": [
    "### Solution to (2)\n",
    "\n",
    "We need to compute the probability of the event $ A' \\cap B' $.\n",
    "\n",
    "$\n",
    "P(A' \\cap B') = P((A \\cup B)') = 1 - P(A \\cup B) = 1 - (P(A) + P(B) - P(A \\cup B))\n",
    "$\n",
    "\n",
    "As events $ A $ and $ B $ are disjoint (mutually exclusive), $ P(A \\cap B) = 0 $.\n",
    "\n",
    "Thus:\n",
    "\n",
    "$\n",
    "P(A' \\cap B') = 1 - P(A) - P(B) = 1 - 0.20 - 0.35 = 0.45\n",
    "$"
   ]
  },
  {
   "cell_type": "markdown",
   "metadata": {},
   "source": [
    "### Solution to (3)\n",
    "\n",
    "We need to calculate $ P(A \\cup B) $.\n",
    "\n",
    "$\n",
    "P(A \\cup B) = P(A) + P(B) - P(A \\cap B)\n",
    "$\n",
    "\n",
    "\n",
    "As events $ A $ and $ B $ are disjoint (mutually exclusive), $ P(A \\cap B) = 0 $ we have:\n",
    "\n",
    "$\n",
    "P(A' \\cup B') = P(A) + P(B) = 0.55\n",
    "$"
   ]
  },
  {
   "cell_type": "markdown",
   "metadata": {},
   "source": [
    "## Exercise 2.66\n",
    "\n",
    "Factory workers are constantly encouraged to practice zero tolerance when it comes to accidents in factories. Accidents can occur because the working environment or conditions themselves are unsafe. On the other hand, accidents can occur due to carelessness or so-called human error. In addition, the worker's shift, 7:00 A.M. - 3:00 P.M. (day shift), 3:00 P.M. - 11:00 P.M. (evening shift), or 11:00 P.M. - 7:00 A.M. (graveyard shift), may be a factor. During the last year, 300 accidents have occurred. The percentages of the accidents for the condition combinations are as follows:\n",
    "\n",
    "| Shift | Unsafe Conditions | Human Error |\n",
    "| :---- | :---------------- | :---------- |\n",
    "| Day   | 5% | 32% |\n",
    "| Evening | 6% | 25% |\n",
    "| Graveyard | 2% | 30% |\n",
    "\n",
    "If an accident report is selected randomly from the 300 reports.\n",
    "\n",
    "1. What is the probability that the accident occurred on the graveyard shift?\n",
    "2. What is the probability that the accident occurred due to human error?\n",
    "3. What is the probability that the accident occurred due to unsafe conditions?\n",
    "4. What is the probability that the accident occurred on either the evening or the graveyard shift?"
   ]
  },
  {
   "cell_type": "markdown",
   "metadata": {},
   "source": [
    "### Solution to (1)\n",
    "\n",
    "As we have 300 reports, there will be 2% of those 300 reports related to unsafe conditions on the graveyard shift, and 30% of those 300 related to human errors on the graveyard shift.\n",
    "\n",
    "Thus, let $ A $ be the event that an accident occur on the graveyard shift:\n",
    "\n",
    "$\n",
    "P(A) = \\frac{n}{N} = \\frac{6 + 90}{300} = \\frac{8}{25} = 0.32\n",
    "$\n",
    "\n",
    "Note that this is the same as $ 0.02 + 0.30 $."
   ]
  },
  {
   "cell_type": "markdown",
   "metadata": {},
   "source": [
    "### Solution to (2)\n",
    "\n",
    "Using the same reasoning, let $ B $ be the event that the accident occurred due to human error:\n",
    "\n",
    "$\n",
    "P(B) = \\frac{n}{N} = \\frac{32 ; 3 + 25 \\; 3 + 30 \\; 3}{300} = \\frac{87}{100} = 0.87\n",
    "$\n",
    "\n",
    "Note that $ 0.32 + 0.25 + 0.30 = 0.87 $ too."
   ]
  },
  {
   "cell_type": "markdown",
   "metadata": {},
   "source": [
    "### Solution to (3)\n",
    "\n",
    "Let $ C $ be the event that the accident occurred due to unsafe conditions:\n",
    "\n",
    "$\n",
    "P(C) = 0.13\n",
    "$"
   ]
  },
  {
   "cell_type": "markdown",
   "metadata": {},
   "source": [
    "### Solution to (4)\n",
    "\n",
    "Let $ D $ the event that the accident occurred in the evening, $ E $ the event that the accident occurred in the graveyard shift.\n",
    "\n",
    "$\n",
    "P(D) = 0.06 + 0.25 = 0.31 \\\\\n",
    "P(E) = 0.32 \\\\\n",
    "$\n",
    "\n",
    "\n",
    "Then,\n",
    "\n",
    "$\n",
    "P(D \\cup E) = P(D) + P(E) = 0.31 + 0.32 = 0.63\n",
    "$, as the events are mutually exclusive.\n",
    "\n",
    "Alternatively, we could have done:\n",
    "\n",
    "$\n",
    "P(D \\cup E) = 1 - P(F) = 1 - (0.05 + 0.32) = 0.63\n",
    "$, with $ F $ being the event that the accident happened in the day shift.\n"
   ]
  },
  {
   "cell_type": "markdown",
   "metadata": {},
   "source": [
    "## Exercise 2.67\n",
    "\n",
    "Consider that situation of [Example 2.32](../01-concepts/probability.ipynb#example-232).\n",
    "\n",
    "> If the probability that an automobile mechanic will service 3, 4, 5, 6, 7, or 8 or more cars on any given workday are respectively, 0.12, 0.19, 0.28, 0.24, 0.10, and 0.07, what is the probability that he will service at least 5 cars on his next day at work?\n",
    "\n",
    "1. What is the probability that no more than 4 cars will be serviced by the mechanic?\n",
    "2. What is the probability that he will service fewer than 8 cars?\n",
    "3. What is the probability that he will service either 3 or 4 cars?\n"
   ]
  },
  {
   "cell_type": "markdown",
   "metadata": {},
   "source": [
    "Let:\n",
    "\n",
    "+ $ A $ the event that the mechanic service 3 cars, $ P(A) = 0.12 $\n",
    "+ $ B $ the event that the mechanic service 4 cars, $ P(B) = 0.19 $\n",
    "+ $ C $ the event that the mechanic service 5 cars, $ P(C) = 0.28 $\n",
    "+ $ D $ the event that the mechanic service 6 cars, $ P(D) = 0.24 $\n",
    "+ $ E $ the event that the mechanic service 7 cars, $ P(E) = 0.10 $\n",
    "+ $ F $ the event that the mechanic service 8 or more cars, $ P(F) = 0.07 $"
   ]
  },
  {
   "cell_type": "markdown",
   "metadata": {},
   "source": [
    "### Solution to (1)\n",
    "\n",
    "We need to compute $ P(A \\cup B) $, that is, either 3 or 4 cars will be serviced by the mechanic.\n",
    "\n",
    "As $ A $ and $ B $ are mutually exclusive:\n",
    "\n",
    "$\n",
    "P(A \\cup B) = P(A) + P(B) = 0.12 + 0.19 = 0.31\n",
    "$"
   ]
  },
  {
   "cell_type": "markdown",
   "metadata": {},
   "source": [
    "### Solution to (2)\n",
    "\n",
    "We need to compute $ P(A \\cup B \\cup C \\cup D \\cup E) $. That is the same as $ P(E') $.\n",
    "\n",
    "Let's compute both:\n",
    "\n",
    "$ \n",
    "P(A \\cup B \\cup C \\cup D \\cup E) = 0.12 + 0.19 + 0.28 + 0.24 +0.10 = 0.93 \\\\\n",
    "P(E') = 1 - P(E) = 1 - 0.07 = 0.93\n",
    "$"
   ]
  },
  {
   "cell_type": "markdown",
   "metadata": {},
   "source": [
    "### Solution to (3)\n",
    "\n",
    "We need to compute $ P(A \\cup B) $, which is the same as (1):\n",
    "\n",
    "$\n",
    "P(A \\cup B) = P(A) + P(B) = 0.12 + 0.19 = 0.31\n",
    "$"
   ]
  },
  {
   "cell_type": "markdown",
   "metadata": {},
   "source": [
    "## Exercise 2.68\n",
    "\n",
    "Interest centers around the nature of an oven purchased at a particular department store. It can be either a gas or an electric-oven. Consider the decisions made by six distinct customers.\n",
    "\n",
    "1. Suppose that the probability is 0.40 that at most two of these individuals purchase an electric oven. What is the probability that at least three purchase the electric oven?\n",
    "\n",
    "2. Suppose it is known that the probability that all six purchase the electric oven is 0.007 while 0.104 is the probability that all six purchase the gas oven. What is the probability that at least one of each type is purchased?"
   ]
  },
  {
   "cell_type": "markdown",
   "metadata": {},
   "source": [
    "### Solution to (1)\n",
    "\n",
    "Let $ A $ be the event that at most 2 out 6 individuals purchase an electric oven. We know that $ P(A) = 0.40 $\n",
    "\n",
    " Then the probability that at least 3 purchase an electric oven will be $ P(A') = 1 - P(A) = 0.60 $.\n",
    "\n",
    " | NOTE: |\n",
    " | :---- |\n",
    " | I have doubts here. Is it really the event of at least 3 purchase an electric oven exactly the opposite of at most two buying an electric oven? |"
   ]
  },
  {
   "cell_type": "markdown",
   "metadata": {},
   "source": [
    "### Solution to (2)\n",
    "\n",
    "Let:\n",
    "+ $ B $ all six customers purchase the electric oven; $ P(B) = 0.007 $\n",
    "+ $ C $ all six customers purchase the gas oven; $ P(C) = 0.104 $.\n",
    "\n",
    "We need to compute the probability that at least one of each type is purchased.\n",
    "\n",
    "Thus, the probability of all six customers purchasing the gas oven or all six purchasing the gas oven will be:\n",
    "\n",
    "$\n",
    "P(B \\cup C) = 0.007 + 0.104 = 0.111\n",
    "$\n",
    "\n",
    "Then $ (B \\cup C)' = B' \\cap C' $\n",
    "\n",
    "$ B' $ is the event that not all six customers purchase the electric oven. Similarly, $ C' $ is the event that not all six customers purchase the gas oven. Thus $ B' \\cap C' $ will be the event in which not all six customers purchase the electric over or not all six customers purchase the gas oven, so:\n",
    "\n",
    "$ P(B' \\cap C') = 1 - P(B \\cup C) = 1 - 0.111 = 0.999$"
   ]
  },
  {
   "cell_type": "markdown",
   "metadata": {},
   "source": [
    "## Exercise 2.69\n",
    "\n",
    "It is common in many industrial areas to use a filling machine to fill boxes full of product. This occurs in the food industry as well as other areas in which the product is used in the home, for example, detergent. These machines are not perfect, and indeed they may $ A $, fill to specification, $ B $ underfill, $ C $, overfill. Generally, the practice of underfilling is that which one hopes to avoid. Let $ P(B) = 0.001 $, while $ P(A) = 0.990 $.\n",
    "\n",
    "1. Give $ P(C) $\n",
    "2. What is the probability that the machine does not overfill?\n",
    "3. What is the probability that the machine either overfills or underfills?"
   ]
  },
  {
   "cell_type": "markdown",
   "metadata": {},
   "source": [
    "### Solution to (1)\n",
    "\n",
    "As $ A $, $ B $, and $ C $ are mutually exclusive and describe the whole sample space $ S $:\n",
    "\n",
    "$\n",
    "P(A) + P(B) + P(C) = 1 \\\\\n",
    "P(C) = 1 - P(A) - P(B) = 1 - 0.990 - 0.001 = 0.009\n",
    "$"
   ]
  },
  {
   "cell_type": "markdown",
   "metadata": {},
   "source": [
    "### Solution to (2)\n",
    "\n",
    "$\n",
    "P(C') = 1 - P(C) = 1 - 0.009 = 0.991\n",
    "$"
   ]
  },
  {
   "cell_type": "markdown",
   "metadata": {},
   "source": [
    "### Solution to (3)\n",
    "\n",
    "$\n",
    "P(B \\cup C) = P(B) + P(C) = 0.001 + 0.009 = 0.01\n",
    "$"
   ]
  },
  {
   "cell_type": "markdown",
   "metadata": {},
   "source": [
    "## Exercise 2.70\n",
    "\n",
    "Consider the situation of [Exercise 2.69](#exercise-269). Suppose that 50,000 boxes of detergent are produced per week and suppose also that those underfilled are *sent back*, with customers requesting reimbursement of the purchase price. Suppose also that the cost of production is known to be $4.00 per box while the purchase price is $4.50 per box.\n",
    "\n",
    "1. What is the weekly profit under the condition of no defective boxes?\n",
    "2. What is the loss in profit expected due to underfilling?"
   ]
  },
  {
   "cell_type": "markdown",
   "metadata": {},
   "source": [
    "We know from the previous exercise:\n",
    "\n",
    "+ $ A $, box is filled as specifification, $ P(A) = 0.990 $\n",
    "+ $ B $, box is underfilled, $ P(B) = 0.001 $\n",
    "+ $ C $, box is overfilled, $ P(C) = 0.009 $"
   ]
  },
  {
   "cell_type": "markdown",
   "metadata": {},
   "source": [
    "### Solution to (1)\n",
    "\n",
    "If there were no defective boxes, the weekly profit would be:\n",
    "\n",
    "$\n",
    "\\text{weekly\\_profit}= 50000 \\cdot (4.50 - 4)=\\$ 25000\n",
    "$"
   ]
  },
  {
   "cell_type": "markdown",
   "metadata": {},
   "source": [
    "### Solution to (2)\n",
    "\n",
    "To calculate the loss in profit due to underfilling we have to take the $ P(B) = 0.001 $.\n",
    "\n",
    "Thus, \n",
    "\n",
    "$\n",
    "50000 \\cdot 0.001 = 50\n",
    "$ defective boxes per week.\n",
    "\n",
    "If those boxes weren't defective, we would have earned $ 50 \\cdot 0.50 = \\$ 25 $ with them. Instead, we have to reimburse them, so we lose $ 50 \\cdot 4.50 = \\$ 225 $. Thus, the loss in profit will be $ 25 + 225 = \\$ 250 $ per week."
   ]
  },
  {
   "cell_type": "markdown",
   "metadata": {},
   "source": [
    "## Exercise 2.71\n",
    "\n",
    "Statistical procedures are often used for control of quality (i.e., industrial quality control). At times, the weight of a product is an important variable to control. Specifications are given for the weight of a certain packaged product, and a package is rejected if it is either too light or too heavy. Historical data suggest that 0.95 is the probability that the product meets weight specification whereas 0.002 is the probability the the product is too light. For each single packaged product, the manufacturer invests $20.00 in production and the purchase price for the consumer is $25.00.\n",
    "\n",
    "1. What is the probability that a package chosen randomly from the production line is too heavy?\n",
    "2. For each 10,000 packages sold, what profit is received by the manufacturer if all packages meet weight specification?\n",
    "3. Assuming that all defective packages are rejected and rendered worthless, how much is the profit reduced on 10,000 packages due to failure to meet weight specification?"
   ]
  },
  {
   "cell_type": "markdown",
   "metadata": {},
   "source": [
    "Let:\n",
    "+ $ A $, product meets specification, $ P(A) = 0.95 $\n",
    "+ $ B $, product is too light, $ P(B) = 0.002 $\n",
    "+ $ C $, product is too heavy"
   ]
  },
  {
   "cell_type": "markdown",
   "metadata": {},
   "source": [
    "### Solution to (1)\n",
    "\n",
    "As $ A $, $ B $, and $ C $ are mutually exclusive:\n",
    "\n",
    "$\n",
    "P(C) = 1 - P(A) - P(B) = 1 - 0.95 - 0.002 = 0.048\n",
    "$"
   ]
  },
  {
   "cell_type": "markdown",
   "metadata": {},
   "source": [
    "### Solution to (2)\n",
    "\n",
    "If all packages meet the weight specs, the profits would be \\$5 per package. \n",
    "\n",
    "Thus:\n",
    "\n",
    "$\n",
    "10,000 \\cdot \\$ 5 = \\$ 50,000\n",
    "$ in profit."
   ]
  },
  {
   "cell_type": "markdown",
   "metadata": {},
   "source": [
    "### Solution to (3)\n",
    "\n",
    "We need to calculate how much the profit will be reduced assuming all defective packages will be rejected.\n",
    "\n",
    "A package is defective if it is under or overweight:\n",
    "\n",
    "$\n",
    "P(B \\cup C) = P(B) + P(C) = 0.05\n",
    "$\n",
    "\n",
    "Thus, in 10,000 packages, there will be : $ 10,000 \\cdot 0.05 = 500 $ defective packages.\n",
    "\n",
    "This means, $ 500 \\cdot \\$ 5 $ of money the manufacturer would not get. This should be added to the \\$20 production costs which will mean: $ 500 \\cdot (\\$5 + \\$20) = \\$12,500 $ lost profits."
   ]
  },
  {
   "cell_type": "markdown",
   "metadata": {},
   "source": [
    "## Exercise 2.72\n",
    "\n",
    "Prove that:\n",
    "\n",
    "$\n",
    "P(A' \\cap B') = 1 + P(A \\cap B) - P(A) - P(B)\n",
    "$"
   ]
  },
  {
   "cell_type": "markdown",
   "metadata": {},
   "source": [
    "We kown from set theory that:\n",
    "\n",
    "$\n",
    "A' \\cap B' = (A \\cup B)'\n",
    "$\n",
    "\n",
    "We also know that $ P(C') = 1 - P(C) $\n",
    "\n",
    "Thus,\n",
    "\n",
    "$\n",
    "P((A \\cup B)') = 1 - P(A \\cup B) = 1 -(P(A) + P(B) - P(A \\cap B)) = 1 - P(A) - P(B) + P(A \\cap B) = 1 + P(A \\cap B) - P(A) - P(B)\n",
    "$"
   ]
  },
  {
   "cell_type": "markdown",
   "metadata": {},
   "source": [
    "## Exercise 2.73\n",
    "\n",
    "If $ R $ is the event that a convict committed armed robbery and $ D $ is the event that the convict pushed dope, state in words what probabilities are expressed by:\n",
    "\n",
    "1. $ P(R|D) $\n",
    "2. $ P(D'|R) $\n",
    "3. $ P(R'|D') $"
   ]
  },
  {
   "cell_type": "markdown",
   "metadata": {},
   "source": [
    "The solution to the probabilities stated above are:\n",
    "\n",
    "1. $ P(R|D) $ is the probability that a convict committed armed robbery given that the convict pushed dope.\n",
    "\n",
    "2. $ P(D'|R) $ is the probability that the convict didn't push dope given that he/she committed armed robbery.\n",
    "\n",
    "3. $ P(R'|D') $ is the probability that the convict didn't commit armed robbery, given that he/she didn't push dope."
   ]
  },
  {
   "cell_type": "markdown",
   "metadata": {},
   "source": [
    "## Exercise 2.74\n",
    "\n",
    "A class in advanced physics is composed of 10 juniors, 30 seniors, and 10 graduate students. The final grades show that 3 of the juniors, 10 of the seniors, and 5 of the graduate students received an *A* for the course.\n",
    "\n",
    "If a student is chosen at random from this class and is found to have earned an *A*, what is the probability that he or she is a senior?"
   ]
  },
  {
   "cell_type": "markdown",
   "metadata": {},
   "source": [
    "Let $ A $ be the probability that the student earned and *A* in the class, and $ S $ be the event that the student is a senior.\n",
    "\n",
    "Then, we need to calculate $ P(S|A) $.\n",
    "\n",
    "Applying the formula for the conditional probability we have:\n",
    "\n",
    "$\n",
    "P(S|A) = \\frac{P(S \\cap A)}{P(A)} = \\frac{10/50}{18/50} = \\frac{10}{18} = \\frac{5}{9} \\approx 0.56\n",
    "$\n",
    "\n",
    "We could also have computed it using the reduced sample space method:\n",
    "\n",
    "$\n",
    "P(S|A) = \\frac{10}{18} = \\frac{5}{9}\n",
    "$\n",
    "\n",
    "As there are 10 senior students that earned an A out of the 18 students that earned A's."
   ]
  },
  {
   "cell_type": "markdown",
   "metadata": {},
   "source": [
    "## Exercise 2.75\n",
    "\n",
    "A random sample of 200 adults are classified below by sex and their level of education attained.\n",
    "\n",
    "| Education | Male | Female |\n",
    "| :-------- | :--- | :----- |\n",
    "| Elementary | 38 | 45 |\n",
    "| Secondary | 28 | 50 |\n",
    "| College | 22 | 17 |\n",
    "\n",
    "If a person is picked at random from this group, find the probability that:\n",
    "\n",
    "1. the person is a male, given that the person has a secondary education.\n",
    "2. the person does not have a college degree, given that the person is a female."
   ]
  },
  {
   "cell_type": "markdown",
   "metadata": {},
   "source": [
    "Let's define the events first:\n",
    "+ Let $ M $ and $ F $, the events that the person is male and female, respectively.\n",
    "+ Let $ S $ and $ C $, the events that the person has secondary education, and college degree respectively."
   ]
  },
  {
   "cell_type": "markdown",
   "metadata": {},
   "source": [
    "### Solution to (1)\n",
    "\n",
    "For the first question, we need to calculate $ P(M|S) $.\n",
    "\n",
    "We can calculate this probability in two ways: using the conditional probability formula, and using the reduced sample space.\n",
    "\n",
    "Using the first method:\n",
    "\n",
    "$\n",
    "P(M|S) = \\frac{P(M \\cap S)}{P(S)}\n",
    "$\n",
    "\n",
    "On one hand:\n",
    "$\n",
    "P(S) = \\frac{28 + 50}{38 + 45 + 28 + 50 + 22 + 17} = \\frac{39}{100} = 0.39\n",
    "$\n",
    "\n",
    "and $ P(M \\cap S) = \\frac{28}{200} $\n",
    "\n",
    "Thus, \n",
    "\n",
    "$\n",
    "P(M|S) = \\frac{P(M \\cap S)}{P(S)} = \\frac{28/200}{39/100} = \\frac{14}{39} \\approx 0.359\n",
    "$\n",
    "\n",
    "\n",
    "Using the reduced sample space: $ P(M|S) = \\frac{28}{28 + 50} = \\frac{28}{78} = \\frac{14}{39} $ as expected."
   ]
  },
  {
   "cell_type": "markdown",
   "metadata": {},
   "source": [
    "### Solution to (2)\n",
    "\n",
    "Now, we have to calculate $ P(C'|F) $.\n",
    "\n",
    "Again, we have two ways of calculating it: the conditional probability formula, and the reduced sample space.\n",
    "\n",
    "In this case, the latter will give us an easier way to calculate it.\n",
    "\n",
    "$\n",
    "P(C'|F) = \\frac{45 + 50}{45 + 50 + 17} = \\frac{95}{112} \\approx 0.848\n",
    "$\n",
    "\n",
    "The first method might me a bit more complicated this time:\n",
    "\n",
    "$\n",
    "P(C'|F) = \\frac{P(C' \\cap F)}{P(F)}\n",
    "$\n",
    "\n",
    "On one hand, $ P(F) = \\frac{45 + 50 + 17}{200} = \\frac{14}{25} $.\n",
    "\n",
    "Also, $ P(C' \\cap F) = \\frac{50 + 45}{200} $\n",
    "\n",
    "Thus,\n",
    "\n",
    "$\n",
    "P(C'|F) = \\frac{P(C' \\cap F)}{P(F)} = \\frac{50 + 45}{45 + 50 + 17} = \\frac{95}{112}\n",
    "$, just as expected"
   ]
  },
  {
   "cell_type": "markdown",
   "metadata": {},
   "source": [
    "## Exercise 2.76\n",
    "\n",
    "In an experiment to study the relationship of hypertension and smoking habits, the following data are collected for 180 individuals:\n",
    "\n",
    "|     | Nonsmokers | Moderate Smokers | Heavy Smokers |\n",
    "| :-- | :--------- | :--------------- | :------------ |\n",
    "| H   | 21 | 36 | 30 |\n",
    "| NH  | 48 | 26 | 19 |\n",
    "\n",
    "where H and NH stand for Hypertension and Nonhypertension respectively.\n",
    "\n",
    "If one of these individuals is selected at random, find the probability that the person is:\n",
    "\n",
    "1. experiencing hypertension, given that the person is a heavy smoker.\n",
    "2. a nonsmoker, given that the person is experiencing no hypertension."
   ]
  },
  {
   "cell_type": "markdown",
   "metadata": {},
   "source": [
    "### Solution to (1)\n",
    "\n",
    "We need to calculate $ P(H|HS) $ where $ H $ is the event that the individual has hypertension and $ HS $ the event that the individual is a heavy smoker.\n",
    "\n",
    "We can use the formula for the conditional probability and alternatively, use the reduced sample space.\n",
    "\n",
    "Using the conditional probability formula:\n",
    "\n",
    "$\n",
    "P(H|HS) = \\frac{P(H \\cap HS)}{P(HS)} = \\frac{30/180}{49/180} = \\frac{30}{49} \\approx 0.612\n",
    "$\n",
    "\n",
    "Using the reduce sample space:\n",
    "\n",
    "$\n",
    "P(H|HS) = \\frac{30}{49}\n",
    "$\n"
   ]
  },
  {
   "cell_type": "markdown",
   "metadata": {},
   "source": [
    "### Solution to (2)\n",
    "\n",
    "We need to calculate $ P(NS|NH) $. Again we can use botht the conditional probability formula and the reduce sample space:\n",
    "\n",
    "$ \n",
    "P(NS|NH) = \\frac{P(NS \\cap NH)}{P(NH)} = \\frac{48/180}{(48+26+19)/180} = \\frac{48/180}{93/180} = \\frac{48}{93} = \\frac{16}{31} \\approx 0.516\n",
    "$\n",
    "\n",
    "Using the reduce sample space:\n",
    "\n",
    "$\n",
    "P(NS|NH) = \\frac{48}{48+26+19} = \\frac{48}{93} = \\frac{16}{31} \\approx 0.516\n",
    "$\n",
    "\n"
   ]
  },
  {
   "cell_type": "markdown",
   "metadata": {},
   "source": [
    "## Exercise 2.77\n",
    "\n",
    "In the senior year of a high school graduating class of 100 students, 42 studied Math, 68 studies Psychology, 54 studied History, 22 studied both Math and History, 25 studied both Math and Psychology, 7 studied History but neither Math nor Psychology, 10 studied all three subjects, and 8 did not take any of the three.\n",
    "\n",
    "Randomly select a student from the class and find the probabilities of the following events:\n",
    "\n",
    "1. A person enrolled in Psychology takes all three subjects.\n",
    "2. A person not taking Psychology is taking both History and Math."
   ]
  },
  {
   "cell_type": "markdown",
   "metadata": {},
   "source": [
    "Let $ P $, $ M $, and $ H $ the events that a student takes Psychology, Math, and History respectively."
   ]
  },
  {
   "cell_type": "markdown",
   "metadata": {},
   "source": [
    "### Solution to (1)\n",
    "\n",
    "We need to calculate that a person enrolled in Psychology takes all three subjects.\n",
    "\n",
    "Therefore, we need to calculate:\n",
    "\n",
    "$\n",
    "P(P \\cap M \\cap H|P) = \\frac{P \\cap M \\cap H}{P(P)}=\\frac{10/100}{68/100} = \\frac{10}{68} = \\frac{5}{34}\n",
    "$\n",
    "\n",
    "Thinking about the reduced sample space method: we know that 68 students took Psychology (that is our reduced sample space). We also know that 10 students took all the three subjects, thus: $ P(P \\cap M \\cap H|P) = \\frac{10}{68} = \\frac{5}{34} $"
   ]
  },
  {
   "cell_type": "markdown",
   "metadata": {},
   "source": [
    "### Solution to (2)\n",
    "\n",
    "Here we need to calculate $ P(H \\cap M|P') $.\n",
    "\n",
    "$ \n",
    "P(H \\cap M|P') = \\frac{P(H \\cap M \\cap P')}{P(P')}\n",
    "$\n",
    "\n",
    "We know that $ P(P') = 1 - P(P) = 1 - \\frac{68}{100} = \\frac{32}{100} $\n",
    "\n",
    "On the other hand, we know that 22 students took History and Math, and 10 students took History, Math, and Psychology. Therefore, there will be $ 22 - 10 $ students that took History and Math but not Psychology.\n",
    "\n",
    "$\n",
    "P(H \\cap M \\cap P') = \\frac{22 - 10}{100}\n",
    "$\n",
    "\n",
    "As a result:\n",
    "\n",
    "$ \n",
    "P(H \\cap M|P') = \\frac{P(H \\cap M)}{P(P')} = \\frac{12/100}{32/100} = \\frac{12}{32} = \\frac{3}{8}\n",
    "$"
   ]
  },
  {
   "cell_type": "markdown",
   "metadata": {},
   "source": [
    "### Exercise 2.78\n",
    "\n",
    "A manufacturer of a flu vaccine is concerned about the quality of its flu serum. Batches of serum are processed by three different departments having rejection rates of 0.10, 0.08, and 0.12, respectively. The inspections by the three departments are sequential and independent.\n",
    "\n",
    "1. What is the probability that a batch of serum survives the first departmental inspection but is rejected by the second department?\n",
    "2. What is the probability that a batch of serum is rejected by the third department?"
   ]
  },
  {
   "cell_type": "markdown",
   "metadata": {},
   "source": [
    "Let $ A $, $ B $, and $ C $ the event that a batch is rejected by the first, second, and third department, respectively.\n",
    "+ $ P(A) = 0.10 $\n",
    "+ $ P(B) = 0.08 $\n",
    "+ $ P(C) = 0.12 $"
   ]
  },
  {
   "cell_type": "markdown",
   "metadata": {},
   "source": [
    "#### Solution to (1)\n",
    "\n",
    "We have to calculate $ P(A' \\cap B) $.\n",
    "\n",
    "Also we know that for two independent events, $ P(A \\cap B) = P(A) \\cdot P(B) $.\n",
    "\n",
    "Thus, $ P(A' \\cap B) = P(A') \\cdot P(B) = 0.90 \\cdot 0.08 = 0.072 $"
   ]
  },
  {
   "cell_type": "markdown",
   "metadata": {},
   "source": [
    "### Solution to (2)\n",
    "\n",
    "The probability that the serum is rejected by the third department is $ P(A' \\cap B' \\cap C) $.\n",
    "\n",
    "As the events are independent:\n",
    "\n",
    "$\n",
    "P(A' \\cap B' \\cap C) = (1 - 0.10) \\cdot (1 - 0.08) \\cdot 0.12 = 0.9 \\cdot 0.82 \\cdot 0.12 = 0.0993\n",
    "$\n",
    "\n",
    "Note that we haven't used any conditional probability formula here."
   ]
  },
  {
   "cell_type": "markdown",
   "metadata": {},
   "source": [
    "## Exercise 2.79\n",
    "\n",
    "In USA Today (Sept. 5, 1996), the results of a survey involving the use of sleep wear while traveling were listed as follows:\n",
    "\n",
    "| | Male | Female | Total |\n",
    "| :- | :- | :- | :- |\n",
    "| Underwear | 0.220 | 0.024 | 0.244 |\n",
    "| Nightgown | 0.002 | 0.180 | 0.182 |\n",
    "| Nothing | 0.160 | 0.018 | 0.178 |\n",
    "| Pajamas | 0.102 | 0.073 | 0.175 |\n",
    "| T-shirt | 0.046 | 0.088 | 0.134 |\n",
    "| Other | 0.084 | 0.003 | 0.087 |\n",
    "\n",
    "1. What is the probability that a traveler is a female who sleeps in the nude?\n",
    "\n",
    "2. What is the probability that a traveler is male?\n",
    "\n",
    "3. Assuming the traveler is a male, what is the probability that he sleeps in pajamas?\n",
    "\n",
    "4. What is the probability that a traveler is male if the traveler sleeps in pajamas or a T-shirt?"
   ]
  },
  {
   "cell_type": "markdown",
   "metadata": {},
   "source": [
    "### Solution to (1)\n",
    "\n",
    "Let $ F $ be the event that the traveler is a female, $ N $ the event that she sleeps with nothing on.\n",
    "\n",
    "The probability that the traveler is a female who sleeps in the the nude is $ 0.018 $."
   ]
  },
  {
   "cell_type": "markdown",
   "metadata": {},
   "source": [
    "### Solution to (2)\n",
    "\n",
    "Let $ M $ be the event that the traveler is a male. \n",
    "\n",
    "$ P(M) = 0.220 + 0.002 + 0.160 + 0.102 + 0.046 + 0.084  = 0.614 $ "
   ]
  },
  {
   "cell_type": "markdown",
   "metadata": {},
   "source": [
    "### Solution to (3)\n",
    "\n",
    "We need to calculate the probability that given that the traveler is a male he sleeps in pajamas. Let $ P $ be the event that an individual sleeps in pajamas, $ M $ the event that the individual is a male.\n",
    "\n",
    "$\n",
    "P(P | M) = \\frac{P(P \\cap M)}{P(M)} = \\frac{0.102}{0.614} = 0.166\n",
    "$\n"
   ]
  },
  {
   "cell_type": "markdown",
   "metadata": {},
   "source": [
    "### Solution to (4)\n",
    "\n",
    "We have to calculate the probability that a traveler is a male if the traveler sleeps in pajamas or T-shirt.\n",
    "\n",
    "Let $ M $ be the event that the traveler is a male, $ P $ the event that he sleeps in pajamas, $ T $ the event that he sleeps in his T-shirt.\n",
    "\n",
    "$\n",
    "P(M|P \\cup T) = \\frac{P(M \\cap (P \\cup T))}{P(P \\cup T)}\n",
    "$\n",
    "\n",
    "On one hand $ P(P \\cup T) = 0.175 + 0.134 $\n",
    "\n",
    "Also, $ P(M \\cap (P \\cup T)) = 0.102 + 0.046 $\n",
    "\n",
    "Thus:\n",
    "\n",
    "$\n",
    "P(M|P \\cup T) = \\frac{P(M \\cap (P \\cup T))}{P(P \\cup T)} = \\frac{0.148}{0.309} = 0.479\n",
    "$"
   ]
  },
  {
   "cell_type": "markdown",
   "metadata": {},
   "source": [
    "## Exercise 2.80\n",
    "\n",
    "The probability that an automobile being filled with gasoline also needs an oil change is 0.25; the probability that it needs a new oil filter is 0.40; and the probability that both the oil and the filter need changing is 0.14.\n",
    "\n",
    "1. If the oil has to be changed, what is the probability that a new oil filter is needed?\n",
    "\n",
    "2. If a new oil filter is needed, what is the probability that oil has to be changed?"
   ]
  },
  {
   "cell_type": "markdown",
   "metadata": {},
   "source": [
    "### Solution to (1)\n",
    "\n",
    "Let $ C $ be the event that the oil has to be changed, $ F $ the probability that a new oil filter is needed.\n",
    "\n",
    "We need to calculate $ P(F|C) $.\n",
    "\n",
    "According to the conditional probability formula:\n",
    "\n",
    "$\n",
    "P(F|C) = \\frac{P(F \\cap C)}{P(C)} = \\frac{0.14}{0.25} = 0.56\n",
    "$"
   ]
  },
  {
   "cell_type": "markdown",
   "metadata": {},
   "source": [
    "### Solution to (2)\n",
    "\n",
    "Let $ F $ be the event that a new oil filter is needed, $ C $ the event that oil has to be changed.\n",
    "\n",
    "We need to calculate:\n",
    "\n",
    "$\n",
    "P(C|F) = \\frac{P(C \\cap F)}{P(F)} = \\frac{0.14}{0.40} = 0.35\n",
    "$"
   ]
  },
  {
   "cell_type": "markdown",
   "metadata": {},
   "source": [
    "## Exercise 2.81\n",
    "\n",
    "The probability that a married man watches a certain television show is 0.4, and the probability that a married woman watches the show is 0.5. The probability that a man watches the show, given that his wife does, is 0.7.\n",
    "\n",
    "Find the probability that:\n",
    "\n",
    "1. a married couple watches the show;\n",
    "2. wife watches the show, given that her husband does;\n",
    "3. at least one member of a married couple will watch the show."
   ]
  },
  {
   "cell_type": "markdown",
   "metadata": {},
   "source": [
    "Let $ M $ be the event that a married man watches the show, $ W $ the event that a married woman watches the show.\n",
    "\n",
    "Then, we have:\n",
    "+ $ P(M) = 0.4 $\n",
    "+ $ P(W) = 0.5 $\n",
    "+ $ P(M|W) = 0.7 $"
   ]
  },
  {
   "cell_type": "markdown",
   "metadata": {},
   "source": [
    "### Solution to (1)\n",
    "\n",
    "We have to calculate the probability that a married couple watches the show. That is, $ P(M \\cap W) $.\n",
    "\n",
    "From the conditional probability formula, we know that:\n",
    "\n",
    "$\n",
    "P(M|W) = \\frac{P(M \\cap W)}{P(W)} \\Rightarrow \\\n",
    "P(M \\cap W) = P(M|W) \\cdot P(W) = 0.7 \\cdot 0.5 = 0.35\n",
    "$"
   ]
  },
  {
   "cell_type": "markdown",
   "metadata": {},
   "source": [
    "### Solution to (2)\n",
    "\n",
    "We have to calculate $ P(W|M) $.\n",
    "\n",
    "Using the conditional probability formula, we have:\n",
    "\n",
    "$\n",
    "P(W|M) = \\frac{P(W \\cap M)}{P(M)} = \\frac{0.35}{0.4} = 0.87\n",
    "$"
   ]
  },
  {
   "cell_type": "markdown",
   "metadata": {},
   "source": [
    "### Solutio to (3)\n",
    "\n",
    "We have to calculate $ P(M \\cap W) $, that is, the probability that either the man or the woman watches the show, or both.\n",
    "\n",
    "We know from the **additive rule** that:\n",
    "\n",
    "$\n",
    "P(A \\cup B) = P(A) + P(B) - P(A \\cap B)\n",
    "$\n",
    "\n",
    "Therefore:\n",
    "\n",
    "$\n",
    "P(M \\cup W) = P(M) + P(W) - P(M \\cap W) = 0.4 + 0.5 - 0.35 = 0.55\n",
    "$\n",
    "\n"
   ]
  },
  {
   "cell_type": "markdown",
   "metadata": {},
   "source": [
    "## Exercise 2.82\n",
    "\n",
    "For married couples living in a certain suburb, the probability that the husband will vote on a bond referendum is 0.21, the probability that the wife will vote on the referendum is 0.28, and the probability that both the husband and the wife will vote is 0.15.\n",
    "\n",
    "What is the probability that?\n",
    "1. at least one member of a married couple will vote?\n",
    "2. a wife will vote, given that her husband will vote?\n",
    "3. a husband will vote, given that his wife will not vote?"
   ]
  },
  {
   "cell_type": "markdown",
   "metadata": {},
   "source": [
    "Let $ H $ be the event that the husband votes, $ W $ the event that the wife votes.\n",
    "\n",
    "+ $ P(H) = 0.21 $\n",
    "+ $ P(W) = 0.28 $\n",
    "+ $ P(H \\cap W) = 0.15 $"
   ]
  },
  {
   "cell_type": "markdown",
   "metadata": {},
   "source": [
    "### Solution to (1)\n",
    "\n",
    "We need to calculate $ P(H \\cup W) $.\n",
    "\n",
    "Using the **additive rule**:\n",
    "\n",
    "$\n",
    "P(H \\cup W) = P(H) + P(W) - P(H \\cap W) = 0.21 + 0.28 - 0.15 = 0.34\n",
    "$\n"
   ]
  },
  {
   "cell_type": "markdown",
   "metadata": {},
   "source": [
    "### Solution to (2)\n",
    "\n",
    "We need to compute $ P(W|H) $.\n",
    "\n",
    "Using the **conditional probability formula**:\n",
    "\n",
    "$\n",
    "P(W|H) = \\frac{P(W \\cap H)}{P(H)} = \\frac{0.15}{0.21} = 0.71\n",
    "$\n"
   ]
  },
  {
   "cell_type": "markdown",
   "metadata": {},
   "source": [
    "### Solution to (3)\n",
    "\n",
    "We need to calculate $ P(H|W') $.\n",
    "\n",
    "According to the **conditional probability formula**:\n",
    "\n",
    "$\n",
    "P(H|W') = \\frac{P(H \\cap W')}{P(W')}\n",
    "$\n",
    "\n",
    "We need to calculate $ P(H \\cap W') $, which is the probability that the husband vote and the wife does not vote.\n",
    "\n",
    "\n",
    "Although we don't have the data readily available, having a look at the corresponding Venn diagram let us calculate that probability very easily:\n",
    "\n",
    "![Venn diagram](../images/venn_diagram_ex_2.82.png)\n",
    "\n",
    "We see that $ P(H \\cap W') = P(H) - P(H \\cap W) = 0.21 - 0.15 = 0.06 $.\n",
    "\n",
    "Therefore:\n",
    "\n",
    "$\n",
    "P(H|W') = \\frac{P(H \\cap W')}{P(W')} = \\frac{0.06}{1 - 0.28} = 0.08\n",
    "$"
   ]
  },
  {
   "cell_type": "markdown",
   "metadata": {},
   "source": [
    "## Exercise 2.83\n",
    "\n",
    "The probability that a vehicle entering the Luray Caverns has a Canadian license plates is 0.12; the probability that it is a camper is 0.28; and the probability that it is a camper with Canadian license plates is 0.09.\n",
    "\n",
    "What is the probability that:\n",
    "1. a camper entering the Luray Caverns has Canadian license plates?\n",
    "2. a vehicle with Canadian license plates entering the Luray Caverns is a camper?\n",
    "3. a vehicle entering the Luray Caverns does not have Canadian plates or is not a camper?"
   ]
  },
  {
   "cell_type": "markdown",
   "metadata": {},
   "source": [
    "Let $ A $ be the event that it is a camper, $ B $ that the vehicle has Canadian license plates.\n",
    "\n",
    "+ $ P(A) = 0.28 $\n",
    "+ $ P(B) = 0.12 $\n",
    "+ $ P(A \\cap B) = 0.09 $"
   ]
  },
  {
   "cell_type": "markdown",
   "metadata": {},
   "source": [
    "### Solution to (1)\n",
    "\n",
    "We need to calculate $ P(B|A) $, that is, given that the vehicle is a camper, get the probability that it has license plates.\n",
    "\n",
    "Applying the **conditional probability formula**:\n",
    "\n",
    "$\n",
    "P(B|A) = \\frac{P(B \\cap A)}{P(A)} = \\frac{0.09}{0.28} = 0.32\n",
    "$"
   ]
  },
  {
   "cell_type": "markdown",
   "metadata": {},
   "source": [
    "### Solution to (2)\n",
    "\n",
    "We need to calculate $ P(A|B) $. That is, given that the vehicle has Canadian license plates, get the probability that it is a camper.\n",
    "\n",
    "Applying the **conditional probability formula**:\n",
    "\n",
    "$\n",
    "P(A|B) = \\frac{P(A \\cap B)}{P(B)} = \\frac{0.09}{0.12} = 0.75\n",
    "$"
   ]
  },
  {
   "cell_type": "markdown",
   "metadata": {},
   "source": [
    "### Solution to (3)\n",
    "\n",
    "We need to calculate $ P(A' \\cup B') $.\n",
    "\n",
    "We know from set theory that: $ A' \\cup B' = (A \\cap B)' $. And for an event $ C $, $ P(C') = 1 - P(C) $.\n",
    "\n",
    "Therefore:\n",
    "$ \n",
    "P(A' \\cup B') = P((A \\cap B)') = 1 - P(A \\cap B) = 1 - 0.09 = 0.91\n",
    "$"
   ]
  },
  {
   "cell_type": "code",
   "execution_count": 11,
   "metadata": {},
   "outputs": [
    {
     "data": {
      "text/plain": [
       "0.75"
      ]
     },
     "execution_count": 11,
     "metadata": {},
     "output_type": "execute_result"
    }
   ],
   "source": [
    "from libs.fractions import Fraction\n",
    "\n",
    "# Fraction(1, 12).to_float()\n",
    "0.09 / 0.12"
   ]
  },
  {
   "cell_type": "markdown",
   "metadata": {},
   "source": [
    "T: 70\n",
    "P: 25 (ex: 2.84)"
   ]
  }
 ],
 "metadata": {
  "kernelspec": {
   "display_name": "Python 3.9.13 ('base')",
   "language": "python",
   "name": "python3"
  },
  "language_info": {
   "codemirror_mode": {
    "name": "ipython",
    "version": 3
   },
   "file_extension": ".py",
   "mimetype": "text/x-python",
   "name": "python",
   "nbconvert_exporter": "python",
   "pygments_lexer": "ipython3",
   "version": "3.9.13"
  },
  "orig_nbformat": 4,
  "vscode": {
   "interpreter": {
    "hash": "7a2c4b191d1ae843dde5cb5f4d1f62fa892f6b79b0f9392a84691e890e33c5a4"
   }
  }
 },
 "nbformat": 4,
 "nbformat_minor": 2
}
