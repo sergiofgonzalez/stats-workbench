{
 "cells": [
  {
   "cell_type": "markdown",
   "metadata": {},
   "source": [
    "# Exercises from Probability"
   ]
  },
  {
   "cell_type": "markdown",
   "metadata": {},
   "source": [
    "## Exercises 2.1\n",
    "\n",
    "List the elements of each of the following sample spaces\n",
    "\n",
    "1. The set of integers between 1 and 40 divisible by 8\n",
    "2. The set $ S = \\{ x \\; | \\; x^2 + 4x - 5 = 0 \\} $\n",
    "3. The set of outcomes when a coin is tossed until a tail or three heads appear.\n",
    "4. The set $ S = \\{ x \\; | \\text{ x is a continent } \\} $\n",
    "5. The set $ S = \\{ x \\; | \\; 2x - 4 \\ge 0 \\text{ and } x \\lt 1 \\} $"
   ]
  },
  {
   "cell_type": "markdown",
   "metadata": {},
   "source": [
    "For the first question:\n",
    "\n",
    "$$\n",
    "S = \\{ 8, 16, 24, 32, 40 \\}\n",
    "$$"
   ]
  },
  {
   "cell_type": "markdown",
   "metadata": {},
   "source": [
    "For the second question:\n",
    "\n",
    "$$\n",
    "x^2 + 4x - 5 = (x + 5)\\cdot (x - 1) \\\\\n",
    "S = \\{ -5, 1 \\}\n",
    "$$"
   ]
  },
  {
   "cell_type": "markdown",
   "metadata": {},
   "source": [
    "For the third question:\n",
    "\n",
    "$$\n",
    "S = \\{ T, HT, HHT, HHH \\}\n",
    "$$\n"
   ]
  },
  {
   "cell_type": "markdown",
   "metadata": {},
   "source": [
    "For the fourth question:\n",
    "\n",
    "$$\n",
    "S = \\{ Europe, Africa, America, Australia, Asia \\}\n",
    "$$"
   ]
  },
  {
   "cell_type": "markdown",
   "metadata": {},
   "source": [
    "For the fifth question:\n",
    "\n",
    "$$\n",
    "2x - 4 \\ge 0 \\Rightarrow x \\ge 2 \\\\\n",
    "\n",
    "S = \\phi\n",
    "$$\n",
    "\n",
    "As it cannot be that $ x \\ge 2 $ and at the same time $ x \\lt 1 $."
   ]
  },
  {
   "cell_type": "markdown",
   "metadata": {},
   "source": [
    "## Exercise 2.2\n",
    "\n",
    "Use the rule method to describe the sample space $ S $ consisting of all points in the first quadrant inside a circle of radius 3 with center at the origin."
   ]
  },
  {
   "cell_type": "markdown",
   "metadata": {},
   "source": [
    "Assuming the first quadrant is the portion of the 2D plane when $ x \\ge 0 $ and $ y \\ge 0 $.\n",
    "\n",
    "$$\n",
    "S = \\{ (x, y) \\; | \\; x^2 + y^2 \\lt 3 \\; ; x \\ge 0, \\; y \\ge 0 \\}\n",
    "$$"
   ]
  },
  {
   "cell_type": "markdown",
   "metadata": {},
   "source": [
    "## Exercise 2.3\n",
    "\n",
    "Which of the following events are equal?\n",
    "\n",
    "1. $ A = \\{1, 3 \\} $\n",
    "2. $ B = \\{ x \\; | \\; \\text{ x is a number on a die } \\} $\n",
    "3. $ C = \\{ x \\; | \\; x^2 - 4x + 3 = 0 \\} $\n",
    "4. $ D = \\{ x \\; | \\; \\text{ x is the number of heads when six coins are tossed } \\} $"
   ]
  },
  {
   "cell_type": "markdown",
   "metadata": {},
   "source": [
    "Let's drill-down the elements of each space:\n",
    "\n",
    "1. $ A = \\{1, 3 \\} $\n",
    "2. $ B = \\{ 1, 2, 3, 4, 5, 6 \\} $\n",
    "3. $ C = \\{ 1, 3 \\} $\n",
    "4. $ D = \\{ 0, 1, 2, 3, 4, 5, 6 \\} $\n",
    "\n",
    "Note that, according to the quadratic formula:\n",
    "\n",
    "Let\n",
    "$$\n",
    "ax^2 + bx + c = 0 \\\\\n",
    "x = \\frac{-b \\pm \\sqrt{b^2 - 4ac}}{2a}\n",
    "$$\n",
    "\n",
    "Thus for our example where $ a = 1, \\; b = -4 \\; c = 3 $:\n",
    "\n",
    "$$\n",
    "x = \\begin{cases}\n",
    "3 \\\\\n",
    "1\n",
    "\\end{cases}\n",
    "$$"
   ]
  },
  {
   "cell_type": "markdown",
   "metadata": {},
   "source": [
    "Therefore, $ A $ and $ C $ are equal."
   ]
  },
  {
   "cell_type": "markdown",
   "metadata": {},
   "source": [
    "## Exercise 2.4\n",
    "\n",
    "An experiment involves tossing a pair of dice, one green and one red, and recording the numbers that come up. If $ x $ equals the outcome on the green die and $ y $ the outcome on the red die, describe the sample space $ S $\n",
    "\n",
    "1. by listing the elements $ (x, y) $\n",
    "2. by using the rule method"
   ]
  },
  {
   "cell_type": "markdown",
   "metadata": {},
   "source": [
    "By way of listing the elements we have:\n",
    "\n",
    "$$\n",
    "S = \\{ (1, 1), (1, 2), (1, 3), \\ldots (1, 6), (2, 1), (2, 2), \\ldots (2, 6), \\ldots (6, 1), (6,2), (6,3), \\ldots (6, 6) \\}\n",
    "$$\n",
    "\n",
    "By way of using the rule method we have:\n",
    "\n",
    "$$\n",
    "S = \\{ (x, y) \\; | \\; \\text{where } 1 \\le x \\le 6 \\text{ and } 1 \\le y \\le 6\\}\n",
    "$$\n",
    "\n"
   ]
  },
  {
   "cell_type": "markdown",
   "metadata": {},
   "source": [
    "## Exercise 2.5\n",
    "\n",
    "An experiment consists of tossing a die and then flipping a coin once if the number on the die is even. If the number on the die is odd, the coin is flipped twice. Using the notation $ 4H $, for example, to denote the outcome that the die comes up 4 and then the coin comes up heads, construct a tree diagram to show the 18 elements of the sample space $ S $."
   ]
  },
  {
   "cell_type": "markdown",
   "metadata": {},
   "source": [
    "You can see the tree diagram below:\n",
    "\n",
    "![Tree diagram](../images/tree_diagram_ex_2.5.png)"
   ]
  },
  {
   "cell_type": "markdown",
   "metadata": {},
   "source": [
    "And the sample space is:\n",
    "\n",
    "$$\n",
    "S = \\{ 1HH, 1HT, 1TH, 1TT, \\\\\n",
    "       2H, 2T, \\\\\n",
    "       3HH, 3HT, 3TH, 3TT, \\\\\n",
    "       4H, 4T, \\\\\n",
    "       5HH, 5HT, 5TH, 5TT, \\\\\n",
    "       6H, 6T \\}\n",
    "$$"
   ]
  },
  {
   "cell_type": "markdown",
   "metadata": {},
   "source": [
    "## Exercise 2.6\n",
    "\n",
    "Two jurors are selected from 4 alternates to serve at a murder trial. Using the notation $ A_1 A_3 $, for example, to denote the simple event that alternates 1 and 3 are selected, list the 6 elements of the sample space $ S $."
   ]
  },
  {
   "cell_type": "markdown",
   "metadata": {},
   "source": [
    "Although we can use a tree diagram, it wouldn't prevent us from removing all the duplicate pairs, for example, $ A_3 A_1 $, which is the same as $ A_1 A_3 $.\n",
    "\n",
    "Therefore:\n",
    "\n",
    "$$\n",
    "S = \\{ A_1 A_2, A_1 A_3, A_1 A_4, A_2 A_3, A_2 A_4, A_3 A_4 \\}\n",
    "$$"
   ]
  },
  {
   "cell_type": "markdown",
   "metadata": {},
   "source": [
    "## Exercise 2.7\n",
    "\n",
    "Four students are selected at random from a chemistry class and classified as male or female. List the elements of the sample space $ S_1 $. Define a second sample space $ S_2 $, where the elements represent the number of females selected."
   ]
  },
  {
   "cell_type": "markdown",
   "metadata": {},
   "source": [
    "$$\n",
    "S_1 = \\{ MMMM, MMMF, MMFM, MMFF, MFMM, MFMF, MFFM, MFFF, FMMM, FMMF, FMFM, FMFF, FFMM, FFMF, FFFM, FFFF \\}\n",
    "$$\n",
    "\n",
    "$$\n",
    "S_2 = \\{ 0, 1, 2, 3, 4 \\}\n",
    "$$\n"
   ]
  },
  {
   "cell_type": "markdown",
   "metadata": {},
   "source": [
    "## Exercise 2.8\n",
    "\n",
    "For the sample space of [Exercise 2.4](#exercise-24),\n",
    "> An experiment involves tossing a pair of dice, one green and one red, and recording the numbers that come up. \n",
    "\n",
    "1. List the elements corresponding to the event $ A $ that the sum is greater than 8.\n",
    "2. List the elements that correspond to the event $ B $ that a 2 occurs on either die.\n",
    "3. List the elements corresponding to the event $ C $ that a number greater than 4 comes up on the green die.\n",
    "4. List the elements corresponding to the event $ A \\cap C $.\n",
    "5. List the elements corresponding to the event $ A \\cap B $.\n",
    "6. List the elements corresponding to the event $ B \\cap C $.\n",
    "7. Construct a Venn diagram to illustrate the intersections and unions of the events $ A $, $ B $, and $ C $."
   ]
  },
  {
   "cell_type": "markdown",
   "metadata": {},
   "source": [
    "For the first question:\n",
    "\n",
    "$ A  = \\{ (3, 6), (4, 5), (4, 6), (5, 4), (5, 5), (5, 6), (6, 3), (6, 4), (6, 5), (6, 6) \\} $"
   ]
  },
  {
   "cell_type": "markdown",
   "metadata": {},
   "source": [
    "For event $ B $:\n",
    "\n",
    "$ B = \\{ (2, 1), (2, 2), (2, 3), (2, 4), (2, 5), (2, 6), (1, 2), (3, 2), (4, 2), (5, 2), (6, 2) \\}$ "
   ]
  },
  {
   "cell_type": "markdown",
   "metadata": {},
   "source": [
    "For the event $ C $:\n",
    "\n",
    "$\n",
    "C = \\{ (5, 1), (5, 2), (5, 3), (5, 4), (5, 5), (5, 6), (6, 1), (6, 2), (6, 3), (6, 4), (6,5), (6, 6) \\}\n",
    "$"
   ]
  },
  {
   "cell_type": "markdown",
   "metadata": {},
   "source": [
    "Thus:\n",
    "\n",
    "$\n",
    "A \\cap C = \\{ (5, 4), (5, 5), (5, 6), (6, 3), (6, 4), (6, 5), (6, 6) \\}\n",
    "$"
   ]
  },
  {
   "cell_type": "markdown",
   "metadata": {},
   "source": [
    "$\n",
    "A \\cap B = \\phi\n",
    "$"
   ]
  },
  {
   "cell_type": "markdown",
   "metadata": {},
   "source": [
    "$\n",
    "B \\cap C = \\{ (5, 2), (6, 2) \\}\n",
    "$"
   ]
  },
  {
   "cell_type": "markdown",
   "metadata": {},
   "source": [
    "The following diagram illustrates the intersections and unions of $ A $, $ B $, $ C $:\n",
    "\n",
    "![Venn diagram](../images/venn_diagram_ex_2.8.png)"
   ]
  },
  {
   "cell_type": "markdown",
   "metadata": {},
   "source": [
    "## Exercise 2.9\n",
    "\n",
    "For the sample space of [Exercise 2.5](#exercise-25):\n",
    "> An experiment consists of tossing a die and then flipping a coin once if the number on the die is even. If the number on the die is odd, the coin is flipped twice.\n",
    "\n",
    "\n",
    "1. List the elements corresponding to the event $ A $ that a number less than 3 occurs on the die.\n",
    "2. List the elements corresponding to the event $ B $ that two tails occur.\n",
    "3. List the elements corresponding to $ A' $.\n",
    "4. List the elements corresponding to $ A' \\cap B $.\n",
    "5. List the elements corresponding to $ A \\cup B $."
   ]
  },
  {
   "cell_type": "markdown",
   "metadata": {},
   "source": [
    "The $ A $ event can be described as:\n",
    "\n",
    "$\n",
    "A = \\{ 1HH, 1HT, 1TH, 1TT, 2H, 2T \\}\n",
    "$"
   ]
  },
  {
   "cell_type": "markdown",
   "metadata": {},
   "source": [
    "The elements for $ B $ are:\n",
    "\n",
    "$\n",
    "B = \\{ 1TT, 3TT, 5TT \\}\n",
    "$"
   ]
  },
  {
   "cell_type": "markdown",
   "metadata": {},
   "source": [
    "The elements corresponding to $ A' $ are:\n",
    "\n",
    "$\n",
    "A' = \\{ 3HH, 3HT, 3TH, 3TT, 4H, 4T, 5HH, 5HT, 5TH, 5TT, 6H, 6T \\}\n",
    "$"
   ]
  },
  {
   "cell_type": "markdown",
   "metadata": {},
   "source": [
    "Thus:\n",
    "\n",
    "$\n",
    "A' \\cap B = \\{ 3TT, 5TT \\}\n",
    "$"
   ]
  },
  {
   "cell_type": "markdown",
   "metadata": {},
   "source": [
    "And:\n",
    "\n",
    "$\n",
    "A \\cup B = \\{ 1HH, 1HT, 1TH, 1TT, 2H, 2T, 3TT, 5TT \\}\n",
    "$"
   ]
  },
  {
   "cell_type": "markdown",
   "metadata": {},
   "source": [
    "## Exercise 2.10\n",
    "\n",
    "An engineering firm is hired to determine if certain waterways in Virginia are safe for fishing. Samples are taken from three rivers.\n",
    "1. List the elements of a sample space $ S $, using the letters $ F $ for safe to fish, and $ N $ for not safe to fish.\n",
    "2. List the elements of $ S $ corresponding to event $ E $ that at least two of the rivers are safe for fishing.\n",
    "3. Define an event that has as its elements the points $ \\{ FFF, NFF, FFN, NFN \\} $"
   ]
  },
  {
   "cell_type": "markdown",
   "metadata": {},
   "source": [
    "$\n",
    "S = \\{ FFF, FFN, FNF, FNN, NFF, NFN, NNF, NNN \\}\n",
    "$"
   ]
  },
  {
   "cell_type": "markdown",
   "metadata": {},
   "source": [
    "$\n",
    "E = \\{ FFF, FFN, FNF, NFF \\}\n",
    "$"
   ]
  },
  {
   "cell_type": "markdown",
   "metadata": {},
   "source": [
    "The number three might be an event in which the second river is safe for fishing."
   ]
  },
  {
   "cell_type": "markdown",
   "metadata": {},
   "source": [
    "## Exercise 2.11\n",
    "\n",
    "The resumés of two male applicants for a college teaching position in chemistry are placed in the same file as the resumés of two female applicants. Two positions become available, and the first, at the rank of assistant professor, is filled by selecting one of the four applicants at random. The second position, at the rank of instructor, is then filled by selecting at random one of the remaining three applicants.\n",
    "\n",
    "Using the notation $ M_1 F_2 $, for example, to denote the simple event that the first position is filled by the first male applicant, and the second position is then filled by the second female applicant:\n",
    "\n",
    "1. List the elements of a sample space $ S $.\n",
    "2. List the elements of $ S $ corresponding to event $ A $ that the position of assistant professor is filled by a male applicant.\n",
    "3. List the elements of $ S $ corresponding to event $ B $ that exactly one of the two positions is filled by a male applicant.\n",
    "4. List the elements of $ S $ corresponding to event $ C $ that neither position is filled by a male applicant.\n",
    "5. List the elements of $ S $ corresponding to the event $ A \\cap B $.\n",
    "6. List the elements of $ S $ corresponding to the event $ A \\cup C $.\n",
    "7. Construct a Venn diagram to illustrate the intersections and unions of $ A $, $ B $, and $ C $."
   ]
  },
  {
   "cell_type": "markdown",
   "metadata": {},
   "source": [
    "Using a tree diagram is easy to derive the sample space $ S $ as:\n",
    "\n",
    "$\n",
    "S = \\{ M_1M_2, M_1F_1, M_1F_2, M_2M_1, M_2F_1, M_2F_2, F_1M_1, F_1M_2, F_1F_2, F_2M_1, F_2M_2, F_2F_1\\}\n",
    "$"
   ]
  },
  {
   "cell_type": "markdown",
   "metadata": {},
   "source": [
    "$\n",
    "A = \\{ M_1M_2, M_1F_1, M_1F_2, M_2M_1, M_2F_1, M_2F_2 \\}\n",
    "$"
   ]
  },
  {
   "cell_type": "markdown",
   "metadata": {},
   "source": [
    "$\n",
    "B = \\{ M_1F_1, M_1F_2, M_2F_1, M_2F_2, F_1M_1, F_1M_2, F_2M_1, F_2M_2 \\}\n",
    "$"
   ]
  },
  {
   "cell_type": "markdown",
   "metadata": {},
   "source": [
    "$\n",
    "C = \\{ F_1F_2, F_2F_1 \\}\n",
    "$"
   ]
  },
  {
   "cell_type": "markdown",
   "metadata": {},
   "source": [
    "$\n",
    "A \\cap B = \\{ M_1F_1, M_1F_2, M_2F_1, M_2F_2 \\}\n",
    "$"
   ]
  },
  {
   "cell_type": "markdown",
   "metadata": {},
   "source": [
    "$\n",
    "A \\cup B = \\{ M_1M_2, M_1F_1, M_1F_2, M_2M_1, M_2F_1, M_2F_2, F_1F_2, F_2F_1 \\}\n",
    "$"
   ]
  },
  {
   "cell_type": "markdown",
   "metadata": {},
   "source": [
    "![Venn diagram](../images/venn_diagram_ex_2.11.png)"
   ]
  },
  {
   "cell_type": "markdown",
   "metadata": {},
   "source": [
    "## Exercise 2.12\n",
    "\n",
    "Exercise and diet are being studied as possible substitutes for medication to lower blood pressure. Three group of subjects will be used to study the effect of exercise. Group 1 is sedentary, while group 2 walks and group 3 swims for 1 hour a day. Half of each of the three exercise groups will be on a salt-free diet. An additional group of subjects will not exercise or restrict their salt, but will take the standard medication.\n",
    "\n",
    "Using $ Z $ for sedentary, $ W $ for walker, $ S $ for swimmer, $ Y $ for salt, $ N $ for no salt, $ M $ for medication and $ F $ for medication free.\n",
    "\n",
    "1. Show all the elements of the sample space $ S $.\n",
    "2. Given that $ A $ is the set of nonmedicated subjects and B is the set of walkers, list the elements $ A \\cup B $.\n",
    "3. List the elements $ A \\cap B $."
   ]
  },
  {
   "cell_type": "markdown",
   "metadata": {},
   "source": [
    "Me not understand 😔"
   ]
  },
  {
   "cell_type": "markdown",
   "metadata": {},
   "source": [
    "## Exercise 2.13\n",
    "\n",
    "Construct a Venn diagram to illustrate the possible intersections and unions for the following events relative to the sample space consisting of all automobiles made in the US:\n",
    "\n",
    "F: Four door\n",
    "S: Sun roof\n",
    "P: Power steering"
   ]
  },
  {
   "cell_type": "markdown",
   "metadata": {},
   "source": [
    "There's nothing preventing four door cars to have sun roof and power steering.\n",
    "\n",
    "Therefore:\n",
    "\n",
    "![Venn diagram](../images/venn_diagram_ex_2.13.png)\n"
   ]
  },
  {
   "cell_type": "markdown",
   "metadata": {},
   "source": [
    "## Exercise 2.14\n",
    "\n",
    "If $ S = \\{ 0, 1, 2, 3, 4, 5, 6, 7, 8, 9 \\}$ and $ A = \\{ 0, 2, 4, 6, 8 \\}$, $ B = \\{ 1, 3, 5, 7, 9 \\}$, $ C = \\{ 2, 3, 4, 5 \\} $, and $ D = \\{ 1, 6, 7 \\} $, list the elements of the sets corresponding to the following events:\n",
    "\n",
    "1. $ A \\cup C $\n",
    "2. $ A \\cap B $\n",
    "3. $ C' $\n",
    "4. $ (C' \\cap D) \\cup B $\n",
    "5. $ (S \\cap C)' $\n",
    "6. $ A \\cap C \\cap D' $"
   ]
  },
  {
   "cell_type": "markdown",
   "metadata": {},
   "source": [
    "Let's try manually first:\n",
    "\n",
    "1. $ A \\cup C = \\{0, 2, 3, 4, 5, 6, 8\\} $\n",
    "2. $ A \\cap B = \\phi $\n",
    "3. $ C' = \\{0, 1, 6, 7, 8, 9 \\}$\n",
    "4. $ (C' \\cap D) \\cup B = \\{ 1, 6, 7 \\} \\cup \\{ 1, 3, 5, 7, 9 \\} = \\{ 1, 3, 5, 6, 7, 9\\} $\n",
    "5. $ (S \\cap C)' = (\\{ 2, 3, 4, 5 \\})' = \\{0, 1, 6, 7, 8, 9 \\} = S' \\cup C' = \\phi \\cup C' = C' = \\{0, 1, 6, 7, 8, 9 \\} $\n",
    "6. $ A \\cap C \\cap D' = \\{ 2, 4 \\} \\cap D' = \\{ 2, 4 \\} \\cap \\{ 0, 2, 3, 4, 5, 8, 9 \\} = \\{ 2, 4 \\} $"
   ]
  },
  {
   "cell_type": "markdown",
   "metadata": {},
   "source": [
    "Python provides support for union and intersection, which we can use to verify the manual results"
   ]
  },
  {
   "cell_type": "code",
   "execution_count": 10,
   "metadata": {},
   "outputs": [
    {
     "name": "stdout",
     "output_type": "stream",
     "text": [
      "a ∪ c = {0, 2, 3, 4, 5, 6, 8}\n",
      "a ∩ b = set()\n",
      "c' = {0, 1, 6, 7, 8, 9}\n",
      "(c' ∩ d) ∪ b = {1, 3, 5, 6, 7, 9}\n",
      "(s ∩ c)' = {0, 1, 6, 7, 8, 9}\n",
      "a ∩ c ∩ d' = {2, 4}\n"
     ]
    }
   ],
   "source": [
    "s = {0, 1, 2, 3, 4, 5, 6, 7, 8, 9}\n",
    "a = {0, 2, 4, 6, 8}\n",
    "b = {1, 3, 5, 7, 9}\n",
    "c = {2, 3, 4, 5}\n",
    "d = {1, 6, 7}\n",
    "\n",
    "\n",
    "print(f'a ∪ c = {a.union(c)}')\n",
    "print(f'a ∩ b = {a.intersection(b)}')\n",
    "print(f\"c' = {s.difference(c)}\")\n",
    "print(f\"(c' ∩ d) ∪ b = {s.difference(c).intersection(d).union(b)}\")\n",
    "print(f\"(s ∩ c)' = {s.difference(s.intersection(c))}\")\n",
    "print(f\"a ∩ c ∩ d' = {a.intersection(c).intersection(s.difference(d))}\")"
   ]
  },
  {
   "cell_type": "markdown",
   "metadata": {},
   "source": [
    "## Exercise 2.15\n",
    "\n",
    "Consider the sample space $ S = \\{ copper, sodium, nitrogen, potassium, uranium, oxygen, zinc \\} $ and the events:\n",
    "\n",
    "$ \n",
    "A = \\{ copper, sodium, zinc \\} \\\\\n",
    "B = \\{ sodium, nitrogen, potassium \\} \\\\\n",
    "C = \\{ oxygen \\}\n",
    "$\n",
    "\n",
    "List the elements of the sets corresponding to the following events:\n",
    "\n",
    "1. $ A' $\n",
    "2. $ A \\cup C $\n",
    "3. $ (A \\cap B') \\cup C' $\n",
    "4. $ B' \\cap C' $\n",
    "5. $ A \\cap B \\cap C $\n",
    "6. $ (A' \\cup B') \\cap (A' \\cap C) $"
   ]
  },
  {
   "cell_type": "markdown",
   "metadata": {},
   "source": [
    "Let's try manually first:\n",
    "\n",
    "1. $ A' = \\{ nitrogen, potassium, uranium, oxygen \\}$\n",
    "2. $ A \\cup C = \\{ copper, sodium, zinc, oxygen \\}$\n",
    "3. $ (A \\cap B') \\cup C' = A \\cap \\{copper, uraniun, oxygen, zinc \\} \\cup \\{ copper, sodium, nitrogen, potassium, uranim, zinc \\} = \\{ copper, zinc \\} \\cup \\{ copper, sodium, nitrogen, potassium, uranim, zinc \\} = \\{ copper, sodium, nitrogen, potassium, uranium, zinc \\} $\n",
    "4. $ B' \\cap C' = \\{copper, uraniun, oxygen, zinc \\} \\cap \\{ copper, sodium, nitrogen, potassium, uranium, zinc \\} = \\{ copper, uranium, zinc \\} = (B \\cup C)' = (\\{ sodium, nitrogen, potassium \\} \\cup \\{ oxygen \\})' = (\\{ sodium, nitrogen, potassium, oxygen \\})' = \\{ copper, uranium, zinc \\} $ \n",
    "5. $ A \\cap B \\cap C = \\phi $ \n",
    "6. $ (A' \\cup B') \\cap (A' \\cap C) = (\\{ nitrogen, potassium, uranium, oxygen \\} \\cup \\{copper, uraniun, oxygen, zinc \\}) \\cap (\\{ nitrogen, potassium, uranium, oxygen \\} \\cap \\{ oxygen \\}) = \\{ copper, nitrogen, potassium, uranium, oxygen, zinc \\} \\cap \\{ oxygen \\} = \\{ oxygen \\}$"
   ]
  },
  {
   "cell_type": "markdown",
   "metadata": {},
   "source": [
    "Let's try now with Python:"
   ]
  },
  {
   "cell_type": "code",
   "execution_count": 17,
   "metadata": {},
   "outputs": [
    {
     "name": "stdout",
     "output_type": "stream",
     "text": [
      "a' = {'uranium', 'potassium', 'nitrogen', 'oxygen'}\n",
      "a ∪ c = {'zinc', 'copper', 'sodium', 'oxygen'}\n",
      "(a ∩ b') ∪ c'  = {'nitrogen', 'copper', 'uranium', 'zinc', 'potassium', 'sodium'}\n",
      "b' ∩ c' = {'zinc', 'copper', 'uranium'}\n",
      "a ∩ b ∩ c = set()\n",
      "(a' ∪ b') ∩ (a' ∩ c) = {'oxygen'}\n"
     ]
    }
   ],
   "source": [
    "s = { \"copper\", \"sodium\", \"nitrogen\", \"potassium\", \"uranium\", \"oxygen\", \"zinc\"}\n",
    "a = { \"copper\", \"sodium\", \"zinc\" }\n",
    "b = { \"sodium\", \"nitrogen\", \"potassium\" }\n",
    "c = { \"oxygen\" }\n",
    "\n",
    "\n",
    "print(f\"a' = {s.difference(a)}\")\n",
    "print(f\"a ∪ c = {a.union(c)}\")\n",
    "print(f\"(a ∩ b') ∪ c'  = {a.intersection(s.difference(b)).union(s.difference(c))}\")\n",
    "print(f\"b' ∩ c' = {s.difference(b).intersection(s.difference(c))}\")\n",
    "print(f\"a ∩ b ∩ c = {a.intersection(b).intersection(c)}\")\n",
    "print(f\"(a' ∪ b') ∩ (a' ∩ c) = {(s.difference(a).union(s.difference(b))).intersection(s.difference(a).intersection(c))}\")"
   ]
  },
  {
   "cell_type": "markdown",
   "metadata": {},
   "source": [
    "## Exercise 2.16\n",
    "\n",
    "If $ S = \\{ x \\; | \\; 0 \\lt x \\lt 12 \\} $, $ M = \\{ x \\; | \\; 1 \\lt x \\lt 9 \\} $, and $ N = \\{ x \\; | \\; 0 \\lt x \\lt 5 \\} $, find:\n",
    "\n",
    "1. $ M \\cup N $\n",
    "2. $ M \\cap N $\n",
    "3. $ M' \\cap N' $"
   ]
  },
  {
   "cell_type": "markdown",
   "metadata": {},
   "source": [
    "Let's do it manually, and describing the elements with rules:\n",
    "\n",
    "1. $ M \\cup N  = \\{ x \\; | \\; 0 \\lt x \\lt 9 \\} $\n",
    "2. $ M \\cap N  = \\{ x \\; | \\; 1 \\lt x \\lt 5 \\} $\n",
    "3. $ M' \\cap N' = (M \\cup N)' = (\\{ x \\; | \\; 0 \\lt x \\lt 9 \\})' = \\{ x \\; | \\; 9 \\le x \\lt 12  \\}  $"
   ]
  },
  {
   "cell_type": "markdown",
   "metadata": {},
   "source": [
    "Now in Python:"
   ]
  },
  {
   "cell_type": "code",
   "execution_count": 25,
   "metadata": {},
   "outputs": [
    {
     "name": "stdout",
     "output_type": "stream",
     "text": [
      "m ∪ n = {1, 2, 3, 4, 5, 6, 7, 8}\n",
      "m ∩ n = {2, 3, 4}\n",
      "m' ∩ n' = {9, 10, 11}\n"
     ]
    }
   ],
   "source": [
    "s = { x for x in range(1, 12) }\n",
    "m = { x for x in range (2, 9) }\n",
    "n = { x for x in range(1, 5) }\n",
    "\n",
    "print(f\"m ∪ n = {m.union(n)}\")\n",
    "print(f\"m ∩ n = {m.intersection(n)}\")\n",
    "print(f\"m' ∩ n' = {s.difference(m).intersection(s.difference(n))}\")"
   ]
  },
  {
   "cell_type": "markdown",
   "metadata": {},
   "source": [
    "## Exercise 2.17\n",
    "\n",
    "Let $ A $, $ B $, and $ C $ be events relative so the sample space $ S $. Using Venn diagrams, shade the areas representing the following events:\n",
    "\n",
    "1. $ (A \\cap B)' $\n",
    "2. $ (A \\cup B)' $\n",
    "3. $ (A \\cap C) \\cup B $\n"
   ]
  },
  {
   "cell_type": "markdown",
   "metadata": {},
   "source": [
    "1. ![Solution 1](../images/venn_diagram_ex_2.17-1.png)\n",
    "2. ![Solution 1](../images/venn_diagram_ex_2.17-2.png)\n",
    "3. ![Solution 1](../images/venn_diagram_ex_2.17-3.png)"
   ]
  },
  {
   "cell_type": "markdown",
   "metadata": {},
   "source": [
    "## Exercise 2.18\n",
    "\n",
    "Which of the following events are mutually exclusive?\n",
    "\n",
    "1. A golfer scoring the lowest 18-hole round in a 72-hole tournament and losing the tournament.\n",
    "2. A poker player getting a flush (all card in the same suit) and 3 of a kind on the same 5-card hand.\n",
    "3. A mother giving birth to a baby girl and a set of twind daughters on the same day.\n",
    "4. A chess player losing the last game and winning the match.\n"
   ]
  },
  {
   "cell_type": "markdown",
   "metadata": {},
   "source": [
    "Clearly, (2) and (4) describe mutually exclusive events."
   ]
  },
  {
   "cell_type": "markdown",
   "metadata": {},
   "source": [
    "## Exercise 2.19\n",
    "\n",
    "Suppose that a family is leaving on a summer vacation in their camper and that $ M $ is the event that they will experience mechanical problems, $ T $ is the event that they will receive a ticket for committing a traffic violation, and $ V $ is the event that they arrive at a campsite with no vacancies. \n",
    "\n",
    "Referring to the Venn diagram below, state in words the events represented by the following regions:\n",
    "\n",
    "1. region 5\n",
    "2. region 3\n",
    "3. regions 1 and 2 together\n",
    "4. regions 4 and 7 together\n",
    "5. regions 3, 6, 7, and 8 together\n",
    "\n",
    "![Fig 2.15](../images/venn_diagram_fig_2.15.png)"
   ]
  },
  {
   "cell_type": "markdown",
   "metadata": {},
   "source": [
    "1. $ (T \\cup V)' $, that is, the event in which $ T $ and $ V $ happens (they don't receive a ticket and they don't arrive at a campsite with no vacancies). It is the same as $ T' \\cap V' $ (they don't receive a ticket **and** they don't arrive at a campsite with no vacancies). They will experience mechanical problems though. \n",
    "\n",
    "In simpler words: the family will experience mechanical problems but they won't receive a ticket and will not arrive at a campsite with no vacancies."
   ]
  },
  {
   "cell_type": "markdown",
   "metadata": {},
   "source": [
    "2. The family will receive a ticket and arrive at a campsite with no vacancies without suffering mechanical problems."
   ]
  },
  {
   "cell_type": "markdown",
   "metadata": {},
   "source": [
    "3. The family will suffer mechanical problems, a ticket and arrive at a campsite with no vacancies."
   ]
  },
  {
   "cell_type": "markdown",
   "metadata": {},
   "source": [
    "4. The family will suffer mechanical problems and a ticket, but will not arrive at a campsite that has no vacancies."
   ]
  },
  {
   "cell_type": "markdown",
   "metadata": {},
   "source": [
    "5. The family will not experience mechanical problems."
   ]
  },
  {
   "cell_type": "markdown",
   "metadata": {},
   "source": [
    "## Exercise 2.20\n",
    "\n",
    "Referring to [Exercise 2.19](#exercise-219) and the Venn diagram of the figure below, list the numbers of the regions that represent the following events:\n",
    "\n",
    "1. The family will experience no mechanical problems and will not receive a ticket for a traffic violation but will arrive at a campsite with no vacancies.\n",
    "2. The family will experience both mechanical problems and trouble in locating a campsite with a vacancy but will not receive a ticket for a traffic violation.\n",
    "3. The family will either have mechanical trouble or arrive at a campsite with no vacancies but will not receive a ticket for a traffic violation.\n",
    "4. The family will not arrive at a campsite with no vacancies."
   ]
  },
  {
   "cell_type": "markdown",
   "metadata": {},
   "source": [
    "1. Region 6\n",
    "2. Region 2\n",
    "3. Regions 2, 5, and 6\n",
    "4. Regions 4, 5, 7 and 8."
   ]
  },
  {
   "cell_type": "markdown",
   "metadata": {},
   "source": [
    "## Exercise 2.21\n",
    "\n",
    "Registrants at a large convention are offered 6 sightseeing tours on each of 3 days. In how many ways can a person arrange to go on a sightseeing tour planned by this convention?\n",
    "\n",
    "| Tip |\n",
    "| :-- |\n",
    "| A person is only allowed to go on one trip, and he/she can choose the trip and the day.  |\n"
   ]
  },
  {
   "cell_type": "markdown",
   "metadata": {},
   "source": [
    "Let's visualize the tree diagram associated to the exercise:\n",
    "\n",
    "![Tree diagram](../images/tree_diagram_ex_2.21.png)\n",
    "\n",
    "Thus, using the **multiplication rule** we see that $ n_1 = 3 $ and $ n_2 = 6 $ and thus there are $ n_1 \\; n_2 = 18 $ possible ways og choosing the tours:\n",
    "\n",
    "```\n",
    "D1T1, D1T2, D1T3, D1T4, D1T5, D1T6,\n",
    "D2T1, D2T2, D2T3, D2T4, D2T5, D2T6,\n",
    "D3T1, D3T2, D3T3, D3T4, D3T5, D3T6\n",
    "```"
   ]
  },
  {
   "cell_type": "markdown",
   "metadata": {},
   "source": [
    "## Exercise 2.22\n",
    "\n",
    "In a medical study, patients are classified in 8 ways according to whether they have boold type $ A B^+ $, $ A B^- $, $ A^+ $, $ A^- $, $ B^+ $, $ B^- $, $ O^+ $, $ O^- $, and also according to whether their blood pressure is low, normal, or high.\n",
    "\n",
    "Find the number of ways in which a patient can be classified."
   ]
  },
  {
   "cell_type": "markdown",
   "metadata": {},
   "source": [
    "Using the multiplication rule with $ n_1 = 8 $, $ n_2 = 3 $, we can conclude that there are $ n_1 \\; n_2 = 8 \\cdot 3 = 24 $ possible ways to classify a patient."
   ]
  },
  {
   "cell_type": "markdown",
   "metadata": {},
   "source": [
    "## Exercise 2.23\n",
    "\n",
    "If an experiment consists of throwing a die and then drawing a letter at random from the English alphabet, how many points are there in the sample space?"
   ]
  },
  {
   "cell_type": "markdown",
   "metadata": {},
   "source": [
    "Using the multiplication rule: $ n_1 = 6 $, $ n_2 = 26 $. Thus, there are $ n_1 \\; n_2 = 6 \\cdot 26 = 156 $ points in the sample space of the experiment described.\n",
    "\n"
   ]
  },
  {
   "cell_type": "markdown",
   "metadata": {},
   "source": [
    "## Exercise 2.24\n",
    "\n",
    "Students at a private liberal arts college are classified as being freshmen, sophomores, juniors, or seniors, and also according to whether they are male or female. Find the total number of possible classifications for the students of that college."
   ]
  },
  {
   "cell_type": "markdown",
   "metadata": {},
   "source": [
    "Using the multiplication rule: $ n_1 = 4 $, $ n_2 = 2 $. Thus, there are $ n_1 \\; n_2 = 4 \\cdot 2 = 8 $ possible ways to classify the students in that college."
   ]
  },
  {
   "cell_type": "markdown",
   "metadata": {},
   "source": [
    "## Exercise 2.25\n",
    "\n",
    "A certain brand of shoes comes in 5 different styles, with each style available in 4 distinct colors. If the store wishes to display pairs of these shoes showing all of its various styles and colors, how many different pairs will the store have on display?"
   ]
  },
  {
   "cell_type": "markdown",
   "metadata": {},
   "source": [
    "Using the multiplication rule: $ n_1 = 5 $, $ n_2 = 4 $. Thus, there are $ n_1 \\; n_2 = 5 \\cdot 4 = 20 $ different pairs will have to be on display."
   ]
  },
  {
   "cell_type": "markdown",
   "metadata": {},
   "source": [
    "## Exercise 2.26\n",
    "\n",
    "A California study concluded that following 7 simple health rules can extend a man's life by 11 years on the average and a woman's life by 7 years. These seven rules are as follows: no smoking, get regular exercise, use alcohol only in moderation, get 7 to 8 hours of sleep, maintain proper weight, eat breakfast, and do not eat between meals.\n",
    "\n",
    "In how many ways can a person adopt 5 of these rules to follow\n",
    "1. if the person presently violates all 7 rules?\n",
    "2. If the person never drinks and always eats breakfast?"
   ]
  },
  {
   "cell_type": "markdown",
   "metadata": {},
   "source": [
    "For question (1):\n",
    "\n",
    "As the order in which the rules are followed is not important, we are asked for the number of combinations of $ n = 7 $ elements, taken $ r = 5 $ at a time:\n",
    "\n",
    "The number of combinations of $ n $ distinct objects taken $ r $ at a time is $\n",
    "\\begin{pmatrix} n \\\\ r \\end{pmatrix} = \\frac{n!}{r! \\; (n - r)!} $\n",
    "\n",
    "And thus:\n",
    "\n",
    "$\n",
    "\\begin{pmatrix} 7 \\\\ 5 \\end{pmatrix} = \\frac{7!}{5! \\; (7 - 5)!} = 21\n",
    "$"
   ]
  },
  {
   "cell_type": "markdown",
   "metadata": {},
   "source": [
    "For question number (2):\n",
    "\n",
    "The person already applies two of the 7 rules and therefore, we are asked for the number of combinations of 5 elements taken 3 at a time:\n",
    "\n",
    "$\n",
    "\\begin{pmatrix} 5 \\\\ 3 \\end{pmatrix} = \\frac{5!}{3! \\; (5 - 3)!} = 10\n",
    "$\n",
    "\n",
    "\n"
   ]
  },
  {
   "cell_type": "markdown",
   "metadata": {},
   "source": [
    "## Exercise 2.27\n",
    "\n",
    "A developer of a new subdivision offers a prospective home buyer a choice of 4 designs, 3 different heating systems, a garage or carport, and a patio or screened porch. How many plans are available to this buyer?"
   ]
  },
  {
   "cell_type": "markdown",
   "metadata": {},
   "source": [
    "Using the **generalized multiplication rule** we have:\n",
    "\n",
    "$\n",
    "n_1 = 4 \\\\\n",
    "n_2 = 3 \\\\\n",
    "n_3 = 2 \\\\\n",
    "n_4 = 2 \\\\\n",
    "$\n",
    "\n",
    "Thus, there will be $ n_1 \\; n_2 \\; n_3 \\; n_4  = 4 \\cdot 3 \\cdot 2 \\cdot 2 = 48 $ different plans available for the buyer.\n"
   ]
  },
  {
   "cell_type": "markdown",
   "metadata": {},
   "source": [
    "## Exercise 2.28\n",
    "\n",
    "A drug for a relief of asthma can be purchased from 5 different manufacturers in liquid, tablet, or capsule form, all of which come in regular an extra strength. How many different ways can a doctor prescribe the drug for a patient suffering from asthma?"
   ]
  },
  {
   "cell_type": "markdown",
   "metadata": {},
   "source": [
    "Using the **generalized multiplication rule** we have:\n",
    "\n",
    "$\n",
    "n_1 = 5 \\\\\n",
    "n_2 = 3 \\\\\n",
    "n_3 = 2 \\\\\n",
    "$\n",
    "\n",
    "Thus, there will be $ n_1 \\; n_2 \\; n_3  = 5 \\cdot 3 \\cdot 2 = 30 $ different ways the drug can be prescribed."
   ]
  },
  {
   "cell_type": "markdown",
   "metadata": {},
   "source": [
    "## Exercise 2.29\n",
    "\n",
    "In a fuel economy study, each of 3 race cars is tested using 5 different brands of gasoline at 7 test sites located in different regions of the country.\n",
    "\n",
    "If two drivers are used in the study, and test runs are made once under each distinct set of conditions, how many test runs are needed?"
   ]
  },
  {
   "cell_type": "markdown",
   "metadata": {},
   "source": [
    "Using the **generalized multiplication rule** we have:\n",
    "\n",
    "$\n",
    "n_1 = 3 \\\\\n",
    "n_2 = 5 \\\\\n",
    "n_3 = 7 \\\\\n",
    "n_4 = 2\n",
    "$\n",
    "\n",
    "Thus, there will be $ n_1 \\; n_2 \\; n_3 \\; n_4  = 3 \\cdot 5 \\cdot 7 \\cdot 2 = 210 $ test runs will be needed."
   ]
  },
  {
   "cell_type": "markdown",
   "metadata": {},
   "source": [
    "## Exercise 2.30\n",
    "\n",
    "In how many different ways can a true/false test consisting of 9 questions be answered?"
   ]
  },
  {
   "cell_type": "markdown",
   "metadata": {},
   "source": [
    "We have to use the **generalized multiplication rule**. The first question can be either answered true or false, thus $ n_1 = 2 $. Then, the second question can be either answered true or false, thus $ n_2 = 2 $, and so forth.\n",
    "\n",
    "Thus:\n",
    "\n",
    "$\n",
    "n_1 \\; n_2 \\; \\ldots \\; n_9 = 2 \\cdot 2 \\cdot ldots \\cdot 2 = 2^9 = 512\n",
    "$ different ways in which the test can be answered."
   ]
  },
  {
   "cell_type": "markdown",
   "metadata": {},
   "source": [
    "## Exercise 2.31\n",
    "\n",
    "A witness to a hit-and-run accident told the police that the license number contained the letters RLH followed by three digits, the first of which was a 5. If the witness cannot recall the last 2 digits, but it is certain that all 3 digits are different, find the maximum number of automobile registrations that the police may have to check."
   ]
  },
  {
   "cell_type": "markdown",
   "metadata": {},
   "source": [
    "We need to use the **generalized multiplication rule**.\n",
    "\n",
    "The license plate was RLH 5xy, with 5-x-y being different digits.\n",
    "\n",
    "Therefore:\n",
    "$ n_1 = 9 $ and $ n_2 = 8 $, resulting in $ 9 \\cdot 8 $ possible registrations to check."
   ]
  },
  {
   "cell_type": "markdown",
   "metadata": {},
   "source": [
    "## Exercise 2.32\n",
    "\n",
    "1. In how many ways can 6 people be lined up to get on a bus?\n",
    "2. If 3 specific persons, among 6, insist on following each other, how many ways are possible?\n",
    "3. If 2 specific persons, among 6, refuse to follow each other, how many ways are possible?"
   ]
  },
  {
   "cell_type": "markdown",
   "metadata": {},
   "source": [
    "### Solution to (1)\n",
    "\n",
    "We need the *permutations* of 6 elements, and therefore, there will be $ 6! = 720 $ ways in which 6 people can be lined up."
   ]
  },
  {
   "cell_type": "markdown",
   "metadata": {},
   "source": [
    "### Solution to (2)\n",
    "\n",
    "Now we have to think more carefully. We can treat these 3 persons that want to go together as a block:\n",
    "\n",
    "```\n",
    "| p1 | p2 | p3 | p4 | p5 | p6 |\n",
    "```\n",
    "\n",
    "+ the block goes in the first position: $ 3 \\cdot 2 \\cdot 1 $\n",
    "+ the block goes in the second position: $ 3 \\cdot 2 \\cdot 1 $\n",
    "+ the block goes in the third position: $ 3 \\cdot 2 \\cdot 1 $\n",
    "+ the block goes in the fourth position: $ 3 \\cdot 2 \\cdot 1 $\n",
    "\n",
    "Thus, there will be $ 4 \\cdot 6 = 24 $ possible ways with regards to the order of the block.\n",
    "\n",
    "Within the block, the three persons that want to go together can be arranged in $ 3 \\cdot 2 \\cdot 1 $ different ways, thus giving a total result of $ 24 \\cdot 6 = 144 $ different ways in which they can be lined up."
   ]
  },
  {
   "cell_type": "markdown",
   "metadata": {},
   "source": [
    "### Solution to (3)\n",
    "\n",
    "The easiest way to come up with the solution is to use the method described above to compute the the way in which 2 persons go together.\n",
    "\n",
    "The answer will be the result of subtracting that value from the sample space $ S $.\n",
    "\n",
    "Thus, there are $ 5 \\cdot 4! $ possible ways with regards to the order of the block (5 possible possitions of the 2-person block, leaving the other 4 persons free to permutate).\n",
    "\n",
    "Withing the block, there are $ 2! $ possible ways to permutate the two-persons' positions.\n",
    "\n",
    "Thus, there will be $ 5 \\cdot 4! \\cdot 2! = 5 \\cdot 24 \\cdot 2 = 240 $ in which 2 persons can be together.\n",
    "\n",
    "Therefore: $ 720 - 240 = 480 $ possible ways in which 6 persons can be arranged when two of them refuse to go together."
   ]
  },
  {
   "cell_type": "markdown",
   "metadata": {},
   "source": [
    "Alternatively, we can compute the ways in which 2 persons don't go together.\n",
    "\n",
    "If they don't go together they will have to be in the positions:\n",
    "\n",
    "```\n",
    "p1 p3  | p2 p4 | p3 p5 | p4 p6 | \n",
    "p1 p4  | p2 p5 | p3 p6 |       |\n",
    "p1 p5  | p2 p6 |       |       |\n",
    "p1 p6  |       |       |       |\n",
    "```\n",
    "\n",
    "Thus, we have 10 ways in which these 2 persons don't go together (as a block) and 2 ways in which these two persons can *permutate* in their assigned positions.\n",
    "\n",
    "The remaining 4 people can permutate freely, and therefore, $ 4! $ arrangements are possible.\n",
    "\n",
    "As a result, there will be $ 10 \\cdot 2 \\ cdot 4! $ ways in whcih 6 persons can be arranged when two of them refuse to go together.\n",
    "\n",
    "And: \n",
    "\n",
    "$ 10 \\cdot 2 \\ cdot 4! = 10 \\cdot 2 \\cdot 24 = 480 $ as expected."
   ]
  },
  {
   "cell_type": "markdown",
   "metadata": {},
   "source": [
    "## Exercise 2.33\n",
    "\n",
    "If a multiple-choice test consists of 5 questions, each with 4 possible answers of which only 1 is correct.\n",
    "\n",
    "1. In how many different ways can a student check off one answer to each question?\n",
    "\n",
    "2. In how many ways can a student check off one answer to each question and get all answers wrong?\n",
    "\n"
   ]
  },
  {
   "cell_type": "markdown",
   "metadata": {},
   "source": [
    "### Solution to (1)\n",
    "\n",
    "Using the generalized multiplication rule, there will be $ 4 \\cdot 4 \\cdot 4 \\cdot 4 \\cdot 4 = 4^5 = 1024 $ possible ways to fill out the test's questions. "
   ]
  },
  {
   "cell_type": "markdown",
   "metadata": {},
   "source": [
    "### Solution to (2)\n",
    "\n",
    "To get all answers wrong we have $ 3 \\cdot 3 \\cdot 3 \\cdot 3 \\cdot 3 = 3^5 = 243 $ ways in which a studen can get all answers wrong."
   ]
  },
  {
   "cell_type": "markdown",
   "metadata": {},
   "source": [
    "## Example 2.34\n",
    "\n",
    "1. How many distinct permutations can be made from the letters of the word COLUMNS?\n",
    "\n",
    "2. How many of these permutations start with the letter M?"
   ]
  },
  {
   "cell_type": "markdown",
   "metadata": {},
   "source": [
    "### Solution to (1)\n",
    "\n",
    "As we are asked for the number of permutations and not combinations, it is easy:\n",
    "\n",
    "$\n",
    "_7P = 7!\n",
    "$ as there are 7 different letters in the word COLUMNS.\n"
   ]
  },
  {
   "cell_type": "markdown",
   "metadata": {},
   "source": [
    "### Solution to (2)\n",
    "\n",
    "There will be $ 6! = 720 $ words that start with the letter M."
   ]
  },
  {
   "cell_type": "markdown",
   "metadata": {},
   "source": [
    "## Exercise 2.35\n",
    "\n",
    "A contractor wishes to build 9 houses, each different in design. In how many ways can he place these houses on a street if 6 lots are on one side of the street and 3 lots are on the opposite side?"
   ]
  },
  {
   "cell_type": "markdown",
   "metadata": {},
   "source": [
    "Note that we're not asked about combinations (or partitions) but about permutations as the ordering is important.\n",
    "\n",
    "Thus, we should be using the **generalized multiplication rule**.\n",
    "\n",
    "Note also, that we're not that much concerned about the different sides of the street &mdash; those will be just available slots in which we can place the house:\n",
    "\n",
    "```\n",
    "p1 p2 p3 p4 p5 p6\n",
    "-----------------\n",
    "\n",
    "-----------------\n",
    "p7 p8 p9\n",
    "```\n",
    "\n",
    "Thus, we need to calculate $ _9P = 9! = 362,880 $ possible ways in which the houses in the available slots."
   ]
  },
  {
   "cell_type": "markdown",
   "metadata": {},
   "source": [
    "## Exercise 2.36\n",
    "\n",
    "1. How many three-digit numbers can be formed from the digits 0, 1, 2, 3, 4, 5, and 6 if each digit can be used only once?\n",
    "\n",
    "2. How many of these are odd numbers?\n",
    "\n",
    "3. How many are greater than 330?"
   ]
  },
  {
   "cell_type": "markdown",
   "metadata": {},
   "source": [
    "### Solution to (1)\n",
    "\n",
    "We have 7 different digits to form a 3-digit number. Therefore, we are concerned with computing $ _7P_3 = \\frac{7!}{(7-3)!} = 7 \\cdot 6 \\cdot 5 = 210 $.\n",
    "\n",
    "However, we should remove all 3-digit numbers that start with zero which are $ 1 \\cdot 6 \\cdot 5 = 30 $.\n",
    "\n",
    "Thus, there will be $ 210 - 30 = 180 $ possibilities."
   ]
  },
  {
   "cell_type": "markdown",
   "metadata": {},
   "source": [
    "Alternatively, we can go with the **generalized multiplication rule**:\n",
    "\n",
    "$\n",
    "n_1 = 6 \\\\\n",
    "n_2 = 6 \\\\\n",
    "n_3 = 5 \\\\\n",
    "$ resulting in $ \\n_1 \\; n_2 \\; n3 = 6 \\cdot 6 \\cdot 5 = 180 $ possibilities.\n"
   ]
  },
  {
   "cell_type": "markdown",
   "metadata": {},
   "source": [
    "### Solution to (2)\n",
    "\n",
    "We can use the alternative way to compute the number of possibilities to come up with the number of odd numbers. For doing so, it is better to start from the units, as it is where we can think about whether the number is even or odd.\n",
    "\n",
    "Let's then do\n",
    "\n",
    "\n",
    "$\n",
    "n_{units} = 3 \\text{ only 1, 3, and 5} \\\\\n",
    "n_{tens} = 6 \\\\\n",
    "n_{hundreds} = 5 \\text{ as 0 must be excluded}\\\\\n",
    "$\n",
    "\n",
    "Therefore, we have $ 90 $ odd numbers."
   ]
  },
  {
   "cell_type": "markdown",
   "metadata": {},
   "source": [
    "### Solution to (3)\n",
    "\n",
    "We can use a similar approach to calculate the numbers that are greater than 330, but examining the different use cases:\n",
    "\n",
    "1. We use 4, 5, or 6 for the hundreds\n",
    "2. We use 3 for the hundreds\n",
    "\n",
    "For the first case we have $ 3 \\cdot 6 \\cdot 5 = 90 $.\n",
    "\n",
    "For the second case we have $ 1 \\cdot 3 \\cdot 5 = 15 $.\n",
    "\n",
    "Thus, we have 105 numbers that are greater than 330."
   ]
  },
  {
   "cell_type": "markdown",
   "metadata": {},
   "source": [
    "## Exercise 2.37\n",
    "\n",
    "In how many ways can 4 boys and 5 girls sit in a row if the boys and girls must alternate?"
   ]
  },
  {
   "cell_type": "markdown",
   "metadata": {},
   "source": [
    "We can use the **generalized multiplication rule** and the following visualization:\n",
    "\n",
    "```\n",
    "G1    G2    G3    G4    G5\n",
    "-- -- -- -- -- -- -- -- -- \n",
    "   B1    B2    B3    B4\n",
    "```\n",
    "\n",
    "Thus resulting in $ 5 \\cdot 4 \\cdot 4 \\cdot 3 \\cdot 3 \\cdot 2 \\cdot 2 \\cdot 1 \\cdot 1 = 5! \\; 4! = 2880 $."
   ]
  },
  {
   "cell_type": "markdown",
   "metadata": {},
   "source": [
    "## Exercise 2.38\n",
    "\n",
    "Four married couples have bought 8 seats in the same row for a concert. In how many different ways can they be seated \n",
    "1. with no restrictions?\n",
    "2. if each couple is to sit together?\n",
    "3. if all the men sit together to the right of all the women?"
   ]
  },
  {
   "cell_type": "markdown",
   "metadata": {},
   "source": [
    "### Solution to (1)\n",
    "\n",
    "We are interested in the permutations of 8 elements $ _8P = 8! = 40,320 $."
   ]
  },
  {
   "cell_type": "markdown",
   "metadata": {},
   "source": [
    "### Solution to (2)\n",
    "\n",
    "If each couple is to sit together, means that there are only 4 slots to accomodate 4 couples, thus resulting in $ _4P = 4! = 24 $ possible arrangements for the couples.\n",
    "\n",
    "Now, within each of the couples there are two possible arrangements: $ F M $ and $ M F $. Therefore, we will end up with:\n",
    "\n",
    "$ 24 \\cdot 2^4 = 384 $ possibilities. "
   ]
  },
  {
   "cell_type": "markdown",
   "metadata": {},
   "source": [
    "### Solution to (3)\n",
    "\n",
    "In this scenario, the slots are as follows:\n",
    "\n",
    "```\n",
    "M1 M2 M3 M4     \n",
    "-- -- -- -- -- -- -- --\n",
    "            F1 F2 F3 F4\n",
    "```\n",
    "\n",
    "\n",
    "Using the **generalized multiplication rule** we have $ 4 \\cdot 3 \\cdot 2 \\cdot 1 \\cdot 4 \\cdot 3 \\cdot 2 \\cdot 1 = 4! \\; 4! = 576 $ \n"
   ]
  },
  {
   "cell_type": "markdown",
   "metadata": {},
   "source": [
    "## Exercise 2.39\n",
    "\n",
    "In a regional spelling bee, the 8 finalists consists of 3 boys and 5 girls. Find the number of sample points in the sample space $ S $ for the number of possible orders at the conclusion of the contest for:\n",
    "\n",
    "1. all 8 finalists\n",
    "2. the first three positions"
   ]
  },
  {
   "cell_type": "markdown",
   "metadata": {},
   "source": [
    "### Solution to (1)\n",
    "\n",
    "Using the **generalized multiplication rule** we'll have: \n",
    "\n",
    "$\n",
    "n_1 = 8 \\\\\n",
    "n_2 = 7 \\\\\n",
    "n_3 = 6 \\\\\n",
    "\\ldots \\\\\n",
    "n_8 = 1 \n",
    "$\n",
    "\n",
    "Thus, we'll have $ 8! = 40320 $ sample points in the sample space $ S $.\n"
   ]
  },
  {
   "cell_type": "markdown",
   "metadata": {},
   "source": [
    "### Solution to (2)\n",
    "\n",
    "We need to compute the number $ _8P_3 = \\frac{8!}{(8 - 3)!} = \\frac{8!}{5!} = 8 \\cdot 7 \\cdot 6 = 336 $ permutations of 8 distinct objects takin 3 at a time."
   ]
  },
  {
   "cell_type": "markdown",
   "metadata": {},
   "source": [
    "## Exercise 2.40\n",
    "\n",
    "In how many ways can 5 starting positions on a basketball team be filled with 8 men who can play any of the positions?"
   ]
  },
  {
   "cell_type": "markdown",
   "metadata": {},
   "source": [
    "As we're not concerned with the ordering, we need to use the formula for the combinations of 8 elements, taken 5 at a time:\n",
    "\n",
    "The number of combinations of $ n $ distinct objects taken $ r $ at a time is $\n",
    "\\begin{pmatrix} n \\\\ r \\end{pmatrix} = \\frac{n!}{r! \\; (n - r)!} \n",
    "$\n",
    "\n",
    "Thus:\n",
    "\n",
    "$\n",
    "\\begin{pmatrix} 8 \\\\ 5 \\end{pmatrix} = \\frac{8!}{5! \\; (8 - 5)!} = \\frac{8!}{5! \\; 3!} = \\frac{8 \\cdot 7 \\cdot 6}{3 \\cdot 2} = 56 \n",
    "$ different ways in which the 5 starting positions can be filled out of 8 players.\n"
   ]
  },
  {
   "cell_type": "markdown",
   "metadata": {},
   "source": [
    "Note that if we were to consider the order (it doesn't seem so, as the players can play in any position) we would need to calculate the permutations of 8 different elements, taken 5 at a time:\n",
    "\n",
    "$\n",
    "_8P_5 = \\frac{8!}{(8 - 5)!} = \\frac{8!}{3!} = 8 \\cdot 7 \\cdot 6 \\cdot 5 \\cdot 4 = 6720\n",
    "$"
   ]
  },
  {
   "cell_type": "markdown",
   "metadata": {},
   "source": [
    "## Exercise 2.41\n",
    "\n",
    "Find the number of ways that 6 teachers can be assigned to 4 sections of a course if no teacher is to be assigned to more than one section."
   ]
  },
  {
   "cell_type": "markdown",
   "metadata": {},
   "source": [
    "In this case the order is important, as the 4 sections of the course will handle a particular subject.\n",
    "\n",
    "Therefore, we need to calculate the permutations of 6 distinct objects taken 4 at a time:\n",
    "\n",
    "$\n",
    "_6P_4 = \\frac{6!}{(6 - 4)!} = \\frac{6!}{2!} = 6 \\cdot 5 \\cdot 4 \\cdot 3 = 360\n",
    "$ different ways in which 6 teachers can be assigned to the 4 sections of a course."
   ]
  },
  {
   "cell_type": "markdown",
   "metadata": {},
   "source": [
    "## Exercise 2.42\n",
    "\n",
    "Three lottery tickets for first, second, and third prizes are drawn from a group of 40 tickets. Find the number of sample points in $ S $ for awarding the 3 prizes if each contestant holds only one ticket."
   ]
  },
  {
   "cell_type": "markdown",
   "metadata": {},
   "source": [
    "In this case, the order in which we select the contestants is important. Therefore, we need to calculate the different ways in which 40 different objects taken 3 at a time can be selected.\n",
    "\n",
    "$\n",
    "_{40}P_3 = \\frac{40!}{(40 - 3)!} = \\frac{40!}{37!} = 40 \\cdot 39 \\cdot 38 = 59280\n",
    "$"
   ]
  },
  {
   "cell_type": "markdown",
   "metadata": {},
   "source": [
    "## Exercise 2.43\n",
    "\n",
    "In how many ways can 5 different trees can be planted in a circle?"
   ]
  },
  {
   "cell_type": "markdown",
   "metadata": {},
   "source": [
    "We need to use the formula for circular permutations. Thus, we're assuming that the permutations resulting from shifting all the elements one position in, for example, clockwise-manner, won't be considered a different permutation.\n",
    "\n",
    "In any case, the formula for circular permutations of n elements is $ (n-1)! $. \n",
    "\n",
    "Therefore, there will be $ 4! = 24 $ different ways in which 5 different trees can be planted in a circle. "
   ]
  },
  {
   "cell_type": "markdown",
   "metadata": {},
   "source": [
    "## Exercise 2.44\n",
    "\n",
    "In how many ways can a caravan of 8 covered wagons from Arizona can be arranged in a circle?"
   ]
  },
  {
   "cell_type": "markdown",
   "metadata": {},
   "source": [
    "We need to use the formula for circular permutation of $ n = 8 $ elements, which results in $ (n - 1)! = 7! = 5040 $ "
   ]
  },
  {
   "cell_type": "markdown",
   "metadata": {},
   "source": [
    "## Exercise 2.45\n",
    "\n",
    "How many distinct permutations can be made from the letters of the word INFINITY?"
   ]
  },
  {
   "cell_type": "markdown",
   "metadata": {},
   "source": [
    "As per the example [Example 2.23](../01-concepts/probability.ipynb#example-223) we need to find the way to partition the letters in the word in question into different subset.\n",
    "\n",
    "We need to tally the number of letters, grouping them by character:\n",
    "\n",
    "In INFINITY we have:\n",
    "FTY\n",
    "+ 8 letters in total\n",
    "+ I appears 3 times\n",
    "+ N appears 2 times \n",
    "+ F appears 1 time\n",
    "+ T appears 1 time\n",
    "+ Y appears 1 time\n",
    "\n",
    "Thus:\n",
    "\n",
    "$\n",
    "\\begin{pmatrix}\n",
    "8 \\\\\n",
    "3, 2, 1, 1\n",
    "\\end{pmatrix} = \\frac{8!}{3! \\; 2! \\; 1! \\; 1! \\; 1} = \\frac{8!}{3! \\; 2!} = \\frac{8 \\cdot 7 \\cdot 6 \\cdot 5 \\cdot 4}{2} = 3360\n",
    "$"
   ]
  },
  {
   "cell_type": "markdown",
   "metadata": {},
   "source": [
    "## Exercise 2.46\n",
    "\n",
    "In how many ways can 3 oaks, 4 pines, and 2 maples be arranged along a property line if one does not distinguish among trees of the same kind?"
   ]
  },
  {
   "cell_type": "markdown",
   "metadata": {},
   "source": [
    "We're concerned with the number of partitioning a set of 9 objects into cells where we have 3 elements of one kind, 4 elements of another kind, and 2 elements of yet another kind.\n",
    "\n",
    "In the concepts section we saw that:\n",
    "\n",
    "The number of ways of partitioning a set of $ n $ objects into $ r $ cells with $ n_1 $ elements in the first cell, $ n_2 $ elements in the second cell, and so forth, is:\n",
    "\n",
    "$\n",
    "\\begin{pmatrix}\n",
    "n \\\\\n",
    "n_1, n_2, \\ldots , n_r\n",
    "\\end{pmatrix} = \\frac{n!}{n_1! \\; n_2! \\; \\ldots \\; n_r!}\n",
    "$\n",
    "\n",
    "where $ n_1 + n_2 + \\ldots + n_r = n $.\n",
    "\n",
    "\n",
    "Applying it to our example, we have:\n",
    "$\n",
    "\\begin{pmatrix}\n",
    "9 \\\\\n",
    "3, 4, 2\n",
    "\\end{pmatrix} = \\frac{9!}{3! \\; 4! \\; 2!}\n",
    "$\n",
    "\n",
    "where $ 3 + 4 + 2 = 9 $ (the total number of elements).\n",
    "\n",
    "Therefore:\n",
    "\n",
    "$\n",
    "\\frac{9!}{3! \\; 4! \\; 2!} = \\frac{9 \\cdot 8 \\cdot 7 \\cdot 6 \\cdot 5}{3 \\codt 2 \\cdot 2} = 1260\n",
    "$ different ways."
   ]
  },
  {
   "cell_type": "markdown",
   "metadata": {},
   "source": [
    "## Exercise 2.47\n",
    "\n",
    "How many ways are there to select 3 candidates from 8 equally qualified recent graduates for openings in an accounting firm?\n"
   ]
  },
  {
   "cell_type": "markdown",
   "metadata": {},
   "source": [
    "As the order is not important (we're just concerned on whether the candidate is selected or not) we have to calculate the combinations of 8 different elements taken 3 at a time:\n",
    "\n",
    "$\n",
    "\\begin{pmatrix}\n",
    "n \\\\\n",
    "r\n",
    "\\end{pmatrix} = \\frac{n!}{r! \\; (n - r)!}\n",
    "$ with $ n = 8 $, and $ r = 3 $.\n",
    "\n",
    "Therefore:\n",
    "\n",
    "$\n",
    "\\begin{pmatrix}\n",
    "8 \\\\\n",
    "3\n",
    "\\end{pmatrix} = \\frac{8!}{3! \\; (8 - 3)!} = \\frac{8!}{3! \\; 5!} = \\frac{8 \\cdot 7 \\cdot 6}{3 \\cdot 2} = 56\n",
    "$ different ways in which the candidates can be selected."
   ]
  },
  {
   "cell_type": "markdown",
   "metadata": {},
   "source": [
    "## Exercise 2.48\n",
    "\n",
    "How many ways are there that no two students will have the same birth date in a class of size 60?"
   ]
  },
  {
   "cell_type": "markdown",
   "metadata": {},
   "source": [
    "If we assume a year has 365 days, we're concerned with calculating the number of ways "
   ]
  }
 ],
 "metadata": {
  "kernelspec": {
   "display_name": "Python 3.9.12 ('base')",
   "language": "python",
   "name": "python3"
  },
  "language_info": {
   "codemirror_mode": {
    "name": "ipython",
    "version": 3
   },
   "file_extension": ".py",
   "mimetype": "text/x-python",
   "name": "python",
   "nbconvert_exporter": "python",
   "pygments_lexer": "ipython3",
   "version": "3.9.12"
  },
  "orig_nbformat": 4,
  "vscode": {
   "interpreter": {
    "hash": "caf1c2fcf97217de91eafa76b907d50f9ea378f5ffbee7f571142d119bb6a771"
   }
  }
 },
 "nbformat": 4,
 "nbformat_minor": 2
}
