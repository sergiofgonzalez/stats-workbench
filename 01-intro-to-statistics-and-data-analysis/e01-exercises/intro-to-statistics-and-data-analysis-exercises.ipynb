{
 "cells": [
  {
   "cell_type": "markdown",
   "metadata": {},
   "source": [
    "# Exercises from Intro to Statistics and Data Analysis"
   ]
  },
  {
   "cell_type": "markdown",
   "metadata": {},
   "source": [
    "## Exercise 1.1\n",
    "\n",
    "The following measurements were recorded for the drying time, in hours, of a certain brand of latex paint:\n",
    "\n",
    "```\n",
    "3.4 2.5 4.8 2.9 3.6\n",
    "2.8 3.3 5.6 3.7 2.8\n",
    "4.4 4.0 5.2 3.0 4.8\n",
    "```\n",
    "\n",
    "Assume that the measurements are a simple random sample.\n",
    "\n",
    "1. What is the sample size for the above sample?\n",
    "2. Calculate the sample mean\n",
    "3. Calculate the sample median\n",
    "4. Plot the data by way of a dot plot\n",
    "5. Compute the 20% trimmed mean for the above data set\n",
    "6. Is the sample mean for these data more or less descriptive as a center of location than the trimmed mean?"
   ]
  },
  {
   "cell_type": "markdown",
   "metadata": {},
   "source": [
    "The answers to 1, 2, 3, and 5 are trivial once we have the functions in place:"
   ]
  },
  {
   "cell_type": "code",
   "execution_count": 1,
   "metadata": {},
   "outputs": [
    {
     "name": "stdout",
     "output_type": "stream",
     "text": [
      "sample size=15\n",
      "sample mean=3.787\n",
      "sample median=3.6\n",
      "trimmed mean(20%)=3.678\n"
     ]
    }
   ],
   "source": [
    "from libs.stats import sample_mean, sample_median, trimmed_mean\n",
    "\n",
    "data_set = [3.4, 2.5, 4.8, 2.9, 3.6, 2.8, 3.3, 5.6, 3.7, 2.8, 4.4, 4.0, 5.2, 3.0, 4.8]\n",
    "\n",
    "print(f\"sample size={len(data_set)}\")\n",
    "print(f\"sample mean={round(sample_mean(data_set), 3)}\")\n",
    "print(f\"sample median={round(sample_median(data_set), 3)}\")\n",
    "print(f\"trimmed mean(20%)={round(trimmed_mean(data_set, 20), 3)}\")\n"
   ]
  },
  {
   "cell_type": "markdown",
   "metadata": {},
   "source": [
    "Matplotlib does not provide OOB support for dot plots, so we have to tweak the scatter plot to provide something that looks like a dot plot.\n",
    "\n",
    "Note that the steps needed for creating the dot plot could be automated a little bit, but not sure if it is worth the effort."
   ]
  },
  {
   "cell_type": "code",
   "execution_count": 2,
   "metadata": {},
   "outputs": [
    {
     "name": "stdout",
     "output_type": "stream",
     "text": [
      "(2.5, 5.6)\n",
      "(0, 0.25)\n"
     ]
    },
    {
     "data": {
      "image/png": "[encoded data removed]",
      "text/plain": [
       "<Figure size 720x144 with 1 Axes>"
      ]
     },
     "metadata": {
      "needs_background": "light"
     },
     "output_type": "display_data"
    }
   ],
   "source": [
    "import matplotlib.pyplot as plt\n",
    "import numpy as np\n",
    "\n",
    "\n",
    "def get_ys_for_dot_plot(*xs, skew=0.25):\n",
    "    freq_map = {}\n",
    "    ys = []\n",
    "    for x in xs:\n",
    "        y = []\n",
    "        for value in x:\n",
    "            if value in freq_map:\n",
    "                freq_map[value] = freq_map[value] + skew\n",
    "            else:\n",
    "                freq_map[value] = 0\n",
    "            y.append(freq_map[value])\n",
    "        ys.append(y)\n",
    "    return ys\n",
    "\n",
    "def get_limits(*data_sets):\n",
    "    mins = [min(data_set) for data_set in data_sets]\n",
    "    maxs = [max(data_set) for data_set in data_sets]\n",
    "    return (min(mins), max(maxs))\n",
    "\n",
    "dataset_dots_y = get_ys_for_dot_plot(data_set)\n",
    "\n",
    "\n",
    "print(get_limits(data_set))\n",
    "print(get_limits(*dataset_dots_y))\n",
    "\n",
    "plt.xlim(2.25, 5.80)\n",
    "plt.ylim(-0.1, 3)\n",
    "\n",
    "plt.gca().axes.get_yaxis().set_visible(False)\n",
    "plt.gca().axes.get_xaxis().set_ticks(np.arange(2.25, 5.80, 0.25))\n",
    "plt.scatter(data_set, dataset_dots_y[0], marker='x')\n",
    "plt.gcf().set_size_inches(10, 2) # gcf stands for get current figure\n"
   ]
  },
  {
   "cell_type": "markdown",
   "metadata": {},
   "source": [
    "Thus, the solutions are:\n",
    "1. 15\n",
    "2. 3.787\n",
    "3. 3.6\n",
    "4. See image above\n",
    "5. 3.678\n",
    "6. We see in the results that the trimmed mean is closer to the median than the sample mean, which indicates that we have a few outliers. As conclusion, the trimmed mean gives us a better indication of the center that the sample mean."
   ]
  },
  {
   "cell_type": "markdown",
   "metadata": {},
   "source": [
    "## Exercise 1.2\n",
    "\n",
    "An important property of a fiber is its water absorbency. A random sample of 20 pieces of cotton fiber was taken and its absorbency was measured.\n",
    "\n",
    "The obtained absorbency values were:\n",
    "\n",
    "```\n",
    "18.71 21.41 20.72 21.81 19.29 22.43 20.17\n",
    "23.71 19.44 20.50 18.92 20.33 23.00 22.85\n",
    "19.25 21.77 22.11 19.77 18.04 21.12\n",
    "```\n",
    "\n",
    "1. Calculate the sample mean and median for the above sample values.\n",
    "2. Compute the 10% trimmed mean\n",
    "3. Do a dot plot of the absorbency data\n",
    "4. Using only the values of the mean, median, and trimmed mean, do you have evidence of outliers in the data?"
   ]
  },
  {
   "cell_type": "markdown",
   "metadata": {},
   "source": [
    "Solutions to 1, 2 are immediate with the functions in place:"
   ]
  },
  {
   "cell_type": "code",
   "execution_count": 3,
   "metadata": {},
   "outputs": [
    {
     "name": "stdout",
     "output_type": "stream",
     "text": [
      "sample size=20\n",
      "sample mean=20.7675\n",
      "sample median=20.61\n",
      "trimmed mean(10%)=20.74313\n"
     ]
    }
   ],
   "source": [
    "from libs.stats import sample_mean, sample_median, trimmed_mean\n",
    "\n",
    "data_set = [\n",
    "    18.71, 21.41, 20.72, 21.81, 19.29, 22.43, 20.17, \n",
    "    23.71, 19.44, 20.50, 18.92, 20.33, 23.00, 22.85,\n",
    "    19.25, 21.77, 22.11, 19.77, 18.04, 21.12]\n",
    "\n",
    "print(f\"sample size={len(data_set)}\")\n",
    "print(f\"sample mean={round(sample_mean(data_set), 5)}\")\n",
    "print(f\"sample median={round(sample_median(data_set), 5)}\")\n",
    "print(f\"trimmed mean(10%)={round(trimmed_mean(data_set, 10), 5)}\")"
   ]
  },
  {
   "cell_type": "markdown",
   "metadata": {},
   "source": [
    "For the dot plot, I use the semi-automated approach as there's no dot plot support out of the box in matplotlib:"
   ]
  },
  {
   "cell_type": "code",
   "execution_count": 4,
   "metadata": {},
   "outputs": [
    {
     "name": "stdout",
     "output_type": "stream",
     "text": [
      "(18.04, 23.71)\n",
      "(0, 0)\n"
     ]
    },
    {
     "data": {
      "image/png": "[encoded data removed]",
      "text/plain": [
       "<Figure size 720x144 with 1 Axes>"
      ]
     },
     "metadata": {
      "needs_background": "light"
     },
     "output_type": "display_data"
    }
   ],
   "source": [
    "import matplotlib.pyplot as plt\n",
    "import numpy as np\n",
    "\n",
    "\n",
    "def get_ys_for_dot_plot(*xs, skew=0.25):\n",
    "    freq_map = {}\n",
    "    ys = []\n",
    "    for x in xs:\n",
    "        y = []\n",
    "        for value in x:\n",
    "            if value in freq_map:\n",
    "                freq_map[value] = freq_map[value] + skew\n",
    "            else:\n",
    "                freq_map[value] = 0\n",
    "            y.append(freq_map[value])\n",
    "        ys.append(y)\n",
    "    return ys\n",
    "\n",
    "def get_limits(*data_sets):\n",
    "    mins = [min(data_set) for data_set in data_sets]\n",
    "    maxs = [max(data_set) for data_set in data_sets]\n",
    "    return (min(mins), max(maxs))\n",
    "\n",
    "dataset_dots_y = get_ys_for_dot_plot(data_set)\n",
    "\n",
    "\n",
    "# this gives you the min and max for the x and y coordinates\n",
    "print(get_limits(data_set))\n",
    "print(get_limits(*dataset_dots_y))\n",
    "\n",
    "plt.xlim(17.5, 24.5)\n",
    "plt.ylim(-0.1, 1)\n",
    "\n",
    "plt.gca().axes.get_yaxis().set_visible(False)\n",
    "plt.gca().axes.get_xaxis().set_ticks(np.arange(17.5, 24.5, 0.5))\n",
    "plt.scatter(data_set, dataset_dots_y[0], marker='x')\n",
    "plt.gcf().set_size_inches(10, 2) # gcf stands for get current figure"
   ]
  },
  {
   "cell_type": "markdown",
   "metadata": {},
   "source": [
    "Thus:\n",
    "1. mean = 20.7675, median = 20.61\n",
    "2. trimmed mean (10%) = 20.74313\n",
    "3. See the chart above\n",
    "4. There does not seem to be a lot of variability in the sample because the median is close to the mean, and the trimmed mean is very close to the mean."
   ]
  },
  {
   "cell_type": "markdown",
   "metadata": {},
   "source": [
    "## Exercise 1.3\n",
    "\n",
    "A comparative study is carried out on a certain polymer used for aircraft. Certain material items are subjected to aging tests and then compared with some other material items that had not subjected to those tests.\n",
    "\n",
    "The following data were recorded out of these tests:\n",
    "\n",
    "| | |\n",
    "| :- | :- |\n",
    "| No aging | 227 222 218 217 225 218 216 229 228 221 |\n",
    "| Aging | 219 214 215 211 209 218 203 204 201 205 |\n",
    "\n",
    "1. Do a plot of the data\n",
    "2. From your plot, does it appear as if the aging process has had an effect on the tensile strength of this material? Explain\n",
    "3. Calculate the sample mean of the two samples\n",
    "4. Calculate the median for both. Discuss the similarity or lack of similarity between the mean and median of each group."
   ]
  },
  {
   "cell_type": "markdown",
   "metadata": {},
   "source": [
    "Let's do the plot first, this time taking into account that we have two separate data sets to plot:"
   ]
  },
  {
   "cell_type": "code",
   "execution_count": 5,
   "metadata": {},
   "outputs": [
    {
     "name": "stdout",
     "output_type": "stream",
     "text": [
      "(201, 229)\n",
      "(0, 0.5)\n"
     ]
    },
    {
     "data": {
      "image/png": "[encoded data removed]",
      "text/plain": [
       "<Figure size 720x144 with 1 Axes>"
      ]
     },
     "metadata": {
      "needs_background": "light"
     },
     "output_type": "display_data"
    }
   ],
   "source": [
    "import matplotlib.pyplot as plt\n",
    "import numpy as np\n",
    "\n",
    "\n",
    "def get_ys_for_dot_plot(*xs, skew=0.25):\n",
    "    freq_map = {}\n",
    "    ys = []\n",
    "    for x in xs:\n",
    "        y = []\n",
    "        for value in x:\n",
    "            if value in freq_map:\n",
    "                freq_map[value] = freq_map[value] + skew\n",
    "            else:\n",
    "                freq_map[value] = 0\n",
    "            y.append(freq_map[value])\n",
    "        ys.append(y)\n",
    "    return ys\n",
    "\n",
    "def get_limits(*data_sets):\n",
    "    mins = [min(data_set) for data_set in data_sets]\n",
    "    maxs = [max(data_set) for data_set in data_sets]\n",
    "    return (min(mins), max(maxs))\n",
    "\n",
    "no_aging_data_set = [227, 222, 218, 217, 225, 218, 216, 229, 228, 221]\n",
    "aging_data_set = [219, 214, 215, 211, 209, 218, 203, 204, 201, 205]\n",
    "\n",
    "datasets_dots_y = get_ys_for_dot_plot(no_aging_data_set, aging_data_set)\n",
    "\n",
    "\n",
    "# this gives you the min and max for the x and y coordinates\n",
    "print(get_limits(no_aging_data_set, aging_data_set))\n",
    "print(get_limits(*datasets_dots_y))\n",
    "\n",
    "plt.xlim(195, 235)\n",
    "plt.ylim(-0.1, 2.5)\n",
    "\n",
    "plt.gca().axes.get_yaxis().set_visible(False)\n",
    "plt.gca().axes.get_xaxis().set_ticks(np.arange(195, 235, 5))\n",
    "plt.scatter(no_aging_data_set, datasets_dots_y[0], marker='x')\n",
    "plt.scatter(aging_data_set, datasets_dots_y[1], marker='o')\n",
    "\n",
    "plt.gcf().set_size_inches(10, 2) # gcf stands for get current figure"
   ]
  },
  {
   "cell_type": "markdown",
   "metadata": {},
   "source": [
    "From looking at the data we see that the materials subjected to aging are placed to the left, while the material that has been kept untouched is placed to the right."
   ]
  },
  {
   "cell_type": "markdown",
   "metadata": {},
   "source": [
    "Now, let's calculate the mean and median for both datasets."
   ]
  },
  {
   "cell_type": "code",
   "execution_count": 6,
   "metadata": {},
   "outputs": [
    {
     "name": "stdout",
     "output_type": "stream",
     "text": [
      "==== no aging\n",
      "sample mean=222.1\n",
      "sample median=221.5\n",
      "\n",
      "==== no aging\n",
      "sample mean=209.9\n",
      "sample median=210.0\n"
     ]
    }
   ],
   "source": [
    "from libs.stats import sample_mean, sample_median, trimmed_mean\n",
    "\n",
    "no_aging_data_set = [227, 222, 218, 217, 225, 218, 216, 229, 228, 221]\n",
    "aging_data_set = [219, 214, 215, 211, 209, 218, 203, 204, 201, 205]\n",
    "\n",
    "print(\"==== no aging\")\n",
    "print(f\"sample mean={round(sample_mean(no_aging_data_set), 2)}\")\n",
    "print(f\"sample median={round(sample_median(no_aging_data_set), 2)}\")\n",
    "\n",
    "print(\"\\n==== no aging\")\n",
    "print(f\"sample mean={round(sample_mean(aging_data_set), 2)}\")\n",
    "print(f\"sample median={round(sample_median(aging_data_set), 2)}\")\n",
    "\n"
   ]
  },
  {
   "cell_type": "markdown",
   "metadata": {},
   "source": [
    "## Exercise 1.4\n",
    "\n",
    "The following data sets measure the flexibility of two steel rods provided by two different companies.\n",
    "\n",
    "|    |    |\n",
    "| :- | :- |\n",
    "| Company A | 9.3 8.8 6.8 8.7 8.5 6.7 8.0 6.5 9.2 7.0 |\n",
    "| Company B | 11.0 9.8 9.9 10.2 10.1 9.7 11.0 11.1 10.2 9.6 |\n",
    "\n",
    "1. Calculate the sample mean and median for the data for the two companies.\n",
    "2. Plot the data for the two companies on the same line and give your impressions regarding any apparent differences between the two companyies' products."
   ]
  },
  {
   "cell_type": "code",
   "execution_count": 7,
   "metadata": {},
   "outputs": [
    {
     "name": "stdout",
     "output_type": "stream",
     "text": [
      "(6.5, 11.1)\n",
      "(0, 0.25)\n"
     ]
    },
    {
     "data": {
      "image/png": "[encoded data removed]",
      "text/plain": [
       "<Figure size 720x144 with 1 Axes>"
      ]
     },
     "metadata": {
      "needs_background": "light"
     },
     "output_type": "display_data"
    }
   ],
   "source": [
    "import matplotlib.pyplot as plt\n",
    "import numpy as np\n",
    "\n",
    "\n",
    "def get_ys_for_dot_plot(*xs, skew=0.25):\n",
    "    freq_map = {}\n",
    "    ys = []\n",
    "    for x in xs:\n",
    "        y = []\n",
    "        for value in x:\n",
    "            if value in freq_map:\n",
    "                freq_map[value] = freq_map[value] + skew\n",
    "            else:\n",
    "                freq_map[value] = 0\n",
    "            y.append(freq_map[value])\n",
    "        ys.append(y)\n",
    "    return ys\n",
    "\n",
    "def get_limits(*data_sets):\n",
    "    mins = [min(data_set) for data_set in data_sets]\n",
    "    maxs = [max(data_set) for data_set in data_sets]\n",
    "    return (min(mins), max(maxs))\n",
    "\n",
    "company_a_data_set = [9.3, 8.8, 6.8, 8.7, 8.5, 6.7, 8.0, 6.5, 9.2, 7.0]\n",
    "company_b_data_set = [11.0, 9.8, 9.9, 10.2, 10.1, 9.7, 11.0, 11.1, 10.2, 9.6]\n",
    "data_sets = [company_a_data_set, company_b_data_set]\n",
    "\n",
    "datasets_dots_y = get_ys_for_dot_plot(*data_sets)\n",
    "\n",
    "\n",
    "# this gives you the min and max for the x and y coordinates\n",
    "print(get_limits(*data_sets))\n",
    "print(get_limits(*datasets_dots_y))\n",
    "\n",
    "# limits are 6.5 and 11.1, we stretch them a little bit for cosmetic reasons\n",
    "plt.xlim(6, 12)\n",
    "\n",
    "# there are a few clashes so we need to expand the y-axis\n",
    "plt.ylim(-0.1, 2.5)\n",
    "\n",
    "plt.gca().axes.get_yaxis().set_visible(False)\n",
    "plt.gca().axes.get_xaxis().set_ticks(np.arange(6, 12, 1))\n",
    "plt.scatter(data_sets[0], datasets_dots_y[0], marker='x')\n",
    "plt.scatter(data_sets[1], datasets_dots_y[1], marker='o')\n",
    "\n",
    "plt.gcf().set_size_inches(10, 2) # gcf stands for get current figure"
   ]
  },
  {
   "cell_type": "markdown",
   "metadata": {},
   "source": [
    "We can resolve that company A's product are less flexible that company B's products."
   ]
  },
  {
   "cell_type": "code",
   "execution_count": 8,
   "metadata": {},
   "outputs": [
    {
     "name": "stdout",
     "output_type": "stream",
     "text": [
      "==== company A\n",
      "sample mean=7.95\n",
      "sample median=8.25\n",
      "\n",
      "==== company B\n",
      "sample mean=10.26\n",
      "sample median=10.15\n"
     ]
    }
   ],
   "source": [
    "from libs.stats import sample_mean, sample_median\n",
    "\n",
    "company_a_data_set = [9.3, 8.8, 6.8, 8.7, 8.5, 6.7, 8.0, 6.5, 9.2, 7.0]\n",
    "company_b_data_set = [11.0, 9.8, 9.9, 10.2, 10.1, 9.7, 11.0, 11.1, 10.2, 9.6]\n",
    "\n",
    "print(\"==== company A\")\n",
    "print(f\"sample mean={round(sample_mean(company_a_data_set), 3)}\")\n",
    "print(f\"sample median={round(sample_median(company_a_data_set), 3)}\")\n",
    "\n",
    "print(\"\\n==== company B\")\n",
    "print(f\"sample mean={round(sample_mean(company_b_data_set), 3)}\")\n",
    "print(f\"sample median={round(sample_median(company_b_data_set), 3)}\")"
   ]
  },
  {
   "cell_type": "markdown",
   "metadata": {},
   "source": [
    "We can conclude that not only Company B's products have more flexibility, but also more consistent flexibility than Company A's (as mean and median are closer)."
   ]
  },
  {
   "cell_type": "markdown",
   "metadata": {},
   "source": [
    "## Exercise 1.5\n",
    "\n",
    "20 adults participated in a study to evaluate the effect of a specific healt regimen on blood cholesterols. Ten were randomly selected to be a control group, and ten others were assigned to take part in the regimen as the treatment group for a period of 6 months.\n",
    "\n",
    "The following data show the reduction of cholesterol experienced for the time period for the 20 subjects.\n",
    "\n",
    "|    |    |\n",
    "| :- | :- |\n",
    "| Control group | 7 3 -4 14 2 5 22 -7 9 5 |\n",
    "| Treatment group | -6 5 9 4 4 12 37 5 3 3 |\n",
    "\n",
    "1. Do a dot plot of the data for both groups in the same graph.\n",
    "2. Compute the mean, median, and 10% trimmed mean for both groups\n",
    "3. Explain why the difference in means suggests one conclusion about the effect of the regimen, while the difference in medians or trimmed means suggest a different conclusion."
   ]
  },
  {
   "cell_type": "markdown",
   "metadata": {},
   "source": [
    "Let's start with the dot plot, using our semi-automated way consisting of:\n",
    "+ Set up the datasets for both groups\n",
    "+ Get the min/max of the data to get the limits for x-axis\n",
    "+ Find a way to skew the data collisions so that they're visible in the plot by adjusting y coordinates of clashing values.\n",
    "+ Find the min/max of those y coordinates to get the limits for y-axis.\n",
    "+ Manually adjust the limits for the x-axis in the chart given a little bit of padding left and right.\n",
    "+ Manually adjust the y-axis limit in the chart so that it looks like a proper dot plot.\n",
    "+ Finally, plot the data as scatter plots, with different markers for each individual data set."
   ]
  },
  {
   "cell_type": "markdown",
   "metadata": {},
   "source": [
    "Let's start by defining the data sets for both groups, which we keep in a list of lists for convenience."
   ]
  },
  {
   "cell_type": "code",
   "execution_count": 9,
   "metadata": {},
   "outputs": [],
   "source": [
    "control_grp_dataset = [7, 3, -4, 14, 2, 5, 22, -7, 9, 5]\n",
    "treatment_grp_dataset = [-6, 5, 9, 4, 4, 12, 37, 5, 3, 3]\n",
    "data_sets = [control_grp_dataset, treatment_grp_dataset]"
   ]
  },
  {
   "cell_type": "markdown",
   "metadata": {},
   "source": [
    "Now, we define the function `get_limits()` that will give us the min and max values across all the data in the different data_sets.\n",
    "\n",
    "This function will be used for helping us get the limits for the x- and y- axis."
   ]
  },
  {
   "cell_type": "code",
   "execution_count": 10,
   "metadata": {},
   "outputs": [],
   "source": [
    "def get_limits(*data_sets):\n",
    "    mins = [min(data_set) for data_set in data_sets]\n",
    "    maxs = [max(data_set) for data_set in data_sets]\n",
    "    return (min(mins), max(maxs))"
   ]
  },
  {
   "cell_type": "markdown",
   "metadata": {},
   "source": [
    "Now, we define the function the displaces a little bit the y coordinates of the dots when there are clashes.\n",
    "\n",
    "The idea is that if we find several dots with the same value, we move them up by a certain value. By default, the y coordinates for the dots will be zero."
   ]
  },
  {
   "cell_type": "code",
   "execution_count": 11,
   "metadata": {},
   "outputs": [],
   "source": [
    "def get_ys_for_dot_plot(*xs, skew=0.25):\n",
    "    freq_map = {}\n",
    "    ys = []\n",
    "    for x in xs:\n",
    "        y = []\n",
    "        for value in x:\n",
    "            if value in freq_map:\n",
    "                freq_map[value] = freq_map[value] + skew\n",
    "            else:\n",
    "                freq_map[value] = 0\n",
    "            y.append(freq_map[value])\n",
    "        ys.append(y)\n",
    "    return ys"
   ]
  },
  {
   "cell_type": "markdown",
   "metadata": {},
   "source": [
    "Now, we can use both functions to get the limits:"
   ]
  },
  {
   "cell_type": "code",
   "execution_count": 12,
   "metadata": {},
   "outputs": [
    {
     "name": "stdout",
     "output_type": "stream",
     "text": [
      "(-7, 37)\n",
      "(0, 0.75)\n"
     ]
    }
   ],
   "source": [
    "datasets_dots_y = get_ys_for_dot_plot(*data_sets)\n",
    "\n",
    "print(get_limits(*data_sets))\n",
    "print(get_limits(*datasets_dots_y))"
   ]
  },
  {
   "cell_type": "markdown",
   "metadata": {},
   "source": [
    "Now we know the ranges of the data to plot, and we can adjust them a little bit for a better presentation of the data.\n",
    "\n",
    "The approach is to add a little bit of padding from the known limits. The actual amount depends on the *scale* of the data. For instance in this case, x_min = -10, x_max = 40 seems like good values.\n",
    "\n",
    "The ticks also needs to be adjusted, so that the labels don't feel too cluttered or too separated:"
   ]
  },
  {
   "cell_type": "code",
   "execution_count": 13,
   "metadata": {},
   "outputs": [
    {
     "data": {
      "image/png": "[encoded data removed]",
      "text/plain": [
       "<Figure size 720x144 with 1 Axes>"
      ]
     },
     "metadata": {
      "needs_background": "light"
     },
     "output_type": "display_data"
    }
   ],
   "source": [
    "import matplotlib.pyplot as plt\n",
    "import numpy as np\n",
    "\n",
    "x_min = -10\n",
    "x_max = 40\n",
    "tick_step = 5\n",
    "\n",
    "plt.xlim(x_min, x_max)\n",
    "\n",
    "# there are a few clashes so we need to expand the y-axis\n",
    "plt.ylim(-0.1, 2.5)\n",
    "\n",
    "plt.gca().axes.get_yaxis().set_visible(False)\n",
    "plt.gca().axes.get_xaxis().set_ticks(np.arange(x_min, x_max, tick_step))\n",
    "plt.scatter(data_sets[0], datasets_dots_y[0], marker='x')\n",
    "plt.scatter(data_sets[1], datasets_dots_y[1], marker='o')\n",
    "\n",
    "plt.gcf().set_size_inches(10, 2) # gcf stands for get current figure"
   ]
  },
  {
   "cell_type": "markdown",
   "metadata": {},
   "source": [
    "Let's now compute the mean, median, and 10% trimmed mean for both groups:"
   ]
  },
  {
   "cell_type": "code",
   "execution_count": 14,
   "metadata": {},
   "outputs": [
    {
     "name": "stdout",
     "output_type": "stream",
     "text": [
      "==== control group\n",
      "sample mean=5.6\n",
      "sample median=5.0\n",
      "trimmed mean (10%)=5.12\n",
      "\n",
      "==== treatment group\n",
      "sample mean=7.6\n",
      "sample median=4.5\n",
      "trimmed mean (10%)=5.62\n"
     ]
    }
   ],
   "source": [
    "from libs.stats import sample_mean, sample_median, trimmed_mean\n",
    "\n",
    "print(\"==== control group\")\n",
    "print(f\"sample mean={round(sample_mean(control_grp_dataset), 2)}\")\n",
    "print(f\"sample median={round(sample_median(control_grp_dataset), 2)}\")\n",
    "print(f\"trimmed mean (10%)={round(trimmed_mean(control_grp_dataset, pct=10), 2)}\")\n",
    "\n",
    "print(\"\\n==== treatment group\")\n",
    "print(f\"sample mean={round(sample_mean(treatment_grp_dataset), 2)}\")\n",
    "print(f\"sample median={round(sample_median(treatment_grp_dataset), 2)}\")\n",
    "print(f\"trimmed mean (10%)={round(trimmed_mean(treatment_grp_dataset, pct=10), 2)}\")"
   ]
  },
  {
   "cell_type": "markdown",
   "metadata": {},
   "source": [
    "Therefore:\n",
    "1. See chart above\n",
    "2. See data above.\n",
    "3. While the mean for the treatment group is larger, if you exclude the outliers it is pretty much aligned. The median for the treatment group is a bit smaller, but not significantly."
   ]
  },
  {
   "cell_type": "markdown",
   "metadata": {},
   "source": [
    "## Exercise 1.6\n",
    "\n",
    "The data below show the strength values for a material that has been cured using two different temperatures (20°C and 45°C).\n",
    "\n",
    "|    |    |\n",
    "| :- | :- |\n",
    "| 20°C | 2.07 2.14 2.22 2.03 2.21 2.03 2.05 2.18 2.09 2.14 2.11 2.02 |\n",
    "| 45°C | 2.52 2.15 2.49 2.03 2.37 2.05 1.99 2.42 2.08 2.42 2.29 2.01 |\n",
    "\n",
    "1. Show a dot plot of the data for both groups\n",
    "2. Compute the sample mean strength for both samples\n",
    "3. Does it appear as if temperature has an influence on tensile strength based in the plot?\n",
    "4. Does anything else appear to be influenced by an increase in curing temperature? Explain.\n"
   ]
  },
  {
   "cell_type": "markdown",
   "metadata": {},
   "source": [
    "Let's start with the dot plot, this time without going into as much detail as we did in the prev exercise:"
   ]
  },
  {
   "cell_type": "code",
   "execution_count": 15,
   "metadata": {},
   "outputs": [
    {
     "name": "stdout",
     "output_type": "stream",
     "text": [
      "(1.99, 2.52)\n",
      "(0, 0.5)\n"
     ]
    },
    {
     "data": {
      "image/png": "[encoded data removed]",
      "text/plain": [
       "<Figure size 720x144 with 1 Axes>"
      ]
     },
     "metadata": {
      "needs_background": "light"
     },
     "output_type": "display_data"
    }
   ],
   "source": [
    "import matplotlib.pyplot as plt\n",
    "import numpy as np\n",
    "\n",
    "\n",
    "def get_ys_for_dot_plot(*xs, skew=0.25):\n",
    "    freq_map = {}\n",
    "    ys = []\n",
    "    for x in xs:\n",
    "        y = []\n",
    "        for value in x:\n",
    "            if value in freq_map:\n",
    "                freq_map[value] = freq_map[value] + skew\n",
    "            else:\n",
    "                freq_map[value] = 0\n",
    "            y.append(freq_map[value])\n",
    "        ys.append(y)\n",
    "    return ys\n",
    "\n",
    "def get_limits(*data_sets):\n",
    "    mins = [min(data_set) for data_set in data_sets]\n",
    "    maxs = [max(data_set) for data_set in data_sets]\n",
    "    return (min(mins), max(maxs))\n",
    "\n",
    "twenty_deg_data_set = [2.07, 2.14, 2.22, 2.03, 2.21, 2.03, 2.05, 2.18, 2.09, 2.14, 2.11, 2.02]\n",
    "fourty_five_deg_data_set = [2.52, 2.15, 2.49, 2.03, 2.37, 2.05, 1.99, 2.42, 2.08, 2.42, 2.29, 2.01]\n",
    "data_sets = [twenty_deg_data_set, fourty_five_deg_data_set]\n",
    "\n",
    "datasets_dots_y = get_ys_for_dot_plot(*data_sets)\n",
    "\n",
    "\n",
    "# this gives you the min and max for the x and y coordinates\n",
    "print(get_limits(*data_sets))\n",
    "print(get_limits(*datasets_dots_y))\n",
    "\n",
    "# limits are 1.99 and 2.52, we add a little padding for cosmetic reasons\n",
    "x_lim_left = 1.90\n",
    "x_lim_right = 2.60\n",
    "plt.xlim(x_lim_left, x_lim_right)\n",
    "\n",
    "# there are a few clashes so we need to expand the y-axis\n",
    "plt.ylim(-0.1, 2.5)\n",
    "\n",
    "plt.gca().axes.get_yaxis().set_visible(False)\n",
    "plt.gca().axes.get_xaxis().set_ticks(np.arange(x_lim_left, x_lim_right, 0.1))\n",
    "plt.scatter(data_sets[0], datasets_dots_y[0], marker='x')\n",
    "plt.scatter(data_sets[1], datasets_dots_y[1], marker='o')\n",
    "\n",
    "plt.gcf().set_size_inches(10, 2) # gcf stands for get current figure"
   ]
  },
  {
   "cell_type": "markdown",
   "metadata": {},
   "source": [
    "Now we compute the sample mean for both groups:"
   ]
  },
  {
   "cell_type": "code",
   "execution_count": 16,
   "metadata": {},
   "outputs": [
    {
     "name": "stdout",
     "output_type": "stream",
     "text": [
      "==== 20°C\n",
      "sample mean=2.1075\n",
      "\n",
      "==== 45°C\n",
      "sample mean=2.235\n"
     ]
    }
   ],
   "source": [
    "from libs.stats import sample_mean\n",
    "\n",
    "print(\"==== 20°C\")\n",
    "print(f\"sample mean={round(sample_mean(twenty_deg_data_set), 4)}\")\n",
    "\n",
    "print(\"\\n==== 45°C\")\n",
    "print(f\"sample mean={round(sample_mean(fourty_five_deg_data_set), 4)}\")\n"
   ]
  },
  {
   "cell_type": "markdown",
   "metadata": {},
   "source": [
    "Let's analyze the results and provide some conclusions:"
   ]
  },
  {
   "cell_type": "markdown",
   "metadata": {},
   "source": [
    "1. See plot above\n",
    "2. Yes, looking at the plot and the mean we see that strength seems to improve when you use the 45°C treatment\n",
    "3. Apart from increasing the strength, the 45°C seems to have an effect on the variability of the data (more dispersed), and there are sample for which the strength is less than the one found for 20°C samples."
   ]
  },
  {
   "cell_type": "markdown",
   "metadata": {},
   "source": [
    "## Exercise 1.7\n",
    "\n",
    "Compute the sample variance and sample standard deviation for the data set in [Exercise 1.1](#exercise-11). Note that the values are hours.\n",
    "\n",
    "```\n",
    "3.4 2.5 4.8 2.9 3.6\n",
    "2.8 3.3 5.6 3.7 2.8\n",
    "4.4 4.0 5.2 3.0 4.8\n",
    "```"
   ]
  },
  {
   "cell_type": "code",
   "execution_count": 17,
   "metadata": {},
   "outputs": [
    {
     "name": "stdout",
     "output_type": "stream",
     "text": [
      "sample variance=0.943 hours^2\n",
      "sample std dev=0.971 hours\n"
     ]
    }
   ],
   "source": [
    "from libs.stats import sample_variance, sample_standard_deviation\n",
    "\n",
    "data_set = [3.4, 2.5, 4.8, 2.9, 3.6, 2.8, 3.3, 5.6, 3.7, 2.8, 4.4, 4.0, 5.2, 3.0, 4.8]\n",
    "\n",
    "print(f\"sample variance={round(sample_variance(data_set), 3)} hours^2\")\n",
    "print(f\"sample std dev={round(sample_standard_deviation(data_set), 3)} hours\")\n"
   ]
  },
  {
   "cell_type": "markdown",
   "metadata": {},
   "source": [
    "## Exercise 1.8\n",
    "\n",
    "Compute the sample variance and standard deviation for the data of [Exercise 1.2](#exercise-12).\n",
    "\n",
    "```\n",
    "18.71 21.41 20.72 21.81 19.29 22.43 20.17\n",
    "23.71 19.44 20.50 18.92 20.33 23.00 22.85\n",
    "19.25 21.77 22.11 19.77 18.04 21.12\n",
    "```"
   ]
  },
  {
   "cell_type": "code",
   "execution_count": 18,
   "metadata": {},
   "outputs": [
    {
     "name": "stdout",
     "output_type": "stream",
     "text": [
      "sample variance=2.5329 units^2\n",
      "sample std dev=1.5915 units\n"
     ]
    }
   ],
   "source": [
    "from libs.stats import sample_variance, sample_standard_deviation\n",
    "\n",
    "data_set = [18.71, 21.41, 20.72, 21.81, 19.29, 22.43, 20.17, \n",
    "    23.71, 19.44, 20.50, 18.92, 20.33, 23.00, 22.85,\n",
    "    19.25, 21.77, 22.11, 19.77, 18.04, 21.12]\n",
    "\n",
    "print(f\"sample variance={round(sample_variance(data_set), 4)} units^2\")\n",
    "print(f\"sample std dev={round(sample_standard_deviation(data_set), 4)} units\")\n"
   ]
  },
  {
   "cell_type": "markdown",
   "metadata": {},
   "source": [
    "## Exercise 1.9\n",
    "\n",
    "[Exercise 1.3](#exercise-13) showed tensile strength data for two samples, one of which was exposed to an aging process, and one that wasn't.\n",
    "\n",
    "| | |\n",
    "| :- | :- |\n",
    "| No aging | 227 222 218 217 225 218 216 229 228 221 |\n",
    "| Aging | 219 214 215 211 209 218 203 204 201 205 |\n",
    "\n",
    "1. Calculate the sample variance as well as standard deviation for both samples.\n",
    "2. Does there appear to be any evidence that aging affects the variability in tensile strength?"
   ]
  },
  {
   "cell_type": "markdown",
   "metadata": {},
   "source": [
    "As this one requires a little bit more explanation, it will make sense to redo the whole exercise to draw conclusions from the dot plot, the mean and median, and the std dev.\n",
    "\n",
    "Let's put it all together, improving a little bit the dot plot as we need to make some analysis of it."
   ]
  },
  {
   "cell_type": "code",
   "execution_count": 19,
   "metadata": {},
   "outputs": [
    {
     "name": "stdout",
     "output_type": "stream",
     "text": [
      "==== no aging\n",
      "sample mean=222.1\n",
      "sample median=221.5\n",
      "sample variance=23.66\n",
      "sample std dev=4.86\n",
      "\n",
      "==== no aging\n",
      "sample mean=209.9\n",
      "sample median=210.0\n",
      "sample variance=42.1\n",
      "sample std dev=6.49\n"
     ]
    },
    {
     "data": {
      "image/png": "[encoded data removed]",
      "text/plain": [
       "<Figure size 720x144 with 1 Axes>"
      ]
     },
     "metadata": {
      "needs_background": "light"
     },
     "output_type": "display_data"
    }
   ],
   "source": [
    "import matplotlib.pyplot as plt\n",
    "import numpy as np\n",
    "from libs.stats import sample_mean, sample_median, trimmed_mean, sample_standard_deviation, sample_variance\n",
    "\n",
    "\n",
    "def get_ys_for_dot_plot(*xs, skew=0.25):\n",
    "    freq_map = {}\n",
    "    ys = []\n",
    "    for x in xs:\n",
    "        y = []\n",
    "        for value in x:\n",
    "            if value in freq_map:\n",
    "                freq_map[value] = freq_map[value] + skew\n",
    "            else:\n",
    "                freq_map[value] = 0\n",
    "            y.append(freq_map[value])\n",
    "        ys.append(y)\n",
    "    return ys\n",
    "\n",
    "def get_limits(*data_sets):\n",
    "    mins = [min(data_set) for data_set in data_sets]\n",
    "    maxs = [max(data_set) for data_set in data_sets]\n",
    "    return (min(mins), max(maxs))\n",
    "\n",
    "no_aging_data_set = [227, 222, 218, 217, 225, 218, 216, 229, 228, 221]\n",
    "aging_data_set = [219, 214, 215, 211, 209, 218, 203, 204, 201, 205]\n",
    "\n",
    "print(\"==== no aging\")\n",
    "print(f\"sample mean={round(sample_mean(no_aging_data_set), 2)}\")\n",
    "print(f\"sample median={round(sample_median(no_aging_data_set), 2)}\")\n",
    "print(f\"sample variance={round(sample_variance(no_aging_data_set), 2)}\")\n",
    "print(f\"sample std dev={round(sample_standard_deviation(no_aging_data_set), 2)}\")\n",
    "\n",
    "print(\"\\n==== no aging\")\n",
    "print(f\"sample mean={round(sample_mean(aging_data_set), 2)}\")\n",
    "print(f\"sample median={round(sample_median(aging_data_set), 2)}\")\n",
    "print(f\"sample variance={round(sample_variance(aging_data_set), 2)}\")\n",
    "print(f\"sample std dev={round(sample_standard_deviation(aging_data_set), 2)}\")\n",
    "\n",
    "\n",
    "datasets_dots_y = get_ys_for_dot_plot(no_aging_data_set, aging_data_set)\n",
    "\n",
    "fig, ax = plt.subplots()\n",
    "plt.xlim(195, 235)\n",
    "plt.ylim(-0.1, 2.5)\n",
    "\n",
    "ax.scatter(no_aging_data_set, datasets_dots_y[0], marker='x', label=\"no aging process\")\n",
    "ax.scatter(aging_data_set, datasets_dots_y[1], marker='o', label=\"aging process\")\n",
    "ax.get_yaxis().set_visible(False)\n",
    "ax.get_xaxis().set_ticks(np.arange(195, 235, 5))\n",
    "ax.legend()\n",
    "ax.grid(False)\n",
    "fig.set_size_inches(10, 2)\n",
    "plt.show()"
   ]
  },
  {
   "cell_type": "markdown",
   "metadata": {},
   "source": [
    "The conclusion is the aging process, besides provoking a minor strength induces more variability in the measurements, which is not a good thing."
   ]
  },
  {
   "cell_type": "markdown",
   "metadata": {},
   "source": [
    "## Exercise 1.10\n",
    "\n",
    "For the data of [Exercise 1.4](#exercise-14), compute boths the mean and the variance in flexibility for both datasets. Does there appear to be a difference in flexibility between company A and company B?\n",
    "\n",
    "|    |    |\n",
    "| :- | :- |\n",
    "| Company A | 9.3 8.8 6.8 8.7 8.5 6.7 8.0 6.5 9.2 7.0 |\n",
    "| Company B | 11.0 9.8 9.9 10.2 10.1 9.7 11.0 11.1 10.2 9.6 |"
   ]
  },
  {
   "cell_type": "code",
   "execution_count": 20,
   "metadata": {},
   "outputs": [
    {
     "name": "stdout",
     "output_type": "stream",
     "text": [
      "==== company A\n",
      "sample mean=7.95\n",
      "sample variance=1.207\n",
      "\n",
      "==== company B\n",
      "sample mean=10.26\n",
      "sample variance=0.325\n"
     ]
    }
   ],
   "source": [
    "from libs.stats import sample_mean, sample_variance\n",
    "\n",
    "company_a_data_set = [9.3, 8.8, 6.8, 8.7, 8.5, 6.7, 8.0, 6.5, 9.2, 7.0]\n",
    "company_b_data_set = [11.0, 9.8, 9.9, 10.2, 10.1, 9.7, 11.0, 11.1, 10.2, 9.6]\n",
    "\n",
    "print(\"==== company A\")\n",
    "print(f\"sample mean={round(sample_mean(company_a_data_set), 3)}\")\n",
    "print(f\"sample variance={round(sample_variance(company_a_data_set), 3)}\")\n",
    "\n",
    "print(\"\\n==== company B\")\n",
    "print(f\"sample mean={round(sample_mean(company_b_data_set), 3)}\")\n",
    "print(f\"sample variance={round(sample_variance(company_b_data_set), 3)}\")"
   ]
  },
  {
   "cell_type": "markdown",
   "metadata": {},
   "source": [
    "As a conclusion, Company B's products are far less flexible and far less consistent."
   ]
  },
  {
   "cell_type": "markdown",
   "metadata": {},
   "source": [
    "## Exercise 1.11\n",
    "\n",
    "Consider the data in [Exercise 1.5](#exercise-15). Compute the sample variance and sample standard deviation for both control and treatment groups.\n",
    "\n",
    "|    |    |\n",
    "| :- | :- |\n",
    "| Control group | 7 3 -4 14 2 5 22 -7 9 5 |\n",
    "| Treatment group | -6 5 9 4 4 12 37 5 3 3 |"
   ]
  },
  {
   "cell_type": "code",
   "execution_count": 21,
   "metadata": {},
   "outputs": [
    {
     "name": "stdout",
     "output_type": "stream",
     "text": [
      "==== control group\n",
      "sample variance=69.38\n",
      "sample standard deviation=8.33\n",
      "\n",
      "==== treatment group\n",
      "sample variance=128.04\n",
      "sample standard deviation=11.32\n"
     ]
    }
   ],
   "source": [
    "from libs.stats import sample_variance, sample_standard_deviation\n",
    "\n",
    "control_grp_dataset = [7, 3, -4, 14, 2, 5, 22, -7, 9, 5]\n",
    "treatment_grp_dataset = [-6, 5, 9, 4, 4, 12, 37, 5, 3, 3]\n",
    "\n",
    "print(\"==== control group\")\n",
    "print(f\"sample variance={round(sample_variance(control_grp_dataset), 2)}\")\n",
    "print(f\"sample standard deviation={round(sample_standard_deviation(control_grp_dataset), 2)}\")\n",
    "\n",
    "print(\"\\n==== treatment group\")\n",
    "print(f\"sample variance={round(sample_variance(treatment_grp_dataset), 2)}\")\n",
    "print(f\"sample standard deviation={round(sample_standard_deviation(treatment_grp_dataset), 2)}\")\n"
   ]
  },
  {
   "cell_type": "markdown",
   "metadata": {},
   "source": [
    "## Exercise 1.12\n",
    "\n",
    "For [Exercise 1.6](#exercise-16), compute the sample standard deviation in tensile strength for the samples separately for the two temperatures. Does it appear as if an increase in temperature influences the variability in tensile strength? Explain.\n",
    "\n",
    "\n",
    "|    |    |\n",
    "| :- | :- |\n",
    "| 20°C | 2.07 2.14 2.22 2.03 2.21 2.03 2.05 2.18 2.09 2.14 2.11 2.02 |\n",
    "| 45°C | 2.52 2.15 2.49 2.03 2.37 2.05 1.99 2.42 2.08 2.42 2.29 2.01 |"
   ]
  },
  {
   "cell_type": "code",
   "execution_count": 22,
   "metadata": {},
   "outputs": [
    {
     "name": "stdout",
     "output_type": "stream",
     "text": [
      "==== 20°C\n",
      "sample std dev=0.0709\n",
      "\n",
      "==== 45°C\n",
      "sample std dev=0.2032\n"
     ]
    }
   ],
   "source": [
    "from libs.stats import sample_standard_deviation\n",
    "\n",
    "twenty_deg_data_set = [2.07, 2.14, 2.22, 2.03, 2.21, 2.03, 2.05, 2.18, 2.09, 2.14, 2.11, 2.02]\n",
    "fourty_five_deg_data_set = [2.52, 2.15, 2.49, 2.03, 2.37, 2.05, 1.99, 2.42, 2.08, 2.42, 2.29, 2.01]\n",
    "\n",
    "\n",
    "print(\"==== 20°C\")\n",
    "print(f\"sample std dev={round(sample_standard_deviation(twenty_deg_data_set), 4)}\")\n",
    "\n",
    "print(\"\\n==== 45°C\")\n",
    "print(f\"sample std dev={round(sample_standard_deviation(fourty_five_deg_data_set), 4)}\")"
   ]
  },
  {
   "cell_type": "markdown",
   "metadata": {},
   "source": [
    "As we can see from the results, the temperature greatly affects the variability in tensile strength."
   ]
  },
  {
   "cell_type": "markdown",
   "metadata": {},
   "source": [
    "## Exercise 1.13\n",
    "\n",
    "A manufacturer of electronic components is interested in determining the lifetime of a certain type of battery.\n",
    "\n",
    "A sample, in hour of life, is as follows:\n",
    "\n",
    "```\n",
    "123, 116, 122, 110, 175, 126, 125, 111, 118, 117\n",
    "```\n",
    "\n",
    "1. Find the sample mean and median.\n",
    "2. What feature is this data set is responsible for the substantial difference between the two?"
   ]
  },
  {
   "cell_type": "code",
   "execution_count": 23,
   "metadata": {},
   "outputs": [
    {
     "name": "stdout",
     "output_type": "stream",
     "text": [
      "sample mean=124.3\n",
      "sample median=120.0\n"
     ]
    }
   ],
   "source": [
    "from libs.stats import sample_mean, sample_median\n",
    "\n",
    "data_set = [123, 116, 122, 110, 175, 126, 125, 111, 118, 117]\n",
    "\n",
    "print(f'sample mean={sample_mean(data_set)}')\n",
    "print(f'sample median={sample_median(data_set)}')\n",
    "\n"
   ]
  },
  {
   "cell_type": "markdown",
   "metadata": {},
   "source": [
    "There's a significant different between the mean and the median because of the 175 value. If we calculate the 10% trimmed mean instead we get a closer value."
   ]
  },
  {
   "cell_type": "code",
   "execution_count": 24,
   "metadata": {},
   "outputs": [
    {
     "name": "stdout",
     "output_type": "stream",
     "text": [
      "trimmed mean(10%)=119.75\n"
     ]
    }
   ],
   "source": [
    "from libs.stats import trimmed_mean\n",
    "\n",
    "print(f'trimmed mean(10%)={trimmed_mean(data_set, 10)}')"
   ]
  },
  {
   "cell_type": "markdown",
   "metadata": {},
   "source": [
    "## Exercise 1.14\n",
    "\n",
    "A tire manufacturer wants to determine the inner diameter of a certain grade of tire. Ideally, the diameter would be 570 mm. The data are as follows:\n",
    "\n",
    "```\n",
    "572, 572, 573, 568, 569, 575, 565, 570\n",
    "```\n",
    "\n",
    "1. Find the sample mean and median.\n",
    "2. Find the sample variance, standard deviation, and range.\n",
    "3. Using the calculated statistics in (1) and (2), can you comment on the quality of the tires?"
   ]
  },
  {
   "cell_type": "code",
   "execution_count": 25,
   "metadata": {},
   "outputs": [
    {
     "name": "stdout",
     "output_type": "stream",
     "text": [
      "sample mean=570.5 mm\n",
      "sample median=571.0 mm\n",
      "sample variance=10.0 mm^2\n",
      "sample variance=3.1622776601683795 mm\n",
      "sample range=10\n",
      "\n",
      "pct_diff(mean, median)=0.0876424189307625\n",
      "\n",
      "pct_diff(mean, median)=0.08771929824561403\n"
     ]
    }
   ],
   "source": [
    "from libs.stats import sample_mean, sample_median, sample_variance, sample_standard_deviation, sample_range, pct_diff\n",
    "\n",
    "data_set = [572, 572, 573, 568, 569, 575, 565, 570]\n",
    "\n",
    "print(f'sample mean={sample_mean(data_set)} mm')\n",
    "print(f'sample median={sample_median(data_set)} mm')\n",
    "print(f'sample variance={sample_variance(data_set)} mm^2')\n",
    "print(f'sample variance={sample_standard_deviation(data_set)} mm')\n",
    "print(f'sample range={sample_range(data_set)}')\n",
    "print(f'\\npct_diff(mean, median)={pct_diff(sample_mean(data_set), sample_median(data_set))}')\n",
    "print(f'\\npct_diff(mean, median)={pct_diff(570, sample_mean(data_set))}')\n"
   ]
  },
  {
   "cell_type": "markdown",
   "metadata": {},
   "source": [
    "The conclusion depends on the allowed error. For the me the mean and median are very close, which is confirmed by and standard deviation of only 3.16mm in the samples, and only 10 mm in the sample range.\n",
    "\n",
    "The pct difference between the mean and median is only 0.09%, and the difference between the ideal result of 570mm and the mean is just 0.09 % bigger."
   ]
  },
  {
   "cell_type": "markdown",
   "metadata": {},
   "source": [
    "## Exercise 1.15\n",
    "\n",
    "Five independent coin tosses result in H H H H H. It turns out that if the coin is fair, the probability of this outcome is $ \\frac{1}{2}^5 = 0.03125 $.\n",
    "\n",
    "Does this produce strong evidence that the coin is not fair?"
   ]
  },
  {
   "cell_type": "markdown",
   "metadata": {},
   "source": [
    "There's 3% chance that out of 5 independent coin tosses you get all heads. Thus, although not very probable, it doesn't suggest in itself that the coin is not fair. You will need more coin tosses to give a valuable answer."
   ]
  },
  {
   "cell_type": "markdown",
   "metadata": {},
   "source": [
    "## Exercise 1.16\n",
    "\n",
    "Show that the $ n $ pieces of information in $ \\sum_{i=1}^{n} (x_i - \\bar{x})^2 $ are not independent.\n",
    "\n",
    "| HINT |\n",
    "| :--- |\n",
    "| You need to prove that $ \\sum_{i=1}^{n} (x_i - \\bar{x}) = 0 $. Use paper and pen for this one 😛|"
   ]
  },
  {
   "cell_type": "markdown",
   "metadata": {},
   "source": [
    "$$\n",
    "X = \\{x_1, x_2, \\ldots, x_n\\} \\\\\n",
    "\\bar{x} = \\sum_{i=1}^{n} \\frac{x_1 + x_2 + \\ldots + x_n}{n}\\\\\n",
    "\\\\\n",
    "\\sum_{i=1}^{n} (x_i - \\bar{x}) = \\\\\n",
    "= x_1 - \\frac{x_1 + x_2 + \\ldots + x_n}{n} + x_2 - \\frac{x_1 + x_2 + \\ldots + x_n}{n} + \\ldots + x_n - \\frac{x_1 + x_2 + \\ldots + x_n}{n} = \\\\\n",
    "= \\frac{n \\cdot x_1 - (x_1 + x_2 + \\ldots + x_n) + n \\cdot x_2 - (x_1 + x_2 + \\ldots + x_n) + \\ldots + n \\cdot x_n - (x_1 + x_2 + \\ldots + x_n)}{n} = \\\\\n",
    "= \\frac{n \\cdot x_1 + n \\cdot x_2 + \\ldots + n \\cdot x_n - n \\cdot (x_1 + x_2 + \\ldots + x_n)}{n} = \\\\\n",
    "= \\frac{n \\cdot (x_1 + x_2 + \\ldots + x_n) - n \\cdot (x_1 + x_2 + \\ldots + x_n)}{n} = 0\n",
    "$$\n",
    "\n",
    "That's why it is said that a dataset $ X = \\{x_1, x_2, \\ldots, x_n\\} $ has $ n - 1 $ degrees of freedom (and not $ n $)."
   ]
  },
  {
   "cell_type": "markdown",
   "metadata": {},
   "source": [
    "## Exercise 1.17\n",
    "\n",
    "A study of the effects of smoking on sleep patterns is conducted. The measre observed is the time in minutes that it takes to fall asleep.\n",
    "The following data is obtained:\n",
    "\n",
    "| Group | Time to fall asleep (min) |\n",
    "| :---- | :------------------------ |\n",
    "| Smokers | 69.3 56.0 22.1 47.6 53.2 48.1 52.7 34.4 60.2 43.8 23.2 13.8 |\n",
    "| Nonsmokers | 28.6 25.1 26.4 34.9 29.8 28.4 38.5 30.2 30.6 31.8 41.6 21.1 36.0 37.9 13.9 |\n",
    "\n",
    "1. Find the sample mean for each group\n",
    "2. Find the sample standard deviation for each group\n",
    "3. Make a dot plot of the data sets A and B on the same line\n",
    "4. Comment on what kind of impact smoking appears to have on the time required to fall asleep.\n"
   ]
  },
  {
   "cell_type": "code",
   "execution_count": 26,
   "metadata": {},
   "outputs": [
    {
     "name": "stdout",
     "output_type": "stream",
     "text": [
      "=========== smokers\n",
      "sample mean: 43.7\n",
      "standard dev: 16.928\n",
      "\n",
      "=========== non-smokers\n",
      "sample mean: 30.32\n",
      "standard dev: 7.128\n"
     ]
    }
   ],
   "source": [
    "from libs.stats import get_stats\n",
    "\n",
    "smokers_data_set = [69.3, 56.0, 22.1, 47.6, 53.2, 48.1, 52.7, 34.4, 60.2, 43.8, 23.2, 13.8]\n",
    "nonsmokers_data_set = [28.6, 25.1, 26.4, 34.9, 29.8, 28.4, 38.5, 30.2, 30.6, 31.8, 41.6, 21.1, 36.0, 37.9, 13.9]\n",
    "\n",
    "smokers_stats = get_stats(smokers_data_set)\n",
    "nonsmokers_stats = get_stats(nonsmokers_data_set)\n",
    "\n",
    "print('=========== smokers')\n",
    "print(f'sample mean: {round(smokers_stats[\"mean\"], 3)}')\n",
    "print(f'standard dev: {round(smokers_stats[\"std_dev\"], 3)}')\n",
    "\n",
    "print('\\n=========== non-smokers')\n",
    "print(f'sample mean: {round(nonsmokers_stats[\"mean\"], 3)}')\n",
    "print(f'standard dev: {round(nonsmokers_stats[\"std_dev\"], 3)}')\n"
   ]
  },
  {
   "cell_type": "markdown",
   "metadata": {},
   "source": [
    "For the dot plot, we start by getting the limits in the data:"
   ]
  },
  {
   "cell_type": "code",
   "execution_count": 27,
   "metadata": {},
   "outputs": [
    {
     "name": "stdout",
     "output_type": "stream",
     "text": [
      "(13.8, 69.3)\n"
     ]
    }
   ],
   "source": [
    "def get_limits(*data_sets):\n",
    "    mins = [min(data_set) for data_set in data_sets]\n",
    "    maxs = [max(data_set) for data_set in data_sets]\n",
    "    return (min(mins), max(maxs))\n",
    "\n",
    "print(get_limits(smokers_data_set, nonsmokers_data_set))\n",
    "\n",
    "x_min = 13\n",
    "x_max = 70"
   ]
  },
  {
   "cell_type": "code",
   "execution_count": 28,
   "metadata": {},
   "outputs": [
    {
     "name": "stdout",
     "output_type": "stream",
     "text": [
      "(0, 0)\n"
     ]
    }
   ],
   "source": [
    "def get_ys_for_dot_plot(*xs, skew=0.25):\n",
    "    freq_map = {}\n",
    "    ys = []\n",
    "    for x in xs:\n",
    "        y = []\n",
    "        for value in x:\n",
    "            if value in freq_map:\n",
    "                freq_map[value] = freq_map[value] + skew\n",
    "            else:\n",
    "                freq_map[value] = 0\n",
    "            y.append(freq_map[value])\n",
    "        ys.append(y)\n",
    "    return ys\n",
    "\n",
    "datasets_dots_y = get_ys_for_dot_plot(smokers_data_set, nonsmokers_data_set)\n",
    "print(get_limits(*datasets_dots_y))\n",
    "\n",
    "y_min = -0.1\n",
    "y_max = 2"
   ]
  },
  {
   "cell_type": "code",
   "execution_count": 29,
   "metadata": {},
   "outputs": [
    {
     "data": {
      "image/png": "[encoded data removed]",
      "text/plain": [
       "<Figure size 720x144 with 1 Axes>"
      ]
     },
     "metadata": {
      "needs_background": "light"
     },
     "output_type": "display_data"
    }
   ],
   "source": [
    "import matplotlib.pyplot as plt\n",
    "import numpy as np\n",
    "\n",
    "fig, ax = plt.subplots()\n",
    "plt.xlim(x_min, x_max)\n",
    "plt.ylim(y_min, y_max)\n",
    "\n",
    "ax.scatter(smokers_data_set, datasets_dots_y[0], marker='x', alpha=0.95, label=\"smokers\")\n",
    "ax.scatter(nonsmokers_data_set, datasets_dots_y[1], marker='o', alpha=0.5, label=\"non-smokers\")\n",
    "ax.get_yaxis().set_visible(False)\n",
    "ax.get_xaxis().set_ticks(np.arange(x_min, x_max, 5))\n",
    "ax.legend()\n",
    "ax.grid(False)\n",
    "fig.set_size_inches(10, 2)\n",
    "plt.show()"
   ]
  },
  {
   "cell_type": "markdown",
   "metadata": {},
   "source": [
    "Thus, non-smokers tend to require less time to get asleep, and also, the sample standard deviation is smaller, which suggests that the time that smokers need to get asleep is more variable."
   ]
  },
  {
   "cell_type": "markdown",
   "metadata": {},
   "source": [
    "## Exercise 1.18\n",
    "\n",
    "The following scores represent the final examination grades for a given course:\n",
    "\n",
    "```\n",
    "23 60 79 32 57 74 52 70 82\n",
    "36 80 77 81 95 41 65 92 85\n",
    "55 76 52 10 64 75 78 25 80\n",
    "98 81 67 41 71 83 54 64 72\n",
    "88 62 74 43 60 78 89 76 84\n",
    "48 84 90 15 79 34 67 17 82\n",
    "69 74 63 80 85 61\n",
    "```\n",
    "\n",
    "1. Construct a stem-and-leaf plot for the examination grades, in which the stems are 1, 2, 3,..., 9.\n",
    "2. Construct a relative frequency histogram, draw the graph of the distrubution and discuss the skewness of the distribution.\n",
    "3. Compute the sample mean, sample median, and sample standard deviation."
   ]
  },
  {
   "cell_type": "markdown",
   "metadata": {},
   "source": [
    "Let's start with the stem-and-leaf plot (which is actually a tabular report), following the same approach we followed in the concepts section:"
   ]
  },
  {
   "cell_type": "code",
   "execution_count": 30,
   "metadata": {},
   "outputs": [
    {
     "name": "stdout",
     "output_type": "stream",
     "text": [
      "{1: ('057', 3), 2: ('35', 2), 3: ('264', 3), 4: ('1138', 4), 5: ('72524', 5), 6: ('05474207931', 11), 7: ('94076581248694', 14), 8: ('20150138944205', 14), 9: ('5280', 4)}\n"
     ]
    }
   ],
   "source": [
    "data_set = [\n",
    "23, 60, 79, 32, 57, 74, 52, 70, 82,\n",
    "36, 80, 77, 81, 95, 41, 65, 92, 85,\n",
    "55, 76, 52, 10, 64, 75, 78, 25, 80,\n",
    "98, 81, 67, 41, 71, 83, 54, 64, 72,\n",
    "88, 62, 74, 43, 60, 78, 89, 76, 84,\n",
    "48, 84, 90, 15, 79, 34, 67, 17, 82,\n",
    "69, 74, 63, 80, 85, 61]\n",
    "\n",
    "# we split the dataset into the first and second digit\n",
    "# - the first digit will be used for stems, the second for the leaves\n",
    "\n",
    "stems = sorted(list(set([score // 10 for score in data_set])))\n",
    "\n",
    "stem_and_leaf = { stem: ('', 0) for stem in stems}\n",
    "for score in data_set:\n",
    "    stem, leaf = (score // 10, score % 10)\n",
    "    existing_leaf, existing_freq = stem_and_leaf[stem]\n",
    "    stem_and_leaf[stem] = (existing_leaf + str(leaf), existing_freq + 1)\n",
    "\n",
    "print(stem_and_leaf)"
   ]
  },
  {
   "cell_type": "markdown",
   "metadata": {},
   "source": [
    "Now we clean the leaves a little bit, as it is customary to show them sorted by value:"
   ]
  },
  {
   "cell_type": "code",
   "execution_count": 31,
   "metadata": {},
   "outputs": [
    {
     "name": "stdout",
     "output_type": "stream",
     "text": [
      "{1: ('057', 3), 2: ('35', 2), 3: ('246', 3), 4: ('1138', 4), 5: ('22457', 5), 6: ('00123445779', 11), 7: ('01244456678899', 14), 8: ('00011223445589', 14), 9: ('0258', 4)}\n"
     ]
    }
   ],
   "source": [
    "def get_sorted_leaf(str):\n",
    "    sorted_str = ''.join(sorted(str))\n",
    "    return sorted_str\n",
    "\n",
    "for stem in stem_and_leaf:\n",
    "    leaf, freq = stem_and_leaf[stem]\n",
    "    stem_and_leaf[stem] = (get_sorted_leaf(leaf), freq)\n",
    "\n",
    "print(stem_and_leaf)"
   ]
  },
  {
   "cell_type": "markdown",
   "metadata": {},
   "source": [
    "Finally, we accommodate on a pandas dataframe for pretty printing it, and add another column for the relative frequency."
   ]
  },
  {
   "cell_type": "code",
   "execution_count": 32,
   "metadata": {},
   "outputs": [
    {
     "data": {
      "text/html": [
       "<div>\n",
       "<style scoped>\n",
       "    .dataframe tbody tr th:only-of-type {\n",
       "        vertical-align: middle;\n",
       "    }\n",
       "\n",
       "    .dataframe tbody tr th {\n",
       "        vertical-align: top;\n",
       "    }\n",
       "\n",
       "    .dataframe thead th {\n",
       "        text-align: right;\n",
       "    }\n",
       "</style>\n",
       "<table border=\"1\" class=\"dataframe\">\n",
       "  <thead>\n",
       "    <tr style=\"text-align: right;\">\n",
       "      <th></th>\n",
       "      <th>Stems</th>\n",
       "      <th>Leaf</th>\n",
       "      <th>Frequency</th>\n",
       "      <th>Relative Frequency</th>\n",
       "    </tr>\n",
       "  </thead>\n",
       "  <tbody>\n",
       "    <tr>\n",
       "      <th>0</th>\n",
       "      <td>1</td>\n",
       "      <td>057</td>\n",
       "      <td>3</td>\n",
       "      <td>0.05</td>\n",
       "    </tr>\n",
       "    <tr>\n",
       "      <th>1</th>\n",
       "      <td>2</td>\n",
       "      <td>35</td>\n",
       "      <td>2</td>\n",
       "      <td>0.03</td>\n",
       "    </tr>\n",
       "    <tr>\n",
       "      <th>2</th>\n",
       "      <td>3</td>\n",
       "      <td>246</td>\n",
       "      <td>3</td>\n",
       "      <td>0.05</td>\n",
       "    </tr>\n",
       "    <tr>\n",
       "      <th>3</th>\n",
       "      <td>4</td>\n",
       "      <td>1138</td>\n",
       "      <td>4</td>\n",
       "      <td>0.07</td>\n",
       "    </tr>\n",
       "    <tr>\n",
       "      <th>4</th>\n",
       "      <td>5</td>\n",
       "      <td>22457</td>\n",
       "      <td>5</td>\n",
       "      <td>0.08</td>\n",
       "    </tr>\n",
       "    <tr>\n",
       "      <th>5</th>\n",
       "      <td>6</td>\n",
       "      <td>00123445779</td>\n",
       "      <td>11</td>\n",
       "      <td>0.18</td>\n",
       "    </tr>\n",
       "    <tr>\n",
       "      <th>6</th>\n",
       "      <td>7</td>\n",
       "      <td>01244456678899</td>\n",
       "      <td>14</td>\n",
       "      <td>0.23</td>\n",
       "    </tr>\n",
       "    <tr>\n",
       "      <th>7</th>\n",
       "      <td>8</td>\n",
       "      <td>00011223445589</td>\n",
       "      <td>14</td>\n",
       "      <td>0.23</td>\n",
       "    </tr>\n",
       "    <tr>\n",
       "      <th>8</th>\n",
       "      <td>9</td>\n",
       "      <td>0258</td>\n",
       "      <td>4</td>\n",
       "      <td>0.07</td>\n",
       "    </tr>\n",
       "  </tbody>\n",
       "</table>\n",
       "</div>"
      ],
      "text/plain": [
       "   Stems            Leaf  Frequency  Relative Frequency\n",
       "0      1             057          3                0.05\n",
       "1      2              35          2                0.03\n",
       "2      3             246          3                0.05\n",
       "3      4            1138          4                0.07\n",
       "4      5           22457          5                0.08\n",
       "5      6     00123445779         11                0.18\n",
       "6      7  01244456678899         14                0.23\n",
       "7      8  00011223445589         14                0.23\n",
       "8      9            0258          4                0.07"
      ]
     },
     "execution_count": 32,
     "metadata": {},
     "output_type": "execute_result"
    }
   ],
   "source": [
    "import pandas as pd\n",
    "\n",
    "stem_and_leaf_df = pd.DataFrame({\n",
    "    \"Stems\":[stem for stem in stem_and_leaf], \n",
    "    \"Leaf\":[stem_and_leaf[stem][0] for stem in stem_and_leaf],\n",
    "    \"Frequency\":[stem_and_leaf[stem][1] for stem in stem_and_leaf],\n",
    "    \"Relative Frequency\": [round(stem_and_leaf[stem][1]/len(data_set), 2) for stem in stem_and_leaf]\n",
    "    })\n",
    "\n",
    "stem_and_leaf_df"
   ]
  },
  {
   "cell_type": "markdown",
   "metadata": {},
   "source": [
    "To draw it, as we have calculated the relative frequency and the bins, we will use a bar chart using as a measure the relative frequency."
   ]
  },
  {
   "cell_type": "code",
   "execution_count": 33,
   "metadata": {},
   "outputs": [
    {
     "data": {
      "image/png": "[encoded data removed]",
      "text/plain": [
       "<Figure size 432x288 with 1 Axes>"
      ]
     },
     "metadata": {
      "needs_background": "light"
     },
     "output_type": "display_data"
    }
   ],
   "source": [
    "import matplotlib.pyplot as plt\n",
    "import numpy as np\n",
    "\n",
    "x_left_edges = [n for n in range(1,10)]\n",
    "y_heights = stem_and_leaf_df['Relative Frequency'].tolist()\n",
    "\n",
    "plt.bar(x_left_edges, y_heights, align='edge', width=1, color='#D4EFFC', edgecolor='#15B4F0')\n",
    "plt.xlabel('Scores (over 10)')\n",
    "plt.ylabel('Relative Frequency')\n",
    "plt.title('Scores Relative Frequency Histogram')\n",
    "plt.xticks([x + 0.5 for x in x_left_edges])\n",
    "plt.yticks(np.arange(0, 0.3, 0.1))\n",
    "plt.ylim([0, 0.3])\n",
    "\n",
    "plt.scatter([x + 0.5 for x in x_left_edges], y_heights)\n",
    "plt.plot([x + 0.5 for x in x_left_edges], y_heights)\n",
    "\n",
    "plt.grid(False)\n"
   ]
  },
  {
   "cell_type": "markdown",
   "metadata": {},
   "source": [
    "Note how it resembles a normal distribution skewed to the right."
   ]
  },
  {
   "cell_type": "markdown",
   "metadata": {},
   "source": [
    "Now the sample mean, median and standard deviation:"
   ]
  },
  {
   "cell_type": "code",
   "execution_count": 34,
   "metadata": {},
   "outputs": [
    {
     "data": {
      "text/plain": [
       "{'mean': 65.48333333333333,\n",
       " 'median': 71.5,\n",
       " 'variance': 446.62683615819213,\n",
       " 'std_dev': 21.133547647240682,\n",
       " 'range': 88}"
      ]
     },
     "execution_count": 34,
     "metadata": {},
     "output_type": "execute_result"
    }
   ],
   "source": [
    "from libs.stats import get_stats\n",
    "\n",
    "get_stats(data_set)"
   ]
  },
  {
   "cell_type": "markdown",
   "metadata": {},
   "source": [
    "## Exercise 1.19\n",
    "\n",
    "The following data represents the length of life in years of 30 similar fuel pumps:\n",
    "\n",
    "```\n",
    "2.0 3.0 0.3 3.3 1.3 0.4\n",
    "0.2 6.0 5.5 6.5 0.2 2.3\n",
    "1.5 4.0 5.9 1.8 4.7 0.7\n",
    "4.5 0.3 1.5 0.5 2.5 5.0\n",
    "1.0 6.0 5.6 6.0 1.2 0.2\n",
    "```\n",
    "\n",
    "1. Construct a stem-and-leaf plot for the life in years, using the digit to the left of the decimal point as the stem for each observation.\n",
    "2. Set up a relative frequency distribution.\n",
    "3. Compute the sample mean, sample range, and sample standard deviation."
   ]
  },
  {
   "cell_type": "markdown",
   "metadata": {},
   "source": [
    "Let's start with the stem-and-leaf plot:"
   ]
  },
  {
   "cell_type": "code",
   "execution_count": 35,
   "metadata": {},
   "outputs": [
    {
     "data": {
      "text/plain": [
       "{0: ('22233457', 8),\n",
       " 1: ('023558', 6),\n",
       " 2: ('035', 3),\n",
       " 3: ('03', 2),\n",
       " 4: ('057', 3),\n",
       " 5: ('0569', 4),\n",
       " 6: ('0005', 4)}"
      ]
     },
     "execution_count": 35,
     "metadata": {},
     "output_type": "execute_result"
    }
   ],
   "source": [
    "from math import floor\n",
    "\n",
    "data_set=[\n",
    " 2.0, 3.0, 0.3, 3.3, 1.3, 0.4,\n",
    " 0.2, 6.0, 5.5, 6.5, 0.2, 2.3,\n",
    " 1.5, 4.0, 5.9, 1.8, 4.7, 0.7,\n",
    " 4.5, 0.3, 1.5, 0.5, 2.5, 5.0,\n",
    " 1.0, 6.0, 5.6, 6.0, 1.2, 0.2]\n",
    "\n",
    "# we split the dataset into the first and second digit, the first one used\n",
    "# for the stems\n",
    "\n",
    "whole_parts = [floor(x) for x in data_set]\n",
    "frac_parts = [floor(round((x % 1) * 10, 0)) for x in data_set]\n",
    "\n",
    "stems = sorted(list(set(whole_parts)))\n",
    "\n",
    "# now we create the stem_and_leaf dictionary\n",
    "stem_and_leaf = { stem:('', 0) for stem in stems }\n",
    "\n",
    "for data_point in zip(whole_parts, frac_parts):\n",
    "    stem, leaf = data_point\n",
    "    existing_leaf, existing_freq = stem_and_leaf[stem]\n",
    "    stem_and_leaf[stem] = (existing_leaf + str(leaf), existing_freq + 1)\n",
    "\n",
    "# now we sort the leaves as it is customary\n",
    "def get_sorted_leaf(str):\n",
    "    sorted_str = ''.join(sorted(str))\n",
    "    return sorted_str\n",
    "\n",
    "for stem in stem_and_leaf:\n",
    "    leaf, freq = stem_and_leaf[stem]\n",
    "    stem_and_leaf[stem] = (get_sorted_leaf(leaf), freq)\n",
    "\n",
    "stem_and_leaf\n"
   ]
  },
  {
   "cell_type": "markdown",
   "metadata": {},
   "source": [
    "Finally, we put the info in a pandas data frame to visualize it. In the same shot we add an additional column for the relative frequency:"
   ]
  },
  {
   "cell_type": "code",
   "execution_count": 36,
   "metadata": {},
   "outputs": [
    {
     "data": {
      "text/html": [
       "<div>\n",
       "<style scoped>\n",
       "    .dataframe tbody tr th:only-of-type {\n",
       "        vertical-align: middle;\n",
       "    }\n",
       "\n",
       "    .dataframe tbody tr th {\n",
       "        vertical-align: top;\n",
       "    }\n",
       "\n",
       "    .dataframe thead th {\n",
       "        text-align: right;\n",
       "    }\n",
       "</style>\n",
       "<table border=\"1\" class=\"dataframe\">\n",
       "  <thead>\n",
       "    <tr style=\"text-align: right;\">\n",
       "      <th></th>\n",
       "      <th>Stem</th>\n",
       "      <th>Leaf</th>\n",
       "      <th>Frequency</th>\n",
       "      <th>Relative Frequency</th>\n",
       "    </tr>\n",
       "  </thead>\n",
       "  <tbody>\n",
       "    <tr>\n",
       "      <th>0</th>\n",
       "      <td>0</td>\n",
       "      <td>22233457</td>\n",
       "      <td>8</td>\n",
       "      <td>0.27</td>\n",
       "    </tr>\n",
       "    <tr>\n",
       "      <th>1</th>\n",
       "      <td>1</td>\n",
       "      <td>023558</td>\n",
       "      <td>6</td>\n",
       "      <td>0.20</td>\n",
       "    </tr>\n",
       "    <tr>\n",
       "      <th>2</th>\n",
       "      <td>2</td>\n",
       "      <td>035</td>\n",
       "      <td>3</td>\n",
       "      <td>0.10</td>\n",
       "    </tr>\n",
       "    <tr>\n",
       "      <th>3</th>\n",
       "      <td>3</td>\n",
       "      <td>03</td>\n",
       "      <td>2</td>\n",
       "      <td>0.07</td>\n",
       "    </tr>\n",
       "    <tr>\n",
       "      <th>4</th>\n",
       "      <td>4</td>\n",
       "      <td>057</td>\n",
       "      <td>3</td>\n",
       "      <td>0.10</td>\n",
       "    </tr>\n",
       "    <tr>\n",
       "      <th>5</th>\n",
       "      <td>5</td>\n",
       "      <td>0569</td>\n",
       "      <td>4</td>\n",
       "      <td>0.13</td>\n",
       "    </tr>\n",
       "    <tr>\n",
       "      <th>6</th>\n",
       "      <td>6</td>\n",
       "      <td>0005</td>\n",
       "      <td>4</td>\n",
       "      <td>0.13</td>\n",
       "    </tr>\n",
       "  </tbody>\n",
       "</table>\n",
       "</div>"
      ],
      "text/plain": [
       "   Stem      Leaf  Frequency  Relative Frequency\n",
       "0     0  22233457          8                0.27\n",
       "1     1    023558          6                0.20\n",
       "2     2       035          3                0.10\n",
       "3     3        03          2                0.07\n",
       "4     4       057          3                0.10\n",
       "5     5      0569          4                0.13\n",
       "6     6      0005          4                0.13"
      ]
     },
     "execution_count": 36,
     "metadata": {},
     "output_type": "execute_result"
    }
   ],
   "source": [
    "import pandas as pd\n",
    "\n",
    "data_set_len = len(data_set)\n",
    "\n",
    "stem_and_leaf_df = pd.DataFrame({\n",
    "    'Stem': [stem for stem in stem_and_leaf],\n",
    "    'Leaf': [stem_and_leaf[stem][0] for stem in stem_and_leaf],\n",
    "    'Frequency': [stem_and_leaf[stem][1] for stem in stem_and_leaf],\n",
    "    'Relative Frequency': [round(stem_and_leaf[stem][1] / data_set_len, 2) for stem in stem_and_leaf]\n",
    "})\n",
    "\n",
    "stem_and_leaf_df"
   ]
  },
  {
   "cell_type": "markdown",
   "metadata": {},
   "source": [
    "Now we compute the mean, range and sample standard deviation:"
   ]
  },
  {
   "cell_type": "code",
   "execution_count": 37,
   "metadata": {},
   "outputs": [
    {
     "data": {
      "text/plain": [
       "{'mean': 2.796666666666667,\n",
       " 'median': 2.15,\n",
       " 'variance': 4.961022988505748,\n",
       " 'std_dev': 2.2273354009905533,\n",
       " 'range': 6.3}"
      ]
     },
     "execution_count": 37,
     "metadata": {},
     "output_type": "execute_result"
    }
   ],
   "source": [
    "from libs.stats import get_stats\n",
    "\n",
    "get_stats(data_set)"
   ]
  },
  {
   "cell_type": "markdown",
   "metadata": {},
   "source": [
    "## Exercise 1.20\n",
    "\n",
    "The following data represents the length of life in seconds of 50 fruit flies subject to a new spray in a controlled laboratory experiment:\n",
    "\n",
    "```\n",
    "17 20 10 9 23 13 12 19 18 24\n",
    "12 14 6 9 13 6 7 10 13 7\n",
    "16 18 8 13 3 32 9 7 10 11\n",
    "13 7 18 7 10 4 27 19 16 8\n",
    "7 10 5 14 15 10 9 6 7 15\n",
    "```\n",
    "\n",
    "1. Construct a double-stem-and-leaf plot for the life span of the fruit flies using the stems 0★, 0•, 1★, 1•, 2★, 2•, and 3★, such that stems coded by the symbols ★ and • are associated, respectively, with leaves 0 through 4 and 5 through 9.\n",
    "2. Set up the relative frequency distribution.\n",
    "3. Construct a relative frequency histogram.\n",
    "4. Find the median."
   ]
  },
  {
   "cell_type": "markdown",
   "metadata": {},
   "source": [
    "Let's start with the double-stem-and-leaf plot:"
   ]
  },
  {
   "cell_type": "code",
   "execution_count": 38,
   "metadata": {},
   "outputs": [
    {
     "data": {
      "text/html": [
       "<div>\n",
       "<style scoped>\n",
       "    .dataframe tbody tr th:only-of-type {\n",
       "        vertical-align: middle;\n",
       "    }\n",
       "\n",
       "    .dataframe tbody tr th {\n",
       "        vertical-align: top;\n",
       "    }\n",
       "\n",
       "    .dataframe thead th {\n",
       "        text-align: right;\n",
       "    }\n",
       "</style>\n",
       "<table border=\"1\" class=\"dataframe\">\n",
       "  <thead>\n",
       "    <tr style=\"text-align: right;\">\n",
       "      <th></th>\n",
       "      <th>Stem</th>\n",
       "      <th>Leaf</th>\n",
       "      <th>Frequency</th>\n",
       "      <th>Relative Frequency</th>\n",
       "    </tr>\n",
       "  </thead>\n",
       "  <tbody>\n",
       "    <tr>\n",
       "      <th>0</th>\n",
       "      <td>0★</td>\n",
       "      <td>34</td>\n",
       "      <td>2</td>\n",
       "      <td>0.04</td>\n",
       "    </tr>\n",
       "    <tr>\n",
       "      <th>1</th>\n",
       "      <td>0•</td>\n",
       "      <td>56667777777889999</td>\n",
       "      <td>17</td>\n",
       "      <td>0.34</td>\n",
       "    </tr>\n",
       "    <tr>\n",
       "      <th>2</th>\n",
       "      <td>1★</td>\n",
       "      <td>0000001223333344</td>\n",
       "      <td>16</td>\n",
       "      <td>0.32</td>\n",
       "    </tr>\n",
       "    <tr>\n",
       "      <th>3</th>\n",
       "      <td>1•</td>\n",
       "      <td>5566788899</td>\n",
       "      <td>10</td>\n",
       "      <td>0.20</td>\n",
       "    </tr>\n",
       "    <tr>\n",
       "      <th>4</th>\n",
       "      <td>2★</td>\n",
       "      <td>034</td>\n",
       "      <td>3</td>\n",
       "      <td>0.06</td>\n",
       "    </tr>\n",
       "    <tr>\n",
       "      <th>5</th>\n",
       "      <td>2•</td>\n",
       "      <td>7</td>\n",
       "      <td>1</td>\n",
       "      <td>0.02</td>\n",
       "    </tr>\n",
       "    <tr>\n",
       "      <th>6</th>\n",
       "      <td>3★</td>\n",
       "      <td>2</td>\n",
       "      <td>1</td>\n",
       "      <td>0.02</td>\n",
       "    </tr>\n",
       "  </tbody>\n",
       "</table>\n",
       "</div>"
      ],
      "text/plain": [
       "  Stem               Leaf  Frequency  Relative Frequency\n",
       "0   0★                 34          2                0.04\n",
       "1   0•  56667777777889999         17                0.34\n",
       "2   1★   0000001223333344         16                0.32\n",
       "3   1•         5566788899         10                0.20\n",
       "4   2★                034          3                0.06\n",
       "5   2•                  7          1                0.02\n",
       "6   3★                  2          1                0.02"
      ]
     },
     "execution_count": 38,
     "metadata": {},
     "output_type": "execute_result"
    }
   ],
   "source": [
    "from math import floor\n",
    "import pandas as pd\n",
    "\n",
    "data_set = [\n",
    "    17, 20, 10, 9, 23, 13, 12, 19, 18, 24,\n",
    "    12, 14, 6, 9, 13, 6, 7, 10, 13, 7,\n",
    "    16, 18, 8, 13, 3, 32, 9, 7, 10, 11,\n",
    "    13, 7, 18, 7, 10, 4, 27, 19, 16, 8,\n",
    "    7, 10, 5, 14, 15, 10, 9, 6, 7, 15]\n",
    "\n",
    "first_digits = [x // 10 for x in data_set]\n",
    "second_digits = [x % 10 for x in data_set]\n",
    "\n",
    "single_stems = sorted(list(set(first_digits)))\n",
    "stems = []\n",
    "for stem in single_stems:\n",
    "    stems.append(str(stem) + '★')\n",
    "    stems.append(str(stem) + '•')\n",
    "\n",
    "# Now we create the stem-and-leaf structure as a dictionary\n",
    "#   key  : stem\n",
    "#   value: (leaf, freq)\n",
    "\n",
    "stem_and_leaf = { stem:('', 0) for stem in stems }\n",
    "\n",
    "for first_digit, second_digit in zip(first_digits, second_digits):    \n",
    "    existing_leaf, existing_freq = stem_and_leaf[str(first_digit) + '★' if second_digit < 5 else str(first_digit) + '•']\n",
    "    stem_and_leaf[str(first_digit) + '★' if second_digit < 5 else str(first_digit) + '•'] = (existing_leaf + str(second_digit), existing_freq + 1)\n",
    "\n",
    "# now we sort the leaves as it is customary\n",
    "def get_sorted_leaf(str):\n",
    "    sorted_str = ''.join(sorted(str))\n",
    "    return sorted_str\n",
    "\n",
    "for stem in stem_and_leaf:\n",
    "    leaf, freq = stem_and_leaf[stem]\n",
    "    stem_and_leaf[stem] = (get_sorted_leaf(leaf), freq)\n",
    "\n",
    "# We can remove '3•' as there is no data\n",
    "del stem_and_leaf['3•']\n",
    "\n",
    "data_set_len = len(data_set)\n",
    "\n",
    "stem_and_leaf_df = pd.DataFrame({\n",
    "    \"Stem\": [stem for stem in stem_and_leaf], \n",
    "    \"Leaf\": [stem_and_leaf[stem][0] for stem in stem_and_leaf],\n",
    "    \"Frequency\": [stem_and_leaf[stem][1] for stem in stem_and_leaf],\n",
    "    \"Relative Frequency\": [stem_and_leaf[stem][1] / data_set_len for stem in stem_and_leaf]\n",
    "})\n",
    "\n",
    "stem_and_leaf_df"
   ]
  },
  {
   "cell_type": "markdown",
   "metadata": {},
   "source": [
    "With answers to (1) and (2) in place we can proceed to visualize the histogram. As we have alredy calculated all the data, we can plot the histogram as a barchart.\n",
    "\n",
    "It is customary when plotting a histogram to build a table with the following information:\n",
    "+ Class Interval\n",
    "+ Class Midpoint\n",
    "+ Frequency\n",
    "+ Relative Frequency\n",
    "\n",
    "That table is commonly known as the *relative frequency distribution table*:"
   ]
  },
  {
   "cell_type": "code",
   "execution_count": 39,
   "metadata": {},
   "outputs": [
    {
     "data": {
      "text/html": [
       "<div>\n",
       "<style scoped>\n",
       "    .dataframe tbody tr th:only-of-type {\n",
       "        vertical-align: middle;\n",
       "    }\n",
       "\n",
       "    .dataframe tbody tr th {\n",
       "        vertical-align: top;\n",
       "    }\n",
       "\n",
       "    .dataframe thead th {\n",
       "        text-align: right;\n",
       "    }\n",
       "</style>\n",
       "<table border=\"1\" class=\"dataframe\">\n",
       "  <thead>\n",
       "    <tr style=\"text-align: right;\">\n",
       "      <th></th>\n",
       "      <th>Class Interval</th>\n",
       "      <th>Class Midpoint</th>\n",
       "      <th>Frequency</th>\n",
       "      <th>Relative Frequency</th>\n",
       "    </tr>\n",
       "  </thead>\n",
       "  <tbody>\n",
       "    <tr>\n",
       "      <th>0</th>\n",
       "      <td>0-4</td>\n",
       "      <td>2</td>\n",
       "      <td>2</td>\n",
       "      <td>0.04</td>\n",
       "    </tr>\n",
       "    <tr>\n",
       "      <th>1</th>\n",
       "      <td>5-9</td>\n",
       "      <td>7</td>\n",
       "      <td>17</td>\n",
       "      <td>0.34</td>\n",
       "    </tr>\n",
       "    <tr>\n",
       "      <th>2</th>\n",
       "      <td>10-14</td>\n",
       "      <td>12</td>\n",
       "      <td>16</td>\n",
       "      <td>0.32</td>\n",
       "    </tr>\n",
       "    <tr>\n",
       "      <th>3</th>\n",
       "      <td>15-19</td>\n",
       "      <td>17</td>\n",
       "      <td>10</td>\n",
       "      <td>0.20</td>\n",
       "    </tr>\n",
       "    <tr>\n",
       "      <th>4</th>\n",
       "      <td>20-24</td>\n",
       "      <td>22</td>\n",
       "      <td>3</td>\n",
       "      <td>0.06</td>\n",
       "    </tr>\n",
       "    <tr>\n",
       "      <th>5</th>\n",
       "      <td>25-29</td>\n",
       "      <td>27</td>\n",
       "      <td>1</td>\n",
       "      <td>0.02</td>\n",
       "    </tr>\n",
       "    <tr>\n",
       "      <th>6</th>\n",
       "      <td>30-34</td>\n",
       "      <td>32</td>\n",
       "      <td>1</td>\n",
       "      <td>0.02</td>\n",
       "    </tr>\n",
       "  </tbody>\n",
       "</table>\n",
       "</div>"
      ],
      "text/plain": [
       "  Class Interval  Class Midpoint  Frequency  Relative Frequency\n",
       "0            0-4               2          2                0.04\n",
       "1            5-9               7         17                0.34\n",
       "2          10-14              12         16                0.32\n",
       "3          15-19              17         10                0.20\n",
       "4          20-24              22          3                0.06\n",
       "5          25-29              27          1                0.02\n",
       "6          30-34              32          1                0.02"
      ]
     },
     "execution_count": 39,
     "metadata": {},
     "output_type": "execute_result"
    }
   ],
   "source": [
    "import numpy as np\n",
    "\n",
    "rel_freq_distrib_df = pd.DataFrame({\n",
    "    'Class Interval': [f'{interval_init}-{interval_init + 4}' for interval_init in np.arange(0, 35, 5)],\n",
    "    'Class Midpoint': [interval_init + 2 for interval_init in np.arange(0, 35, 5)],\n",
    "    'Frequency': stem_and_leaf_df['Frequency'],\n",
    "    'Relative Frequency': stem_and_leaf_df['Relative Frequency']\n",
    "})\n",
    "\n",
    "rel_freq_distrib_df"
   ]
  },
  {
   "cell_type": "markdown",
   "metadata": {},
   "source": [
    "With the table in place, let's visualize the histogram:"
   ]
  },
  {
   "cell_type": "code",
   "execution_count": 40,
   "metadata": {},
   "outputs": [
    {
     "data": {
      "image/png": "[encoded data removed]",
      "text/plain": [
       "<Figure size 432x288 with 1 Axes>"
      ]
     },
     "metadata": {
      "needs_background": "light"
     },
     "output_type": "display_data"
    }
   ],
   "source": [
    "import matplotlib.pyplot as plt\n",
    "import numpy as np\n",
    "\n",
    "x_midpoints = rel_freq_distrib_df['Class Midpoint']\n",
    "y_heights = rel_freq_distrib_df['Relative Frequency']\n",
    "\n",
    "plt.bar(x_midpoints, y_heights, align='center', width=5, color='#D4EFFC', edgecolor='#15B4F0')\n",
    "plt.xlabel('Life (seconds)')\n",
    "plt.ylabel('Relative Frequency')\n",
    "plt.title('Life Relative Frequency Histogram')\n",
    "plt.xticks(x_midpoints)\n",
    "\n",
    "plt.scatter(x_midpoints, y_heights)\n",
    "plt.plot(x_midpoints, y_heights)\n",
    "\n",
    "plt.show()"
   ]
  },
  {
   "cell_type": "markdown",
   "metadata": {},
   "source": [
    "We see that the histogram looks like a normal distribution skewed to the left."
   ]
  },
  {
   "cell_type": "markdown",
   "metadata": {},
   "source": [
    "Finally, we compute the median:"
   ]
  },
  {
   "cell_type": "code",
   "execution_count": 41,
   "metadata": {},
   "outputs": [
    {
     "name": "stdout",
     "output_type": "stream",
     "text": [
      "sample median=10.5\n"
     ]
    }
   ],
   "source": [
    "from libs.stats import sample_median\n",
    "\n",
    "print(f'sample median={sample_median(data_set)}')"
   ]
  },
  {
   "cell_type": "markdown",
   "metadata": {},
   "source": [
    "## Exercise 1.21\n",
    "\n",
    "The lengths of power failures in minutes are recorded in the following table:\n",
    "\n",
    "```\n",
    "22 18 135 15 90 78 69 98 102\n",
    "83 55 28 121 120 13 22 124 112\n",
    "70 66 74 89 103 24 21 112 21\n",
    "40 98 87 132 115 21 28 43 37\n",
    "50 96 118 158 74 78 83 93 95\n",
    "```\n",
    "\n",
    "1. Find the sample mean and sample median of the power failure times.\n",
    "2. Find the sample standard deviation of the power failure times."
   ]
  },
  {
   "cell_type": "code",
   "execution_count": 42,
   "metadata": {},
   "outputs": [
    {
     "data": {
      "text/plain": [
       "{'mean': 74.02222222222223,\n",
       " 'median': 78,\n",
       " 'variance': 1541.1585858585859,\n",
       " 'std_dev': 39.25759271604139,\n",
       " 'range': 145}"
      ]
     },
     "execution_count": 42,
     "metadata": {},
     "output_type": "execute_result"
    }
   ],
   "source": [
    "from libs.stats import get_stats\n",
    "\n",
    "spc_separated_data = '22 18 135 15 90 78 69 98 102 83 55 28 121 120 13 22 124 112 70 66 74 89 103 24 21 112 21 40 98 87 132 115 21 28 43 37 50 96 118 158 74 78 83 93 95'\n",
    "\n",
    "data_set = [int(str_val) for str_val in spc_separated_data.split(' ')]\n",
    "\n",
    "get_stats(data_set)"
   ]
  },
  {
   "cell_type": "markdown",
   "metadata": {},
   "source": [
    "## Exercise 1.22\n",
    "\n",
    "The following data are the measures of the diameters of 36 rivet heads in 1/100 of an inch:\n",
    "\n",
    "```\n",
    "6.72 6.77 6.82 6.70 6.78 6.70 6.62 6.75\n",
    "6.66 6.66 6.64 6.76 6.73 6.80 6.72 6.76\n",
    "6.76 6.68 6.66 6.62 6.72 6.76 6.70 6.78\n",
    "6.76 6.67 6.70 6.72 6.74 6.81 6.79 6.78\n",
    "6.66 6.76 6.76 6.72\n",
    "```\n",
    "\n",
    "1. Find the sample mean and sample standard deviation\n",
    "2. Construct the relative frequency histogram of the data\n",
    "3. Comment on whether or not there is a ny clear indication that the sample came from a population that has a bell-shaped distribution."
   ]
  },
  {
   "cell_type": "code",
   "execution_count": 43,
   "metadata": {},
   "outputs": [
    {
     "name": "stdout",
     "output_type": "stream",
     "text": [
      "sample mean=6.7261\n",
      "sample std dev=0.0536\n"
     ]
    }
   ],
   "source": [
    "from libs.stats import sample_mean, sample_standard_deviation\n",
    "\n",
    "data_set = [\n",
    "6.72, 6.77, 6.82, 6.70, 6.78, 6.70, 6.62, 6.75,\n",
    "6.66, 6.66, 6.64, 6.76, 6.73, 6.80, 6.72, 6.76,\n",
    "6.76, 6.68, 6.66, 6.62, 6.72, 6.76, 6.70, 6.78,\n",
    "6.76, 6.67, 6.70, 6.72, 6.74, 6.81, 6.79, 6.78,\n",
    "6.66, 6.76, 6.76, 6.72]\n",
    "\n",
    "print(f'sample mean={round(sample_mean(data_set), 4)}')\n",
    "print(f'sample std dev={round(sample_standard_deviation(data_set), 4)}')\n",
    "\n"
   ]
  },
  {
   "cell_type": "markdown",
   "metadata": {},
   "source": [
    "Let's build now the relative frequency distribution of the data. We will start assuming a bin for each data point:"
   ]
  },
  {
   "cell_type": "code",
   "execution_count": 44,
   "metadata": {},
   "outputs": [
    {
     "data": {
      "text/html": [
       "<div>\n",
       "<style scoped>\n",
       "    .dataframe tbody tr th:only-of-type {\n",
       "        vertical-align: middle;\n",
       "    }\n",
       "\n",
       "    .dataframe tbody tr th {\n",
       "        vertical-align: top;\n",
       "    }\n",
       "\n",
       "    .dataframe thead th {\n",
       "        text-align: right;\n",
       "    }\n",
       "</style>\n",
       "<table border=\"1\" class=\"dataframe\">\n",
       "  <thead>\n",
       "    <tr style=\"text-align: right;\">\n",
       "      <th></th>\n",
       "      <th>Value</th>\n",
       "      <th>Frequency</th>\n",
       "      <th>Relative Frequency</th>\n",
       "    </tr>\n",
       "  </thead>\n",
       "  <tbody>\n",
       "    <tr>\n",
       "      <th>0</th>\n",
       "      <td>6.62</td>\n",
       "      <td>2</td>\n",
       "      <td>0.04</td>\n",
       "    </tr>\n",
       "    <tr>\n",
       "      <th>1</th>\n",
       "      <td>6.64</td>\n",
       "      <td>1</td>\n",
       "      <td>0.02</td>\n",
       "    </tr>\n",
       "    <tr>\n",
       "      <th>2</th>\n",
       "      <td>6.66</td>\n",
       "      <td>4</td>\n",
       "      <td>0.08</td>\n",
       "    </tr>\n",
       "    <tr>\n",
       "      <th>3</th>\n",
       "      <td>6.67</td>\n",
       "      <td>1</td>\n",
       "      <td>0.02</td>\n",
       "    </tr>\n",
       "    <tr>\n",
       "      <th>4</th>\n",
       "      <td>6.68</td>\n",
       "      <td>1</td>\n",
       "      <td>0.02</td>\n",
       "    </tr>\n",
       "    <tr>\n",
       "      <th>5</th>\n",
       "      <td>6.70</td>\n",
       "      <td>4</td>\n",
       "      <td>0.08</td>\n",
       "    </tr>\n",
       "    <tr>\n",
       "      <th>6</th>\n",
       "      <td>6.72</td>\n",
       "      <td>5</td>\n",
       "      <td>0.10</td>\n",
       "    </tr>\n",
       "    <tr>\n",
       "      <th>7</th>\n",
       "      <td>6.73</td>\n",
       "      <td>1</td>\n",
       "      <td>0.02</td>\n",
       "    </tr>\n",
       "    <tr>\n",
       "      <th>8</th>\n",
       "      <td>6.74</td>\n",
       "      <td>1</td>\n",
       "      <td>0.02</td>\n",
       "    </tr>\n",
       "    <tr>\n",
       "      <th>9</th>\n",
       "      <td>6.75</td>\n",
       "      <td>1</td>\n",
       "      <td>0.02</td>\n",
       "    </tr>\n",
       "    <tr>\n",
       "      <th>10</th>\n",
       "      <td>6.76</td>\n",
       "      <td>7</td>\n",
       "      <td>0.14</td>\n",
       "    </tr>\n",
       "    <tr>\n",
       "      <th>11</th>\n",
       "      <td>6.77</td>\n",
       "      <td>1</td>\n",
       "      <td>0.02</td>\n",
       "    </tr>\n",
       "    <tr>\n",
       "      <th>12</th>\n",
       "      <td>6.78</td>\n",
       "      <td>3</td>\n",
       "      <td>0.06</td>\n",
       "    </tr>\n",
       "    <tr>\n",
       "      <th>13</th>\n",
       "      <td>6.79</td>\n",
       "      <td>1</td>\n",
       "      <td>0.02</td>\n",
       "    </tr>\n",
       "    <tr>\n",
       "      <th>14</th>\n",
       "      <td>6.80</td>\n",
       "      <td>1</td>\n",
       "      <td>0.02</td>\n",
       "    </tr>\n",
       "    <tr>\n",
       "      <th>15</th>\n",
       "      <td>6.81</td>\n",
       "      <td>1</td>\n",
       "      <td>0.02</td>\n",
       "    </tr>\n",
       "    <tr>\n",
       "      <th>16</th>\n",
       "      <td>6.82</td>\n",
       "      <td>1</td>\n",
       "      <td>0.02</td>\n",
       "    </tr>\n",
       "  </tbody>\n",
       "</table>\n",
       "</div>"
      ],
      "text/plain": [
       "    Value  Frequency  Relative Frequency\n",
       "0    6.62          2                0.04\n",
       "1    6.64          1                0.02\n",
       "2    6.66          4                0.08\n",
       "3    6.67          1                0.02\n",
       "4    6.68          1                0.02\n",
       "5    6.70          4                0.08\n",
       "6    6.72          5                0.10\n",
       "7    6.73          1                0.02\n",
       "8    6.74          1                0.02\n",
       "9    6.75          1                0.02\n",
       "10   6.76          7                0.14\n",
       "11   6.77          1                0.02\n",
       "12   6.78          3                0.06\n",
       "13   6.79          1                0.02\n",
       "14   6.80          1                0.02\n",
       "15   6.81          1                0.02\n",
       "16   6.82          1                0.02"
      ]
     },
     "execution_count": 44,
     "metadata": {},
     "output_type": "execute_result"
    }
   ],
   "source": [
    "import pandas as pd\n",
    "\n",
    "sorted_data_points = sorted(list(set(data_set)))\n",
    "\n",
    "\n",
    "freq_map = {data_point:0 for data_point in sorted_data_points}\n",
    "\n",
    "for data_point in data_set:\n",
    "    freq_map[data_point] = freq_map[data_point] + 1\n",
    "\n",
    "dataset_len = len(data_set)\n",
    "rel_freq_df = pd.DataFrame({\n",
    "    'Value': sorted_data_points,\n",
    "    'Frequency': [freq_map[data_point] for data_point in freq_map],\n",
    "    'Relative Frequency': [freq_map[data_point] / data_set_len for data_point in freq_map]\n",
    "})\n",
    "\n",
    "rel_freq_df"
   ]
  },
  {
   "cell_type": "markdown",
   "metadata": {},
   "source": [
    "We see that we have a lot of bins, so it'll be better to reduce the number of bins to be able to gather visual feedback in an easier way.\n",
    "\n",
    "Let's plot it with 6 bins, which means we need to group the data in 6 intervals:"
   ]
  },
  {
   "cell_type": "code",
   "execution_count": 45,
   "metadata": {},
   "outputs": [
    {
     "name": "stdout",
     "output_type": "stream",
     "text": [
      "min data point: 6.62\n",
      "max data point: 6.82\n",
      "range=0.2\n"
     ]
    }
   ],
   "source": [
    "from libs.stats import sample_range\n",
    "\n",
    "print(f'min data point: {min(sorted_data_points)}')\n",
    "print(f'max data point: {max(sorted_data_points)}')\n",
    "print(f'range={round(sample_range(data_set), 2)}')\n"
   ]
  },
  {
   "cell_type": "markdown",
   "metadata": {},
   "source": [
    "Now, we can compute the intervals for the bins:"
   ]
  },
  {
   "cell_type": "code",
   "execution_count": 46,
   "metadata": {},
   "outputs": [
    {
     "data": {
      "text/html": [
       "<div>\n",
       "<style scoped>\n",
       "    .dataframe tbody tr th:only-of-type {\n",
       "        vertical-align: middle;\n",
       "    }\n",
       "\n",
       "    .dataframe tbody tr th {\n",
       "        vertical-align: top;\n",
       "    }\n",
       "\n",
       "    .dataframe thead th {\n",
       "        text-align: right;\n",
       "    }\n",
       "</style>\n",
       "<table border=\"1\" class=\"dataframe\">\n",
       "  <thead>\n",
       "    <tr style=\"text-align: right;\">\n",
       "      <th></th>\n",
       "      <th>Class Interval</th>\n",
       "      <th>Class Midpoint</th>\n",
       "      <th>Frequency</th>\n",
       "      <th>Relative Frequency</th>\n",
       "    </tr>\n",
       "  </thead>\n",
       "  <tbody>\n",
       "    <tr>\n",
       "      <th>0</th>\n",
       "      <td>6.62-6.66</td>\n",
       "      <td>6.64</td>\n",
       "      <td>3</td>\n",
       "      <td>0.06</td>\n",
       "    </tr>\n",
       "    <tr>\n",
       "      <th>1</th>\n",
       "      <td>6.66-6.7</td>\n",
       "      <td>6.68</td>\n",
       "      <td>6</td>\n",
       "      <td>0.12</td>\n",
       "    </tr>\n",
       "    <tr>\n",
       "      <th>2</th>\n",
       "      <td>6.7-6.74</td>\n",
       "      <td>6.72</td>\n",
       "      <td>10</td>\n",
       "      <td>0.20</td>\n",
       "    </tr>\n",
       "    <tr>\n",
       "      <th>3</th>\n",
       "      <td>6.74-6.78</td>\n",
       "      <td>6.76</td>\n",
       "      <td>10</td>\n",
       "      <td>0.20</td>\n",
       "    </tr>\n",
       "    <tr>\n",
       "      <th>4</th>\n",
       "      <td>6.78-6.82</td>\n",
       "      <td>6.80</td>\n",
       "      <td>6</td>\n",
       "      <td>0.12</td>\n",
       "    </tr>\n",
       "    <tr>\n",
       "      <th>5</th>\n",
       "      <td>6.82-6.86</td>\n",
       "      <td>6.84</td>\n",
       "      <td>1</td>\n",
       "      <td>0.02</td>\n",
       "    </tr>\n",
       "  </tbody>\n",
       "</table>\n",
       "</div>"
      ],
      "text/plain": [
       "  Class Interval  Class Midpoint  Frequency  Relative Frequency\n",
       "0      6.62-6.66            6.64          3                0.06\n",
       "1       6.66-6.7            6.68          6                0.12\n",
       "2       6.7-6.74            6.72         10                0.20\n",
       "3      6.74-6.78            6.76         10                0.20\n",
       "4      6.78-6.82            6.80          6                0.12\n",
       "5      6.82-6.86            6.84          1                0.02"
      ]
     },
     "execution_count": 46,
     "metadata": {},
     "output_type": "execute_result"
    }
   ],
   "source": [
    "np.linspace(6.62, 6.82, num=6)\n",
    "start_intervals = np.linspace(6.62, 6.82, num=6)\n",
    "end_intervals = [start_point + 0.04 for start_point in start_intervals]\n",
    "\n",
    "freq_map = {data_point:0 for data_point in start_intervals}\n",
    "\n",
    "for data_point in data_set:\n",
    "    for start_point, end_point in zip(start_intervals, end_intervals):\n",
    "        if data_point >= start_point and data_point < end_point:\n",
    "            freq_map[start_point] = freq_map[start_point] + 1\n",
    "            break\n",
    "        elif data_point == 6.86:\n",
    "            freq_map[6.82] = freq_map[6.82] + 1\n",
    "            break\n",
    "\n",
    "rel_freq_distrib_df = pd.DataFrame({\n",
    "    'Class Interval': [f'{start_point}-{end_point}' for start_point, end_point in zip(start_intervals, end_intervals)],\n",
    "    'Class Midpoint': [start + 0.02 for start in start_intervals],\n",
    "    'Frequency': [freq_map[data_point] for data_point in freq_map],\n",
    "    'Relative Frequency': [freq_map[data_point] / data_set_len for data_point in freq_map]\n",
    "})\n",
    "\n",
    "rel_freq_distrib_df\n"
   ]
  },
  {
   "cell_type": "markdown",
   "metadata": {},
   "source": [
    "Now we can do a quick plot of the corresponding bar plot to visualize the histogram:"
   ]
  },
  {
   "cell_type": "code",
   "execution_count": 47,
   "metadata": {},
   "outputs": [
    {
     "data": {
      "image/png": "[encoded data removed]",
      "text/plain": [
       "<Figure size 432x288 with 1 Axes>"
      ]
     },
     "metadata": {
      "needs_background": "light"
     },
     "output_type": "display_data"
    }
   ],
   "source": [
    "import matplotlib.pyplot as plt\n",
    "import numpy as np\n",
    "\n",
    "x_midpoints = rel_freq_distrib_df['Class Midpoint']\n",
    "y_heights = rel_freq_distrib_df['Relative Frequency']\n",
    "\n",
    "plt.bar(x_midpoints, y_heights, align='center', width=0.04, color='#D4EFFC', edgecolor='#15B4F0')\n",
    "plt.xlabel(r'Diameter ($\\frac{1}{100}$ of an inch)')\n",
    "plt.ylabel('Relative Frequency')\n",
    "plt.title('Diameter Relative Frequency Histogram')\n",
    "plt.xticks(x_midpoints)\n",
    "\n",
    "plt.scatter(x_midpoints, y_heights)\n",
    "plt.plot(x_midpoints, y_heights)\n",
    "\n",
    "plt.show()"
   ]
  },
  {
   "cell_type": "markdown",
   "metadata": {},
   "source": [
    "So yes, it looks like a bell distribution a bit skewed to the left."
   ]
  },
  {
   "cell_type": "markdown",
   "metadata": {},
   "source": [
    "## Exercise 1.23\n",
    "\n",
    "The hydrocarbon emissions at idling speed in parts per million (ppm) for automobiles of 1980 and 1990 model years are given for 20 randomly selected cars:\n",
    "\n",
    "| Class | hydrocarbon emissions (ppm) |\n",
    "| :---- | :-------------------------- |\n",
    "| 1980 models | 141 359 247 940 882 494 306 210 105 880 200 223 188 940 241 190 300 435 241 380 |\n",
    "| 1990 models | 140 160 20 20 223 60 20 95 360 70 220 400 217 58 235 380 200 175 85 65 |\n",
    "\n",
    "1. Construct a dot plot.\n",
    "2. Compute the sample means for the two years and superimpose the two means on the plots.\n",
    "3. Comment on what the dot plot indicates regarding whether or not the population of emissions changed from 1980 to 1990. Use the concept of variability in your comments."
   ]
  },
  {
   "cell_type": "markdown",
   "metadata": {},
   "source": [
    "Let's start by building a dot plot with both data sets.\n",
    "\n",
    "We first define the datasets:"
   ]
  },
  {
   "cell_type": "code",
   "execution_count": 48,
   "metadata": {},
   "outputs": [],
   "source": [
    "models_1980_data_set = [141, 359, 247, 940, 882, 494, 306, 210, 105, 880, 200, 223, 188, 940, 241, 190, 300, 435, 241, 380]\n",
    "models_1990_data_set = [140, 160, 20, 20, 223, 60, 20, 95, 360, 70, 220, 400, 217, 58, 235, 380, 200, 175, 85, 65]\n",
    "\n",
    "data_sets = [models_1980_data_set, models_1990_data_set]\n"
   ]
  },
  {
   "cell_type": "markdown",
   "metadata": {},
   "source": [
    "The next is to get some feeling about the min and max values found in the data sets:"
   ]
  },
  {
   "cell_type": "code",
   "execution_count": 49,
   "metadata": {},
   "outputs": [
    {
     "name": "stdout",
     "output_type": "stream",
     "text": [
      "(20, 940)\n"
     ]
    }
   ],
   "source": [
    "def get_limits(*data_sets):\n",
    "    mins = [min(data_set) for data_set in data_sets]\n",
    "    maxs = [max(data_set) for data_set in data_sets]\n",
    "    return (min(mins), max(maxs))\n",
    "\n",
    "print(get_limits(*data_sets))"
   ]
  },
  {
   "cell_type": "markdown",
   "metadata": {},
   "source": [
    "Now we can define some proper limits for our plot in the x-axis such as 10, 950:"
   ]
  },
  {
   "cell_type": "code",
   "execution_count": 50,
   "metadata": {},
   "outputs": [],
   "source": [
    "x_min = 0\n",
    "x_max = 950"
   ]
  },
  {
   "cell_type": "markdown",
   "metadata": {},
   "source": [
    "Now, we calculate the y-axis coordinates for the data. Mathematically, all dots will be in y = 0, but that makes for a pretty poor visualization. It is much better to pull up the coordinates where two dots have the same x coordinate as one already seen.\n",
    "\n",
    "That is what `get_ys_for_dot_plot()` does:"
   ]
  },
  {
   "cell_type": "code",
   "execution_count": 51,
   "metadata": {},
   "outputs": [
    {
     "data": {
      "text/plain": [
       "[[0, 0, 0, 0, 0, 0, 0, 0, 0, 0, 0, 0, 0, 0.25, 0, 0, 0, 0, 0.25, 0],\n",
       " [0, 0, 0, 0.25, 0.25, 0, 0.5, 0, 0, 0, 0, 0, 0, 0, 0, 0.25, 0.25, 0, 0, 0]]"
      ]
     },
     "execution_count": 51,
     "metadata": {},
     "output_type": "execute_result"
    }
   ],
   "source": [
    "def get_ys_for_dot_plot(*xs, skew=0.25):\n",
    "    freq_map = {}\n",
    "    ys = []\n",
    "    for x in xs:\n",
    "        y = []\n",
    "        for value in x:\n",
    "            if value in freq_map:\n",
    "                freq_map[value] = freq_map[value] + skew\n",
    "            else:\n",
    "                freq_map[value] = 0\n",
    "            y.append(freq_map[value])\n",
    "        ys.append(y)\n",
    "    return ys\n",
    "\n",
    "datasets_dots_y = get_ys_for_dot_plot(*data_sets)\n",
    "\n",
    "datasets_dots_y"
   ]
  },
  {
   "cell_type": "markdown",
   "metadata": {},
   "source": [
    "Now, we define the y-axis limits for proper visualization:"
   ]
  },
  {
   "cell_type": "code",
   "execution_count": 52,
   "metadata": {},
   "outputs": [],
   "source": [
    "y_min = -0.1\n",
    "y_max = 2"
   ]
  },
  {
   "cell_type": "markdown",
   "metadata": {},
   "source": [
    "Now we can proceed with the actual dot plot:"
   ]
  },
  {
   "cell_type": "code",
   "execution_count": 53,
   "metadata": {},
   "outputs": [
    {
     "data": {
      "image/png": "[encoded data removed]",
      "text/plain": [
       "<Figure size 720x144 with 1 Axes>"
      ]
     },
     "metadata": {
      "needs_background": "light"
     },
     "output_type": "display_data"
    }
   ],
   "source": [
    "import matplotlib.pyplot as plt\n",
    "import numpy as np\n",
    "\n",
    "fig, ax = plt.subplots()\n",
    "plt.xlim(x_min, x_max)\n",
    "plt.ylim(y_min, y_max)\n",
    "\n",
    "ax.scatter(data_sets[0], datasets_dots_y[0], marker='x', alpha=0.95, label=\"1980 models\")\n",
    "ax.scatter(data_sets[1], datasets_dots_y[1], marker='o', alpha=0.5, label=\"1990 models\")\n",
    "ax.get_yaxis().set_visible(False)\n",
    "ax.get_xaxis().set_ticks(np.arange(x_min, x_max, 50))\n",
    "ax.legend()\n",
    "ax.grid(False)\n",
    "fig.set_size_inches(10, 2)\n",
    "plt.show()"
   ]
  },
  {
   "cell_type": "markdown",
   "metadata": {},
   "source": [
    "Now, for (2) we compute the sample mean and superimpose it in the previous dot plot:"
   ]
  },
  {
   "cell_type": "code",
   "execution_count": 54,
   "metadata": {},
   "outputs": [
    {
     "name": "stdout",
     "output_type": "stream",
     "text": [
      "==== 1980 models\n",
      "sample mean=395.1\n",
      "\n",
      "==== 1990 models\n",
      "sample mean=160.15\n"
     ]
    }
   ],
   "source": [
    "from libs.stats import sample_mean\n",
    "\n",
    "print('==== 1980 models')\n",
    "print(f'sample mean={sample_mean(data_sets[0])}')\n",
    "print('\\n==== 1990 models')\n",
    "print(f'sample mean={sample_mean(data_sets[1])}')"
   ]
  },
  {
   "cell_type": "code",
   "execution_count": 55,
   "metadata": {},
   "outputs": [
    {
     "data": {
      "image/png": "[encoded data removed]",
      "text/plain": [
       "<Figure size 720x144 with 1 Axes>"
      ]
     },
     "metadata": {
      "needs_background": "light"
     },
     "output_type": "display_data"
    }
   ],
   "source": [
    "import matplotlib.pyplot as plt\n",
    "import numpy as np\n",
    "\n",
    "fig, ax = plt.subplots()\n",
    "plt.xlim(x_min, x_max)\n",
    "plt.ylim(y_min, y_max)\n",
    "\n",
    "ax.scatter(data_sets[0], datasets_dots_y[0], marker='x', alpha=0.95, label=\"1980 models\")\n",
    "ax.scatter(sample_mean(data_sets[0]), 1, marker='x', label=\"1980 sample mean\")\n",
    "\n",
    "ax.scatter(data_sets[1], datasets_dots_y[1], marker='o', alpha=0.5, label=\"1990 models\")\n",
    "ax.scatter(sample_mean(data_sets[1]), 1, marker='o', label=\"1990 sample mean\")\n",
    "\n",
    "ax.get_yaxis().set_visible(False)\n",
    "ax.get_xaxis().set_ticks(np.arange(x_min, x_max, 50))\n",
    "ax.legend()\n",
    "ax.grid(False)\n",
    "fig.set_size_inches(10, 2)\n",
    "plt.show()"
   ]
  },
  {
   "cell_type": "markdown",
   "metadata": {},
   "source": [
    "Thus, we can conclude that the emissions in 1990 models is much lower, and also less variable than the one found in 1980 models. Also, we don't see large emissions in 1990 models."
   ]
  },
  {
   "cell_type": "markdown",
   "metadata": {},
   "source": [
    "## Exercise 1.24\n",
    "\n",
    "The following are historical data on staff salaries (dollars per pupil) for 30 schools sampled in the eastern part of USA in the early 1970s.\n",
    "\n",
    "```\n",
    "3.79 2.99 2.77 2.91 3.10 1.84 2.52 3.22\n",
    "2.45 2.14 2.67 2.52 2.71 2.75 3.57 3.85\n",
    "3.36 2.05 2.89 2.83 3.13 2.44 2.10 3.71\n",
    "3.14 3.54 2.37 2.68 3.51 3.37\n",
    "```\n",
    "\n",
    "1. Compute the sample mean and sample standard deviation.\n",
    "2. Construct a relative frequency histogram of the data.\n",
    "3. Construct a stem-and-leaf display of the data."
   ]
  },
  {
   "cell_type": "code",
   "execution_count": 56,
   "metadata": {},
   "outputs": [
    {
     "name": "stdout",
     "output_type": "stream",
     "text": [
      "sample mean=2.897333333333334\n",
      "sample standard deviation=0.5415172384515841\n"
     ]
    }
   ],
   "source": [
    "from libs.stats import sample_mean, sample_standard_deviation\n",
    "\n",
    "data_set = [\n",
    "    3.79, 2.99, 2.77, 2.91, 3.10, 1.84, 2.52, 3.22,\n",
    "    2.45, 2.14, 2.67, 2.52, 2.71, 2.75, 3.57, 3.85,\n",
    "    3.36, 2.05, 2.89, 2.83, 3.13, 2.44, 2.10, 3.71,\n",
    "    3.14, 3.54, 2.37, 2.68, 3.51, 3.37\n",
    "]\n",
    "\n",
    "print(f'sample mean={sample_mean(data_set)}')\n",
    "print(f'sample standard deviation={sample_standard_deviation(data_set)}')"
   ]
  },
  {
   "cell_type": "markdown",
   "metadata": {},
   "source": [
    "Let's plan for the stem-and-leaf table. Let's see the best way to decide the stems:"
   ]
  },
  {
   "cell_type": "code",
   "execution_count": 57,
   "metadata": {},
   "outputs": [
    {
     "name": "stdout",
     "output_type": "stream",
     "text": [
      "max value in data set: 3.85\n",
      "min value in data set: 1.84\n"
     ]
    }
   ],
   "source": [
    "print(f'max value in data set: {max(data_set)}')\n",
    "print(f'min value in data set: {min(data_set)}')"
   ]
  },
  {
   "cell_type": "markdown",
   "metadata": {},
   "source": [
    "It seems that a single stem plot considering only 1, 2, 3 for the stem won't be enough, but it we consider a double stem-and-leaf plot we will have 5 bins, which seems OK:\n",
    "\n",
    "+ 15-19 &mdash; 1•\n",
    "+ 20-24 &mdash; 2★\n",
    "+ 25-29 &mdash; 2•\n",
    "+ 30-34 &mdash; 3★\n",
    "+ 35-39 &mdash; 3•\n"
   ]
  },
  {
   "cell_type": "code",
   "execution_count": 58,
   "metadata": {},
   "outputs": [
    {
     "data": {
      "text/html": [
       "<div>\n",
       "<style scoped>\n",
       "    .dataframe tbody tr th:only-of-type {\n",
       "        vertical-align: middle;\n",
       "    }\n",
       "\n",
       "    .dataframe tbody tr th {\n",
       "        vertical-align: top;\n",
       "    }\n",
       "\n",
       "    .dataframe thead th {\n",
       "        text-align: right;\n",
       "    }\n",
       "</style>\n",
       "<table border=\"1\" class=\"dataframe\">\n",
       "  <thead>\n",
       "    <tr style=\"text-align: right;\">\n",
       "      <th></th>\n",
       "      <th>Class Interval</th>\n",
       "      <th>Class Midpoint</th>\n",
       "      <th>Stem</th>\n",
       "      <th>Leaf</th>\n",
       "      <th>Frequency</th>\n",
       "      <th>Relative Frequency</th>\n",
       "    </tr>\n",
       "  </thead>\n",
       "  <tbody>\n",
       "    <tr>\n",
       "      <th>0</th>\n",
       "      <td>1.5-1.9</td>\n",
       "      <td>1.7</td>\n",
       "      <td>1•</td>\n",
       "      <td>4</td>\n",
       "      <td>1</td>\n",
       "      <td>0.033333</td>\n",
       "    </tr>\n",
       "    <tr>\n",
       "      <th>1</th>\n",
       "      <td>2.0-2.4</td>\n",
       "      <td>2.2</td>\n",
       "      <td>2★</td>\n",
       "      <td>545407</td>\n",
       "      <td>6</td>\n",
       "      <td>0.200000</td>\n",
       "    </tr>\n",
       "    <tr>\n",
       "      <th>2</th>\n",
       "      <td>2.5-2.9</td>\n",
       "      <td>2.7</td>\n",
       "      <td>2•</td>\n",
       "      <td>97127215938</td>\n",
       "      <td>11</td>\n",
       "      <td>0.366667</td>\n",
       "    </tr>\n",
       "    <tr>\n",
       "      <th>3</th>\n",
       "      <td>3.0-3.4</td>\n",
       "      <td>3.2</td>\n",
       "      <td>3★</td>\n",
       "      <td>026347</td>\n",
       "      <td>6</td>\n",
       "      <td>0.200000</td>\n",
       "    </tr>\n",
       "    <tr>\n",
       "      <th>4</th>\n",
       "      <td>3.5-3.9</td>\n",
       "      <td>3.7</td>\n",
       "      <td>3•</td>\n",
       "      <td>975141</td>\n",
       "      <td>6</td>\n",
       "      <td>0.200000</td>\n",
       "    </tr>\n",
       "  </tbody>\n",
       "</table>\n",
       "</div>"
      ],
      "text/plain": [
       "  Class Interval  Class Midpoint Stem         Leaf  Frequency  \\\n",
       "0        1.5-1.9             1.7   1•            4          1   \n",
       "1        2.0-2.4             2.2   2★       545407          6   \n",
       "2        2.5-2.9             2.7   2•  97127215938         11   \n",
       "3        3.0-3.4             3.2   3★       026347          6   \n",
       "4        3.5-3.9             3.7   3•       975141          6   \n",
       "\n",
       "   Relative Frequency  \n",
       "0            0.033333  \n",
       "1            0.200000  \n",
       "2            0.366667  \n",
       "3            0.200000  \n",
       "4            0.200000  "
      ]
     },
     "execution_count": 58,
     "metadata": {},
     "output_type": "execute_result"
    }
   ],
   "source": [
    "from math import floor\n",
    "import pandas as pd\n",
    "\n",
    "first_digits = [floor(x * 10) for x in data_set]\n",
    "second_digits = [floor(round(((x * 10) % 1) * 10, 1)) for x in data_set]\n",
    "\n",
    "stems = ['1•', '2★', '2•', '3★', '3•']\n",
    "stem_and_leaf = { stem:('', 0) for stem in stems}\n",
    "\n",
    "for first_digit, second_digit in zip(first_digits, second_digits):\n",
    "    if first_digit < 20:\n",
    "        stem = '1•'\n",
    "    elif first_digit < 25:\n",
    "        stem = '2★'\n",
    "    elif first_digit < 30:\n",
    "        stem = '2•'\n",
    "    elif first_digit < 35:\n",
    "        stem = '3★'\n",
    "    else:\n",
    "        stem = '3•'\n",
    "\n",
    "    existing_leaf, existing_freq = stem_and_leaf[stem]\n",
    "    stem_and_leaf[stem] = (existing_leaf + str(second_digit), existing_freq + 1)\n",
    "\n",
    "data_set_len = len(data_set)\n",
    "\n",
    "stem_and_leaf_df = pd.DataFrame({\n",
    "    'Class Interval': [f'{init / 10}-{(init + 4) / 10}' for init in range(15, 40, 5)],\n",
    "    'Class Midpoint': [(init + 2) / 10 for init in range(15, 40, 5)],\n",
    "    'Stem': [stem for stem in stem_and_leaf],\n",
    "    'Leaf': [stem_and_leaf[stem][0] for stem in stem_and_leaf],\n",
    "    'Frequency': [stem_and_leaf[stem][1] for stem in stem_and_leaf],\n",
    "    'Relative Frequency': [stem_and_leaf[stem][1] / data_set_len for stem in stem_and_leaf]\n",
    "})\n",
    "\n",
    "stem_and_leaf_df\n"
   ]
  },
  {
   "cell_type": "markdown",
   "metadata": {},
   "source": [
    "With all the data in place in the data frame (in which we have both the relative frequency table and the stem-and-leaf cell) we can plot the histogram as a bar chart:"
   ]
  },
  {
   "cell_type": "code",
   "execution_count": 59,
   "metadata": {},
   "outputs": [
    {
     "data": {
      "image/png": "[encoded data removed]",
      "text/plain": [
       "<Figure size 432x288 with 1 Axes>"
      ]
     },
     "metadata": {
      "needs_background": "light"
     },
     "output_type": "display_data"
    }
   ],
   "source": [
    "import matplotlib.pyplot as plt\n",
    "import numpy as np\n",
    "\n",
    "x_midpoints = stem_and_leaf_df['Class Midpoint']\n",
    "y_heights = stem_and_leaf_df['Relative Frequency']\n",
    "\n",
    "plt.bar(x_midpoints, y_heights, align='center', width=0.4, color='#D4EFFC', edgecolor='#15B4F0')\n",
    "plt.xlabel('Staff Salaries (dollar per pupil)')\n",
    "plt.ylabel('Relative Frequency')\n",
    "plt.title('Staff Salaries Relative Frequency Histogram')\n",
    "plt.xticks(x_midpoints)\n",
    "\n",
    "plt.scatter(x_midpoints, y_heights)\n",
    "plt.plot(x_midpoints, y_heights)\n",
    "\n",
    "plt.show()"
   ]
  },
  {
   "cell_type": "markdown",
   "metadata": {},
   "source": [
    "## Exercise 1.25\n",
    "\n",
    "The following data set is related to the previous exercise, and gives the percentages of the families that are in the upper income level, for the same individual schools in the same order as in [Exercise 1.24](#exercise-124):\n",
    "\n",
    "```\n",
    "72.2 31.9 26.5 29.1 27.3 8.6 22.3 26.5\n",
    "20.4 12.8 25.1 19.2 24.1 58.2 68.1 89.2\n",
    "55.1 9.4 14.5 13.9 20.7 17.9 8.5 55.4\n",
    "38.1 54.2 21.5 26.2 59.1 43.3\n",
    "```\n",
    "\n",
    "1. Calculate the sample mean\n",
    "2. Calculate the sample median\n",
    "3. Construct a relative frequency histogram of the data\n",
    "4. Compute the 10% trimmed mean. Compare with the results of (1) and (2) and comment."
   ]
  },
  {
   "cell_type": "code",
   "execution_count": 60,
   "metadata": {},
   "outputs": [
    {
     "name": "stdout",
     "output_type": "stream",
     "text": [
      "sample mean: 33.31000000000001\n",
      "sample median: 26.35\n"
     ]
    }
   ],
   "source": [
    "from libs.stats import sample_mean, sample_median\n",
    "\n",
    "data_set = [\n",
    "    72.2, 31.9, 26.5, 29.1, 27.3, 8.6, 22.3, 26.5,\n",
    "    20.4, 12.8, 25.1, 19.2, 24.1, 58.2, 68.1, 89.2,\n",
    "    55.1, 9.4, 14.5, 13.9, 20.7, 17.9, 8.5, 55.4,\n",
    "    38.1, 54.2, 21.5, 26.2, 59.1, 43.3]\n",
    "\n",
    "print(f'sample mean: {sample_mean(data_set)}')\n",
    "print(f'sample median: {sample_median(data_set)}')"
   ]
  },
  {
   "cell_type": "markdown",
   "metadata": {},
   "source": [
    "Now we calculate the relative frequency histogram of the data.\n",
    "\n",
    "The first step is to decide the number of bins, and to do that we need to investigate the range of the data:"
   ]
  },
  {
   "cell_type": "code",
   "execution_count": 61,
   "metadata": {},
   "outputs": [
    {
     "name": "stdout",
     "output_type": "stream",
     "text": [
      "min: 8.5\n",
      "max: 89.2\n"
     ]
    }
   ],
   "source": [
    "print(f'min: {min(data_set)}')\n",
    "print(f'max: {max(data_set)}')"
   ]
  },
  {
   "cell_type": "markdown",
   "metadata": {},
   "source": [
    "As a result we can do the following ten class intervals:\n",
    "+ bin 0 &mdash; 0-9\n",
    "+ bin 1 &mdash; 10-19\n",
    "+ bin 2 &mdash; 20-29\n",
    "+ ...\n",
    "+ bin 8 &mdash; 80-89 \n",
    "\n",
    "Then, we will need to build the frequency map, going over the data and counting in which interval it is found:"
   ]
  },
  {
   "cell_type": "code",
   "execution_count": 62,
   "metadata": {},
   "outputs": [],
   "source": [
    "from math import floor\n",
    "\n",
    "freq_map = {f'bin {n}':0 for n in range(0, 9)}\n",
    "\n",
    "for data_point in data_set:\n",
    "    whole_part = floor(data_point)\n",
    "    bin = whole_part // 10\n",
    "    freq_map[f'bin {bin}'] = freq_map[f'bin {bin}'] + 1"
   ]
  },
  {
   "cell_type": "markdown",
   "metadata": {},
   "source": [
    "Now, we put everything into a pandas data frame:"
   ]
  },
  {
   "cell_type": "code",
   "execution_count": 63,
   "metadata": {},
   "outputs": [
    {
     "data": {
      "text/html": [
       "<div>\n",
       "<style scoped>\n",
       "    .dataframe tbody tr th:only-of-type {\n",
       "        vertical-align: middle;\n",
       "    }\n",
       "\n",
       "    .dataframe tbody tr th {\n",
       "        vertical-align: top;\n",
       "    }\n",
       "\n",
       "    .dataframe thead th {\n",
       "        text-align: right;\n",
       "    }\n",
       "</style>\n",
       "<table border=\"1\" class=\"dataframe\">\n",
       "  <thead>\n",
       "    <tr style=\"text-align: right;\">\n",
       "      <th></th>\n",
       "      <th>Class Interval</th>\n",
       "      <th>Class Midpoint</th>\n",
       "      <th>Frequency</th>\n",
       "      <th>Relative Frequency</th>\n",
       "    </tr>\n",
       "  </thead>\n",
       "  <tbody>\n",
       "    <tr>\n",
       "      <th>0</th>\n",
       "      <td>[0-10)</td>\n",
       "      <td>5</td>\n",
       "      <td>3</td>\n",
       "      <td>0.10</td>\n",
       "    </tr>\n",
       "    <tr>\n",
       "      <th>1</th>\n",
       "      <td>[10-20)</td>\n",
       "      <td>15</td>\n",
       "      <td>5</td>\n",
       "      <td>0.17</td>\n",
       "    </tr>\n",
       "    <tr>\n",
       "      <th>2</th>\n",
       "      <td>[20-30)</td>\n",
       "      <td>25</td>\n",
       "      <td>11</td>\n",
       "      <td>0.37</td>\n",
       "    </tr>\n",
       "    <tr>\n",
       "      <th>3</th>\n",
       "      <td>[30-40)</td>\n",
       "      <td>35</td>\n",
       "      <td>2</td>\n",
       "      <td>0.07</td>\n",
       "    </tr>\n",
       "    <tr>\n",
       "      <th>4</th>\n",
       "      <td>[40-50)</td>\n",
       "      <td>45</td>\n",
       "      <td>1</td>\n",
       "      <td>0.03</td>\n",
       "    </tr>\n",
       "    <tr>\n",
       "      <th>5</th>\n",
       "      <td>[50-60)</td>\n",
       "      <td>55</td>\n",
       "      <td>5</td>\n",
       "      <td>0.17</td>\n",
       "    </tr>\n",
       "    <tr>\n",
       "      <th>6</th>\n",
       "      <td>[60-70)</td>\n",
       "      <td>65</td>\n",
       "      <td>1</td>\n",
       "      <td>0.03</td>\n",
       "    </tr>\n",
       "    <tr>\n",
       "      <th>7</th>\n",
       "      <td>[70-80)</td>\n",
       "      <td>75</td>\n",
       "      <td>1</td>\n",
       "      <td>0.03</td>\n",
       "    </tr>\n",
       "    <tr>\n",
       "      <th>8</th>\n",
       "      <td>[80-90)</td>\n",
       "      <td>85</td>\n",
       "      <td>1</td>\n",
       "      <td>0.03</td>\n",
       "    </tr>\n",
       "  </tbody>\n",
       "</table>\n",
       "</div>"
      ],
      "text/plain": [
       "  Class Interval  Class Midpoint  Frequency  Relative Frequency\n",
       "0         [0-10)               5          3                0.10\n",
       "1        [10-20)              15          5                0.17\n",
       "2        [20-30)              25         11                0.37\n",
       "3        [30-40)              35          2                0.07\n",
       "4        [40-50)              45          1                0.03\n",
       "5        [50-60)              55          5                0.17\n",
       "6        [60-70)              65          1                0.03\n",
       "7        [70-80)              75          1                0.03\n",
       "8        [80-90)              85          1                0.03"
      ]
     },
     "execution_count": 63,
     "metadata": {},
     "output_type": "execute_result"
    }
   ],
   "source": [
    "import pandas as pd\n",
    "\n",
    "rel_freq_distrib_df = pd.DataFrame({\n",
    "    'Class Interval': [f'[{n * 10}-{n * 10 + 10})' for n in range(0, 9)],\n",
    "    'Class Midpoint': [n * 10 + 5 for n in range(0, 9)],\n",
    "    'Frequency': [freq_map[freq] for freq in freq_map],\n",
    "    'Relative Frequency': [round(freq_map[freq] / len(data_set), 2) for freq in freq_map]\n",
    "})\n",
    "\n",
    "rel_freq_distrib_df"
   ]
  },
  {
   "cell_type": "markdown",
   "metadata": {},
   "source": [
    "With this information in place, we can proceed to plot the histogram as a bar chart:"
   ]
  },
  {
   "cell_type": "code",
   "execution_count": 64,
   "metadata": {},
   "outputs": [
    {
     "data": {
      "image/png": "[encoded data removed]",
      "text/plain": [
       "<Figure size 432x288 with 1 Axes>"
      ]
     },
     "metadata": {
      "needs_background": "light"
     },
     "output_type": "display_data"
    }
   ],
   "source": [
    "import matplotlib.pyplot as plt\n",
    "import numpy as np\n",
    "\n",
    "x_midpoints = rel_freq_distrib_df['Class Midpoint']\n",
    "y_heights = rel_freq_distrib_df['Relative Frequency']\n",
    "\n",
    "plt.bar(x_midpoints, y_heights, align='center', width=10, color='#D4EFFC', edgecolor='#15B4F0')\n",
    "plt.xlabel('pct of families in upper income level')\n",
    "plt.ylabel('Relative Frequency')\n",
    "plt.title('Percentage of families in upper income level Relative Frequency Histogram')\n",
    "plt.xticks(x_midpoints)\n",
    "\n",
    "plt.scatter(x_midpoints, y_heights)\n",
    "plt.plot(x_midpoints, y_heights)\n",
    "\n",
    "plt.show()"
   ]
  },
  {
   "cell_type": "markdown",
   "metadata": {},
   "source": [
    "Now, let's calculate the $ \\bar{x}_{tr(10)} $"
   ]
  },
  {
   "cell_type": "code",
   "execution_count": 65,
   "metadata": {},
   "outputs": [
    {
     "name": "stdout",
     "output_type": "stream",
     "text": [
      "trimmed mean(10%): 30.970833333333335\n"
     ]
    }
   ],
   "source": [
    "from libs.stats import trimmed_mean\n",
    "\n",
    "print(f'trimmed mean(10%): {trimmed_mean(data_set, 10)}')"
   ]
  },
  {
   "cell_type": "markdown",
   "metadata": {},
   "source": [
    "The trimmed mean is in the middle of the median and sample mean. This gives us a better result than the mean, because the data is skewed to the right."
   ]
  },
  {
   "cell_type": "markdown",
   "metadata": {},
   "source": [
    "## Exercise 1.26\n",
    "\n",
    "Suppose it is of interest to use the data sets in [Exercise 1.24](#exercise-124) and [Exercise 1.25](#exercise-125) to derive a model that would predict staff salaries as a function of percentage of families in a high income level for current school systems.\n",
    "\n",
    "Comment on any disadvantage in carrying out this type of analysis."
   ]
  },
  {
   "cell_type": "markdown",
   "metadata": {},
   "source": [
    "There is a small amount of data in those data sets, and we also see that there are a few outliers that might influence the quality of the model."
   ]
  },
  {
   "cell_type": "markdown",
   "metadata": {},
   "source": [
    "## Exercise 1.27\n",
    "\n",
    "A study is done to determine the influence of the wear, $ y $, of a bearing as a function of the load, $ x $, on the bearing. A designed experiment is used for this study. Three levels of load were used: 700 lb, 1000 lb, and 1300 lb. Four specimens were used at each level, and the sample means were respectively, 210, 235, and 375.\n",
    "\n",
    "1. Plot average wear against load\n",
    "2. From the plot in (1), does it appear as if a relationship exists between wear and load?\n",
    "3. Suppose we look at the individual wear values for each of the four specimens at each load level (see the table below). Plot the wear results for all specimens agains the three load values.\n",
    "4. From your plot in (3), does it appear as if a clear relationship exists? If your answer is different from that in (2), explain why.\n",
    "\n",
    "| $ y $ | $ x = 700 $ | $ x = 1000 $ | $ x = 1300 $ |\n",
    "| ---- | ---------- | ----------- | ----------- |\n",
    "| $ y_1 $ | 145 | 250 | 150 |\n",
    "| $ y_2 $ | 105 | 195 | 180 |\n",
    "| $ y_3 $ | 260 | 375 | 420 |\n",
    "| $ y_4 $ | 330 | 480 | 750 |\n"
   ]
  },
  {
   "cell_type": "markdown",
   "metadata": {},
   "source": [
    "Let's start by plotting the wear agains the load as a scatter plot:"
   ]
  },
  {
   "cell_type": "code",
   "execution_count": 66,
   "metadata": {},
   "outputs": [
    {
     "data": {
      "image/png": "[encoded data removed]",
      "text/plain": [
       "<Figure size 432x288 with 1 Axes>"
      ]
     },
     "metadata": {
      "needs_background": "light"
     },
     "output_type": "display_data"
    }
   ],
   "source": [
    "import matplotlib.pyplot as plt\n",
    "import numpy as np\n",
    "\n",
    "x_loads = [700, 1000, 1300]\n",
    "y_mean_wears = [210, 325, 375]\n",
    "\n",
    "plt.scatter(x_loads, y_mean_wears)\n",
    "plt.xlabel('Load')\n",
    "plt.ylabel('Mean Wear on the Bearing')\n",
    "plt.title('Mean Wear on the Bearing as a Function of the Load')\n",
    "plt.show()"
   ]
  },
  {
   "cell_type": "markdown",
   "metadata": {},
   "source": [
    "From the plot above it seems that the load has an effect on the wear, with loads beyond 1000 lb having a dramatic effect on the wear."
   ]
  },
  {
   "cell_type": "markdown",
   "metadata": {},
   "source": [
    "Now, let's plot the detailed data of the four individual specimens:"
   ]
  },
  {
   "cell_type": "code",
   "execution_count": 67,
   "metadata": {},
   "outputs": [
    {
     "data": {
      "image/png": "[encoded data removed]",
      "text/plain": [
       "<Figure size 432x288 with 1 Axes>"
      ]
     },
     "metadata": {
      "needs_background": "light"
     },
     "output_type": "display_data"
    }
   ],
   "source": [
    "x_700 = [700 for _ in range(0, 4)]\n",
    "y_700 = [145, 105, 260, 330]\n",
    "\n",
    "x_1000 = [1000 for _ in range(0, 4)]\n",
    "y_1000 = [250, 195, 375, 480]\n",
    "\n",
    "x_1300 = [1300 for _ in range(0, 4)]\n",
    "y_1300 = [150, 180, 420, 750]\n",
    "\n",
    "fig, ax = plt.subplots()\n",
    "\n",
    "ax.scatter(x_700, y_700, marker='x', alpha=0.95, label='wear with 700 lb load')\n",
    "ax.scatter(x_1000, y_1000, marker='x', alpha=0.95, label='wear with 1000 lb load')\n",
    "ax.scatter(x_1300, y_1300, marker='x', alpha=0.95, label='wear with 1300 lb load')\n",
    "\n",
    "ax.legend()\n",
    "plt.show()"
   ]
  },
  {
   "cell_type": "markdown",
   "metadata": {},
   "source": [
    "With the plot we can conclude that the effect of the load on the wear of the bearing is not that extreme. The previous conclusion was derived based on the mean, but we see that the wear on the 1300 lb load has an outlier.\n",
    "\n",
    "As a result, there is no such a strong connection between the wear and the load."
   ]
  },
  {
   "cell_type": "markdown",
   "metadata": {},
   "source": [
    "## Exercise 1.28\n",
    "\n",
    "The following data sets show the results of a designed experiment in which injection velocity was held at two levels (low and high) to measure the shrinkage of molded parts.\n",
    "\n",
    "| Injection Velocity | Shrinkage values ($ cm \\times 10^4 $) |\n",
    "| :----------------- | :------------------------------------ |\n",
    "| Low | 72.68 72.62 72.58 72.48 73.07 72.55 72.42 72.84 72.58 72.92 |\n",
    "| High | 71.62 71.68 71.74 71.48 71.55 71.52 71.71 71.56 71.70 71.50 |\n",
    "\n",
    "1. Construct a dot plot of both data sets on the same graph. Indicate on the plot both shrinkage means.\n",
    "2. Based on the graphical results in (1), using the location of the two means and your sense of variabilty, what do you conclude regarding the effect of injection velocity on shrinkage?\n"
   ]
  },
  {
   "cell_type": "markdown",
   "metadata": {},
   "source": [
    "Let's start by defining the data sets and calculating the mean, as we will need it for the plots:"
   ]
  },
  {
   "cell_type": "code",
   "execution_count": 68,
   "metadata": {},
   "outputs": [
    {
     "name": "stdout",
     "output_type": "stream",
     "text": [
      "==== low injection velocity\n",
      "sample mean: 72.674\n",
      "\n",
      "==== low injection velocity\n",
      "sample mean: 71.606\n"
     ]
    }
   ],
   "source": [
    "from libs.stats import sample_mean\n",
    "\n",
    "low_ds = [72.68, 72.62, 72.58, 72.48, 73.07, 72.55, 72.42, 72.84, 72.58, 72.92]\n",
    "high_ds = [71.62, 71.68, 71.74, 71.48, 71.55, 71.52, 71.71, 71.56, 71.70, 71.50]\n",
    "\n",
    "data_sets = [low_ds, high_ds]\n",
    "\n",
    "print('==== low injection velocity')\n",
    "print(f'sample mean: {round(sample_mean(low_ds), 3)}')\n",
    "\n",
    "print('\\n==== low injection velocity')\n",
    "print(f'sample mean: {round(sample_mean(high_ds), 3)}')"
   ]
  },
  {
   "cell_type": "markdown",
   "metadata": {},
   "source": [
    "As always when doing dot plots, we need to manually find the limits and adjust the scale of the plot:"
   ]
  },
  {
   "cell_type": "code",
   "execution_count": 69,
   "metadata": {},
   "outputs": [
    {
     "name": "stdout",
     "output_type": "stream",
     "text": [
      "(71.48, 73.07)\n"
     ]
    }
   ],
   "source": [
    "def get_limits(*data_sets):\n",
    "    mins = [min(data_set) for data_set in data_sets]\n",
    "    maxs = [max(data_set) for data_set in data_sets]\n",
    "    return (min(mins), max(maxs))\n",
    "\n",
    "print(get_limits(*data_sets))"
   ]
  },
  {
   "cell_type": "markdown",
   "metadata": {},
   "source": [
    "With this limits in place, it seems appropriate to select the limits on x-axis on 71.25, 73.25"
   ]
  },
  {
   "cell_type": "code",
   "execution_count": 70,
   "metadata": {},
   "outputs": [],
   "source": [
    "x_min = 71.25\n",
    "x_max = 73.25"
   ]
  },
  {
   "cell_type": "markdown",
   "metadata": {},
   "source": [
    "Now, we have to calculate the y coordinates, which we do with our helper function below. This function will pull up the coordinates of clashing values:"
   ]
  },
  {
   "cell_type": "code",
   "execution_count": 71,
   "metadata": {},
   "outputs": [],
   "source": [
    "def get_ys_for_dot_plot(*xs, skew=0.25):\n",
    "    freq_map = {}\n",
    "    ys = []\n",
    "    for x in xs:\n",
    "        y = []\n",
    "        for value in x:\n",
    "            if value in freq_map:\n",
    "                freq_map[value] = freq_map[value] + skew\n",
    "            else:\n",
    "                freq_map[value] = 0\n",
    "            y.append(freq_map[value])\n",
    "        ys.append(y)\n",
    "    return ys\n",
    "\n",
    "data_sets_y = get_ys_for_dot_plot(*data_sets)"
   ]
  },
  {
   "cell_type": "markdown",
   "metadata": {},
   "source": [
    "Now, we adjust the limits for the y-axis but examining the previous data:"
   ]
  },
  {
   "cell_type": "code",
   "execution_count": 72,
   "metadata": {},
   "outputs": [
    {
     "name": "stdout",
     "output_type": "stream",
     "text": [
      "(0, 0.25)\n"
     ]
    }
   ],
   "source": [
    "print(get_limits(*data_sets_y))"
   ]
  },
  {
   "cell_type": "markdown",
   "metadata": {},
   "source": [
    "As there does not seem to be clashes we can do:\n",
    "y_min = -0.1\n",
    "y_max = 1"
   ]
  },
  {
   "cell_type": "code",
   "execution_count": 73,
   "metadata": {},
   "outputs": [],
   "source": [
    "y_min = -0.1\n",
    "y_max = 1"
   ]
  },
  {
   "cell_type": "code",
   "execution_count": 74,
   "metadata": {},
   "outputs": [
    {
     "data": {
      "image/png": "[encoded data removed]",
      "text/plain": [
       "<Figure size 720x144 with 1 Axes>"
      ]
     },
     "metadata": {
      "needs_background": "light"
     },
     "output_type": "display_data"
    }
   ],
   "source": [
    "import matplotlib.pyplot as plt\n",
    "import numpy as np\n",
    "\n",
    "fig, ax = plt.subplots()\n",
    "plt.xlim(x_min, x_max)\n",
    "plt.ylim(y_min, y_max)\n",
    "\n",
    "ax.scatter(data_sets[0], data_sets_y[0], marker='x', alpha=0.95, label=\"low injection\")\n",
    "ax.scatter(sample_mean(data_sets[0]), 0.5, marker='x', label=\"low injection sample mean\")\n",
    "\n",
    "ax.scatter(data_sets[1], data_sets_y[1], marker='o', alpha=0.5, label=\"high injection\")\n",
    "ax.scatter(sample_mean(data_sets[1]), 0.5, marker='o', label=\"high injection sample mean\")\n",
    "\n",
    "ax.get_yaxis().set_visible(False)\n",
    "ax.get_xaxis().set_ticks(np.arange(x_min, x_max, 0.25))\n",
    "ax.legend()\n",
    "ax.grid(False)\n",
    "fig.set_size_inches(10, 2)\n",
    "plt.show()"
   ]
  },
  {
   "cell_type": "markdown",
   "metadata": {},
   "source": [
    "We can conclude that the shrinkage is less when using the high injection technique, and also the data is more concentrated around the mean. The data for high injection is more spread and the mean is higher."
   ]
  },
  {
   "cell_type": "markdown",
   "metadata": {},
   "source": [
    "## Exercise 1.29\n",
    "\n",
    "Use the data in [Exercise 1.24](#exercise-124) to construct a box plot.\n",
    "\n",
    "```\n",
    "3.79 2.99 2.77 2.91 3.10 1.84 2.52 3.22\n",
    "2.45 2.14 2.67 2.52 2.71 2.75 3.57 3.85\n",
    "3.36 2.05 2.89 2.83 3.13 2.44 2.10 3.71\n",
    "3.14 3.54 2.37 2.68 3.51 3.37\n",
    "```"
   ]
  },
  {
   "cell_type": "markdown",
   "metadata": {},
   "source": [
    "Matplot lib provides oob support for box-and-whisker plots and box plots."
   ]
  },
  {
   "cell_type": "code",
   "execution_count": 75,
   "metadata": {},
   "outputs": [
    {
     "data": {
      "image/png": "[encoded data removed]",
      "text/plain": [
       "<Figure size 432x288 with 1 Axes>"
      ]
     },
     "metadata": {
      "needs_background": "light"
     },
     "output_type": "display_data"
    }
   ],
   "source": [
    "import matplotlib.pyplot as plt\n",
    "\n",
    "data_set = [\n",
    "    3.79, 2.99, 2.77, 2.91, 3.10, 1.84, 2.52, 3.22,\n",
    "    2.45, 2.14, 2.67, 2.52, 2.71, 2.75, 3.57, 3.85,\n",
    "    3.36, 2.05, 2.89, 2.83, 3.13, 2.44, 2.10, 3.71,\n",
    "    3.14, 3.54, 2.37, 2.68, 3.51, 3.37\n",
    "]\n",
    "\n",
    "plt.boxplot(data_set, vert=False)\n",
    "plt.grid(True)\n",
    "plt.show()"
   ]
  },
  {
   "cell_type": "markdown",
   "metadata": {},
   "source": [
    "We see that the sample data is relatively skewed to the right, with the median set between 2.75 and 3.0. There are no outliers in the data."
   ]
  },
  {
   "cell_type": "markdown",
   "metadata": {},
   "source": [
    "## Exercise 1.30\n",
    "\n",
    "Below are the lifetimes, in hours, of 50 lamps, taken from forced life tests:\n",
    "\n",
    "```\n",
    "919 1196 785 1126 936 918\n",
    "1156 920 948 1067 1092 1162\n",
    "1170 929 950 905 972 1035\n",
    "1045 855 1195 1195 1340 1122\n",
    "938 970 1237 956 1102 1157\n",
    "978 832 1009 1157 1151 1009\n",
    "765 958 902 1022 1333 811\n",
    "1217 1085 896 958 1311 1037\n",
    "702 923\n",
    "```\n",
    "\n",
    "Construct a box plot for these data."
   ]
  },
  {
   "cell_type": "code",
   "execution_count": 76,
   "metadata": {},
   "outputs": [
    {
     "data": {
      "image/png": "[encoded data removed]",
      "text/plain": [
       "<Figure size 432x288 with 1 Axes>"
      ]
     },
     "metadata": {
      "needs_background": "light"
     },
     "output_type": "display_data"
    }
   ],
   "source": [
    "import matplotlib.pyplot as plt\n",
    "\n",
    "str_data = '919 1196 785 1126 936 918 1156 920 948 1067 1092 1162 1170 929 950 905 972 1035 1045 855 1195 1195 1340 1122 938 970 1237 956 1102 1157 978 832 1009 1157 1151 1009 765 958 902 1022 1333 811 1217 1085 896 958 1311 1037 702 923'\n",
    "data_set = [int(str_val) for str_val in str_data.split(' ')]\n",
    "\n",
    "plt.boxplot(data_set, vert=False)\n",
    "plt.grid(True)\n",
    "plt.show()\n"
   ]
  },
  {
   "cell_type": "markdown",
   "metadata": {},
   "source": [
    "The median is around 1000, with the sample a little bit skewed to the right (meaning that most of the sample are above 1000)."
   ]
  },
  {
   "cell_type": "markdown",
   "metadata": {},
   "source": [
    "## Exercise 1.31\n",
    "\n",
    "Consider the situation of [Exercise 1.28](#exercise-128), but now with new data sets in which shrinkage is measured under different temperature conditions, again at low injection and high injection velocity:\n",
    "\n",
    "| Injection Velocity | Shrinkage |\n",
    "| :----------------- | :-------- |\n",
    "| Low | 76.20 76.09 75.98 76.15 76.17 75.94 76.12 76.18 76.25 75.82 |\n",
    "| High | 93.25 93.19 92.87 93.29 93.37 92.98 93.47 93.75 93.89 91.62 |\n",
    "\n",
    "1. Construct a dot plot with both data sets on the same graph and identify both means.\n",
    "2. Comment on the influence of injection velocity. Take into account the position of the two means and the variability around each mean.\n",
    "3. Compare the conclusion with the one found in [Exercise 1.28](#exercise-128). Would you say that there is an interaction between injection velocity and the temperature conditions?"
   ]
  },
  {
   "cell_type": "markdown",
   "metadata": {},
   "source": [
    "Let's start with the dot plot.\n",
    "\n",
    "This time we will use a minimalist approach, and let Matplotlib get some sensible defaults for us:\n",
    "1. use a helper function to *skew* the y coordinate of dots whose x-coordinate clashes with other dots, but we won't adjust the y_min and y_max accordingly.\n",
    "2. Print the data sets as scatter plots, as well as the mean for each data set."
   ]
  },
  {
   "cell_type": "code",
   "execution_count": 77,
   "metadata": {},
   "outputs": [
    {
     "data": {
      "image/png": "[encoded data removed]",
      "text/plain": [
       "<Figure size 720x144 with 1 Axes>"
      ]
     },
     "metadata": {
      "needs_background": "light"
     },
     "output_type": "display_data"
    }
   ],
   "source": [
    "from tokenize import Number\n",
    "import matplotlib.pyplot as plt\n",
    "import numpy as np\n",
    "from libs.stats import sample_mean\n",
    "\n",
    "low_str_values = '76.20 76.09 75.98 76.15 76.17 75.94 76.12 76.18 76.25 75.82'\n",
    "high_str_values = '93.25 93.19 92.87 93.29 93.37 92.98 93.47 93.75 93.89 91.62'\n",
    "low_ds = [float(str_val) for str_val in low_str_values.split(' ')]\n",
    "high_ds = [float(str_val) for str_val in high_str_values.split(' ')]\n",
    "\n",
    "data_sets = [low_ds, high_ds]\n",
    "\n",
    "def get_ys_for_dot_plot(*xs, skew=0.25):\n",
    "    freq_map = {}\n",
    "    ys = []\n",
    "    for x in xs:\n",
    "        y = []\n",
    "        for value in x:\n",
    "            if value in freq_map:\n",
    "                freq_map[value] = freq_map[value] + skew\n",
    "            else:\n",
    "                freq_map[value] = 0\n",
    "            y.append(freq_map[value])\n",
    "        ys.append(y)\n",
    "    return ys\n",
    "\n",
    "data_sets_y = get_ys_for_dot_plot(*data_sets)\n",
    "\n",
    "\n",
    "fig, ax = plt.subplots()\n",
    "\n",
    "ax.scatter(data_sets[0], data_sets_y[0], marker='x', alpha=0.95, label=\"low injection\")\n",
    "ax.scatter(sample_mean(data_sets[0]), 0.25, marker='x', label=\"low injection sample mean\")\n",
    "\n",
    "ax.scatter(data_sets[1], data_sets_y[1], marker='o', alpha=0.5, label=\"high injection\")\n",
    "ax.scatter(sample_mean(data_sets[1]), 0.25, marker='o', label=\"high injection sample mean\")\n",
    "\n",
    "plt.ylim(-0.05, 0.5)\n",
    "\n",
    "ax.get_yaxis().set_visible(False)\n",
    "ax.legend()\n",
    "ax.grid(False)\n",
    "fig.set_size_inches(10, 2)\n",
    "plt.show()\n"
   ]
  },
  {
   "cell_type": "markdown",
   "metadata": {},
   "source": [
    "We see that low injection values have very small variability when compared to the one found for high injection technique. Also, the shrinkage is much less.\n",
    "\n",
    "This is the opposite conclusion that we obtained for the [Exercise 1.28](#exercise-128), which means that temperature has a dramatic effect on the shrinkage."
   ]
  },
  {
   "cell_type": "markdown",
   "metadata": {},
   "source": [
    "## Exercise 1.32\n",
    "\n",
    "Use the results from [Exercise 1.28](#exercise-128) and [Exercise 1.31](#exercise-131) to create a plot that illustrates the interaction evident from the data."
   ]
  },
  {
   "cell_type": "markdown",
   "metadata": {},
   "source": [
    "We can build the plot in different ways:\n",
    "1. Drawing the temp on the x-axis and thus plotting lines between sample_mean_ht_li and sample_mean_lt_li, and sample_mean_ht_hi and sample_mean_lt_hi (two plots for low velocity and high velocity)\n",
    "2. Drawing the velocity injection on the x-axis and thus plottling lines between sample_mean_ht_li and sample_mean_ht_hi, and between sample_mean_lt_li and sample_mean_lt_hi (two plots for high and low temp)"
   ]
  },
  {
   "cell_type": "code",
   "execution_count": 78,
   "metadata": {},
   "outputs": [
    {
     "data": {
      "image/png": "[encoded data removed]",
      "text/plain": [
       "<Figure size 432x288 with 1 Axes>"
      ]
     },
     "metadata": {
      "needs_background": "light"
     },
     "output_type": "display_data"
    }
   ],
   "source": [
    "import matplotlib.pyplot as plt\n",
    "from libs.stats import sample_mean\n",
    "\n",
    "high_temp_low_injection_str_values = '76.20 76.09 75.98 76.15 76.17 75.94 76.12 76.18 76.25 75.82'\n",
    "high_temp_high_injection_str_values = '93.25 93.19 92.87 93.29 93.37 92.98 93.47 93.75 93.89 91.62'\n",
    "high_temp_low_injection_ds = [float(str_val) for str_val in high_temp_low_injection_str_values.split(' ')]\n",
    "high_temp_high_injection_ds = [float(str_val) for str_val in high_temp_high_injection_str_values.split(' ')]\n",
    "\n",
    "low_temp_low_injection_ds = [72.68, 72.62, 72.58, 72.48, 73.07, 72.55, 72.42, 72.84, 72.58, 72.92]\n",
    "low_temp_high_injection_ds = [71.62, 71.68, 71.74, 71.48, 71.55, 71.52, 71.71, 71.56, 71.70, 71.50]\n",
    "\n",
    "sample_mean_ht_li = sample_mean(high_temp_low_injection_ds)\n",
    "sample_mean_ht_hi = sample_mean(high_temp_high_injection_ds)\n",
    "sample_mean_lt_li = sample_mean(low_temp_low_injection_ds)\n",
    "sample_mean_lt_hi = sample_mean(low_temp_high_injection_ds)\n",
    "\n",
    "y_li = [sample_mean_ht_li, sample_mean_lt_li]\n",
    "y_hi = [sample_mean_ht_hi, sample_mean_lt_hi]\n",
    "x_t = [100, 200] # randomly selected, will map to labels 'low' and 'high'\n",
    "\n",
    "plt.plot(x_t, y_li, color='#15B4F0', label='low injection')\n",
    "plt.scatter(x_t, y_li, color='#15B4F0')\n",
    "\n",
    "plt.plot(x_t, y_hi, color='orange', label='high injection')\n",
    "plt.scatter(x_t, y_hi, color='orange')\n",
    "\n",
    "plt.xlabel('Temperature')\n",
    "plt.xticks(ticks=[100, 200], labels=['low', 'high'])\n",
    "plt.ylabel('Shrinkage')\n",
    "\n",
    "plt.legend()\n",
    "\n",
    "plt.show()"
   ]
  },
  {
   "cell_type": "markdown",
   "metadata": {},
   "source": [
    "We can read this plot as:\n",
    "> when using low-injection technique, the temperature does not seem to affect so much in the shrinkage, while when using high injection it has a dramatic effect. Note that when using high-injection and high-temperature the shrinkage is lower than when using the low injection technique with high temperature."
   ]
  },
  {
   "cell_type": "markdown",
   "metadata": {},
   "source": [
    "Now, we can draw the velocity injection on the x-axis and see if it provides a better visualization."
   ]
  },
  {
   "cell_type": "code",
   "execution_count": 79,
   "metadata": {},
   "outputs": [
    {
     "data": {
      "image/png": "[encoded data removed]",
      "text/plain": [
       "<Figure size 432x288 with 1 Axes>"
      ]
     },
     "metadata": {
      "needs_background": "light"
     },
     "output_type": "display_data"
    }
   ],
   "source": [
    "import matplotlib.pyplot as plt\n",
    "from libs.stats import sample_mean\n",
    "\n",
    "high_temp_low_injection_str_values = '76.20 76.09 75.98 76.15 76.17 75.94 76.12 76.18 76.25 75.82'\n",
    "high_temp_high_injection_str_values = '93.25 93.19 92.87 93.29 93.37 92.98 93.47 93.75 93.89 91.62'\n",
    "high_temp_low_injection_ds = [float(str_val) for str_val in high_temp_low_injection_str_values.split(' ')]\n",
    "high_temp_high_injection_ds = [float(str_val) for str_val in high_temp_high_injection_str_values.split(' ')]\n",
    "\n",
    "low_temp_low_injection_ds = [72.68, 72.62, 72.58, 72.48, 73.07, 72.55, 72.42, 72.84, 72.58, 72.92]\n",
    "low_temp_high_injection_ds = [71.62, 71.68, 71.74, 71.48, 71.55, 71.52, 71.71, 71.56, 71.70, 71.50]\n",
    "\n",
    "sample_mean_ht_li = sample_mean(high_temp_low_injection_ds)\n",
    "sample_mean_ht_hi = sample_mean(high_temp_high_injection_ds)\n",
    "sample_mean_lt_li = sample_mean(low_temp_low_injection_ds)\n",
    "sample_mean_lt_hi = sample_mean(low_temp_high_injection_ds)\n",
    "\n",
    "y_lt = [sample_mean_lt_li, sample_mean_lt_hi]\n",
    "y_ht = [sample_mean_ht_li, sample_mean_ht_hi]\n",
    "x_t = [100, 200] # randomly selected, will map to labels 'low' and 'high'\n",
    "\n",
    "plt.plot(x_t, y_li, color='#15B4F0', label='low temperature')\n",
    "plt.scatter(x_t, y_li, color='#15B4F0')\n",
    "\n",
    "plt.plot(x_t, y_hi, color='orange', label='high temperature')\n",
    "plt.scatter(x_t, y_hi, color='orange')\n",
    "\n",
    "plt.xlabel('Injection Velocity')\n",
    "plt.xticks(ticks=[100, 200], labels=['low', 'high'])\n",
    "plt.ylabel('Shrinkage')\n",
    "\n",
    "plt.legend()\n",
    "\n",
    "plt.show()"
   ]
  },
  {
   "cell_type": "markdown",
   "metadata": {},
   "source": [
    "We see that actually the plot is the same."
   ]
  }
 ],
 "metadata": {
  "kernelspec": {
   "display_name": "Python 3.8.8 ('base')",
   "language": "python",
   "name": "python3"
  },
  "language_info": {
   "codemirror_mode": {
    "name": "ipython",
    "version": 3
   },
   "file_extension": ".py",
   "mimetype": "text/x-python",
   "name": "python",
   "nbconvert_exporter": "python",
   "pygments_lexer": "ipython3",
   "version": "3.9.12"
  },
  "orig_nbformat": 4,
  "vscode": {
   "interpreter": {
    "hash": "caf1c2fcf97217de91eafa76b907d50f9ea378f5ffbee7f571142d119bb6a771"
   }
  }
 },
 "nbformat": 4,
 "nbformat_minor": 2
}
