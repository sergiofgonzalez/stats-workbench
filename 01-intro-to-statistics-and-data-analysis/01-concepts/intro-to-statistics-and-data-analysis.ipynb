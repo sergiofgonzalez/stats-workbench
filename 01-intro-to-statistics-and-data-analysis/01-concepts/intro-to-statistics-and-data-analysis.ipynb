{
 "cells": [
  {
   "cell_type": "markdown",
   "metadata": {},
   "source": [
    "# Intro to Statistics and Data Analysis\n",
    "\n",
    "## Contents\n",
    "+ Intro to basic concepts: samples, populations, experiments, and descriptive and inferencial statistics.\n",
    "+ Measures of location: sample mean and median. The trimmed mean.\n",
    "+ Measures of variability: sample range, variance, and standard deviation.\n",
    "+ Visualization of data: Scatter plots, stem-and-leaf plots, histograms, box-and-whisker/box plots.\n",
    "+ Intro to quartiles and percentiles"
   ]
  },
  {
   "cell_type": "markdown",
   "metadata": {},
   "source": [
    "## Concepts Overview\n",
    "\n",
    "**Statistical methods** are designed to contribute to the process of making judgements in the face of **uncertainty** and **variation**.\n",
    "\n",
    "Information is gathered in the form of **samples**, or collections of observations.\n",
    "\n",
    "Samples are collected from **populations**, which are collections of all individual items of a particular type.\n",
    "\n",
    "There are two types of experiments that can be carried out:\n",
    "\n",
    "+ **Experimental design** (sometimes called **Designed Experiments**) is used when a scientist can systematically move factors to whatever levels are suggested according to whatever prescription is desired.\n",
    "\n",
    "+ **Observational study** is a different type of experiment in which data are collected in the field but factor levels cannot be preselected.\n",
    "\n",
    "**Descriptive statistics** are useful to gain some sort of summary of a set of data represented in a sample. These *single-number* statistics give a sense of center of the location of the data, variability in the data, and the general nature of distribution of observations in the sample.\n",
    "\n",
    "**Inferencial statistics** are the techniques that allow us to go beyond merely reporting data (descriptive statistics) to drawing conclusions or inferences about the scientific system. Statisticians make use of fundamental laws of probability and statistical inference to draw conclusions about scientific systems.\n",
    "\n",
    "\n",
    "A thorough grounding of the fundamental notions of probability are required to allow the reader to have a better understanding of statistical inference. That will also allow for the quantification of the strength or confidence in our conclusions."
   ]
  },
  {
   "cell_type": "markdown",
   "metadata": {},
   "source": [
    "## Measures of Location: The Sample Mean and Median\n",
    "\n",
    "Measures of location are designed to provide the analyst with some quantitative values of where the center, or some other location, of data is located.\n",
    "\n",
    "### The Sample Mean\n",
    "The sample mean is the numerical average of a given sample.\n",
    "\n",
    "Suppose that the observations in a sample are $ x_1, \\hspace{1ex} x_2, \\hspace{1ex} \\ldots  , \\hspace{1ex} x_n $. The sample mean (or mean) denoted by $ \\bar{x} $ is:\n",
    "\n",
    "$$\n",
    "\\bar{x} = \\sum_{i=1}^{n} \\frac{x_i}{n} = \\frac{x_1 + x_2 + \\ldots + x_n}{n}\n",
    "$$\n",
    "\n",
    "### The Sample Median\n",
    "\n",
    "The sample median reflects the central tendency of the sample in a way that is uninfluenced by extreme values or outliers.\n",
    "\n",
    "Given that the observations in a sample are $ x_1, \\hspace{1ex} x_2, \\hspace{1ex}, \\ldots , \\hspace{1ex} x_n $, arranged in increasing order of magnitude, the sample median (or median) denoted by $ \\tilde{x} $ is:\n",
    "\n",
    "$$\n",
    "\\tilde{x} = \\begin{cases}\n",
    "x_{\\frac{n + 1}{2}} \\hspace{10ex} \\text{ if n is odd} \\\\\n",
    "\\frac{1}{2}(x_{\\frac{n}{2}} + x_{\\frac{n}{2} + 1}) \\hspace{1ex} \\text{ if n is even}\n",
    "\\end{cases}\n",
    "$$"
   ]
  },
  {
   "cell_type": "markdown",
   "metadata": {},
   "source": [
    "### Example: Calculate the sample mean and median\n",
    "\n",
    "Calculate the sample mean and median of the following data set: 1.7, 2.2, 3.9, 3.11, and 14.7"
   ]
  },
  {
   "cell_type": "markdown",
   "metadata": {},
   "source": [
    "We can implement a couple of functions `sample_mean()` and `sample_median()` according to the formulas above. \n",
    "\n",
    "| NOTE |\n",
    "| :--- |\n",
    "| The dataset given is not sorted in increasing order of magnitude. We will need to arrange the items before computing the median. |"
   ]
  },
  {
   "cell_type": "code",
   "execution_count": 1,
   "metadata": {},
   "outputs": [
    {
     "name": "stdout",
     "output_type": "stream",
     "text": [
      "mean=5.122\n",
      "median=3.11\n"
     ]
    }
   ],
   "source": [
    "data_set = [1.7, 2.2, 3.9, 3.11, 14.7]\n",
    "\n",
    "def sample_mean(sample):\n",
    "    return sum(sample) / len(sample)\n",
    "\n",
    "def sample_median(sample):\n",
    "    sorted_sample = sorted(sample)\n",
    "    if len(sorted_sample) % 2 == 1:\n",
    "        return sorted_sample[len(sorted_sample) // 2]\n",
    "    else:\n",
    "        return 1 / 2 * (sorted_sample[(len(sorted_sample) // 2) - 1] + sorted_sample[len(sorted_sample) // 2])\n",
    "\n",
    "print(f\"mean={sample_mean(data_set)}\")\n",
    "print(f\"median={sample_median(data_set)}\")\n"
   ]
  },
  {
   "cell_type": "markdown",
   "metadata": {},
   "source": [
    "As you can imagine, it would be better to use oob functions to compute those values. The statistics module provide a `mean` function and a few `median` variations.\n",
    "\n",
    "Note that for the `median` function to return the correct results, the data set is not required to be sorted."
   ]
  },
  {
   "cell_type": "code",
   "execution_count": 2,
   "metadata": {},
   "outputs": [
    {
     "name": "stdout",
     "output_type": "stream",
     "text": [
      "5\n",
      "mean=5.122\n",
      "median=3.11\n",
      "median_low=3.11\n",
      "median_high=3.11\n",
      "median_grouped=3.11\n"
     ]
    }
   ],
   "source": [
    "from statistics import mean, median_low, median_high, median, median_grouped\n",
    "\n",
    "data_set = [1.7, 2.2, 3.9, 3.11, 14.7]\n",
    "\n",
    "print(len(data_set))\n",
    "\n",
    "sample_mean = mean(data_set)\n",
    "sample_median = median(data_set)\n",
    "sample_median_low = median_low(data_set)\n",
    "sample_median_high = median_high(data_set)\n",
    "sample_median_grouped = median_grouped(data_set)\n",
    "\n",
    "print(f\"mean={sample_mean}\")\n",
    "print(f\"median={sample_median}\")\n",
    "print(f\"median_low={sample_median_low}\")\n",
    "print(f\"median_high={sample_median_high}\")\n",
    "print(f\"median_grouped={sample_median_grouped}\")"
   ]
  },
  {
   "cell_type": "markdown",
   "metadata": {},
   "source": [
    "### Example: Calculate the sample mean and sample median\n",
    "\n",
    "Calculate the sample mean and sample median of the following data set corresponding to some weight measurements carried out of some flower stems that had been treated with and without a herbicide.\n",
    "\n",
    "| No herbicide | Herbicide |\n",
    "| :---------- | :------- |\n",
    "| 0.32 | 0.26 |\n",
    "| 0.53 | 0.43 |\n",
    "| 0.28 | 0.47 |\n",
    "| 0.37 | 0.49 |\n",
    "| 0.47 | 0.52 |\n",
    "| 0.43 | 0.75 |\n",
    "| 0.36 | 0.79 |\n",
    "| 0.42 | 0.86 |\n",
    "| 0.38 | 0.62 |\n",
    "| 0.43 | 0.46 |\n",
    "\n",
    "What conclusions can you derive from the results?"
   ]
  },
  {
   "cell_type": "markdown",
   "metadata": {},
   "source": [
    "To confirm that my implementation is correct, I will use my custom implementation of sample_mean and sample_median, and then validate that I get the same results with the `statistics` package:"
   ]
  },
  {
   "cell_type": "code",
   "execution_count": 3,
   "metadata": {},
   "outputs": [
    {
     "name": "stdout",
     "output_type": "stream",
     "text": [
      "=== no herbicide\n",
      "Mean=0.399\n",
      "Median=0.4\n",
      "\n",
      "=== herbicide\n",
      "Mean=0.565\n",
      "Median=0.505\n"
     ]
    }
   ],
   "source": [
    "def sample_mean(sample):\n",
    "    return sum(sample) / len(sample)\n",
    "\n",
    "def sample_median(sample):\n",
    "    sorted_sample = sorted(sample)\n",
    "    if len(sorted_sample) % 2 == 1:\n",
    "        return sorted_sample[len(sorted_sample) // 2]\n",
    "    else:\n",
    "        return 1 / 2 * (sorted_sample[(len(sorted_sample) // 2) - 1] + sorted_sample[len(sorted_sample) // 2])\n",
    "\n",
    "no_herbicide_data_set = [0.32, 0.53, 0.28, 0.37, 0.47, 0.43, 0.36, 0.42, 0.38, 0.43]\n",
    "herbicide_data_set = [0.26, 0.43, 0.47, 0.49, 0.52, 0.75, 0.79, 0.86, 0.62, 0.46]\n",
    "\n",
    "no_herb_mean = sample_mean(no_herbicide_data_set)\n",
    "no_herb_median = sample_median(no_herbicide_data_set)\n",
    "\n",
    "herb_mean = sample_mean(herbicide_data_set)\n",
    "herb_median = sample_median(herbicide_data_set)\n",
    "\n",
    "print(\"=== no herbicide\")\n",
    "print(f\"Mean={round(no_herb_mean, 3)}\")\n",
    "print(f\"Median={round(no_herb_median, 3)}\")\n",
    "\n",
    "print(\"\\n=== herbicide\")\n",
    "print(f\"Mean={round(herb_mean, 3)}\")\n",
    "print(f\"Median={round(herb_median, 3)}\")\n",
    "\n"
   ]
  },
  {
   "cell_type": "markdown",
   "metadata": {},
   "source": [
    "Now, with the `statistics` package:"
   ]
  },
  {
   "cell_type": "code",
   "execution_count": 4,
   "metadata": {},
   "outputs": [
    {
     "name": "stdout",
     "output_type": "stream",
     "text": [
      "=== no herbicide\n",
      "Mean=0.399\n",
      "Median=0.4\n",
      "\n",
      "=== herbicide\n",
      "Mean=0.565\n",
      "Median=0.505\n"
     ]
    }
   ],
   "source": [
    "from statistics import mean, median\n",
    "\n",
    "no_herbicide_data_set = [0.32, 0.53, 0.28, 0.37, 0.47, 0.43, 0.36, 0.42, 0.38, 0.43]\n",
    "herbicide_data_set = [0.26, 0.43, 0.47, 0.49, 0.52, 0.75, 0.79, 0.86, 0.62, 0.46]\n",
    "\n",
    "no_herb_mean = mean(no_herbicide_data_set)\n",
    "no_herb_median = median(no_herbicide_data_set)\n",
    "\n",
    "herb_mean = mean(herbicide_data_set)\n",
    "herb_median = median(herbicide_data_set)\n",
    "\n",
    "print(\"=== no herbicide\")\n",
    "print(f\"Mean={round(no_herb_mean, 3)}\")\n",
    "print(f\"Median={round(no_herb_median, 3)}\")\n",
    "\n",
    "print(\"\\n=== herbicide\")\n",
    "print(f\"Mean={round(herb_mean, 3)}\")\n",
    "print(f\"Median={round(herb_median, 3)}\")"
   ]
  },
  {
   "cell_type": "markdown",
   "metadata": {},
   "source": [
    "The conclusion is:\n",
    "> The use of herbicide increases the the average weight of the flower stems and its median. Although the values for the mean and median is different, both values are higher for the flowers treated with herbicide."
   ]
  },
  {
   "cell_type": "markdown",
   "metadata": {},
   "source": [
    "### Other measures of location: The Trimmed Mean\n",
    "\n",
    "A trimmed mean is calculated by *trimming away* a certain percent of both the largest and the smallest set of values.\n",
    "\n",
    "For example, the 10% trimmed mean is calculated by eliminating the largest 10% and the smallest 10% and computing the average of the remaining values. It is denoted as $ \\bar{x}_{tr(10)} $."
   ]
  },
  {
   "cell_type": "markdown",
   "metadata": {},
   "source": [
    "### Example: Calculate the 10% trimmed mean\n",
    "\n",
    "Calculate the 10% trimmed mean of the following data set corresponding to the weight of some flower stems, some of them treated with herbicide.\n",
    "\n",
    "| No herbicide | Herbicide |\n",
    "| :---------- | :------- |\n",
    "| 0.32 | 0.26 |\n",
    "| 0.53 | 0.43 |\n",
    "| 0.28 | 0.47 |\n",
    "| 0.37 | 0.49 |\n",
    "| 0.47 | 0.52 |\n",
    "| 0.43 | 0.75 |\n",
    "| 0.36 | 0.79 |\n",
    "| 0.42 | 0.86 |\n",
    "| 0.38 | 0.62 |\n",
    "| 0.43 | 0.46 |\n",
    "\n",
    "How do they compare with the sample mean?"
   ]
  },
  {
   "cell_type": "markdown",
   "metadata": {},
   "source": [
    "We will do a custom implementation of the trimmed mean, leveraging the already existing implementation for the mean."
   ]
  },
  {
   "cell_type": "code",
   "execution_count": 5,
   "metadata": {},
   "outputs": [
    {
     "name": "stdout",
     "output_type": "stream",
     "text": [
      "=== no herbicide\n",
      "Mean=0.399\n",
      "Mean_tr(10)=0.397\n",
      "\n",
      "=== herbicide\n",
      "Mean=0.565\n",
      "Mean_tr(10)=0.566\n"
     ]
    }
   ],
   "source": [
    "from math import floor\n",
    "\n",
    "def sample_mean(sample):\n",
    "    return sum(sample) / len(sample)\n",
    "\n",
    "def trimmed_mean(sample, pct):\n",
    "    sorted_sample = sorted(sample)\n",
    "    num_items_to_remove = floor((pct / 100) * len(sorted_sample))\n",
    "    trimmed_sorted_sample = sorted_sample[num_items_to_remove:-num_items_to_remove]\n",
    "    return sample_mean(trimmed_sorted_sample)\n",
    "\n",
    "no_herbicide_data_set = [0.32, 0.53, 0.28, 0.37, 0.47, 0.43, 0.36, 0.42, 0.38, 0.43]\n",
    "herbicide_data_set = [0.26, 0.43, 0.47, 0.49, 0.52, 0.75, 0.79, 0.86, 0.62, 0.46]\n",
    "\n",
    "print(\"=== no herbicide\")\n",
    "print(f\"Mean={round(sample_mean(no_herbicide_data_set), 3)}\")\n",
    "print(f\"Mean_tr(10)={round(trimmed_mean(no_herbicide_data_set, pct=10), 3)}\")\n",
    "\n",
    "print(\"\\n=== herbicide\")\n",
    "print(f\"Mean={round(sample_mean(herbicide_data_set), 3)}\")\n",
    "print(f\"Mean_tr(10)={round(trimmed_mean(herbicide_data_set, pct=10), 3)}\")\n"
   ]
  },
  {
   "cell_type": "markdown",
   "metadata": {},
   "source": [
    "The conclusion is that the trimmed mean is really close to the sample mean, which indicates that no significant outliers are present in the observations."
   ]
  },
  {
   "cell_type": "markdown",
   "metadata": {},
   "source": [
    "| NOTE: |\n",
    "| :---- |\n",
    "| For further examples on dot plots, sample mean, sample median, and trimmed mean see [exercises 1.1 to 1.7](../e01-exercises/intro-to-statistics-and-data-analysis-exercises.ipynb) | "
   ]
  },
  {
   "cell_type": "markdown",
   "metadata": {},
   "source": [
    "## Measures of variability\n",
    "\n",
    "Even in small data analysis problems, the success of a particular statistical method may depend on the magnitude of the variability among the observations in the sample. Measures of location in a sample do provide a proper summary of the nature of a data set.\n",
    "\n",
    "There are several measures of spread of variability in samples.\n",
    "\n",
    "### Sample Range\n",
    "\n",
    "The *sample range* is a simple measure of spread obtain by calculating $ X_{max} - X_{min} $ with $ X = x_1, \\hspace{1ex} x_2, \\hspace{1ex} \\ldots  , \\hspace{1ex} x_n $\n",
    "\n",
    "### The Sample Variance and Sample Standard Deviation\n",
    "\n",
    "The sample variance, denoted by $ s^2 $ is given by:\n",
    "\n",
    "$$\n",
    "s^2 = \\sum_{i=1}^{n} \\frac{(x_i - \\bar{x})^2}{n - 1}\n",
    "$$\n",
    "\n",
    "The sample standard deviation, denoted as $ s $, is calculated by:\n",
    "\n",
    "$$\n",
    "s = \\sqrt{s^2}\n",
    "$$"
   ]
  },
  {
   "cell_type": "markdown",
   "metadata": {},
   "source": [
    "The sample standard deviation is a measure of variability, as large variability in the data will produce large values of $ (x_i - \\bar{x})^2 $.\n",
    "\n",
    "The quantity $ n - 1 $ is called the **degrees of freedom associated with the variance** estimate.\n",
    "\n",
    "Consider the following data set 5, 17, 6, 4 for which we wish to compute the sample variance.\n",
    "\n",
    "$$\n",
    "X = {5, 17, 6, 4} \\\\\n",
    "\\bar{x} = \\frac{5 + 17 + 6 + 5}{4} = 8\n",
    "$$\n",
    "\n",
    "The computation of the variance involves computing $ (x_i - \\bar{x})^2 $ which will be:\n",
    "$$\n",
    "(5 - 8)^2 + (17 - 8)^2 + (6 - 8)^2 + (4 - 8)^2\n",
    "$$\n",
    "\n",
    "If you look into the details, the quantities inside the parentheses sum to zero $ -3 + 9 - 2 + 2 $.\n",
    "\n",
    "Actually, in general \n",
    "$$\n",
    "\\sum_{i=1}^{n} (x_i - \\bar{x}) = 0 \n",
    "$$\n",
    "\n",
    "There are n - 1 degrees of freedom in a sample with n observations."
   ]
  },
  {
   "cell_type": "markdown",
   "metadata": {},
   "source": [
    "### Example 1.4\n",
    "\n",
    "The following data is collected by measuring the pH of a neutral substance (pH = 7.0):\n",
    "\n",
    "```\n",
    "7.07 7.00 7.10 6.97 7.00 7.03 7.01 7.01 6.98 7.08\n",
    "```\n",
    "\n",
    "Calculate the sample variance and standard deviation."
   ]
  },
  {
   "cell_type": "code",
   "execution_count": 6,
   "metadata": {},
   "outputs": [
    {
     "name": "stdout",
     "output_type": "stream",
     "text": [
      "sample variance=0.002\n",
      "sample standard deviation=0.044\n"
     ]
    }
   ],
   "source": [
    "from math import sqrt\n",
    "\n",
    "def sample_mean(sample):\n",
    "    return sum(sample) / len(sample)\n",
    "\n",
    "def sample_variance(sample):\n",
    "    degrees_of_freedom = len(sample) - 1\n",
    "    mean = sample_mean(sample)\n",
    "    sum_squares = sum([(x - mean) ** 2 for x in sample])\n",
    "    return sum_squares / degrees_of_freedom\n",
    "\n",
    "def sample_standard_deviation(sample):\n",
    "    return sqrt(sample_variance(sample))\n",
    "\n",
    "sample = [7.07, 7.00, 7.10, 6.97, 7.00, 7.03, 7.01, 7.01, 6.98, 7.08]\n",
    "\n",
    "print(f\"sample variance={round(sample_variance(sample), 3)}\")\n",
    "print(f\"sample standard deviation={round(sample_standard_deviation(sample), 3)}\")"
   ]
  },
  {
   "cell_type": "markdown",
   "metadata": {},
   "source": [
    "Obviously, for production purposes we should be using the `statistics` package:"
   ]
  },
  {
   "cell_type": "code",
   "execution_count": 7,
   "metadata": {},
   "outputs": [
    {
     "name": "stdout",
     "output_type": "stream",
     "text": [
      "sample variance=0.002\n",
      "sample standard deviation=0.044\n"
     ]
    }
   ],
   "source": [
    "from statistics import variance, stdev\n",
    "\n",
    "sample = [7.07, 7.00, 7.10, 6.97, 7.00, 7.03, 7.01, 7.01, 6.98, 7.08]\n",
    "\n",
    "print(f\"sample variance={round(variance(sample), 3)}\")\n",
    "print(f\"sample standard deviation={round(stdev(sample), 3)}\")"
   ]
  },
  {
   "cell_type": "markdown",
   "metadata": {},
   "source": [
    "### Units for Standard Deviation and Variance\n",
    "\n",
    "It should be evident from the formulas that the variance is a measure of the average squared deviation from the mean $ \\bar{x} $.\n",
    "\n",
    "As a result:\n",
    "+ the units for the variance are the square units in the observed data\n",
    "+ the units for the standard deviation are the same *linear* units found in the data\n",
    "\n",
    "| NOTE: |\n",
    "| :---- |\n",
    "| For further examples on sample variance and sample standard deviation see [exercises 1.1 to 1.7](../e01-exercises/intro-to-statistics-and-data-analysis-exercises.ipynb) | "
   ]
  },
  {
   "cell_type": "markdown",
   "metadata": {},
   "source": [
    "## Discrete and Continuous Data\n",
    "\n",
    "The data gathered through the analysis of studies may be discrete or continuous. Within the discrete data we might found **count data** (as in how many particles pass through a counter in one second) and **binary data**.\n",
    "\n",
    "The **sample proportion** is typically used when doing data analysis of binary data.\n",
    "\n",
    "If there are $ n $ units involved in the data and $ x $ is defined as the number that fall into category $ 1 $, then $ n - x $ fall into category $ 2 $.\n",
    "\n",
    "We define the sample proportion as:\n",
    "\n",
    "$$\n",
    "\\text{Sample Proportion Category 1 }= \\frac{x}{n} \\\\\n",
    "\\text{Sample Proportion Category 2 } = \\frac{n - x}{n} = 1 - \\frac{x}{n}\n",
    "$$\n"
   ]
  },
  {
   "cell_type": "markdown",
   "metadata": {},
   "source": [
    "For example, consider an study in which 50 patients are given a drug, and 20 out of 50 patients improved.\n",
    "\n",
    "The proportion of patients that improved is $ \\frac{20}{50} = 0.4 $, while $ \\frac{30}{50} = 1 - \\frac{20}{50} = 0.6 $ did not improve."
   ]
  },
  {
   "cell_type": "markdown",
   "metadata": {},
   "source": [
    "Note that basic numerical measurement for binary data is denoted by either 0 or 1 (e.g. 0 for unsuccessful, 1 for successful effects of the drug).\n",
    "\n",
    "If we do that, we see that the *sample proportion* is nothing more than the *sample mean*:\n",
    "\n",
    "$$\n",
    "\\frac{20}{50} = \\frac{x_1 + x_2 + \\ldots + x_{50}}{50} = \\bar{x}\n",
    "$$"
   ]
  },
  {
   "cell_type": "markdown",
   "metadata": {},
   "source": [
    "### Statistical Modeling, Scientific Inspection, and Graphical Diagnostics\n",
    "\n",
    "Often, the end result of a statistical analysis is the estimation of parameters of a postulated model.\n",
    "\n",
    "A statistical model is not deterministic but, rather, must entail some probabilistic aspects. A model form is often the foundation of assumptions that are made by the analyst. For example, the analysis may require a certain model for the data, assuming that it comes from either normal or Gaussian distributions.\n",
    "\n",
    "The following sections introduces some effective ways to study statistical populations."
   ]
  },
  {
   "cell_type": "markdown",
   "metadata": {},
   "source": [
    "### Scatter Plot\n",
    "\n",
    "Consider the following data that describes the tensile strength of several cloth specimens with different percentage of cotton in it.\n",
    "\n",
    "| Cotton Percentage | Tensile Strength |\n",
    "| :---------------- | :--------------- |\n",
    "| 15  | 7, 7, 9, 8, 10 |\n",
    "| 20 | 19, 20, 21, 20, 22 |\n",
    "| 25 | 21, 21, 17, 19, 20 |\n",
    "| 30 | 8, 7, 8, 9, 10 |\n",
    "\n",
    "A scatter plot is ideal to understand the data:"
   ]
  },
  {
   "cell_type": "code",
   "execution_count": 8,
   "metadata": {},
   "outputs": [
    {
     "data": {
      "image/png": "[encoded data removed]",
      "text/plain": [
       "<Figure size 432x288 with 1 Axes>"
      ]
     },
     "metadata": {
      "needs_background": "light"
     },
     "output_type": "display_data"
    }
   ],
   "source": [
    "import matplotlib.pyplot as plt\n",
    "import numpy as np\n",
    "\n",
    "# we set up the coordinates of the dots\n",
    "data_set = [\n",
    "    (7, 15), (7, 15), (9, 15), (8, 15), (10, 15),\n",
    "    (19, 20),(20, 20), (21, 20), (20, 20), (22, 20),\n",
    "    (21, 25), (21, 25), (17, 25), (19, 25), (20, 25),\n",
    "    (8, 30), (7, 30), (8, 30), (9, 30), (10, 30)\n",
    "]\n",
    "\n",
    "# we separate the Xs and Ys\n",
    "X = [x for _, x in data_set]\n",
    "Y = [y for y, _ in data_set]\n",
    "\n",
    "\n",
    "fig, ax = plt.subplots()\n",
    "ax.set_xticks(np.arange(15, 32, 5))\n",
    "\n",
    "# we use the alpha instead of displacing the dot\n",
    "# the intenser the dot is, the more points we have\n",
    "# with that value\n",
    "ax.scatter(X, Y, alpha=0.5)\n",
    "plt.title(\"Strength of cloth specimens\")\n",
    "plt.xlabel('Cotton %')\n",
    "plt.ylabel('Tensile Strength')\n",
    "plt.show()"
   ]
  },
  {
   "cell_type": "markdown",
   "metadata": {},
   "source": [
    "### Stem-and-Leaf Plot\n",
    "\n",
    "This is a tabular display of data.\n",
    "\n",
    "To illustrate the construction of such table, consider the following data corresponding to 40 car batteries life rounded to the nearest tenth of a year. The batteries are guaranteed to last 3 years.\n",
    "\n",
    "| Car Battery Life |\n",
    "| :--------------- |\n",
    "| 2.2 4.1 3.5 4.5 3.2 3.7 3.0 2.6 |\n",
    "| 3.4 1.6 3.1 3.3 3.8 3.1 4.7 3.7 |\n",
    "| 2.5 4.3 3.4 3.6 2.9 3.3 3.9 3.1 |\n",
    "| 3.3 3.1 3.7 4.4 3.2 4.1 1.9 3.4 |\n",
    "| 4.7 3.8 3.2 2.6 3.9 3.0 4.2 3.5 |\n",
    "\n",
    "To build the table, we have to split each observation into two parts:\n",
    "+ the stem represents the digit before the decimal point\n",
    "+ the leaf represents the decimal part\n",
    "\n",
    "Then, you list the four stems vertically, the leaves are recordded on the right side opposite to the corresponding stem value, and you add another extra column for the frequency which measures how many leaves you have in each stem.\n",
    "\n",
    "That is:"
   ]
  },
  {
   "cell_type": "code",
   "execution_count": 9,
   "metadata": {},
   "outputs": [
    {
     "name": "stdout",
     "output_type": "stream",
     "text": [
      "{'1': ('69', 2), '2': ('26596', 5), '3': ('5270413817463913172482905', 25), '4': ('15734172', 8)}\n",
      "{'1': ('69', 2), '2': ('25669', 5), '3': ('0011112223334445567778899', 25), '4': ('11234577', 8)}\n"
     ]
    }
   ],
   "source": [
    "from math import floor\n",
    "from decimal import Decimal\n",
    "\n",
    "data_set = [\n",
    " 2.2, 4.1, 3.5, 4.5, 3.2, 3.7, 3.0, 2.6,\n",
    " 3.4, 1.6, 3.1, 3.3, 3.8, 3.1, 4.7, 3.7,\n",
    " 2.5, 4.3, 3.4, 3.6, 2.9, 3.3, 3.9, 3.1,\n",
    " 3.3, 3.1, 3.7, 4.4, 3.2, 4.1, 1.9, 3.4,\n",
    " 4.7, 3.8, 3.2, 2.6, 3.9, 3.0, 4.2, 3.5\n",
    "]\n",
    "\n",
    "# we split each data point into its whole and fractional parts\n",
    "whole_parts = [str(floor(x)) for x in data_set]\n",
    "frac_parts =  [((Decimal(str(x)) % 1) * 10).to_integral_value().to_eng_string() for x in data_set]\n",
    "\n",
    "stems = sorted(list(set(whole_parts)))\n",
    "\n",
    "# now we create the steam-and-leaf structure as a dictionary\n",
    "# key: stem value\n",
    "# value: (leaf values, freq)\n",
    "\n",
    "# We prepopulate the keys, so that they're sorted in the dictionary obj\n",
    "\n",
    "stem_and_leaf = { stem:(\"\", 0) for stem in stems }\n",
    "\n",
    "for data_point in zip(whole_parts, frac_parts):\n",
    "    stem, leaf = data_point\n",
    "    existing_leaf, existing_freq = stem_and_leaf[stem]\n",
    "    stem_and_leaf[stem] = (existing_leaf + leaf, existing_freq + 1)\n",
    "\n",
    "print(stem_and_leaf)\n",
    "\n",
    "# now we clean the leaves a little bit, as it is customary to show them sorted\n",
    "def get_sorted_leaf(str):\n",
    "    sorted_str = ''.join(sorted(str))\n",
    "    return sorted_str\n",
    "\n",
    "for stem in stem_and_leaf:\n",
    "    leaf, freq = stem_and_leaf[stem]\n",
    "    stem_and_leaf[stem] = (get_sorted_leaf(leaf), freq)\n",
    "\n",
    "print(stem_and_leaf)"
   ]
  },
  {
   "cell_type": "markdown",
   "metadata": {},
   "source": [
    "All the information is there, now we just need to pretty-print it.\n",
    "\n",
    "One way to do that is with the `pandas` library, but we need to massage our stem and leaf dictionary a little bit:\n",
    "\n",
    "+ The keys for the panda data frame should be the columns ('Stem', 'Leaf', 'Frequency')\n",
    "+ Then you have to group the values by columns\n",
    "\n",
    "See the following simple example for reference:"
   ]
  },
  {
   "cell_type": "code",
   "execution_count": 10,
   "metadata": {},
   "outputs": [
    {
     "data": {
      "text/html": [
       "<div>\n",
       "<style scoped>\n",
       "    .dataframe tbody tr th:only-of-type {\n",
       "        vertical-align: middle;\n",
       "    }\n",
       "\n",
       "    .dataframe tbody tr th {\n",
       "        vertical-align: top;\n",
       "    }\n",
       "\n",
       "    .dataframe thead th {\n",
       "        text-align: right;\n",
       "    }\n",
       "</style>\n",
       "<table border=\"1\" class=\"dataframe\">\n",
       "  <thead>\n",
       "    <tr style=\"text-align: right;\">\n",
       "      <th></th>\n",
       "      <th>Yes</th>\n",
       "      <th>No</th>\n",
       "    </tr>\n",
       "  </thead>\n",
       "  <tbody>\n",
       "    <tr>\n",
       "      <th>Question 1</th>\n",
       "      <td>50</td>\n",
       "      <td>131</td>\n",
       "    </tr>\n",
       "    <tr>\n",
       "      <th>Question 2</th>\n",
       "      <td>21</td>\n",
       "      <td>2</td>\n",
       "    </tr>\n",
       "  </tbody>\n",
       "</table>\n",
       "</div>"
      ],
      "text/plain": [
       "            Yes   No\n",
       "Question 1   50  131\n",
       "Question 2   21    2"
      ]
     },
     "execution_count": 10,
     "metadata": {},
     "output_type": "execute_result"
    }
   ],
   "source": [
    "import pandas as pd\n",
    "\n",
    "pd.DataFrame({'Yes': [50, 21], 'No': [131, 2]}, index=['Question 1', 'Question 2'])"
   ]
  },
  {
   "cell_type": "markdown",
   "metadata": {},
   "source": [
    "Let's adapt our stem and leaf dictionary to a Data frame so that we can display the results. In our case, we might want to skip the index and treat the all the data we have as data series:"
   ]
  },
  {
   "cell_type": "code",
   "execution_count": 11,
   "metadata": {},
   "outputs": [
    {
     "data": {
      "text/html": [
       "<div>\n",
       "<style scoped>\n",
       "    .dataframe tbody tr th:only-of-type {\n",
       "        vertical-align: middle;\n",
       "    }\n",
       "\n",
       "    .dataframe tbody tr th {\n",
       "        vertical-align: top;\n",
       "    }\n",
       "\n",
       "    .dataframe thead th {\n",
       "        text-align: right;\n",
       "    }\n",
       "</style>\n",
       "<table border=\"1\" class=\"dataframe\">\n",
       "  <thead>\n",
       "    <tr style=\"text-align: right;\">\n",
       "      <th></th>\n",
       "      <th>Stems</th>\n",
       "      <th>Leaf</th>\n",
       "      <th>Frequency</th>\n",
       "    </tr>\n",
       "  </thead>\n",
       "  <tbody>\n",
       "    <tr>\n",
       "      <th>0</th>\n",
       "      <td>1</td>\n",
       "      <td>69</td>\n",
       "      <td>2</td>\n",
       "    </tr>\n",
       "    <tr>\n",
       "      <th>1</th>\n",
       "      <td>2</td>\n",
       "      <td>25669</td>\n",
       "      <td>5</td>\n",
       "    </tr>\n",
       "    <tr>\n",
       "      <th>2</th>\n",
       "      <td>3</td>\n",
       "      <td>0011112223334445567778899</td>\n",
       "      <td>25</td>\n",
       "    </tr>\n",
       "    <tr>\n",
       "      <th>3</th>\n",
       "      <td>4</td>\n",
       "      <td>11234577</td>\n",
       "      <td>8</td>\n",
       "    </tr>\n",
       "  </tbody>\n",
       "</table>\n",
       "</div>"
      ],
      "text/plain": [
       "  Stems                       Leaf  Frequency\n",
       "0     1                         69          2\n",
       "1     2                      25669          5\n",
       "2     3  0011112223334445567778899         25\n",
       "3     4                   11234577          8"
      ]
     },
     "execution_count": 11,
     "metadata": {},
     "output_type": "execute_result"
    }
   ],
   "source": [
    "pd.DataFrame({\n",
    "    \"Stems\":[stem for stem in stem_and_leaf], \n",
    "    \"Leaf\":[stem_and_leaf[stem][0]for stem in stem_and_leaf],\n",
    "    \"Frequency\":[stem_and_leaf[stem][1]for stem in stem_and_leaf]\n",
    "    })"
   ]
  },
  {
   "cell_type": "markdown",
   "metadata": {},
   "source": [
    "And that it is our first Stem-and-leaf diagram.\n",
    "\n",
    "However, that representation is not very useful, because most of the data is centered on the 3rd stem. When that happens, it is required to create more stems by writing each stem twice and then record the leaves 0, 1, 2, 3, 4 grouped in one stem and 5, 6, 7, 8, 9 for the second. When using this approach you can denote the stems as 1★, 1•, 2★, 2•, etc.\n",
    "\n",
    "This will result in the following:\n"
   ]
  },
  {
   "cell_type": "code",
   "execution_count": 12,
   "metadata": {},
   "outputs": [
    {
     "data": {
      "text/html": [
       "<div>\n",
       "<style scoped>\n",
       "    .dataframe tbody tr th:only-of-type {\n",
       "        vertical-align: middle;\n",
       "    }\n",
       "\n",
       "    .dataframe tbody tr th {\n",
       "        vertical-align: top;\n",
       "    }\n",
       "\n",
       "    .dataframe thead th {\n",
       "        text-align: right;\n",
       "    }\n",
       "</style>\n",
       "<table border=\"1\" class=\"dataframe\">\n",
       "  <thead>\n",
       "    <tr style=\"text-align: right;\">\n",
       "      <th></th>\n",
       "      <th>Stem</th>\n",
       "      <th>Leaf</th>\n",
       "      <th>Frequency</th>\n",
       "    </tr>\n",
       "  </thead>\n",
       "  <tbody>\n",
       "    <tr>\n",
       "      <th>0</th>\n",
       "      <td>1★</td>\n",
       "      <td></td>\n",
       "      <td>0</td>\n",
       "    </tr>\n",
       "    <tr>\n",
       "      <th>1</th>\n",
       "      <td>1•</td>\n",
       "      <td>69</td>\n",
       "      <td>2</td>\n",
       "    </tr>\n",
       "    <tr>\n",
       "      <th>2</th>\n",
       "      <td>2★</td>\n",
       "      <td>2</td>\n",
       "      <td>1</td>\n",
       "    </tr>\n",
       "    <tr>\n",
       "      <th>3</th>\n",
       "      <td>2•</td>\n",
       "      <td>5669</td>\n",
       "      <td>4</td>\n",
       "    </tr>\n",
       "    <tr>\n",
       "      <th>4</th>\n",
       "      <td>3★</td>\n",
       "      <td>001111222333444</td>\n",
       "      <td>15</td>\n",
       "    </tr>\n",
       "    <tr>\n",
       "      <th>5</th>\n",
       "      <td>3•</td>\n",
       "      <td>5567778899</td>\n",
       "      <td>10</td>\n",
       "    </tr>\n",
       "    <tr>\n",
       "      <th>6</th>\n",
       "      <td>4★</td>\n",
       "      <td>11234</td>\n",
       "      <td>5</td>\n",
       "    </tr>\n",
       "    <tr>\n",
       "      <th>7</th>\n",
       "      <td>4•</td>\n",
       "      <td>577</td>\n",
       "      <td>3</td>\n",
       "    </tr>\n",
       "  </tbody>\n",
       "</table>\n",
       "</div>"
      ],
      "text/plain": [
       "  Stem             Leaf  Frequency\n",
       "0   1★                           0\n",
       "1   1•               69          2\n",
       "2   2★                2          1\n",
       "3   2•             5669          4\n",
       "4   3★  001111222333444         15\n",
       "5   3•       5567778899         10\n",
       "6   4★            11234          5\n",
       "7   4•              577          3"
      ]
     },
     "execution_count": 12,
     "metadata": {},
     "output_type": "execute_result"
    }
   ],
   "source": [
    "from math import floor\n",
    "from decimal import Decimal\n",
    "import pandas as pd\n",
    "\n",
    "data_set = [\n",
    " 2.2, 4.1, 3.5, 4.5, 3.2, 3.7, 3.0, 2.6,\n",
    " 3.4, 1.6, 3.1, 3.3, 3.8, 3.1, 4.7, 3.7,\n",
    " 2.5, 4.3, 3.4, 3.6, 2.9, 3.3, 3.9, 3.1,\n",
    " 3.3, 3.1, 3.7, 4.4, 3.2, 4.1, 1.9, 3.4,\n",
    " 4.7, 3.8, 3.2, 2.6, 3.9, 3.0, 4.2, 3.5\n",
    "]\n",
    "\n",
    "# we split each data point into its whole and fractional parts\n",
    "whole_parts = [str(floor(x)) for x in data_set]\n",
    "frac_parts =  [((Decimal(str(x)) % 1) * 10).to_integral_value().to_eng_string() for x in data_set]\n",
    "\n",
    "orig_stems = sorted(list(set(whole_parts)))\n",
    "stems = []\n",
    "for stem in orig_stems:\n",
    "    stems.append(stem + '★')\n",
    "    stems.append(stem + '•')\n",
    "\n",
    "# now we create the stem-and-leaf structure as a dictionary\n",
    "# key: stem value\n",
    "# value: (leaf values, freq)\n",
    "\n",
    "# We prepopulate the keys, so that they're sorted in the dictionary obj\n",
    "\n",
    "stem_and_leaf = { stem:(\"\", 0) for stem in stems }\n",
    "\n",
    "for data_point in zip(whole_parts, frac_parts):\n",
    "    whole, frac = data_point\n",
    "    # now we have to select the appropriate stem\n",
    "    if frac < '5':\n",
    "        stem = whole + '★'\n",
    "    else:\n",
    "        stem = whole + '•'\n",
    "\n",
    "    existing_leaf, existing_freq = stem_and_leaf[stem]\n",
    "    stem_and_leaf[stem] = (existing_leaf + frac, existing_freq + 1)\n",
    "\n",
    "# print(stem_and_leaf)\n",
    "\n",
    "# # now we clean the leaves a little bit, as it is customary to show them sorted\n",
    "def get_sorted_leaf(str):\n",
    "    sorted_str = ''.join(sorted(str))\n",
    "    return sorted_str\n",
    "\n",
    "for stem in stem_and_leaf:\n",
    "    leaf, freq = stem_and_leaf[stem]\n",
    "    stem_and_leaf[stem] = (get_sorted_leaf(leaf), freq)\n",
    "\n",
    "pd.DataFrame({\n",
    "    \"Stem\": [stem for stem in stem_and_leaf], \n",
    "    \"Leaf\": [stem_and_leaf[stem][0] for stem in stem_and_leaf],\n",
    "    \"Frequency\":[stem_and_leaf[stem][1] for stem in stem_and_leaf]\n",
    "    })"
   ]
  },
  {
   "cell_type": "markdown",
   "metadata": {},
   "source": [
    "Now it is much better, as we see that most of the car batteries life life in the range 3.0 to 3.4.\n",
    "\n",
    "Note that the steam-and-leaf table is nothing more than a detailed **frequency distribution** table, where the data is grouped into different classes or intervals."
   ]
  },
  {
   "cell_type": "markdown",
   "metadata": {},
   "source": [
    "### Histogram\n",
    "\n",
    "Dividing each class frequency by the total number of observations gives us the proportion of the set of observations in each of the classes. This table of relative frequencies is known as the **relative frequency distribution**.\n",
    "\n",
    "Let's build this table for the car battery life data:\n",
    "\n",
    "| Car Battery Life |\n",
    "| :--------------- |\n",
    "| 2.2 4.1 3.5 4.5 3.2 3.7 3.0 2.6 |\n",
    "| 3.4 1.6 3.1 3.3 3.8 3.1 4.7 3.7 |\n",
    "| 2.5 4.3 3.4 3.6 2.9 3.3 3.9 3.1 |\n",
    "| 3.3 3.1 3.7 4.4 3.2 4.1 1.9 3.4 |\n",
    "| 4.7 3.8 3.2 2.6 3.9 3.0 4.2 3.5 |\n",
    "\n",
    "We can first explore the observation min and max, and from there decide the appropriate intervals:"
   ]
  },
  {
   "cell_type": "code",
   "execution_count": 13,
   "metadata": {},
   "outputs": [
    {
     "name": "stdout",
     "output_type": "stream",
     "text": [
      "data set min=1.6\n",
      "data set max=4.7\n"
     ]
    }
   ],
   "source": [
    "data_set = [\n",
    " 2.2, 4.1, 3.5, 4.5, 3.2, 3.7, 3.0, 2.6,\n",
    " 3.4, 1.6, 3.1, 3.3, 3.8, 3.1, 4.7, 3.7,\n",
    " 2.5, 4.3, 3.4, 3.6, 2.9, 3.3, 3.9, 3.1,\n",
    " 3.3, 3.1, 3.7, 4.4, 3.2, 4.1, 1.9, 3.4,\n",
    " 4.7, 3.8, 3.2, 2.6, 3.9, 3.0, 4.2, 3.5\n",
    "]\n",
    "\n",
    "print(f\"data set min={min(data_set)}\")\n",
    "print(f\"data set max={max(data_set)}\")"
   ]
  },
  {
   "cell_type": "markdown",
   "metadata": {},
   "source": [
    "As data ranges from 1.6 to 4.7, it feels natural to select the following intervals:\n",
    "+ 1.5 - 1.9\n",
    "+ 2.0 - 2.4\n",
    "+ 2.5 - 2.9\n",
    "+ 3.0 - 3.4\n",
    "+ 3.5 - 3.9\n",
    "+ 4.0 - 4.4\n",
    "+ 4.5 - 4.9\n",
    "\n",
    "\n",
    "The Relative Frequency Distribution table will be created calculating for each interval:\n",
    "+ the midpoint for the interval\n",
    "+ the frequency (number of observations in that interval)\n",
    "+ the relative frequency (num of observations in that interval / total observations)\n",
    "\n",
    "Let's build that table:"
   ]
  },
  {
   "cell_type": "code",
   "execution_count": 14,
   "metadata": {},
   "outputs": [
    {
     "data": {
      "text/html": [
       "<div>\n",
       "<style scoped>\n",
       "    .dataframe tbody tr th:only-of-type {\n",
       "        vertical-align: middle;\n",
       "    }\n",
       "\n",
       "    .dataframe tbody tr th {\n",
       "        vertical-align: top;\n",
       "    }\n",
       "\n",
       "    .dataframe thead th {\n",
       "        text-align: right;\n",
       "    }\n",
       "</style>\n",
       "<table border=\"1\" class=\"dataframe\">\n",
       "  <thead>\n",
       "    <tr style=\"text-align: right;\">\n",
       "      <th></th>\n",
       "      <th>Class Interval</th>\n",
       "      <th>Class Midpoint</th>\n",
       "      <th>Frequency</th>\n",
       "      <th>Relative Frequency</th>\n",
       "    </tr>\n",
       "  </thead>\n",
       "  <tbody>\n",
       "    <tr>\n",
       "      <th>0</th>\n",
       "      <td>1.5-1.9</td>\n",
       "      <td>1.7</td>\n",
       "      <td>2</td>\n",
       "      <td>0.050</td>\n",
       "    </tr>\n",
       "    <tr>\n",
       "      <th>1</th>\n",
       "      <td>2.0-2.4</td>\n",
       "      <td>2.2</td>\n",
       "      <td>1</td>\n",
       "      <td>0.025</td>\n",
       "    </tr>\n",
       "    <tr>\n",
       "      <th>2</th>\n",
       "      <td>2.5-2.9</td>\n",
       "      <td>2.7</td>\n",
       "      <td>4</td>\n",
       "      <td>0.100</td>\n",
       "    </tr>\n",
       "    <tr>\n",
       "      <th>3</th>\n",
       "      <td>3.0-3.4</td>\n",
       "      <td>3.2</td>\n",
       "      <td>15</td>\n",
       "      <td>0.375</td>\n",
       "    </tr>\n",
       "    <tr>\n",
       "      <th>4</th>\n",
       "      <td>3.5-3.9</td>\n",
       "      <td>3.7</td>\n",
       "      <td>10</td>\n",
       "      <td>0.250</td>\n",
       "    </tr>\n",
       "    <tr>\n",
       "      <th>5</th>\n",
       "      <td>4.0-4.4</td>\n",
       "      <td>4.2</td>\n",
       "      <td>5</td>\n",
       "      <td>0.125</td>\n",
       "    </tr>\n",
       "    <tr>\n",
       "      <th>6</th>\n",
       "      <td>4.5-4.9</td>\n",
       "      <td>4.7</td>\n",
       "      <td>3</td>\n",
       "      <td>0.075</td>\n",
       "    </tr>\n",
       "  </tbody>\n",
       "</table>\n",
       "</div>"
      ],
      "text/plain": [
       "  Class Interval  Class Midpoint  Frequency  Relative Frequency\n",
       "0        1.5-1.9             1.7          2               0.050\n",
       "1        2.0-2.4             2.2          1               0.025\n",
       "2        2.5-2.9             2.7          4               0.100\n",
       "3        3.0-3.4             3.2         15               0.375\n",
       "4        3.5-3.9             3.7         10               0.250\n",
       "5        4.0-4.4             4.2          5               0.125\n",
       "6        4.5-4.9             4.7          3               0.075"
      ]
     },
     "execution_count": 14,
     "metadata": {},
     "output_type": "execute_result"
    }
   ],
   "source": [
    "from decimal import Decimal\n",
    "import numpy as np\n",
    "import pandas as pd\n",
    "\n",
    "intervals=[(interval_start, interval_start + 0.4) for interval_start in np.arange(1.5, 5.0, 0.5)]\n",
    "frequencies={(interval_start, interval_end):0 for interval_start, interval_end in intervals}\n",
    "num_observations = len(data_set)\n",
    "\n",
    "for data_point in data_set:\n",
    "    for interval_start, interval_end in intervals:\n",
    "        if data_point >= interval_start and data_point <= interval_end:\n",
    "            frequencies[(interval_start, interval_end)] = frequencies[(interval_start, interval_end)] + 1\n",
    "            break\n",
    "\n",
    "df = pd.DataFrame({\n",
    "    'Class Interval': [f'{interval_start}-{interval_end}' for interval_start, interval_end in intervals], \n",
    "    'Class Midpoint': [interval_start + (interval_end - interval_start) / 2 for interval_start, interval_end in intervals], \n",
    "    'Frequency': [frequencies[(interval_start, interval_end)] for interval_start, interval_end in intervals], \n",
    "    'Relative Frequency': [frequencies[(interval_start, interval_end)] / num_observations for interval_start, interval_end in intervals ]\n",
    "    })\n",
    "df\n",
    "# print(df['Class Interval'].to_list())\n",
    "# print(df['Relative Frequency'].to_list())"
   ]
  },
  {
   "cell_type": "markdown",
   "metadata": {},
   "source": [
    "This information can be plotted in a Relative Frequency Histogram. While Matplotlib supports plotting histograms out of the box, that capability will only plot the frequency of the data, and not the relative frequency.\n",
    "\n",
    "As a result, a simple bar chart is more appropriate in this case:"
   ]
  },
  {
   "cell_type": "code",
   "execution_count": 15,
   "metadata": {},
   "outputs": [
    {
     "data": {
      "image/png": "[encoded data removed]",
      "text/plain": [
       "<Figure size 432x288 with 1 Axes>"
      ]
     },
     "metadata": {
      "needs_background": "light"
     },
     "output_type": "display_data"
    }
   ],
   "source": [
    "import matplotlib.pyplot as plt\n",
    "\n",
    "x_midpoints = df['Class Midpoint'].to_list()\n",
    "y_heights = df['Relative Frequency'].to_list()\n",
    "\n",
    "plt.bar(x_midpoints, y_heights, align='center', width=0.5, color='#D4EFFC', edgecolor='#15B4F0')\n",
    "plt.xlabel('Battery Life (years)')\n",
    "plt.ylabel('Relative Frequency')\n",
    "plt.title('Battery Life Relative Frequency Histogram') \n",
    "plt.xticks(x_midpoints)\n",
    "plt.yticks([0.125, 0.250, 0.375])\n",
    "plt.ylim([0, 0.375])\n",
    "plt.grid(False)"
   ]
  },
  {
   "cell_type": "markdown",
   "metadata": {},
   "source": [
    "Many continuous frequency distributions can be represented by the characteristic bell-shaped curve. The data from the previous data set happens to be like that, as we can see in the following plot in which we overlay a bell-shaped curve in the relative frequency histogram:"
   ]
  },
  {
   "cell_type": "code",
   "execution_count": 16,
   "metadata": {},
   "outputs": [
    {
     "data": {
      "image/png": "[encoded data removed]",
      "text/plain": [
       "<Figure size 432x288 with 1 Axes>"
      ]
     },
     "metadata": {
      "needs_background": "light"
     },
     "output_type": "display_data"
    }
   ],
   "source": [
    "import numpy as np\n",
    "import matplotlib.pyplot as plt\n",
    "from scipy.stats import norm\n",
    "\n",
    "plt.bar(x_midpoints, y_heights, align='center', width=0.5, color='#D4EFFC', edgecolor='#15B4F0')\n",
    "plt.xlabel('Battery Life (years)')\n",
    "plt.ylabel('Relative Frequency')\n",
    "plt.title('Battery Life Relative Frequency Histogram') \n",
    "plt.xticks(x_midpoints)\n",
    "plt.yticks([0.125, 0.250, 0.375])\n",
    "plt.ylim([0, 0.375])\n",
    "\n",
    "# overlaying the normal distribution on the existing plot\n",
    "# it's been manually built, only for visualization purposes\n",
    "x_axis = np.arange(0, 6, 0.1)\n",
    "plt.plot(x_axis, norm.pdf(x_axis, 3.5, 1.2))\n",
    "\n",
    "plt.grid(False)\n"
   ]
  },
  {
   "cell_type": "markdown",
   "metadata": {},
   "source": [
    "A distribution is said to be symmetric if it can be folded along a vertical axis so that the two sides coincide.\n",
    "\n",
    "A distribution that lacks symmetry with respect to a vertical axis is said to be skewed."
   ]
  },
  {
   "cell_type": "markdown",
   "metadata": {},
   "source": [
    "### Box-and-Whisker Plot or Box Plot\n",
    "\n",
    "A Box-and-Whisker plot encloses the interquantile range of the data in a box that has the median displayed within. The interquantile range has as its extremes the 75th percentile (upper quartile) and the 25th percentile (lower quartile).\n",
    "\n",
    "In addition to the box, *whiskers* extend, showing extreme observations in the sample. As a result, this chart gives you a godd visualization about the center of location, variability, and the degree of asymmetry of the sample.\n",
    "\n",
    "A variation called **box plot** can provide additional information about the observations that may be outliers.\n",
    "\n",
    "Outliers are observations that are considered to be unusually far from the bulk of data. This would represent a *rare event* (there is a small probability of obtaining a value that far from the bulk of data). For example, if the distance from the box to the data point exceeds 1.5 the interquantile range, the observation may be labeled an outlier.\n"
   ]
  },
  {
   "cell_type": "markdown",
   "metadata": {},
   "source": [
    "For example, consider the following table listing the nicotine content measured in a random sample of 40 cigarettes:\n",
    "\n",
    "| Nicotine Data |\n",
    "| :------------ |\n",
    "| 1.09 1.92 2.31 1.79 2.28 1.74 1.47 1.97 | \n",
    "| 0.85 1.24 1.58 2.03 1.70 2.17 2.55 2.11 |\n",
    "| 1.86 1.90 1.68 1.51 1.64 0.72 1.69 1.85 |\n",
    "| 1.82 1.79 2.46 1.88 2.08 1.67 1.37 1.93 |\n",
    "| 1.40 1.64 2.09 1.75 1.63 2.37 1.75 1.69 |\n"
   ]
  },
  {
   "cell_type": "code",
   "execution_count": 17,
   "metadata": {},
   "outputs": [
    {
     "data": {
      "image/png": "[encoded data removed]",
      "text/plain": [
       "<Figure size 432x288 with 1 Axes>"
      ]
     },
     "metadata": {
      "needs_background": "light"
     },
     "output_type": "display_data"
    }
   ],
   "source": [
    "import matplotlib.pyplot as plt\n",
    "\n",
    "data_set = [\n",
    "    1.09, 1.92, 2.31, 1.79, 2.28, 1.74, 1.47, 1.97,\n",
    "    0.85, 1.24, 1.58, 2.03, 1.70, 2.17, 2.55, 2.11,\n",
    "    1.86, 1.90, 1.68, 1.51, 1.64, 0.72, 1.69, 1.85,\n",
    "    1.82, 1.79, 2.46, 1.88, 2.08, 1.67, 1.37, 1.93,\n",
    "    1.40, 1.64, 2.09, 1.75, 1.63, 2.37, 1.75, 1.69]\n",
    "\n",
    "plt.boxplot(data_set, vert=False, whis=1.6)\n",
    "plt.grid(True)\n",
    "plt.show()"
   ]
  },
  {
   "cell_type": "markdown",
   "metadata": {},
   "source": [
    "The red line is the median, which is approximately 1.75. The box's left edge shows the lower quartile, and the box's right edge shows the upper quartile. Therefore, the bulk of the data lies between the median and the upper quartile.\n",
    "\n",
    "The whiskers extend from the box to augment the range of data, and points are depicted for the observations found beyond the whiskers. In this case, 2.55, 0.72 and 0.85 are considered outliers.\n",
    "\n",
    "| NOTE: |\n",
    "| :---- |\n",
    "| The default values for Matplotlib box plot has been altered to make it look like the book's chart. |"
   ]
  },
  {
   "cell_type": "markdown",
   "metadata": {},
   "source": [
    "### Other distinguishing features of a sample\n",
    "\n",
    "While the median divides the data into two parts, other measures, such as **quartiles** can be used to divide the samples into four parts.\n",
    "\n",
    "The **third quartile** separates the upper quarter of the data from the rest, the **second quartile** being the median, and the **first quartile** separating the lower quarter of the data from the rest.\n",
    "\n",
    "The distribution can be more finely divided by computing the **percentiles** of the distribution. These quantities give the analyst a sense of the so-called *tails* of the distribution (i.e. values that are relatively extreme, either small or large). \n",
    "\n",
    "For example, the 95th percentile separates the highest 5% from the bottom 95%. \n",
    "\n",
    "Similar definitions prevail for extremes on the lower side of the distribution. For example, 1st percentile separates the bottom 1% from the rest of the distribution."
   ]
  },
  {
   "cell_type": "markdown",
   "metadata": {},
   "source": [
    "For example, the 1st, 25th, 50th, 75th, and 95th percentile from the nicotine values found in 40 cigarette samples are computed below."
   ]
  },
  {
   "cell_type": "code",
   "execution_count": 18,
   "metadata": {},
   "outputs": [
    {
     "data": {
      "text/plain": [
       "array([0.7707, 1.6375, 1.77  , 1.985 , 2.3745])"
      ]
     },
     "execution_count": 18,
     "metadata": {},
     "output_type": "execute_result"
    }
   ],
   "source": [
    "import numpy as np\n",
    "\n",
    "data_set = [\n",
    "    1.09, 1.92, 2.31, 1.79, 2.28, 1.74, 1.47, 1.97,\n",
    "    0.85, 1.24, 1.58, 2.03, 1.70, 2.17, 2.55, 2.11,\n",
    "    1.86, 1.90, 1.68, 1.51, 1.64, 0.72, 1.69, 1.85,\n",
    "    1.82, 1.79, 2.46, 1.88, 2.08, 1.67, 1.37, 1.93,\n",
    "    1.40, 1.64, 2.09, 1.75, 1.63, 2.37, 1.75, 1.69]\n",
    "\n",
    "np.percentile(data_set, [1, 25, 50, 75, 95])"
   ]
  },
  {
   "cell_type": "markdown",
   "metadata": {},
   "source": [
    "This can be read as:\n",
    "+ Only 1% of the data falls below 0.77; consequently, 99% of the data is greater than 0.77\n",
    "+ 25% of the data falls below 1.63; consequently, 75% of the data is greater than 1.63\n",
    "+ 50% of the data falls below 1.77; consequently, 50% of the data is greater than 1.77\n",
    "+ 75% of the data falls below 1.985, consequently, only 25% of the data is greater than 1.985\n",
    "+ 95% of the data falls below 2.3, consequently, only 5% of the data is greater than 2.3\n"
   ]
  },
  {
   "cell_type": "markdown",
   "metadata": {},
   "source": [
    "## You know you've mastered this chapter when...\n",
    "+ You're familiar with terms such as **samples**, **observations**, **populations**, **designed**, **observational**, and **comparative studies**.\n",
    "+ You can elaborate about the differences between **descriptive and inferencial statistics**.\n",
    "+ You can calculate the **sample mean** and **sample median** of a data set, and understand what they mean and their differences as **measures of location**.\n",
    "+ You can calculate the **trimmed mean** of a set of observations and understand when it is useful (i.e. removes outliers).\n",
    "+ You can calculate the **sample range**, **sample variance**, and **sample standard deviation**. You're familiar with the units for those measures of variability.\n",
    "+ You know about the term **degrees of freedom** of a sample, when computing the standard deviation of a sample.\n",
    "+ You're aware that data in a sample can be **discrete** (is the subject younger than 18 or not) or **continuous** (subject's age).\n",
    "+ You can draw and interpret:\n",
    "  + **dot-plots**\n",
    "  + **scatter plots**\n",
    "  + **stem-and-leaf tables**\n",
    "  + **histograms**\n",
    "  + **box-and-whiskers/box plots**\n",
    "+ You can build relative frequency tables.\n",
    "+ You're getting fluent with NumPy, Matplotlib, function definitions, list comprehensions, and basic Pandas.\n",
    "+ You're getting familiar with LaTeX for rendering formulas in the notebook's cells."
   ]
  }
 ],
 "metadata": {
  "kernelspec": {
   "display_name": "Python 3.8.8 ('base')",
   "language": "python",
   "name": "python3"
  },
  "language_info": {
   "codemirror_mode": {
    "name": "ipython",
    "version": 3
   },
   "file_extension": ".py",
   "mimetype": "text/x-python",
   "name": "python",
   "nbconvert_exporter": "python",
   "pygments_lexer": "ipython3",
   "version": "3.9.12"
  },
  "orig_nbformat": 2,
  "vscode": {
   "interpreter": {
    "hash": "caf1c2fcf97217de91eafa76b907d50f9ea378f5ffbee7f571142d119bb6a771"
   }
  }
 },
 "nbformat": 4,
 "nbformat_minor": 2
}
